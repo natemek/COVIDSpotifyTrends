{
 "cells": [
  {
   "cell_type": "markdown",
   "metadata": {},
   "source": [
    "# The Pandemic's Effect on Trends in Music: Exploration"
   ]
  },
  {
   "cell_type": "markdown",
   "metadata": {},
   "source": [
    "Authors: Natnael Mekonnen, Sonya Lew, and Daniel Park"
   ]
  },
  {
   "cell_type": "markdown",
   "metadata": {},
   "source": [
    "## Introduction"
   ]
  },
  {
   "cell_type": "markdown",
   "metadata": {},
   "source": [
    "Why did we choose this topic? What is the importance?\n",
    "Do we anticipate to be any changes?"
   ]
  },
  {
   "cell_type": "markdown",
   "metadata": {},
   "source": [
    "## 1. Data Scraping"
   ]
  },
  {
   "cell_type": "markdown",
   "metadata": {},
   "source": [
    "To explore the pandemic's effect on music, we chose to compare the COVID data in the US with the top 20 list on Spotify since January 2020. The COVID data will be extracted from the Atlantic's [The COVID Tracking Project](https://covidtracking.com/data/national) which has been constantly updating the data everyday with representatives from 50 states, 5 territories, and District of Colombia. On the other hand, the Spotify top 20 will be extracted from the [Spotify Charts](https://spotifycharts.com/) on a weekly starting from January 2020. The charts does not have a detail information on the song so we will get more detail by querying the Spotify API.  "
   ]
  },
  {
   "cell_type": "markdown",
   "metadata": {},
   "source": [
    "Import the necessary libraries: "
   ]
  },
  {
   "cell_type": "code",
   "execution_count": 66,
   "metadata": {},
   "outputs": [],
   "source": [
    "import pandas as pd\n",
    "import matplotlib.pyplot as plt\n",
    "import numpy as np\n",
    "import seaborn as sns"
   ]
  },
  {
   "cell_type": "markdown",
   "metadata": {},
   "source": [
    "## 1.1 Load and View COVID data"
   ]
  },
  {
   "cell_type": "code",
   "execution_count": 67,
   "metadata": {},
   "outputs": [
    {
     "output_type": "execute_result",
     "data": {
      "text/plain": [
       "         date     death  deathIncrease  inIcuCumulative  inIcuCurrently  \\\n",
       "0  2020-12-07  274745.0           1347          32120.0         20098.0   \n",
       "1  2020-12-06  273398.0           1146          31946.0         20145.0   \n",
       "2  2020-12-05  272252.0           2461          31831.0         19947.0   \n",
       "3  2020-12-04  269791.0           2563          31608.0         19858.0   \n",
       "4  2020-12-03  267228.0           2706          31276.0         19723.0   \n",
       "\n",
       "   hospitalizedIncrease  hospitalizedCurrently  hospitalizedCumulative  \\\n",
       "0                  3614               102148.0                589486.0   \n",
       "1                  2311               101501.0                585872.0   \n",
       "2                  3457               101192.0                583561.0   \n",
       "3                  4652               101276.0                580104.0   \n",
       "4                  5331               100755.0                575452.0   \n",
       "\n",
       "    negative  negativeIncrease  onVentilatorCumulative  onVentilatorCurrently  \\\n",
       "0  163378726           1386381                  3328.0                 7073.0   \n",
       "1  161992345           1175503                  3322.0                 7095.0   \n",
       "2  160816842           1530133                  3321.0                 7006.0   \n",
       "3  159286709           1260657                  3305.0                 6999.0   \n",
       "4  158026052           1238465                  3280.0                 6867.0   \n",
       "\n",
       "   positive  positiveIncrease  recovered  states  totalTestResults  \\\n",
       "0  14717065            180193  5714557.0      56         205934174   \n",
       "1  14536872            177801  5624609.0      56         204098786   \n",
       "2  14359071            212880  5576152.0      56         202450480   \n",
       "3  14146191            224831  5470389.0      56         200259581   \n",
       "4  13921360            210204  5404018.0      56         198404712   \n",
       "\n",
       "   totalTestResultsIncrease  \n",
       "0                   1835388  \n",
       "1                   1648306  \n",
       "2                   2190899  \n",
       "3                   1854869  \n",
       "4                   1828230  "
      ],
      "text/html": "<div>\n<style scoped>\n    .dataframe tbody tr th:only-of-type {\n        vertical-align: middle;\n    }\n\n    .dataframe tbody tr th {\n        vertical-align: top;\n    }\n\n    .dataframe thead th {\n        text-align: right;\n    }\n</style>\n<table border=\"1\" class=\"dataframe\">\n  <thead>\n    <tr style=\"text-align: right;\">\n      <th></th>\n      <th>date</th>\n      <th>death</th>\n      <th>deathIncrease</th>\n      <th>inIcuCumulative</th>\n      <th>inIcuCurrently</th>\n      <th>hospitalizedIncrease</th>\n      <th>hospitalizedCurrently</th>\n      <th>hospitalizedCumulative</th>\n      <th>negative</th>\n      <th>negativeIncrease</th>\n      <th>onVentilatorCumulative</th>\n      <th>onVentilatorCurrently</th>\n      <th>positive</th>\n      <th>positiveIncrease</th>\n      <th>recovered</th>\n      <th>states</th>\n      <th>totalTestResults</th>\n      <th>totalTestResultsIncrease</th>\n    </tr>\n  </thead>\n  <tbody>\n    <tr>\n      <th>0</th>\n      <td>2020-12-07</td>\n      <td>274745.0</td>\n      <td>1347</td>\n      <td>32120.0</td>\n      <td>20098.0</td>\n      <td>3614</td>\n      <td>102148.0</td>\n      <td>589486.0</td>\n      <td>163378726</td>\n      <td>1386381</td>\n      <td>3328.0</td>\n      <td>7073.0</td>\n      <td>14717065</td>\n      <td>180193</td>\n      <td>5714557.0</td>\n      <td>56</td>\n      <td>205934174</td>\n      <td>1835388</td>\n    </tr>\n    <tr>\n      <th>1</th>\n      <td>2020-12-06</td>\n      <td>273398.0</td>\n      <td>1146</td>\n      <td>31946.0</td>\n      <td>20145.0</td>\n      <td>2311</td>\n      <td>101501.0</td>\n      <td>585872.0</td>\n      <td>161992345</td>\n      <td>1175503</td>\n      <td>3322.0</td>\n      <td>7095.0</td>\n      <td>14536872</td>\n      <td>177801</td>\n      <td>5624609.0</td>\n      <td>56</td>\n      <td>204098786</td>\n      <td>1648306</td>\n    </tr>\n    <tr>\n      <th>2</th>\n      <td>2020-12-05</td>\n      <td>272252.0</td>\n      <td>2461</td>\n      <td>31831.0</td>\n      <td>19947.0</td>\n      <td>3457</td>\n      <td>101192.0</td>\n      <td>583561.0</td>\n      <td>160816842</td>\n      <td>1530133</td>\n      <td>3321.0</td>\n      <td>7006.0</td>\n      <td>14359071</td>\n      <td>212880</td>\n      <td>5576152.0</td>\n      <td>56</td>\n      <td>202450480</td>\n      <td>2190899</td>\n    </tr>\n    <tr>\n      <th>3</th>\n      <td>2020-12-04</td>\n      <td>269791.0</td>\n      <td>2563</td>\n      <td>31608.0</td>\n      <td>19858.0</td>\n      <td>4652</td>\n      <td>101276.0</td>\n      <td>580104.0</td>\n      <td>159286709</td>\n      <td>1260657</td>\n      <td>3305.0</td>\n      <td>6999.0</td>\n      <td>14146191</td>\n      <td>224831</td>\n      <td>5470389.0</td>\n      <td>56</td>\n      <td>200259581</td>\n      <td>1854869</td>\n    </tr>\n    <tr>\n      <th>4</th>\n      <td>2020-12-03</td>\n      <td>267228.0</td>\n      <td>2706</td>\n      <td>31276.0</td>\n      <td>19723.0</td>\n      <td>5331</td>\n      <td>100755.0</td>\n      <td>575452.0</td>\n      <td>158026052</td>\n      <td>1238465</td>\n      <td>3280.0</td>\n      <td>6867.0</td>\n      <td>13921360</td>\n      <td>210204</td>\n      <td>5404018.0</td>\n      <td>56</td>\n      <td>198404712</td>\n      <td>1828230</td>\n    </tr>\n  </tbody>\n</table>\n</div>"
     },
     "metadata": {},
     "execution_count": 67
    }
   ],
   "source": [
    "covid_data = pd.read_csv('national-history.csv')\n",
    "covid_data.head()"
   ]
  },
  {
   "cell_type": "markdown",
   "metadata": {},
   "source": [
    "The COVID data is detailed but since this project is finding its relationship with music, most of the unnecessary columns will be dropped."
   ]
  },
  {
   "cell_type": "code",
   "execution_count": 68,
   "metadata": {},
   "outputs": [],
   "source": [
    "covid_data = covid_data.drop(['death','deathIncrease','inIcuCumulative','inIcuCurrently', 'hospitalizedIncrease','hospitalizedCurrently','hospitalizedCumulative','onVentilatorCumulative','onVentilatorCurrently','recovered','states'], axis=1)"
   ]
  },
  {
   "cell_type": "markdown",
   "metadata": {},
   "source": [
    "Knowing that the Spotify data is grouped on a weekly basis starting on a Friday, the next step is to prepare the COVID data so it is easy to merge."
   ]
  },
  {
   "cell_type": "code",
   "execution_count": 69,
   "metadata": {},
   "outputs": [],
   "source": [
    "# Creating a custom interval index for grouping the data which starts from begining of the year on a Friday and continues weekly\n",
    "i = pd.to_datetime('01/02/2020')\n",
    "bins = []\n",
    "while i < pd.to_datetime('12/12/2020'):\n",
    "    temp = i + pd.Timedelta('7 days')\n",
    "    bins.append((i,temp))\n",
    "    i = temp\n",
    "bins = pd.IntervalIndex.from_tuples(bins)"
   ]
  },
  {
   "cell_type": "code",
   "execution_count": 70,
   "metadata": {},
   "outputs": [
    {
     "output_type": "execute_result",
     "data": {
      "text/plain": [
       "                          negative  negativeIncrease  positive  \\\n",
       "week                                                             \n",
       "(2020-01-02, 2020-01-09]         0                 0         0   \n",
       "(2020-01-09, 2020-01-16]         0                 0         0   \n",
       "(2020-01-16, 2020-01-23]         0                 0         0   \n",
       "(2020-01-23, 2020-01-30]         0                 0         0   \n",
       "(2020-01-30, 2020-02-06]         0                 0         0   \n",
       "(2020-02-06, 2020-02-13]         0                 0         0   \n",
       "(2020-02-13, 2020-02-20]         0                 0         0   \n",
       "(2020-02-20, 2020-02-27]         0                 0         0   \n",
       "(2020-02-27, 2020-03-05]      4138              1943       953   \n",
       "(2020-03-05, 2020-03-12]     55851             15934      9467   \n",
       "\n",
       "                          positiveIncrease  totalTestResults  \\\n",
       "week                                                           \n",
       "(2020-01-02, 2020-01-09]                 0                 0   \n",
       "(2020-01-09, 2020-01-16]                 0                 0   \n",
       "(2020-01-16, 2020-01-23]                 0                 3   \n",
       "(2020-01-23, 2020-01-30]                 0                22   \n",
       "(2020-01-30, 2020-02-06]                 0                81   \n",
       "(2020-02-06, 2020-02-13]                 0               134   \n",
       "(2020-02-13, 2020-02-20]                 0               205   \n",
       "(2020-02-20, 2020-02-27]                 0              6722   \n",
       "(2020-02-27, 2020-03-05]               367             50810   \n",
       "(2020-03-05, 2020-03-12]              2429            114350   \n",
       "\n",
       "                          totalTestResultsIncrease  week#  \n",
       "week                                                       \n",
       "(2020-01-02, 2020-01-09]                         0      1  \n",
       "(2020-01-09, 2020-01-16]                         0      2  \n",
       "(2020-01-16, 2020-01-23]                         1      3  \n",
       "(2020-01-23, 2020-01-30]                         3      4  \n",
       "(2020-01-30, 2020-02-06]                        11      5  \n",
       "(2020-02-06, 2020-02-13]                         6      6  \n",
       "(2020-02-13, 2020-02-20]                        14      7  \n",
       "(2020-02-20, 2020-02-27]                      6451      8  \n",
       "(2020-02-27, 2020-03-05]                      2376      9  \n",
       "(2020-03-05, 2020-03-12]                     19561     10  "
      ],
      "text/html": "<div>\n<style scoped>\n    .dataframe tbody tr th:only-of-type {\n        vertical-align: middle;\n    }\n\n    .dataframe tbody tr th {\n        vertical-align: top;\n    }\n\n    .dataframe thead th {\n        text-align: right;\n    }\n</style>\n<table border=\"1\" class=\"dataframe\">\n  <thead>\n    <tr style=\"text-align: right;\">\n      <th></th>\n      <th>negative</th>\n      <th>negativeIncrease</th>\n      <th>positive</th>\n      <th>positiveIncrease</th>\n      <th>totalTestResults</th>\n      <th>totalTestResultsIncrease</th>\n      <th>week#</th>\n    </tr>\n    <tr>\n      <th>week</th>\n      <th></th>\n      <th></th>\n      <th></th>\n      <th></th>\n      <th></th>\n      <th></th>\n      <th></th>\n    </tr>\n  </thead>\n  <tbody>\n    <tr>\n      <th>(2020-01-02, 2020-01-09]</th>\n      <td>0</td>\n      <td>0</td>\n      <td>0</td>\n      <td>0</td>\n      <td>0</td>\n      <td>0</td>\n      <td>1</td>\n    </tr>\n    <tr>\n      <th>(2020-01-09, 2020-01-16]</th>\n      <td>0</td>\n      <td>0</td>\n      <td>0</td>\n      <td>0</td>\n      <td>0</td>\n      <td>0</td>\n      <td>2</td>\n    </tr>\n    <tr>\n      <th>(2020-01-16, 2020-01-23]</th>\n      <td>0</td>\n      <td>0</td>\n      <td>0</td>\n      <td>0</td>\n      <td>3</td>\n      <td>1</td>\n      <td>3</td>\n    </tr>\n    <tr>\n      <th>(2020-01-23, 2020-01-30]</th>\n      <td>0</td>\n      <td>0</td>\n      <td>0</td>\n      <td>0</td>\n      <td>22</td>\n      <td>3</td>\n      <td>4</td>\n    </tr>\n    <tr>\n      <th>(2020-01-30, 2020-02-06]</th>\n      <td>0</td>\n      <td>0</td>\n      <td>0</td>\n      <td>0</td>\n      <td>81</td>\n      <td>11</td>\n      <td>5</td>\n    </tr>\n    <tr>\n      <th>(2020-02-06, 2020-02-13]</th>\n      <td>0</td>\n      <td>0</td>\n      <td>0</td>\n      <td>0</td>\n      <td>134</td>\n      <td>6</td>\n      <td>6</td>\n    </tr>\n    <tr>\n      <th>(2020-02-13, 2020-02-20]</th>\n      <td>0</td>\n      <td>0</td>\n      <td>0</td>\n      <td>0</td>\n      <td>205</td>\n      <td>14</td>\n      <td>7</td>\n    </tr>\n    <tr>\n      <th>(2020-02-20, 2020-02-27]</th>\n      <td>0</td>\n      <td>0</td>\n      <td>0</td>\n      <td>0</td>\n      <td>6722</td>\n      <td>6451</td>\n      <td>8</td>\n    </tr>\n    <tr>\n      <th>(2020-02-27, 2020-03-05]</th>\n      <td>4138</td>\n      <td>1943</td>\n      <td>953</td>\n      <td>367</td>\n      <td>50810</td>\n      <td>2376</td>\n      <td>9</td>\n    </tr>\n    <tr>\n      <th>(2020-03-05, 2020-03-12]</th>\n      <td>55851</td>\n      <td>15934</td>\n      <td>9467</td>\n      <td>2429</td>\n      <td>114350</td>\n      <td>19561</td>\n      <td>10</td>\n    </tr>\n  </tbody>\n</table>\n</div>"
     },
     "metadata": {},
     "execution_count": 70
    }
   ],
   "source": [
    "# Convert the date from the dataframe to a pandas date and time format to be comuted in the cutting\n",
    "covid_data['date'] = pd.to_datetime(covid_data['date'])\n",
    "\n",
    "# Using the interval index created above, create a new column week which has the week interval of the data\n",
    "covid_data['week'] = pd.cut(covid_data['date'], bins)\n",
    "\n",
    "# Now that every row has a week interval, they will be grouped with the total for each column \n",
    "grouped_covid = covid_data.groupby(['week']).sum()\n",
    "\n",
    "# Number the weeks to easily identify\n",
    "grouped_covid['week#'] = list(range(1,len(bins)+1))\n",
    "\n",
    "grouped_covid.head(10)"
   ]
  },
  {
   "cell_type": "code",
   "execution_count": 71,
   "metadata": {},
   "outputs": [
    {
     "output_type": "execute_result",
     "data": {
      "text/plain": [
       "                          week#  positiveIncrease  negativeIncrease  positive  \\\n",
       "week                                                                            \n",
       "(2020-01-02, 2020-01-09]      1                 0                 0         0   \n",
       "(2020-01-09, 2020-01-16]      2                 0                 0         0   \n",
       "(2020-01-16, 2020-01-23]      3                 0                 0         0   \n",
       "(2020-01-23, 2020-01-30]      4                 0                 0         0   \n",
       "(2020-01-30, 2020-02-06]      5                 0                 0         0   \n",
       "(2020-02-06, 2020-02-13]      6                 0                 0         0   \n",
       "(2020-02-13, 2020-02-20]      7                 0                 0         0   \n",
       "(2020-02-20, 2020-02-27]      8                 0                 0         0   \n",
       "(2020-02-27, 2020-03-05]      9               367              1943       953   \n",
       "(2020-03-05, 2020-03-12]     10              2429             15934      9467   \n",
       "\n",
       "                          negative  totalTestResultsIncrease  totalTestResults  \n",
       "week                                                                            \n",
       "(2020-01-02, 2020-01-09]         0                         0                 0  \n",
       "(2020-01-09, 2020-01-16]         0                         0                 0  \n",
       "(2020-01-16, 2020-01-23]         0                         1                 3  \n",
       "(2020-01-23, 2020-01-30]         0                         3                22  \n",
       "(2020-01-30, 2020-02-06]         0                        11                81  \n",
       "(2020-02-06, 2020-02-13]         0                         6               134  \n",
       "(2020-02-13, 2020-02-20]         0                        14               205  \n",
       "(2020-02-20, 2020-02-27]         0                      6451              6722  \n",
       "(2020-02-27, 2020-03-05]      4138                      2376             50810  \n",
       "(2020-03-05, 2020-03-12]     55851                     19561            114350  "
      ],
      "text/html": "<div>\n<style scoped>\n    .dataframe tbody tr th:only-of-type {\n        vertical-align: middle;\n    }\n\n    .dataframe tbody tr th {\n        vertical-align: top;\n    }\n\n    .dataframe thead th {\n        text-align: right;\n    }\n</style>\n<table border=\"1\" class=\"dataframe\">\n  <thead>\n    <tr style=\"text-align: right;\">\n      <th></th>\n      <th>week#</th>\n      <th>positiveIncrease</th>\n      <th>negativeIncrease</th>\n      <th>positive</th>\n      <th>negative</th>\n      <th>totalTestResultsIncrease</th>\n      <th>totalTestResults</th>\n    </tr>\n    <tr>\n      <th>week</th>\n      <th></th>\n      <th></th>\n      <th></th>\n      <th></th>\n      <th></th>\n      <th></th>\n      <th></th>\n    </tr>\n  </thead>\n  <tbody>\n    <tr>\n      <th>(2020-01-02, 2020-01-09]</th>\n      <td>1</td>\n      <td>0</td>\n      <td>0</td>\n      <td>0</td>\n      <td>0</td>\n      <td>0</td>\n      <td>0</td>\n    </tr>\n    <tr>\n      <th>(2020-01-09, 2020-01-16]</th>\n      <td>2</td>\n      <td>0</td>\n      <td>0</td>\n      <td>0</td>\n      <td>0</td>\n      <td>0</td>\n      <td>0</td>\n    </tr>\n    <tr>\n      <th>(2020-01-16, 2020-01-23]</th>\n      <td>3</td>\n      <td>0</td>\n      <td>0</td>\n      <td>0</td>\n      <td>0</td>\n      <td>1</td>\n      <td>3</td>\n    </tr>\n    <tr>\n      <th>(2020-01-23, 2020-01-30]</th>\n      <td>4</td>\n      <td>0</td>\n      <td>0</td>\n      <td>0</td>\n      <td>0</td>\n      <td>3</td>\n      <td>22</td>\n    </tr>\n    <tr>\n      <th>(2020-01-30, 2020-02-06]</th>\n      <td>5</td>\n      <td>0</td>\n      <td>0</td>\n      <td>0</td>\n      <td>0</td>\n      <td>11</td>\n      <td>81</td>\n    </tr>\n    <tr>\n      <th>(2020-02-06, 2020-02-13]</th>\n      <td>6</td>\n      <td>0</td>\n      <td>0</td>\n      <td>0</td>\n      <td>0</td>\n      <td>6</td>\n      <td>134</td>\n    </tr>\n    <tr>\n      <th>(2020-02-13, 2020-02-20]</th>\n      <td>7</td>\n      <td>0</td>\n      <td>0</td>\n      <td>0</td>\n      <td>0</td>\n      <td>14</td>\n      <td>205</td>\n    </tr>\n    <tr>\n      <th>(2020-02-20, 2020-02-27]</th>\n      <td>8</td>\n      <td>0</td>\n      <td>0</td>\n      <td>0</td>\n      <td>0</td>\n      <td>6451</td>\n      <td>6722</td>\n    </tr>\n    <tr>\n      <th>(2020-02-27, 2020-03-05]</th>\n      <td>9</td>\n      <td>367</td>\n      <td>1943</td>\n      <td>953</td>\n      <td>4138</td>\n      <td>2376</td>\n      <td>50810</td>\n    </tr>\n    <tr>\n      <th>(2020-03-05, 2020-03-12]</th>\n      <td>10</td>\n      <td>2429</td>\n      <td>15934</td>\n      <td>9467</td>\n      <td>55851</td>\n      <td>19561</td>\n      <td>114350</td>\n    </tr>\n  </tbody>\n</table>\n</div>"
     },
     "metadata": {},
     "execution_count": 71
    }
   ],
   "source": [
    "column_names = ['week#','positiveIncrease','negativeIncrease','positive','negative','totalTestResultsIncrease','totalTestResults']\n",
    "grouped_covid = grouped_covid.reindex(columns=column_names)\n",
    "\n",
    "grouped_covid.head(10)"
   ]
  },
  {
   "source": [
    "## 1.2 Load and View Spotify Top 20 Weekly Data"
   ],
   "cell_type": "markdown",
   "metadata": {}
  },
  {
   "source": [
    "As mentioned above, the weekly Spotify top 10 list for 2020 has been downloaded as a csv file. However, since the data is not robust, the Spotify developer API was used to get more detail information on the songs and collectively stored under `data.csv`. The script to run this process is under `spotify_data_extraction.py`."
   ],
   "cell_type": "markdown",
   "metadata": {}
  },
  {
   "cell_type": "code",
   "execution_count": 72,
   "metadata": {},
   "outputs": [
    {
     "output_type": "execute_result",
     "data": {
      "text/plain": [
       "      name                                  album          artist  \\\n",
       "0  The Box  Please Excuse Me For Being Antisocial     Roddy Ricch   \n",
       "1  ROXANNE                                ROXANNE  Arizona Zervas   \n",
       "2    Yummy                                  Yummy   Justin Bieber   \n",
       "3  Circles                   Hollywood's Bleeding     Post Malone   \n",
       "4      BOP                                   KIRK          DaBaby   \n",
       "\n",
       "  release_date  length  popularity  danceability  acousticness  \\\n",
       "0   2019-12-06  196652          90         0.896        0.1040   \n",
       "1   2019-10-10  163636          88         0.621        0.0522   \n",
       "2   2020-01-03  210426          79         0.687        0.3660   \n",
       "3   2019-09-06  215280          90         0.695        0.1920   \n",
       "4   2019-09-27  159714          85         0.769        0.1890   \n",
       "\n",
       "   danceability.1  energy  instrumentalness  liveness  loudness  speechiness  \\\n",
       "0           0.896   0.586           0.00000    0.7900    -6.687       0.0559   \n",
       "1           0.621   0.601           0.00000    0.4600    -5.616       0.1480   \n",
       "2           0.687   0.514           0.00000    0.1160    -6.612       0.0897   \n",
       "3           0.695   0.762           0.00244    0.0863    -3.497       0.0395   \n",
       "4           0.769   0.787           0.00000    0.1290    -3.909       0.3670   \n",
       "\n",
       "     tempo  time_signature  start_date    end_date  \n",
       "0  116.971               4  2020-01-03  2020-01-10  \n",
       "1  116.735               5  2020-01-03  2020-01-10  \n",
       "2  145.921               4  2020-01-03  2020-01-10  \n",
       "3  120.042               4  2020-01-03  2020-01-10  \n",
       "4  126.770               4  2020-01-03  2020-01-10  "
      ],
      "text/html": "<div>\n<style scoped>\n    .dataframe tbody tr th:only-of-type {\n        vertical-align: middle;\n    }\n\n    .dataframe tbody tr th {\n        vertical-align: top;\n    }\n\n    .dataframe thead th {\n        text-align: right;\n    }\n</style>\n<table border=\"1\" class=\"dataframe\">\n  <thead>\n    <tr style=\"text-align: right;\">\n      <th></th>\n      <th>name</th>\n      <th>album</th>\n      <th>artist</th>\n      <th>release_date</th>\n      <th>length</th>\n      <th>popularity</th>\n      <th>danceability</th>\n      <th>acousticness</th>\n      <th>danceability.1</th>\n      <th>energy</th>\n      <th>instrumentalness</th>\n      <th>liveness</th>\n      <th>loudness</th>\n      <th>speechiness</th>\n      <th>tempo</th>\n      <th>time_signature</th>\n      <th>start_date</th>\n      <th>end_date</th>\n    </tr>\n  </thead>\n  <tbody>\n    <tr>\n      <th>0</th>\n      <td>The Box</td>\n      <td>Please Excuse Me For Being Antisocial</td>\n      <td>Roddy Ricch</td>\n      <td>2019-12-06</td>\n      <td>196652</td>\n      <td>90</td>\n      <td>0.896</td>\n      <td>0.1040</td>\n      <td>0.896</td>\n      <td>0.586</td>\n      <td>0.00000</td>\n      <td>0.7900</td>\n      <td>-6.687</td>\n      <td>0.0559</td>\n      <td>116.971</td>\n      <td>4</td>\n      <td>2020-01-03</td>\n      <td>2020-01-10</td>\n    </tr>\n    <tr>\n      <th>1</th>\n      <td>ROXANNE</td>\n      <td>ROXANNE</td>\n      <td>Arizona Zervas</td>\n      <td>2019-10-10</td>\n      <td>163636</td>\n      <td>88</td>\n      <td>0.621</td>\n      <td>0.0522</td>\n      <td>0.621</td>\n      <td>0.601</td>\n      <td>0.00000</td>\n      <td>0.4600</td>\n      <td>-5.616</td>\n      <td>0.1480</td>\n      <td>116.735</td>\n      <td>5</td>\n      <td>2020-01-03</td>\n      <td>2020-01-10</td>\n    </tr>\n    <tr>\n      <th>2</th>\n      <td>Yummy</td>\n      <td>Yummy</td>\n      <td>Justin Bieber</td>\n      <td>2020-01-03</td>\n      <td>210426</td>\n      <td>79</td>\n      <td>0.687</td>\n      <td>0.3660</td>\n      <td>0.687</td>\n      <td>0.514</td>\n      <td>0.00000</td>\n      <td>0.1160</td>\n      <td>-6.612</td>\n      <td>0.0897</td>\n      <td>145.921</td>\n      <td>4</td>\n      <td>2020-01-03</td>\n      <td>2020-01-10</td>\n    </tr>\n    <tr>\n      <th>3</th>\n      <td>Circles</td>\n      <td>Hollywood's Bleeding</td>\n      <td>Post Malone</td>\n      <td>2019-09-06</td>\n      <td>215280</td>\n      <td>90</td>\n      <td>0.695</td>\n      <td>0.1920</td>\n      <td>0.695</td>\n      <td>0.762</td>\n      <td>0.00244</td>\n      <td>0.0863</td>\n      <td>-3.497</td>\n      <td>0.0395</td>\n      <td>120.042</td>\n      <td>4</td>\n      <td>2020-01-03</td>\n      <td>2020-01-10</td>\n    </tr>\n    <tr>\n      <th>4</th>\n      <td>BOP</td>\n      <td>KIRK</td>\n      <td>DaBaby</td>\n      <td>2019-09-27</td>\n      <td>159714</td>\n      <td>85</td>\n      <td>0.769</td>\n      <td>0.1890</td>\n      <td>0.769</td>\n      <td>0.787</td>\n      <td>0.00000</td>\n      <td>0.1290</td>\n      <td>-3.909</td>\n      <td>0.3670</td>\n      <td>126.770</td>\n      <td>4</td>\n      <td>2020-01-03</td>\n      <td>2020-01-10</td>\n    </tr>\n  </tbody>\n</table>\n</div>"
     },
     "metadata": {},
     "execution_count": 72
    }
   ],
   "source": [
    "spotify_data = pd.read_csv('data.csv')\n",
    "spotify_data.head()"
   ]
  },
  {
   "cell_type": "code",
   "execution_count": 73,
   "metadata": {},
   "outputs": [
    {
     "output_type": "execute_result",
     "data": {
      "text/plain": [
       "                       week  length  popularity  danceability  acousticness  \\\n",
       "0  (2020-01-02, 2020-01-09]  196652          90         0.896        0.1040   \n",
       "1  (2020-01-02, 2020-01-09]  163636          88         0.621        0.0522   \n",
       "2  (2020-01-02, 2020-01-09]  210426          79         0.687        0.3660   \n",
       "3  (2020-01-02, 2020-01-09]  215280          90         0.695        0.1920   \n",
       "4  (2020-01-02, 2020-01-09]  159714          85         0.769        0.1890   \n",
       "\n",
       "   danceability.1  energy  instrumentalness  liveness  loudness  speechiness  \\\n",
       "0           0.896   0.586           0.00000    0.7900    -6.687       0.0559   \n",
       "1           0.621   0.601           0.00000    0.4600    -5.616       0.1480   \n",
       "2           0.687   0.514           0.00000    0.1160    -6.612       0.0897   \n",
       "3           0.695   0.762           0.00244    0.0863    -3.497       0.0395   \n",
       "4           0.769   0.787           0.00000    0.1290    -3.909       0.3670   \n",
       "\n",
       "     tempo  time_signature  \n",
       "0  116.971               4  \n",
       "1  116.735               5  \n",
       "2  145.921               4  \n",
       "3  120.042               4  \n",
       "4  126.770               4  "
      ],
      "text/html": "<div>\n<style scoped>\n    .dataframe tbody tr th:only-of-type {\n        vertical-align: middle;\n    }\n\n    .dataframe tbody tr th {\n        vertical-align: top;\n    }\n\n    .dataframe thead th {\n        text-align: right;\n    }\n</style>\n<table border=\"1\" class=\"dataframe\">\n  <thead>\n    <tr style=\"text-align: right;\">\n      <th></th>\n      <th>week</th>\n      <th>length</th>\n      <th>popularity</th>\n      <th>danceability</th>\n      <th>acousticness</th>\n      <th>danceability.1</th>\n      <th>energy</th>\n      <th>instrumentalness</th>\n      <th>liveness</th>\n      <th>loudness</th>\n      <th>speechiness</th>\n      <th>tempo</th>\n      <th>time_signature</th>\n    </tr>\n  </thead>\n  <tbody>\n    <tr>\n      <th>0</th>\n      <td>(2020-01-02, 2020-01-09]</td>\n      <td>196652</td>\n      <td>90</td>\n      <td>0.896</td>\n      <td>0.1040</td>\n      <td>0.896</td>\n      <td>0.586</td>\n      <td>0.00000</td>\n      <td>0.7900</td>\n      <td>-6.687</td>\n      <td>0.0559</td>\n      <td>116.971</td>\n      <td>4</td>\n    </tr>\n    <tr>\n      <th>1</th>\n      <td>(2020-01-02, 2020-01-09]</td>\n      <td>163636</td>\n      <td>88</td>\n      <td>0.621</td>\n      <td>0.0522</td>\n      <td>0.621</td>\n      <td>0.601</td>\n      <td>0.00000</td>\n      <td>0.4600</td>\n      <td>-5.616</td>\n      <td>0.1480</td>\n      <td>116.735</td>\n      <td>5</td>\n    </tr>\n    <tr>\n      <th>2</th>\n      <td>(2020-01-02, 2020-01-09]</td>\n      <td>210426</td>\n      <td>79</td>\n      <td>0.687</td>\n      <td>0.3660</td>\n      <td>0.687</td>\n      <td>0.514</td>\n      <td>0.00000</td>\n      <td>0.1160</td>\n      <td>-6.612</td>\n      <td>0.0897</td>\n      <td>145.921</td>\n      <td>4</td>\n    </tr>\n    <tr>\n      <th>3</th>\n      <td>(2020-01-02, 2020-01-09]</td>\n      <td>215280</td>\n      <td>90</td>\n      <td>0.695</td>\n      <td>0.1920</td>\n      <td>0.695</td>\n      <td>0.762</td>\n      <td>0.00244</td>\n      <td>0.0863</td>\n      <td>-3.497</td>\n      <td>0.0395</td>\n      <td>120.042</td>\n      <td>4</td>\n    </tr>\n    <tr>\n      <th>4</th>\n      <td>(2020-01-02, 2020-01-09]</td>\n      <td>159714</td>\n      <td>85</td>\n      <td>0.769</td>\n      <td>0.1890</td>\n      <td>0.769</td>\n      <td>0.787</td>\n      <td>0.00000</td>\n      <td>0.1290</td>\n      <td>-3.909</td>\n      <td>0.3670</td>\n      <td>126.770</td>\n      <td>4</td>\n    </tr>\n  </tbody>\n</table>\n</div>"
     },
     "metadata": {},
     "execution_count": 73
    }
   ],
   "source": [
    "spotify_data['start_date'] = pd.to_datetime(spotify_data['start_date'])\n",
    "\n",
    "# Using the same interval index created for the covid_data, create a new column week which has the week interval\n",
    "spotify_data['week'] = pd.cut(spotify_data['start_date'], bins)\n",
    "\n",
    "# Now that week is included, we can reindex with only the columns we need\n",
    "spotify_data = spotify_data.reindex(columns=['week','length', 'popularity',\n",
    "       'danceability', 'acousticness', 'danceability.1', 'energy',\n",
    "       'instrumentalness', 'liveness', 'loudness', 'speechiness', 'tempo',\n",
    "       'time_signature'])\n",
    "\n",
    "spotify_data.head()"
   ]
  },
  {
   "cell_type": "code",
   "execution_count": 74,
   "metadata": {},
   "outputs": [
    {
     "output_type": "execute_result",
     "data": {
      "text/plain": [
       "                             length  popularity  danceability  acousticness  \\\n",
       "week                                                                          \n",
       "(2020-01-02, 2020-01-09]  188656.35       75.55       0.71665      0.219063   \n",
       "(2020-01-09, 2020-01-16]  208934.70       75.35       0.71400      0.265838   \n",
       "(2020-01-16, 2020-01-23]  206069.10       77.70       0.72310      0.272378   \n",
       "(2020-01-23, 2020-01-30]  204243.55       81.20       0.72620      0.265644   \n",
       "(2020-01-30, 2020-02-06]  198553.85       80.50       0.73100      0.225643   \n",
       "\n",
       "                          danceability.1   energy  instrumentalness  liveness  \\\n",
       "week                                                                            \n",
       "(2020-01-02, 2020-01-09]         0.71665  0.60050          0.033020  0.198585   \n",
       "(2020-01-09, 2020-01-16]         0.71400  0.55110          0.039695  0.179490   \n",
       "(2020-01-16, 2020-01-23]         0.72310  0.55853          0.007701  0.195490   \n",
       "(2020-01-23, 2020-01-30]         0.72620  0.56990          0.046191  0.185030   \n",
       "(2020-01-30, 2020-02-06]         0.73100  0.59270          0.032991  0.199450   \n",
       "\n",
       "                          loudness  speechiness      tempo  time_signature  \n",
       "week                                                                        \n",
       "(2020-01-02, 2020-01-09]  -6.22025     0.116085  126.61265            3.90  \n",
       "(2020-01-09, 2020-01-16]  -7.12430     0.140355  128.23130            4.05  \n",
       "(2020-01-16, 2020-01-23]  -7.31150     0.158935  130.57085            4.05  \n",
       "(2020-01-23, 2020-01-30]  -7.03405     0.171040  133.48885            4.05  \n",
       "(2020-01-30, 2020-02-06]  -6.23020     0.170440  130.47640            4.05  "
      ],
      "text/html": "<div>\n<style scoped>\n    .dataframe tbody tr th:only-of-type {\n        vertical-align: middle;\n    }\n\n    .dataframe tbody tr th {\n        vertical-align: top;\n    }\n\n    .dataframe thead th {\n        text-align: right;\n    }\n</style>\n<table border=\"1\" class=\"dataframe\">\n  <thead>\n    <tr style=\"text-align: right;\">\n      <th></th>\n      <th>length</th>\n      <th>popularity</th>\n      <th>danceability</th>\n      <th>acousticness</th>\n      <th>danceability.1</th>\n      <th>energy</th>\n      <th>instrumentalness</th>\n      <th>liveness</th>\n      <th>loudness</th>\n      <th>speechiness</th>\n      <th>tempo</th>\n      <th>time_signature</th>\n    </tr>\n    <tr>\n      <th>week</th>\n      <th></th>\n      <th></th>\n      <th></th>\n      <th></th>\n      <th></th>\n      <th></th>\n      <th></th>\n      <th></th>\n      <th></th>\n      <th></th>\n      <th></th>\n      <th></th>\n    </tr>\n  </thead>\n  <tbody>\n    <tr>\n      <th>(2020-01-02, 2020-01-09]</th>\n      <td>188656.35</td>\n      <td>75.55</td>\n      <td>0.71665</td>\n      <td>0.219063</td>\n      <td>0.71665</td>\n      <td>0.60050</td>\n      <td>0.033020</td>\n      <td>0.198585</td>\n      <td>-6.22025</td>\n      <td>0.116085</td>\n      <td>126.61265</td>\n      <td>3.90</td>\n    </tr>\n    <tr>\n      <th>(2020-01-09, 2020-01-16]</th>\n      <td>208934.70</td>\n      <td>75.35</td>\n      <td>0.71400</td>\n      <td>0.265838</td>\n      <td>0.71400</td>\n      <td>0.55110</td>\n      <td>0.039695</td>\n      <td>0.179490</td>\n      <td>-7.12430</td>\n      <td>0.140355</td>\n      <td>128.23130</td>\n      <td>4.05</td>\n    </tr>\n    <tr>\n      <th>(2020-01-16, 2020-01-23]</th>\n      <td>206069.10</td>\n      <td>77.70</td>\n      <td>0.72310</td>\n      <td>0.272378</td>\n      <td>0.72310</td>\n      <td>0.55853</td>\n      <td>0.007701</td>\n      <td>0.195490</td>\n      <td>-7.31150</td>\n      <td>0.158935</td>\n      <td>130.57085</td>\n      <td>4.05</td>\n    </tr>\n    <tr>\n      <th>(2020-01-23, 2020-01-30]</th>\n      <td>204243.55</td>\n      <td>81.20</td>\n      <td>0.72620</td>\n      <td>0.265644</td>\n      <td>0.72620</td>\n      <td>0.56990</td>\n      <td>0.046191</td>\n      <td>0.185030</td>\n      <td>-7.03405</td>\n      <td>0.171040</td>\n      <td>133.48885</td>\n      <td>4.05</td>\n    </tr>\n    <tr>\n      <th>(2020-01-30, 2020-02-06]</th>\n      <td>198553.85</td>\n      <td>80.50</td>\n      <td>0.73100</td>\n      <td>0.225643</td>\n      <td>0.73100</td>\n      <td>0.59270</td>\n      <td>0.032991</td>\n      <td>0.199450</td>\n      <td>-6.23020</td>\n      <td>0.170440</td>\n      <td>130.47640</td>\n      <td>4.05</td>\n    </tr>\n  </tbody>\n</table>\n</div>"
     },
     "metadata": {},
     "execution_count": 74
    }
   ],
   "source": [
    "# Now that every row has a week interval, they will be grouped with the mean for each column \n",
    "grouped_spotify = spotify_data.groupby(['week']).mean()\n",
    "grouped_spotify.head()"
   ]
  },
  {
   "source": [
    "## 1.3 Merge the Spotify and Covid Data"
   ],
   "cell_type": "markdown",
   "metadata": {}
  },
  {
   "cell_type": "code",
   "execution_count": 75,
   "metadata": {},
   "outputs": [
    {
     "output_type": "execute_result",
     "data": {
      "text/plain": [
       "                          week#  positiveIncrease  negativeIncrease  positive  \\\n",
       "week                                                                            \n",
       "(2020-01-02, 2020-01-09]      1                 0                 0         0   \n",
       "(2020-01-09, 2020-01-16]      2                 0                 0         0   \n",
       "(2020-01-16, 2020-01-23]      3                 0                 0         0   \n",
       "(2020-01-23, 2020-01-30]      4                 0                 0         0   \n",
       "(2020-01-30, 2020-02-06]      5                 0                 0         0   \n",
       "\n",
       "                          negative  totalTestResultsIncrease  \\\n",
       "week                                                           \n",
       "(2020-01-02, 2020-01-09]         0                         0   \n",
       "(2020-01-09, 2020-01-16]         0                         0   \n",
       "(2020-01-16, 2020-01-23]         0                         1   \n",
       "(2020-01-23, 2020-01-30]         0                         3   \n",
       "(2020-01-30, 2020-02-06]         0                        11   \n",
       "\n",
       "                          totalTestResults     length  popularity  \\\n",
       "week                                                                \n",
       "(2020-01-02, 2020-01-09]                 0  188656.35       75.55   \n",
       "(2020-01-09, 2020-01-16]                 0  208934.70       75.35   \n",
       "(2020-01-16, 2020-01-23]                 3  206069.10       77.70   \n",
       "(2020-01-23, 2020-01-30]                22  204243.55       81.20   \n",
       "(2020-01-30, 2020-02-06]                81  198553.85       80.50   \n",
       "\n",
       "                          danceability  acousticness  danceability.1   energy  \\\n",
       "week                                                                            \n",
       "(2020-01-02, 2020-01-09]       0.71665      0.219063         0.71665  0.60050   \n",
       "(2020-01-09, 2020-01-16]       0.71400      0.265838         0.71400  0.55110   \n",
       "(2020-01-16, 2020-01-23]       0.72310      0.272378         0.72310  0.55853   \n",
       "(2020-01-23, 2020-01-30]       0.72620      0.265644         0.72620  0.56990   \n",
       "(2020-01-30, 2020-02-06]       0.73100      0.225643         0.73100  0.59270   \n",
       "\n",
       "                          instrumentalness  liveness  loudness  speechiness  \\\n",
       "week                                                                          \n",
       "(2020-01-02, 2020-01-09]          0.033020  0.198585  -6.22025     0.116085   \n",
       "(2020-01-09, 2020-01-16]          0.039695  0.179490  -7.12430     0.140355   \n",
       "(2020-01-16, 2020-01-23]          0.007701  0.195490  -7.31150     0.158935   \n",
       "(2020-01-23, 2020-01-30]          0.046191  0.185030  -7.03405     0.171040   \n",
       "(2020-01-30, 2020-02-06]          0.032991  0.199450  -6.23020     0.170440   \n",
       "\n",
       "                              tempo  time_signature  \n",
       "week                                                 \n",
       "(2020-01-02, 2020-01-09]  126.61265            3.90  \n",
       "(2020-01-09, 2020-01-16]  128.23130            4.05  \n",
       "(2020-01-16, 2020-01-23]  130.57085            4.05  \n",
       "(2020-01-23, 2020-01-30]  133.48885            4.05  \n",
       "(2020-01-30, 2020-02-06]  130.47640            4.05  "
      ],
      "text/html": "<div>\n<style scoped>\n    .dataframe tbody tr th:only-of-type {\n        vertical-align: middle;\n    }\n\n    .dataframe tbody tr th {\n        vertical-align: top;\n    }\n\n    .dataframe thead th {\n        text-align: right;\n    }\n</style>\n<table border=\"1\" class=\"dataframe\">\n  <thead>\n    <tr style=\"text-align: right;\">\n      <th></th>\n      <th>week#</th>\n      <th>positiveIncrease</th>\n      <th>negativeIncrease</th>\n      <th>positive</th>\n      <th>negative</th>\n      <th>totalTestResultsIncrease</th>\n      <th>totalTestResults</th>\n      <th>length</th>\n      <th>popularity</th>\n      <th>danceability</th>\n      <th>acousticness</th>\n      <th>danceability.1</th>\n      <th>energy</th>\n      <th>instrumentalness</th>\n      <th>liveness</th>\n      <th>loudness</th>\n      <th>speechiness</th>\n      <th>tempo</th>\n      <th>time_signature</th>\n    </tr>\n    <tr>\n      <th>week</th>\n      <th></th>\n      <th></th>\n      <th></th>\n      <th></th>\n      <th></th>\n      <th></th>\n      <th></th>\n      <th></th>\n      <th></th>\n      <th></th>\n      <th></th>\n      <th></th>\n      <th></th>\n      <th></th>\n      <th></th>\n      <th></th>\n      <th></th>\n      <th></th>\n      <th></th>\n    </tr>\n  </thead>\n  <tbody>\n    <tr>\n      <th>(2020-01-02, 2020-01-09]</th>\n      <td>1</td>\n      <td>0</td>\n      <td>0</td>\n      <td>0</td>\n      <td>0</td>\n      <td>0</td>\n      <td>0</td>\n      <td>188656.35</td>\n      <td>75.55</td>\n      <td>0.71665</td>\n      <td>0.219063</td>\n      <td>0.71665</td>\n      <td>0.60050</td>\n      <td>0.033020</td>\n      <td>0.198585</td>\n      <td>-6.22025</td>\n      <td>0.116085</td>\n      <td>126.61265</td>\n      <td>3.90</td>\n    </tr>\n    <tr>\n      <th>(2020-01-09, 2020-01-16]</th>\n      <td>2</td>\n      <td>0</td>\n      <td>0</td>\n      <td>0</td>\n      <td>0</td>\n      <td>0</td>\n      <td>0</td>\n      <td>208934.70</td>\n      <td>75.35</td>\n      <td>0.71400</td>\n      <td>0.265838</td>\n      <td>0.71400</td>\n      <td>0.55110</td>\n      <td>0.039695</td>\n      <td>0.179490</td>\n      <td>-7.12430</td>\n      <td>0.140355</td>\n      <td>128.23130</td>\n      <td>4.05</td>\n    </tr>\n    <tr>\n      <th>(2020-01-16, 2020-01-23]</th>\n      <td>3</td>\n      <td>0</td>\n      <td>0</td>\n      <td>0</td>\n      <td>0</td>\n      <td>1</td>\n      <td>3</td>\n      <td>206069.10</td>\n      <td>77.70</td>\n      <td>0.72310</td>\n      <td>0.272378</td>\n      <td>0.72310</td>\n      <td>0.55853</td>\n      <td>0.007701</td>\n      <td>0.195490</td>\n      <td>-7.31150</td>\n      <td>0.158935</td>\n      <td>130.57085</td>\n      <td>4.05</td>\n    </tr>\n    <tr>\n      <th>(2020-01-23, 2020-01-30]</th>\n      <td>4</td>\n      <td>0</td>\n      <td>0</td>\n      <td>0</td>\n      <td>0</td>\n      <td>3</td>\n      <td>22</td>\n      <td>204243.55</td>\n      <td>81.20</td>\n      <td>0.72620</td>\n      <td>0.265644</td>\n      <td>0.72620</td>\n      <td>0.56990</td>\n      <td>0.046191</td>\n      <td>0.185030</td>\n      <td>-7.03405</td>\n      <td>0.171040</td>\n      <td>133.48885</td>\n      <td>4.05</td>\n    </tr>\n    <tr>\n      <th>(2020-01-30, 2020-02-06]</th>\n      <td>5</td>\n      <td>0</td>\n      <td>0</td>\n      <td>0</td>\n      <td>0</td>\n      <td>11</td>\n      <td>81</td>\n      <td>198553.85</td>\n      <td>80.50</td>\n      <td>0.73100</td>\n      <td>0.225643</td>\n      <td>0.73100</td>\n      <td>0.59270</td>\n      <td>0.032991</td>\n      <td>0.199450</td>\n      <td>-6.23020</td>\n      <td>0.170440</td>\n      <td>130.47640</td>\n      <td>4.05</td>\n    </tr>\n  </tbody>\n</table>\n</div>"
     },
     "metadata": {},
     "execution_count": 75
    }
   ],
   "source": [
    "merged = grouped_covid.merge(grouped_spotify, left_on='week', right_on='week')\n",
    "merged.head()"
   ]
  },
  {
   "source": [
    "## 2. Data Analysis and Visualization"
   ],
   "cell_type": "markdown",
   "metadata": {}
  },
  {
   "cell_type": "code",
   "execution_count": null,
   "metadata": {},
   "outputs": [],
   "source": []
  }
 ],
 "metadata": {
  "kernelspec": {
   "display_name": "Python 3",
   "language": "python",
   "name": "python3"
  },
  "language_info": {
   "codemirror_mode": {
    "name": "ipython",
    "version": 3
   },
   "file_extension": ".py",
   "mimetype": "text/x-python",
   "name": "python",
   "nbconvert_exporter": "python",
   "pygments_lexer": "ipython3",
   "version": "3.8.3-final"
  }
 },
 "nbformat": 4,
 "nbformat_minor": 4
}