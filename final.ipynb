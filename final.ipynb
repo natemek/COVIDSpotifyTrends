{
 "cells": [
  {
   "cell_type": "markdown",
   "metadata": {},
   "source": [
    "# The Pandemic's Effect on Trends in Music: Exploration"
   ]
  },
  {
   "cell_type": "markdown",
   "metadata": {},
   "source": [
    "Authors: Natnael Mekonnen, Sonya Lew, and Daniel Park"
   ]
  },
  {
   "cell_type": "markdown",
   "metadata": {},
   "source": [
    "## Introduction"
   ]
  },
  {
   "cell_type": "markdown",
   "metadata": {},
   "source": [
    "Why did we choose this topic? What is the importance?\n",
    "Do we anticipate to be any changes?"
   ]
  },
  {
   "cell_type": "markdown",
   "metadata": {},
   "source": [
    "## 1. Data Scraping"
   ]
  },
  {
   "cell_type": "markdown",
   "metadata": {},
   "source": [
    "To explore the pandemic's effect on music, we chose to compare the COVID data in the US with the top 20 list on Spotify since January 2020. The COVID data will be extracted from the Atlantic's [The COVID Tracking Project](https://covidtracking.com/data/national) which has been constantly updating the data everyday with representatives from 50 states, 5 territories, and District of Colombia. On the other hand, the Spotify top 20 will be extracted from the [Spotify Charts](https://spotifycharts.com/) on a weekly starting from January 2020. The charts does not have a detail information on the song so we will get more detail by querying the Spotify API.  "
   ]
  },
  {
   "cell_type": "markdown",
   "metadata": {},
   "source": [
    "Import the necessary libraries: "
   ]
  },
  {
   "cell_type": "code",
   "execution_count": 101,
   "metadata": {},
   "outputs": [],
   "source": [
    "import pandas as pd\n",
    "import matplotlib.pyplot as plt\n",
    "import numpy as np\n",
    "import seaborn as sns"
   ]
  },
  {
   "cell_type": "markdown",
   "metadata": {},
   "source": [
    "## 1.1 Load and View COVID data"
   ]
  },
  {
   "cell_type": "code",
   "execution_count": 102,
   "metadata": {},
   "outputs": [
    {
     "output_type": "execute_result",
     "data": {
      "text/plain": [
       "         date     death  deathIncrease  inIcuCumulative  inIcuCurrently  \\\n",
       "0  2020-12-07  274745.0           1347          32120.0         20098.0   \n",
       "1  2020-12-06  273398.0           1146          31946.0         20145.0   \n",
       "2  2020-12-05  272252.0           2461          31831.0         19947.0   \n",
       "3  2020-12-04  269791.0           2563          31608.0         19858.0   \n",
       "4  2020-12-03  267228.0           2706          31276.0         19723.0   \n",
       "\n",
       "   hospitalizedIncrease  hospitalizedCurrently  hospitalizedCumulative  \\\n",
       "0                  3614               102148.0                589486.0   \n",
       "1                  2311               101501.0                585872.0   \n",
       "2                  3457               101192.0                583561.0   \n",
       "3                  4652               101276.0                580104.0   \n",
       "4                  5331               100755.0                575452.0   \n",
       "\n",
       "    negative  negativeIncrease  onVentilatorCumulative  onVentilatorCurrently  \\\n",
       "0  163378726           1386381                  3328.0                 7073.0   \n",
       "1  161992345           1175503                  3322.0                 7095.0   \n",
       "2  160816842           1530133                  3321.0                 7006.0   \n",
       "3  159286709           1260657                  3305.0                 6999.0   \n",
       "4  158026052           1238465                  3280.0                 6867.0   \n",
       "\n",
       "   positive  positiveIncrease  recovered  states  totalTestResults  \\\n",
       "0  14717065            180193  5714557.0      56         205934174   \n",
       "1  14536872            177801  5624609.0      56         204098786   \n",
       "2  14359071            212880  5576152.0      56         202450480   \n",
       "3  14146191            224831  5470389.0      56         200259581   \n",
       "4  13921360            210204  5404018.0      56         198404712   \n",
       "\n",
       "   totalTestResultsIncrease  \n",
       "0                   1835388  \n",
       "1                   1648306  \n",
       "2                   2190899  \n",
       "3                   1854869  \n",
       "4                   1828230  "
      ],
      "text/html": "<div>\n<style scoped>\n    .dataframe tbody tr th:only-of-type {\n        vertical-align: middle;\n    }\n\n    .dataframe tbody tr th {\n        vertical-align: top;\n    }\n\n    .dataframe thead th {\n        text-align: right;\n    }\n</style>\n<table border=\"1\" class=\"dataframe\">\n  <thead>\n    <tr style=\"text-align: right;\">\n      <th></th>\n      <th>date</th>\n      <th>death</th>\n      <th>deathIncrease</th>\n      <th>inIcuCumulative</th>\n      <th>inIcuCurrently</th>\n      <th>hospitalizedIncrease</th>\n      <th>hospitalizedCurrently</th>\n      <th>hospitalizedCumulative</th>\n      <th>negative</th>\n      <th>negativeIncrease</th>\n      <th>onVentilatorCumulative</th>\n      <th>onVentilatorCurrently</th>\n      <th>positive</th>\n      <th>positiveIncrease</th>\n      <th>recovered</th>\n      <th>states</th>\n      <th>totalTestResults</th>\n      <th>totalTestResultsIncrease</th>\n    </tr>\n  </thead>\n  <tbody>\n    <tr>\n      <th>0</th>\n      <td>2020-12-07</td>\n      <td>274745.0</td>\n      <td>1347</td>\n      <td>32120.0</td>\n      <td>20098.0</td>\n      <td>3614</td>\n      <td>102148.0</td>\n      <td>589486.0</td>\n      <td>163378726</td>\n      <td>1386381</td>\n      <td>3328.0</td>\n      <td>7073.0</td>\n      <td>14717065</td>\n      <td>180193</td>\n      <td>5714557.0</td>\n      <td>56</td>\n      <td>205934174</td>\n      <td>1835388</td>\n    </tr>\n    <tr>\n      <th>1</th>\n      <td>2020-12-06</td>\n      <td>273398.0</td>\n      <td>1146</td>\n      <td>31946.0</td>\n      <td>20145.0</td>\n      <td>2311</td>\n      <td>101501.0</td>\n      <td>585872.0</td>\n      <td>161992345</td>\n      <td>1175503</td>\n      <td>3322.0</td>\n      <td>7095.0</td>\n      <td>14536872</td>\n      <td>177801</td>\n      <td>5624609.0</td>\n      <td>56</td>\n      <td>204098786</td>\n      <td>1648306</td>\n    </tr>\n    <tr>\n      <th>2</th>\n      <td>2020-12-05</td>\n      <td>272252.0</td>\n      <td>2461</td>\n      <td>31831.0</td>\n      <td>19947.0</td>\n      <td>3457</td>\n      <td>101192.0</td>\n      <td>583561.0</td>\n      <td>160816842</td>\n      <td>1530133</td>\n      <td>3321.0</td>\n      <td>7006.0</td>\n      <td>14359071</td>\n      <td>212880</td>\n      <td>5576152.0</td>\n      <td>56</td>\n      <td>202450480</td>\n      <td>2190899</td>\n    </tr>\n    <tr>\n      <th>3</th>\n      <td>2020-12-04</td>\n      <td>269791.0</td>\n      <td>2563</td>\n      <td>31608.0</td>\n      <td>19858.0</td>\n      <td>4652</td>\n      <td>101276.0</td>\n      <td>580104.0</td>\n      <td>159286709</td>\n      <td>1260657</td>\n      <td>3305.0</td>\n      <td>6999.0</td>\n      <td>14146191</td>\n      <td>224831</td>\n      <td>5470389.0</td>\n      <td>56</td>\n      <td>200259581</td>\n      <td>1854869</td>\n    </tr>\n    <tr>\n      <th>4</th>\n      <td>2020-12-03</td>\n      <td>267228.0</td>\n      <td>2706</td>\n      <td>31276.0</td>\n      <td>19723.0</td>\n      <td>5331</td>\n      <td>100755.0</td>\n      <td>575452.0</td>\n      <td>158026052</td>\n      <td>1238465</td>\n      <td>3280.0</td>\n      <td>6867.0</td>\n      <td>13921360</td>\n      <td>210204</td>\n      <td>5404018.0</td>\n      <td>56</td>\n      <td>198404712</td>\n      <td>1828230</td>\n    </tr>\n  </tbody>\n</table>\n</div>"
     },
     "metadata": {},
     "execution_count": 102
    }
   ],
   "source": [
    "covid_data = pd.read_csv('national-history.csv')\n",
    "covid_data.head()"
   ]
  },
  {
   "cell_type": "markdown",
   "metadata": {},
   "source": [
    "The COVID data is detailed but since this project is finding its relationship with music, most of the unnecessary columns will be dropped."
   ]
  },
  {
   "cell_type": "code",
   "execution_count": 103,
   "metadata": {},
   "outputs": [],
   "source": [
    "if 'death' in covid_data.columns:\n",
    "    covid_data = covid_data.drop(['death','deathIncrease','inIcuCumulative','inIcuCurrently', 'hospitalizedIncrease','hospitalizedCurrently','hospitalizedCumulative','onVentilatorCumulative','onVentilatorCurrently','recovered','states'], axis=1)\n"
   ]
  },
  {
   "cell_type": "markdown",
   "metadata": {},
   "source": [
    "Knowing that the Spotify data is grouped on a weekly basis starting on a Friday, the next step is to prepare the COVID data so it is easy to merge."
   ]
  },
  {
   "cell_type": "code",
   "execution_count": 104,
   "metadata": {},
   "outputs": [],
   "source": [
    "# Creating a custom interval index for grouping the data which starts from begining of the year on a Friday and continues weekly\n",
    "i = pd.to_datetime('01/02/2020')\n",
    "bins = []\n",
    "while i < pd.to_datetime('12/12/2020'):\n",
    "    temp = i + pd.Timedelta('7 days')\n",
    "    bins.append((i,temp))\n",
    "    i = temp\n",
    "bins = pd.IntervalIndex.from_tuples(bins)"
   ]
  },
  {
   "cell_type": "code",
   "execution_count": 105,
   "metadata": {},
   "outputs": [
    {
     "output_type": "execute_result",
     "data": {
      "text/plain": [
       "                          negative  negativeIncrease  positive  \\\n",
       "week                                                             \n",
       "(2020-01-02, 2020-01-09]         0                 0         0   \n",
       "(2020-01-09, 2020-01-16]         0                 0         0   \n",
       "(2020-01-16, 2020-01-23]         0                 0         0   \n",
       "(2020-01-23, 2020-01-30]         0                 0         0   \n",
       "(2020-01-30, 2020-02-06]         0                 0         0   \n",
       "(2020-02-06, 2020-02-13]         0                 0         0   \n",
       "(2020-02-13, 2020-02-20]         0                 0         0   \n",
       "(2020-02-20, 2020-02-27]         0                 0         0   \n",
       "(2020-02-27, 2020-03-05]      4138              1943       953   \n",
       "(2020-03-05, 2020-03-12]     55851             15934      9467   \n",
       "\n",
       "                          positiveIncrease  totalTestResults  \\\n",
       "week                                                           \n",
       "(2020-01-02, 2020-01-09]                 0                 0   \n",
       "(2020-01-09, 2020-01-16]                 0                 0   \n",
       "(2020-01-16, 2020-01-23]                 0                 3   \n",
       "(2020-01-23, 2020-01-30]                 0                22   \n",
       "(2020-01-30, 2020-02-06]                 0                81   \n",
       "(2020-02-06, 2020-02-13]                 0               134   \n",
       "(2020-02-13, 2020-02-20]                 0               205   \n",
       "(2020-02-20, 2020-02-27]                 0              6722   \n",
       "(2020-02-27, 2020-03-05]               367             50810   \n",
       "(2020-03-05, 2020-03-12]              2429            114350   \n",
       "\n",
       "                          totalTestResultsIncrease  week_num  \n",
       "week                                                          \n",
       "(2020-01-02, 2020-01-09]                         0         1  \n",
       "(2020-01-09, 2020-01-16]                         0         2  \n",
       "(2020-01-16, 2020-01-23]                         1         3  \n",
       "(2020-01-23, 2020-01-30]                         3         4  \n",
       "(2020-01-30, 2020-02-06]                        11         5  \n",
       "(2020-02-06, 2020-02-13]                         6         6  \n",
       "(2020-02-13, 2020-02-20]                        14         7  \n",
       "(2020-02-20, 2020-02-27]                      6451         8  \n",
       "(2020-02-27, 2020-03-05]                      2376         9  \n",
       "(2020-03-05, 2020-03-12]                     19561        10  "
      ],
      "text/html": "<div>\n<style scoped>\n    .dataframe tbody tr th:only-of-type {\n        vertical-align: middle;\n    }\n\n    .dataframe tbody tr th {\n        vertical-align: top;\n    }\n\n    .dataframe thead th {\n        text-align: right;\n    }\n</style>\n<table border=\"1\" class=\"dataframe\">\n  <thead>\n    <tr style=\"text-align: right;\">\n      <th></th>\n      <th>negative</th>\n      <th>negativeIncrease</th>\n      <th>positive</th>\n      <th>positiveIncrease</th>\n      <th>totalTestResults</th>\n      <th>totalTestResultsIncrease</th>\n      <th>week_num</th>\n    </tr>\n    <tr>\n      <th>week</th>\n      <th></th>\n      <th></th>\n      <th></th>\n      <th></th>\n      <th></th>\n      <th></th>\n      <th></th>\n    </tr>\n  </thead>\n  <tbody>\n    <tr>\n      <th>(2020-01-02, 2020-01-09]</th>\n      <td>0</td>\n      <td>0</td>\n      <td>0</td>\n      <td>0</td>\n      <td>0</td>\n      <td>0</td>\n      <td>1</td>\n    </tr>\n    <tr>\n      <th>(2020-01-09, 2020-01-16]</th>\n      <td>0</td>\n      <td>0</td>\n      <td>0</td>\n      <td>0</td>\n      <td>0</td>\n      <td>0</td>\n      <td>2</td>\n    </tr>\n    <tr>\n      <th>(2020-01-16, 2020-01-23]</th>\n      <td>0</td>\n      <td>0</td>\n      <td>0</td>\n      <td>0</td>\n      <td>3</td>\n      <td>1</td>\n      <td>3</td>\n    </tr>\n    <tr>\n      <th>(2020-01-23, 2020-01-30]</th>\n      <td>0</td>\n      <td>0</td>\n      <td>0</td>\n      <td>0</td>\n      <td>22</td>\n      <td>3</td>\n      <td>4</td>\n    </tr>\n    <tr>\n      <th>(2020-01-30, 2020-02-06]</th>\n      <td>0</td>\n      <td>0</td>\n      <td>0</td>\n      <td>0</td>\n      <td>81</td>\n      <td>11</td>\n      <td>5</td>\n    </tr>\n    <tr>\n      <th>(2020-02-06, 2020-02-13]</th>\n      <td>0</td>\n      <td>0</td>\n      <td>0</td>\n      <td>0</td>\n      <td>134</td>\n      <td>6</td>\n      <td>6</td>\n    </tr>\n    <tr>\n      <th>(2020-02-13, 2020-02-20]</th>\n      <td>0</td>\n      <td>0</td>\n      <td>0</td>\n      <td>0</td>\n      <td>205</td>\n      <td>14</td>\n      <td>7</td>\n    </tr>\n    <tr>\n      <th>(2020-02-20, 2020-02-27]</th>\n      <td>0</td>\n      <td>0</td>\n      <td>0</td>\n      <td>0</td>\n      <td>6722</td>\n      <td>6451</td>\n      <td>8</td>\n    </tr>\n    <tr>\n      <th>(2020-02-27, 2020-03-05]</th>\n      <td>4138</td>\n      <td>1943</td>\n      <td>953</td>\n      <td>367</td>\n      <td>50810</td>\n      <td>2376</td>\n      <td>9</td>\n    </tr>\n    <tr>\n      <th>(2020-03-05, 2020-03-12]</th>\n      <td>55851</td>\n      <td>15934</td>\n      <td>9467</td>\n      <td>2429</td>\n      <td>114350</td>\n      <td>19561</td>\n      <td>10</td>\n    </tr>\n  </tbody>\n</table>\n</div>"
     },
     "metadata": {},
     "execution_count": 105
    }
   ],
   "source": [
    "# Convert the date from the dataframe to a pandas date and time format to be comuted in the cutting\n",
    "covid_data['date'] = pd.to_datetime(covid_data['date'])\n",
    "\n",
    "# Using the interval index created above, create a new column week which has the week interval of the data\n",
    "covid_data['week'] = pd.cut(covid_data['date'], bins)\n",
    "\n",
    "# Now that every row has a week interval, they will be grouped with the total for each column \n",
    "grouped_covid = covid_data.groupby(['week']).sum()\n",
    "\n",
    "# Number the weeks to easily identify\n",
    "grouped_covid['week_num'] = list(range(1,len(bins)+1))\n",
    "\n",
    "grouped_covid.head(10)"
   ]
  },
  {
   "cell_type": "code",
   "execution_count": 106,
   "metadata": {},
   "outputs": [
    {
     "output_type": "execute_result",
     "data": {
      "text/plain": [
       "                          week_num  positiveIncrease  negativeIncrease  \\\n",
       "week                                                                     \n",
       "(2020-01-02, 2020-01-09]         1                 0                 0   \n",
       "(2020-01-09, 2020-01-16]         2                 0                 0   \n",
       "(2020-01-16, 2020-01-23]         3                 0                 0   \n",
       "(2020-01-23, 2020-01-30]         4                 0                 0   \n",
       "(2020-01-30, 2020-02-06]         5                 0                 0   \n",
       "(2020-02-06, 2020-02-13]         6                 0                 0   \n",
       "(2020-02-13, 2020-02-20]         7                 0                 0   \n",
       "(2020-02-20, 2020-02-27]         8                 0                 0   \n",
       "(2020-02-27, 2020-03-05]         9               367              1943   \n",
       "(2020-03-05, 2020-03-12]        10              2429             15934   \n",
       "\n",
       "                          positive  negative  totalTestResultsIncrease  \\\n",
       "week                                                                     \n",
       "(2020-01-02, 2020-01-09]         0         0                         0   \n",
       "(2020-01-09, 2020-01-16]         0         0                         0   \n",
       "(2020-01-16, 2020-01-23]         0         0                         1   \n",
       "(2020-01-23, 2020-01-30]         0         0                         3   \n",
       "(2020-01-30, 2020-02-06]         0         0                        11   \n",
       "(2020-02-06, 2020-02-13]         0         0                         6   \n",
       "(2020-02-13, 2020-02-20]         0         0                        14   \n",
       "(2020-02-20, 2020-02-27]         0         0                      6451   \n",
       "(2020-02-27, 2020-03-05]       953      4138                      2376   \n",
       "(2020-03-05, 2020-03-12]      9467     55851                     19561   \n",
       "\n",
       "                          totalTestResults  \n",
       "week                                        \n",
       "(2020-01-02, 2020-01-09]                 0  \n",
       "(2020-01-09, 2020-01-16]                 0  \n",
       "(2020-01-16, 2020-01-23]                 3  \n",
       "(2020-01-23, 2020-01-30]                22  \n",
       "(2020-01-30, 2020-02-06]                81  \n",
       "(2020-02-06, 2020-02-13]               134  \n",
       "(2020-02-13, 2020-02-20]               205  \n",
       "(2020-02-20, 2020-02-27]              6722  \n",
       "(2020-02-27, 2020-03-05]             50810  \n",
       "(2020-03-05, 2020-03-12]            114350  "
      ],
      "text/html": "<div>\n<style scoped>\n    .dataframe tbody tr th:only-of-type {\n        vertical-align: middle;\n    }\n\n    .dataframe tbody tr th {\n        vertical-align: top;\n    }\n\n    .dataframe thead th {\n        text-align: right;\n    }\n</style>\n<table border=\"1\" class=\"dataframe\">\n  <thead>\n    <tr style=\"text-align: right;\">\n      <th></th>\n      <th>week_num</th>\n      <th>positiveIncrease</th>\n      <th>negativeIncrease</th>\n      <th>positive</th>\n      <th>negative</th>\n      <th>totalTestResultsIncrease</th>\n      <th>totalTestResults</th>\n    </tr>\n    <tr>\n      <th>week</th>\n      <th></th>\n      <th></th>\n      <th></th>\n      <th></th>\n      <th></th>\n      <th></th>\n      <th></th>\n    </tr>\n  </thead>\n  <tbody>\n    <tr>\n      <th>(2020-01-02, 2020-01-09]</th>\n      <td>1</td>\n      <td>0</td>\n      <td>0</td>\n      <td>0</td>\n      <td>0</td>\n      <td>0</td>\n      <td>0</td>\n    </tr>\n    <tr>\n      <th>(2020-01-09, 2020-01-16]</th>\n      <td>2</td>\n      <td>0</td>\n      <td>0</td>\n      <td>0</td>\n      <td>0</td>\n      <td>0</td>\n      <td>0</td>\n    </tr>\n    <tr>\n      <th>(2020-01-16, 2020-01-23]</th>\n      <td>3</td>\n      <td>0</td>\n      <td>0</td>\n      <td>0</td>\n      <td>0</td>\n      <td>1</td>\n      <td>3</td>\n    </tr>\n    <tr>\n      <th>(2020-01-23, 2020-01-30]</th>\n      <td>4</td>\n      <td>0</td>\n      <td>0</td>\n      <td>0</td>\n      <td>0</td>\n      <td>3</td>\n      <td>22</td>\n    </tr>\n    <tr>\n      <th>(2020-01-30, 2020-02-06]</th>\n      <td>5</td>\n      <td>0</td>\n      <td>0</td>\n      <td>0</td>\n      <td>0</td>\n      <td>11</td>\n      <td>81</td>\n    </tr>\n    <tr>\n      <th>(2020-02-06, 2020-02-13]</th>\n      <td>6</td>\n      <td>0</td>\n      <td>0</td>\n      <td>0</td>\n      <td>0</td>\n      <td>6</td>\n      <td>134</td>\n    </tr>\n    <tr>\n      <th>(2020-02-13, 2020-02-20]</th>\n      <td>7</td>\n      <td>0</td>\n      <td>0</td>\n      <td>0</td>\n      <td>0</td>\n      <td>14</td>\n      <td>205</td>\n    </tr>\n    <tr>\n      <th>(2020-02-20, 2020-02-27]</th>\n      <td>8</td>\n      <td>0</td>\n      <td>0</td>\n      <td>0</td>\n      <td>0</td>\n      <td>6451</td>\n      <td>6722</td>\n    </tr>\n    <tr>\n      <th>(2020-02-27, 2020-03-05]</th>\n      <td>9</td>\n      <td>367</td>\n      <td>1943</td>\n      <td>953</td>\n      <td>4138</td>\n      <td>2376</td>\n      <td>50810</td>\n    </tr>\n    <tr>\n      <th>(2020-03-05, 2020-03-12]</th>\n      <td>10</td>\n      <td>2429</td>\n      <td>15934</td>\n      <td>9467</td>\n      <td>55851</td>\n      <td>19561</td>\n      <td>114350</td>\n    </tr>\n  </tbody>\n</table>\n</div>"
     },
     "metadata": {},
     "execution_count": 106
    }
   ],
   "source": [
    "column_names = ['week_num','positiveIncrease','negativeIncrease','positive','negative','totalTestResultsIncrease','totalTestResults']\n",
    "grouped_covid = grouped_covid.reindex(columns=column_names)\n",
    "\n",
    "grouped_covid.head(10)"
   ]
  },
  {
   "source": [
    "## 1.2 Load and View Spotify Top 20 Weekly Data"
   ],
   "cell_type": "markdown",
   "metadata": {}
  },
  {
   "source": [
    "As mentioned above, the weekly Spotify top 10 list for 2020 has been downloaded as a csv file. However, since the data is not robust, the Spotify developer API was used to get more detail information on the songs and collectively stored under `data.csv`. The script to run this process is under `spotify_data_extraction.py`."
   ],
   "cell_type": "markdown",
   "metadata": {}
  },
  {
   "cell_type": "code",
   "execution_count": 107,
   "metadata": {},
   "outputs": [
    {
     "output_type": "execute_result",
     "data": {
      "text/plain": [
       "      name                                  album          artist  \\\n",
       "0  The Box  Please Excuse Me For Being Antisocial     Roddy Ricch   \n",
       "1  ROXANNE                                ROXANNE  Arizona Zervas   \n",
       "2    Yummy                                  Yummy   Justin Bieber   \n",
       "3  Circles                   Hollywood's Bleeding     Post Malone   \n",
       "4      BOP                                   KIRK          DaBaby   \n",
       "\n",
       "  release_date  length  popularity  danceability  acousticness  \\\n",
       "0   2019-12-06  196652          90         0.896        0.1040   \n",
       "1   2019-10-10  163636          88         0.621        0.0522   \n",
       "2   2020-01-03  210426          79         0.687        0.3660   \n",
       "3   2019-09-06  215280          90         0.695        0.1920   \n",
       "4   2019-09-27  159714          85         0.769        0.1890   \n",
       "\n",
       "   danceability.1  energy  instrumentalness  liveness  loudness  speechiness  \\\n",
       "0           0.896   0.586           0.00000    0.7900    -6.687       0.0559   \n",
       "1           0.621   0.601           0.00000    0.4600    -5.616       0.1480   \n",
       "2           0.687   0.514           0.00000    0.1160    -6.612       0.0897   \n",
       "3           0.695   0.762           0.00244    0.0863    -3.497       0.0395   \n",
       "4           0.769   0.787           0.00000    0.1290    -3.909       0.3670   \n",
       "\n",
       "     tempo  time_signature  start_date    end_date  \n",
       "0  116.971               4  2020-01-03  2020-01-10  \n",
       "1  116.735               5  2020-01-03  2020-01-10  \n",
       "2  145.921               4  2020-01-03  2020-01-10  \n",
       "3  120.042               4  2020-01-03  2020-01-10  \n",
       "4  126.770               4  2020-01-03  2020-01-10  "
      ],
      "text/html": "<div>\n<style scoped>\n    .dataframe tbody tr th:only-of-type {\n        vertical-align: middle;\n    }\n\n    .dataframe tbody tr th {\n        vertical-align: top;\n    }\n\n    .dataframe thead th {\n        text-align: right;\n    }\n</style>\n<table border=\"1\" class=\"dataframe\">\n  <thead>\n    <tr style=\"text-align: right;\">\n      <th></th>\n      <th>name</th>\n      <th>album</th>\n      <th>artist</th>\n      <th>release_date</th>\n      <th>length</th>\n      <th>popularity</th>\n      <th>danceability</th>\n      <th>acousticness</th>\n      <th>danceability.1</th>\n      <th>energy</th>\n      <th>instrumentalness</th>\n      <th>liveness</th>\n      <th>loudness</th>\n      <th>speechiness</th>\n      <th>tempo</th>\n      <th>time_signature</th>\n      <th>start_date</th>\n      <th>end_date</th>\n    </tr>\n  </thead>\n  <tbody>\n    <tr>\n      <th>0</th>\n      <td>The Box</td>\n      <td>Please Excuse Me For Being Antisocial</td>\n      <td>Roddy Ricch</td>\n      <td>2019-12-06</td>\n      <td>196652</td>\n      <td>90</td>\n      <td>0.896</td>\n      <td>0.1040</td>\n      <td>0.896</td>\n      <td>0.586</td>\n      <td>0.00000</td>\n      <td>0.7900</td>\n      <td>-6.687</td>\n      <td>0.0559</td>\n      <td>116.971</td>\n      <td>4</td>\n      <td>2020-01-03</td>\n      <td>2020-01-10</td>\n    </tr>\n    <tr>\n      <th>1</th>\n      <td>ROXANNE</td>\n      <td>ROXANNE</td>\n      <td>Arizona Zervas</td>\n      <td>2019-10-10</td>\n      <td>163636</td>\n      <td>88</td>\n      <td>0.621</td>\n      <td>0.0522</td>\n      <td>0.621</td>\n      <td>0.601</td>\n      <td>0.00000</td>\n      <td>0.4600</td>\n      <td>-5.616</td>\n      <td>0.1480</td>\n      <td>116.735</td>\n      <td>5</td>\n      <td>2020-01-03</td>\n      <td>2020-01-10</td>\n    </tr>\n    <tr>\n      <th>2</th>\n      <td>Yummy</td>\n      <td>Yummy</td>\n      <td>Justin Bieber</td>\n      <td>2020-01-03</td>\n      <td>210426</td>\n      <td>79</td>\n      <td>0.687</td>\n      <td>0.3660</td>\n      <td>0.687</td>\n      <td>0.514</td>\n      <td>0.00000</td>\n      <td>0.1160</td>\n      <td>-6.612</td>\n      <td>0.0897</td>\n      <td>145.921</td>\n      <td>4</td>\n      <td>2020-01-03</td>\n      <td>2020-01-10</td>\n    </tr>\n    <tr>\n      <th>3</th>\n      <td>Circles</td>\n      <td>Hollywood's Bleeding</td>\n      <td>Post Malone</td>\n      <td>2019-09-06</td>\n      <td>215280</td>\n      <td>90</td>\n      <td>0.695</td>\n      <td>0.1920</td>\n      <td>0.695</td>\n      <td>0.762</td>\n      <td>0.00244</td>\n      <td>0.0863</td>\n      <td>-3.497</td>\n      <td>0.0395</td>\n      <td>120.042</td>\n      <td>4</td>\n      <td>2020-01-03</td>\n      <td>2020-01-10</td>\n    </tr>\n    <tr>\n      <th>4</th>\n      <td>BOP</td>\n      <td>KIRK</td>\n      <td>DaBaby</td>\n      <td>2019-09-27</td>\n      <td>159714</td>\n      <td>85</td>\n      <td>0.769</td>\n      <td>0.1890</td>\n      <td>0.769</td>\n      <td>0.787</td>\n      <td>0.00000</td>\n      <td>0.1290</td>\n      <td>-3.909</td>\n      <td>0.3670</td>\n      <td>126.770</td>\n      <td>4</td>\n      <td>2020-01-03</td>\n      <td>2020-01-10</td>\n    </tr>\n  </tbody>\n</table>\n</div>"
     },
     "metadata": {},
     "execution_count": 107
    }
   ],
   "source": [
    "spotify_data = pd.read_csv('data10.csv')\n",
    "spotify_data.head()"
   ]
  },
  {
   "cell_type": "code",
   "execution_count": 108,
   "metadata": {},
   "outputs": [
    {
     "output_type": "execute_result",
     "data": {
      "text/plain": [
       "                       week  length  popularity  danceability  acousticness  \\\n",
       "0  (2020-01-02, 2020-01-09]  196652          90         0.896        0.1040   \n",
       "1  (2020-01-02, 2020-01-09]  163636          88         0.621        0.0522   \n",
       "2  (2020-01-02, 2020-01-09]  210426          79         0.687        0.3660   \n",
       "3  (2020-01-02, 2020-01-09]  215280          90         0.695        0.1920   \n",
       "4  (2020-01-02, 2020-01-09]  159714          85         0.769        0.1890   \n",
       "\n",
       "   danceability.1  energy  instrumentalness  liveness  loudness  speechiness  \\\n",
       "0           0.896   0.586           0.00000    0.7900    -6.687       0.0559   \n",
       "1           0.621   0.601           0.00000    0.4600    -5.616       0.1480   \n",
       "2           0.687   0.514           0.00000    0.1160    -6.612       0.0897   \n",
       "3           0.695   0.762           0.00244    0.0863    -3.497       0.0395   \n",
       "4           0.769   0.787           0.00000    0.1290    -3.909       0.3670   \n",
       "\n",
       "     tempo  time_signature  \n",
       "0  116.971               4  \n",
       "1  116.735               5  \n",
       "2  145.921               4  \n",
       "3  120.042               4  \n",
       "4  126.770               4  "
      ],
      "text/html": "<div>\n<style scoped>\n    .dataframe tbody tr th:only-of-type {\n        vertical-align: middle;\n    }\n\n    .dataframe tbody tr th {\n        vertical-align: top;\n    }\n\n    .dataframe thead th {\n        text-align: right;\n    }\n</style>\n<table border=\"1\" class=\"dataframe\">\n  <thead>\n    <tr style=\"text-align: right;\">\n      <th></th>\n      <th>week</th>\n      <th>length</th>\n      <th>popularity</th>\n      <th>danceability</th>\n      <th>acousticness</th>\n      <th>danceability.1</th>\n      <th>energy</th>\n      <th>instrumentalness</th>\n      <th>liveness</th>\n      <th>loudness</th>\n      <th>speechiness</th>\n      <th>tempo</th>\n      <th>time_signature</th>\n    </tr>\n  </thead>\n  <tbody>\n    <tr>\n      <th>0</th>\n      <td>(2020-01-02, 2020-01-09]</td>\n      <td>196652</td>\n      <td>90</td>\n      <td>0.896</td>\n      <td>0.1040</td>\n      <td>0.896</td>\n      <td>0.586</td>\n      <td>0.00000</td>\n      <td>0.7900</td>\n      <td>-6.687</td>\n      <td>0.0559</td>\n      <td>116.971</td>\n      <td>4</td>\n    </tr>\n    <tr>\n      <th>1</th>\n      <td>(2020-01-02, 2020-01-09]</td>\n      <td>163636</td>\n      <td>88</td>\n      <td>0.621</td>\n      <td>0.0522</td>\n      <td>0.621</td>\n      <td>0.601</td>\n      <td>0.00000</td>\n      <td>0.4600</td>\n      <td>-5.616</td>\n      <td>0.1480</td>\n      <td>116.735</td>\n      <td>5</td>\n    </tr>\n    <tr>\n      <th>2</th>\n      <td>(2020-01-02, 2020-01-09]</td>\n      <td>210426</td>\n      <td>79</td>\n      <td>0.687</td>\n      <td>0.3660</td>\n      <td>0.687</td>\n      <td>0.514</td>\n      <td>0.00000</td>\n      <td>0.1160</td>\n      <td>-6.612</td>\n      <td>0.0897</td>\n      <td>145.921</td>\n      <td>4</td>\n    </tr>\n    <tr>\n      <th>3</th>\n      <td>(2020-01-02, 2020-01-09]</td>\n      <td>215280</td>\n      <td>90</td>\n      <td>0.695</td>\n      <td>0.1920</td>\n      <td>0.695</td>\n      <td>0.762</td>\n      <td>0.00244</td>\n      <td>0.0863</td>\n      <td>-3.497</td>\n      <td>0.0395</td>\n      <td>120.042</td>\n      <td>4</td>\n    </tr>\n    <tr>\n      <th>4</th>\n      <td>(2020-01-02, 2020-01-09]</td>\n      <td>159714</td>\n      <td>85</td>\n      <td>0.769</td>\n      <td>0.1890</td>\n      <td>0.769</td>\n      <td>0.787</td>\n      <td>0.00000</td>\n      <td>0.1290</td>\n      <td>-3.909</td>\n      <td>0.3670</td>\n      <td>126.770</td>\n      <td>4</td>\n    </tr>\n  </tbody>\n</table>\n</div>"
     },
     "metadata": {},
     "execution_count": 108
    }
   ],
   "source": [
    "spotify_data['start_date'] = pd.to_datetime(spotify_data['start_date'])\n",
    "\n",
    "# Using the same interval index created for the covid_data, create a new column week which has the week interval\n",
    "spotify_data['week'] = pd.cut(spotify_data['start_date'], bins)\n",
    "\n",
    "# Now that week is included, we can reindex with only the columns we need\n",
    "spotify_data = spotify_data.reindex(columns=['week','length', 'popularity',\n",
    "       'danceability', 'acousticness', 'danceability.1', 'energy',\n",
    "       'instrumentalness', 'liveness', 'loudness', 'speechiness', 'tempo',\n",
    "       'time_signature'])\n",
    "\n",
    "spotify_data.head()"
   ]
  },
  {
   "cell_type": "code",
   "execution_count": 109,
   "metadata": {},
   "outputs": [
    {
     "output_type": "execute_result",
     "data": {
      "text/plain": [
       "                            length  popularity  danceability  acousticness  \\\n",
       "week                                                                         \n",
       "(2020-01-02, 2020-01-09]  194850.2        83.6        0.7337      0.271760   \n",
       "(2020-01-09, 2020-01-16]  210677.3        82.6        0.7539      0.231650   \n",
       "(2020-01-16, 2020-01-23]  211767.5        84.8        0.7521      0.245180   \n",
       "(2020-01-23, 2020-01-30]  201319.3        80.8        0.7202      0.211327   \n",
       "(2020-01-30, 2020-02-06]  207396.5        80.6        0.7264      0.219327   \n",
       "\n",
       "                          danceability.1  energy  instrumentalness  liveness  \\\n",
       "week                                                                           \n",
       "(2020-01-02, 2020-01-09]          0.7337  0.5587          0.065960   0.23090   \n",
       "(2020-01-09, 2020-01-16]          0.7539  0.5436          0.013644   0.22910   \n",
       "(2020-01-16, 2020-01-23]          0.7521  0.5763          0.013644   0.23054   \n",
       "(2020-01-23, 2020-01-30]          0.7202  0.5911          0.065965   0.23238   \n",
       "(2020-01-30, 2020-02-06]          0.7264  0.5623          0.065965   0.24948   \n",
       "\n",
       "                          loudness  speechiness     tempo  time_signature  \n",
       "week                                                                       \n",
       "(2020-01-02, 2020-01-09]   -7.0007      0.14337  128.8629             4.1  \n",
       "(2020-01-09, 2020-01-16]   -7.1701      0.16153  134.6623             4.1  \n",
       "(2020-01-16, 2020-01-23]   -7.1138      0.21306  131.4658             4.1  \n",
       "(2020-01-23, 2020-01-30]   -6.7767      0.17009  134.6662             4.1  \n",
       "(2020-01-30, 2020-02-06]   -7.2300      0.14479  131.7848             4.1  "
      ],
      "text/html": "<div>\n<style scoped>\n    .dataframe tbody tr th:only-of-type {\n        vertical-align: middle;\n    }\n\n    .dataframe tbody tr th {\n        vertical-align: top;\n    }\n\n    .dataframe thead th {\n        text-align: right;\n    }\n</style>\n<table border=\"1\" class=\"dataframe\">\n  <thead>\n    <tr style=\"text-align: right;\">\n      <th></th>\n      <th>length</th>\n      <th>popularity</th>\n      <th>danceability</th>\n      <th>acousticness</th>\n      <th>danceability.1</th>\n      <th>energy</th>\n      <th>instrumentalness</th>\n      <th>liveness</th>\n      <th>loudness</th>\n      <th>speechiness</th>\n      <th>tempo</th>\n      <th>time_signature</th>\n    </tr>\n    <tr>\n      <th>week</th>\n      <th></th>\n      <th></th>\n      <th></th>\n      <th></th>\n      <th></th>\n      <th></th>\n      <th></th>\n      <th></th>\n      <th></th>\n      <th></th>\n      <th></th>\n      <th></th>\n    </tr>\n  </thead>\n  <tbody>\n    <tr>\n      <th>(2020-01-02, 2020-01-09]</th>\n      <td>194850.2</td>\n      <td>83.6</td>\n      <td>0.7337</td>\n      <td>0.271760</td>\n      <td>0.7337</td>\n      <td>0.5587</td>\n      <td>0.065960</td>\n      <td>0.23090</td>\n      <td>-7.0007</td>\n      <td>0.14337</td>\n      <td>128.8629</td>\n      <td>4.1</td>\n    </tr>\n    <tr>\n      <th>(2020-01-09, 2020-01-16]</th>\n      <td>210677.3</td>\n      <td>82.6</td>\n      <td>0.7539</td>\n      <td>0.231650</td>\n      <td>0.7539</td>\n      <td>0.5436</td>\n      <td>0.013644</td>\n      <td>0.22910</td>\n      <td>-7.1701</td>\n      <td>0.16153</td>\n      <td>134.6623</td>\n      <td>4.1</td>\n    </tr>\n    <tr>\n      <th>(2020-01-16, 2020-01-23]</th>\n      <td>211767.5</td>\n      <td>84.8</td>\n      <td>0.7521</td>\n      <td>0.245180</td>\n      <td>0.7521</td>\n      <td>0.5763</td>\n      <td>0.013644</td>\n      <td>0.23054</td>\n      <td>-7.1138</td>\n      <td>0.21306</td>\n      <td>131.4658</td>\n      <td>4.1</td>\n    </tr>\n    <tr>\n      <th>(2020-01-23, 2020-01-30]</th>\n      <td>201319.3</td>\n      <td>80.8</td>\n      <td>0.7202</td>\n      <td>0.211327</td>\n      <td>0.7202</td>\n      <td>0.5911</td>\n      <td>0.065965</td>\n      <td>0.23238</td>\n      <td>-6.7767</td>\n      <td>0.17009</td>\n      <td>134.6662</td>\n      <td>4.1</td>\n    </tr>\n    <tr>\n      <th>(2020-01-30, 2020-02-06]</th>\n      <td>207396.5</td>\n      <td>80.6</td>\n      <td>0.7264</td>\n      <td>0.219327</td>\n      <td>0.7264</td>\n      <td>0.5623</td>\n      <td>0.065965</td>\n      <td>0.24948</td>\n      <td>-7.2300</td>\n      <td>0.14479</td>\n      <td>131.7848</td>\n      <td>4.1</td>\n    </tr>\n  </tbody>\n</table>\n</div>"
     },
     "metadata": {},
     "execution_count": 109
    }
   ],
   "source": [
    "# Now that every row has a week interval, they will be grouped with the mean for each column \n",
    "grouped_spotify = spotify_data.groupby(['week']).mean()\n",
    "grouped_spotify.head()"
   ]
  },
  {
   "source": [
    "## 1.3 Merge the Spotify and Covid Data"
   ],
   "cell_type": "markdown",
   "metadata": {}
  },
  {
   "cell_type": "code",
   "execution_count": 110,
   "metadata": {},
   "outputs": [
    {
     "output_type": "execute_result",
     "data": {
      "text/plain": [
       "                          week_num  positiveIncrease  negativeIncrease  \\\n",
       "week                                                                     \n",
       "(2020-01-02, 2020-01-09]         1                 0                 0   \n",
       "(2020-01-09, 2020-01-16]         2                 0                 0   \n",
       "(2020-01-16, 2020-01-23]         3                 0                 0   \n",
       "(2020-01-23, 2020-01-30]         4                 0                 0   \n",
       "(2020-01-30, 2020-02-06]         5                 0                 0   \n",
       "\n",
       "                          positive  negative  totalTestResultsIncrease  \\\n",
       "week                                                                     \n",
       "(2020-01-02, 2020-01-09]         0         0                         0   \n",
       "(2020-01-09, 2020-01-16]         0         0                         0   \n",
       "(2020-01-16, 2020-01-23]         0         0                         1   \n",
       "(2020-01-23, 2020-01-30]         0         0                         3   \n",
       "(2020-01-30, 2020-02-06]         0         0                        11   \n",
       "\n",
       "                          totalTestResults    length  popularity  \\\n",
       "week                                                               \n",
       "(2020-01-02, 2020-01-09]                 0  194850.2        83.6   \n",
       "(2020-01-09, 2020-01-16]                 0  210677.3        82.6   \n",
       "(2020-01-16, 2020-01-23]                 3  211767.5        84.8   \n",
       "(2020-01-23, 2020-01-30]                22  201319.3        80.8   \n",
       "(2020-01-30, 2020-02-06]                81  207396.5        80.6   \n",
       "\n",
       "                          danceability  acousticness  danceability.1  energy  \\\n",
       "week                                                                           \n",
       "(2020-01-02, 2020-01-09]        0.7337      0.271760          0.7337  0.5587   \n",
       "(2020-01-09, 2020-01-16]        0.7539      0.231650          0.7539  0.5436   \n",
       "(2020-01-16, 2020-01-23]        0.7521      0.245180          0.7521  0.5763   \n",
       "(2020-01-23, 2020-01-30]        0.7202      0.211327          0.7202  0.5911   \n",
       "(2020-01-30, 2020-02-06]        0.7264      0.219327          0.7264  0.5623   \n",
       "\n",
       "                          instrumentalness  liveness  loudness  speechiness  \\\n",
       "week                                                                          \n",
       "(2020-01-02, 2020-01-09]          0.065960   0.23090   -7.0007      0.14337   \n",
       "(2020-01-09, 2020-01-16]          0.013644   0.22910   -7.1701      0.16153   \n",
       "(2020-01-16, 2020-01-23]          0.013644   0.23054   -7.1138      0.21306   \n",
       "(2020-01-23, 2020-01-30]          0.065965   0.23238   -6.7767      0.17009   \n",
       "(2020-01-30, 2020-02-06]          0.065965   0.24948   -7.2300      0.14479   \n",
       "\n",
       "                             tempo  time_signature  \n",
       "week                                                \n",
       "(2020-01-02, 2020-01-09]  128.8629             4.1  \n",
       "(2020-01-09, 2020-01-16]  134.6623             4.1  \n",
       "(2020-01-16, 2020-01-23]  131.4658             4.1  \n",
       "(2020-01-23, 2020-01-30]  134.6662             4.1  \n",
       "(2020-01-30, 2020-02-06]  131.7848             4.1  "
      ],
      "text/html": "<div>\n<style scoped>\n    .dataframe tbody tr th:only-of-type {\n        vertical-align: middle;\n    }\n\n    .dataframe tbody tr th {\n        vertical-align: top;\n    }\n\n    .dataframe thead th {\n        text-align: right;\n    }\n</style>\n<table border=\"1\" class=\"dataframe\">\n  <thead>\n    <tr style=\"text-align: right;\">\n      <th></th>\n      <th>week_num</th>\n      <th>positiveIncrease</th>\n      <th>negativeIncrease</th>\n      <th>positive</th>\n      <th>negative</th>\n      <th>totalTestResultsIncrease</th>\n      <th>totalTestResults</th>\n      <th>length</th>\n      <th>popularity</th>\n      <th>danceability</th>\n      <th>acousticness</th>\n      <th>danceability.1</th>\n      <th>energy</th>\n      <th>instrumentalness</th>\n      <th>liveness</th>\n      <th>loudness</th>\n      <th>speechiness</th>\n      <th>tempo</th>\n      <th>time_signature</th>\n    </tr>\n    <tr>\n      <th>week</th>\n      <th></th>\n      <th></th>\n      <th></th>\n      <th></th>\n      <th></th>\n      <th></th>\n      <th></th>\n      <th></th>\n      <th></th>\n      <th></th>\n      <th></th>\n      <th></th>\n      <th></th>\n      <th></th>\n      <th></th>\n      <th></th>\n      <th></th>\n      <th></th>\n      <th></th>\n    </tr>\n  </thead>\n  <tbody>\n    <tr>\n      <th>(2020-01-02, 2020-01-09]</th>\n      <td>1</td>\n      <td>0</td>\n      <td>0</td>\n      <td>0</td>\n      <td>0</td>\n      <td>0</td>\n      <td>0</td>\n      <td>194850.2</td>\n      <td>83.6</td>\n      <td>0.7337</td>\n      <td>0.271760</td>\n      <td>0.7337</td>\n      <td>0.5587</td>\n      <td>0.065960</td>\n      <td>0.23090</td>\n      <td>-7.0007</td>\n      <td>0.14337</td>\n      <td>128.8629</td>\n      <td>4.1</td>\n    </tr>\n    <tr>\n      <th>(2020-01-09, 2020-01-16]</th>\n      <td>2</td>\n      <td>0</td>\n      <td>0</td>\n      <td>0</td>\n      <td>0</td>\n      <td>0</td>\n      <td>0</td>\n      <td>210677.3</td>\n      <td>82.6</td>\n      <td>0.7539</td>\n      <td>0.231650</td>\n      <td>0.7539</td>\n      <td>0.5436</td>\n      <td>0.013644</td>\n      <td>0.22910</td>\n      <td>-7.1701</td>\n      <td>0.16153</td>\n      <td>134.6623</td>\n      <td>4.1</td>\n    </tr>\n    <tr>\n      <th>(2020-01-16, 2020-01-23]</th>\n      <td>3</td>\n      <td>0</td>\n      <td>0</td>\n      <td>0</td>\n      <td>0</td>\n      <td>1</td>\n      <td>3</td>\n      <td>211767.5</td>\n      <td>84.8</td>\n      <td>0.7521</td>\n      <td>0.245180</td>\n      <td>0.7521</td>\n      <td>0.5763</td>\n      <td>0.013644</td>\n      <td>0.23054</td>\n      <td>-7.1138</td>\n      <td>0.21306</td>\n      <td>131.4658</td>\n      <td>4.1</td>\n    </tr>\n    <tr>\n      <th>(2020-01-23, 2020-01-30]</th>\n      <td>4</td>\n      <td>0</td>\n      <td>0</td>\n      <td>0</td>\n      <td>0</td>\n      <td>3</td>\n      <td>22</td>\n      <td>201319.3</td>\n      <td>80.8</td>\n      <td>0.7202</td>\n      <td>0.211327</td>\n      <td>0.7202</td>\n      <td>0.5911</td>\n      <td>0.065965</td>\n      <td>0.23238</td>\n      <td>-6.7767</td>\n      <td>0.17009</td>\n      <td>134.6662</td>\n      <td>4.1</td>\n    </tr>\n    <tr>\n      <th>(2020-01-30, 2020-02-06]</th>\n      <td>5</td>\n      <td>0</td>\n      <td>0</td>\n      <td>0</td>\n      <td>0</td>\n      <td>11</td>\n      <td>81</td>\n      <td>207396.5</td>\n      <td>80.6</td>\n      <td>0.7264</td>\n      <td>0.219327</td>\n      <td>0.7264</td>\n      <td>0.5623</td>\n      <td>0.065965</td>\n      <td>0.24948</td>\n      <td>-7.2300</td>\n      <td>0.14479</td>\n      <td>131.7848</td>\n      <td>4.1</td>\n    </tr>\n  </tbody>\n</table>\n</div>"
     },
     "metadata": {},
     "execution_count": 110
    }
   ],
   "source": [
    "merged = grouped_covid.merge(grouped_spotify, left_on='week', right_on='week')\n",
    "merged.head()"
   ]
  },
  {
   "source": [
    "## 2. Data Analysis and Visualization"
   ],
   "cell_type": "markdown",
   "metadata": {}
  },
  {
   "cell_type": "code",
   "execution_count": 111,
   "metadata": {},
   "outputs": [],
   "source": [
    "# In order to graph some variables from covid with spotify, they have to get normalized. In this case min-max normalization is used on negative increase\n",
    "merged['norm_positive_i'] = (merged.positiveIncrease-merged.positiveIncrease.min())/(merged.positiveIncrease.max()-merged.positiveIncrease.min())\n",
    "\n",
    "merged['norm_length'] = (merged.length-merged.length.min())/(merged.length.max()-merged.length.min())\n",
    "\n",
    "merged['norm_tempo'] = (merged.tempo-merged.tempo.min())/(merged.tempo.max()-merged.tempo.min())\n",
    "merged = merged[:48]"
   ]
  },
  {
   "cell_type": "code",
   "execution_count": 135,
   "metadata": {},
   "outputs": [
    {
     "output_type": "stream",
     "name": "stdout",
     "text": [
      "Slope of trend in positive COVID cases: 0.014312867856420046\n\nSlope of trend in energy of top songs: 0.0003241261398176294\n"
     ]
    },
    {
     "output_type": "display_data",
     "data": {
      "text/plain": "<Figure size 864x432 with 1 Axes>",
      "image/svg+xml": "<?xml version=\"1.0\" encoding=\"utf-8\" standalone=\"no\"?>\r\n<!DOCTYPE svg PUBLIC \"-//W3C//DTD SVG 1.1//EN\"\r\n  \"http://www.w3.org/Graphics/SVG/1.1/DTD/svg11.dtd\">\r\n<!-- Created with matplotlib (https://matplotlib.org/) -->\r\n<svg height=\"389.351875pt\" version=\"1.1\" viewBox=\"0 0 722.6888 389.351875\" width=\"722.6888pt\" xmlns=\"http://www.w3.org/2000/svg\" xmlns:xlink=\"http://www.w3.org/1999/xlink\">\r\n <metadata>\r\n  <rdf:RDF xmlns:cc=\"http://creativecommons.org/ns#\" xmlns:dc=\"http://purl.org/dc/elements/1.1/\" xmlns:rdf=\"http://www.w3.org/1999/02/22-rdf-syntax-ns#\">\r\n   <cc:Work>\r\n    <dc:type rdf:resource=\"http://purl.org/dc/dcmitype/StillImage\"/>\r\n    <dc:date>2020-12-18T22:58:08.923628</dc:date>\r\n    <dc:format>image/svg+xml</dc:format>\r\n    <dc:creator>\r\n     <cc:Agent>\r\n      <dc:title>Matplotlib v3.3.3, https://matplotlib.org/</dc:title>\r\n     </cc:Agent>\r\n    </dc:creator>\r\n   </cc:Work>\r\n  </rdf:RDF>\r\n </metadata>\r\n <defs>\r\n  <style type=\"text/css\">*{stroke-linecap:butt;stroke-linejoin:round;}</style>\r\n </defs>\r\n <g id=\"figure_1\">\r\n  <g id=\"patch_1\">\r\n   <path d=\"M 0 389.351875 \r\nL 722.6888 389.351875 \r\nL 722.6888 0 \r\nL 0 0 \r\nz\r\n\" style=\"fill:none;\"/>\r\n  </g>\r\n  <g id=\"axes_1\">\r\n   <g id=\"patch_2\">\r\n    <path d=\"M 44.059375 351.5175 \r\nL 713.659375 351.5175 \r\nL 713.659375 25.3575 \r\nL 44.059375 25.3575 \r\nz\r\n\" style=\"fill:#ffffff;\"/>\r\n   </g>\r\n   <g id=\"matplotlib.axis_1\">\r\n    <g id=\"xtick_1\">\r\n     <g id=\"line2d_1\">\r\n      <defs>\r\n       <path d=\"M 0 0 \r\nL 0 3.5 \r\n\" id=\"md3c4f5caea\" style=\"stroke:#000000;stroke-width:0.8;\"/>\r\n      </defs>\r\n      <g>\r\n       <use style=\"stroke:#000000;stroke-width:0.8;\" x=\"61.544095\" xlink:href=\"#md3c4f5caea\" y=\"351.5175\"/>\r\n      </g>\r\n     </g>\r\n     <g id=\"text_1\">\r\n      <!-- 0 -->\r\n      <g transform=\"translate(58.362845 366.115937)scale(0.1 -0.1)\">\r\n       <defs>\r\n        <path d=\"M 31.78125 66.40625 \r\nQ 24.171875 66.40625 20.328125 58.90625 \r\nQ 16.5 51.421875 16.5 36.375 \r\nQ 16.5 21.390625 20.328125 13.890625 \r\nQ 24.171875 6.390625 31.78125 6.390625 \r\nQ 39.453125 6.390625 43.28125 13.890625 \r\nQ 47.125 21.390625 47.125 36.375 \r\nQ 47.125 51.421875 43.28125 58.90625 \r\nQ 39.453125 66.40625 31.78125 66.40625 \r\nz\r\nM 31.78125 74.21875 \r\nQ 44.046875 74.21875 50.515625 64.515625 \r\nQ 56.984375 54.828125 56.984375 36.375 \r\nQ 56.984375 17.96875 50.515625 8.265625 \r\nQ 44.046875 -1.421875 31.78125 -1.421875 \r\nQ 19.53125 -1.421875 13.0625 8.265625 \r\nQ 6.59375 17.96875 6.59375 36.375 \r\nQ 6.59375 54.828125 13.0625 64.515625 \r\nQ 19.53125 74.21875 31.78125 74.21875 \r\nz\r\n\" id=\"DejaVuSans-48\"/>\r\n       </defs>\r\n       <use xlink:href=\"#DejaVuSans-48\"/>\r\n      </g>\r\n     </g>\r\n    </g>\r\n    <g id=\"xtick_2\">\r\n     <g id=\"line2d_2\">\r\n      <g>\r\n       <use style=\"stroke:#000000;stroke-width:0.8;\" x=\"191.060536\" xlink:href=\"#md3c4f5caea\" y=\"351.5175\"/>\r\n      </g>\r\n     </g>\r\n     <g id=\"text_2\">\r\n      <!-- 10 -->\r\n      <g transform=\"translate(184.698036 366.115937)scale(0.1 -0.1)\">\r\n       <defs>\r\n        <path d=\"M 12.40625 8.296875 \r\nL 28.515625 8.296875 \r\nL 28.515625 63.921875 \r\nL 10.984375 60.40625 \r\nL 10.984375 69.390625 \r\nL 28.421875 72.90625 \r\nL 38.28125 72.90625 \r\nL 38.28125 8.296875 \r\nL 54.390625 8.296875 \r\nL 54.390625 0 \r\nL 12.40625 0 \r\nz\r\n\" id=\"DejaVuSans-49\"/>\r\n       </defs>\r\n       <use xlink:href=\"#DejaVuSans-49\"/>\r\n       <use x=\"63.623047\" xlink:href=\"#DejaVuSans-48\"/>\r\n      </g>\r\n     </g>\r\n    </g>\r\n    <g id=\"xtick_3\">\r\n     <g id=\"line2d_3\">\r\n      <g>\r\n       <use style=\"stroke:#000000;stroke-width:0.8;\" x=\"320.576977\" xlink:href=\"#md3c4f5caea\" y=\"351.5175\"/>\r\n      </g>\r\n     </g>\r\n     <g id=\"text_3\">\r\n      <!-- 20 -->\r\n      <g transform=\"translate(314.214477 366.115937)scale(0.1 -0.1)\">\r\n       <defs>\r\n        <path d=\"M 19.1875 8.296875 \r\nL 53.609375 8.296875 \r\nL 53.609375 0 \r\nL 7.328125 0 \r\nL 7.328125 8.296875 \r\nQ 12.9375 14.109375 22.625 23.890625 \r\nQ 32.328125 33.6875 34.8125 36.53125 \r\nQ 39.546875 41.84375 41.421875 45.53125 \r\nQ 43.3125 49.21875 43.3125 52.78125 \r\nQ 43.3125 58.59375 39.234375 62.25 \r\nQ 35.15625 65.921875 28.609375 65.921875 \r\nQ 23.96875 65.921875 18.8125 64.3125 \r\nQ 13.671875 62.703125 7.8125 59.421875 \r\nL 7.8125 69.390625 \r\nQ 13.765625 71.78125 18.9375 73 \r\nQ 24.125 74.21875 28.421875 74.21875 \r\nQ 39.75 74.21875 46.484375 68.546875 \r\nQ 53.21875 62.890625 53.21875 53.421875 \r\nQ 53.21875 48.921875 51.53125 44.890625 \r\nQ 49.859375 40.875 45.40625 35.40625 \r\nQ 44.1875 33.984375 37.640625 27.21875 \r\nQ 31.109375 20.453125 19.1875 8.296875 \r\nz\r\n\" id=\"DejaVuSans-50\"/>\r\n       </defs>\r\n       <use xlink:href=\"#DejaVuSans-50\"/>\r\n       <use x=\"63.623047\" xlink:href=\"#DejaVuSans-48\"/>\r\n      </g>\r\n     </g>\r\n    </g>\r\n    <g id=\"xtick_4\">\r\n     <g id=\"line2d_4\">\r\n      <g>\r\n       <use style=\"stroke:#000000;stroke-width:0.8;\" x=\"450.093418\" xlink:href=\"#md3c4f5caea\" y=\"351.5175\"/>\r\n      </g>\r\n     </g>\r\n     <g id=\"text_4\">\r\n      <!-- 30 -->\r\n      <g transform=\"translate(443.730918 366.115937)scale(0.1 -0.1)\">\r\n       <defs>\r\n        <path d=\"M 40.578125 39.3125 \r\nQ 47.65625 37.796875 51.625 33 \r\nQ 55.609375 28.21875 55.609375 21.1875 \r\nQ 55.609375 10.40625 48.1875 4.484375 \r\nQ 40.765625 -1.421875 27.09375 -1.421875 \r\nQ 22.515625 -1.421875 17.65625 -0.515625 \r\nQ 12.796875 0.390625 7.625 2.203125 \r\nL 7.625 11.71875 \r\nQ 11.71875 9.328125 16.59375 8.109375 \r\nQ 21.484375 6.890625 26.8125 6.890625 \r\nQ 36.078125 6.890625 40.9375 10.546875 \r\nQ 45.796875 14.203125 45.796875 21.1875 \r\nQ 45.796875 27.640625 41.28125 31.265625 \r\nQ 36.765625 34.90625 28.71875 34.90625 \r\nL 20.21875 34.90625 \r\nL 20.21875 43.015625 \r\nL 29.109375 43.015625 \r\nQ 36.375 43.015625 40.234375 45.921875 \r\nQ 44.09375 48.828125 44.09375 54.296875 \r\nQ 44.09375 59.90625 40.109375 62.90625 \r\nQ 36.140625 65.921875 28.71875 65.921875 \r\nQ 24.65625 65.921875 20.015625 65.03125 \r\nQ 15.375 64.15625 9.8125 62.3125 \r\nL 9.8125 71.09375 \r\nQ 15.4375 72.65625 20.34375 73.4375 \r\nQ 25.25 74.21875 29.59375 74.21875 \r\nQ 40.828125 74.21875 47.359375 69.109375 \r\nQ 53.90625 64.015625 53.90625 55.328125 \r\nQ 53.90625 49.265625 50.4375 45.09375 \r\nQ 46.96875 40.921875 40.578125 39.3125 \r\nz\r\n\" id=\"DejaVuSans-51\"/>\r\n       </defs>\r\n       <use xlink:href=\"#DejaVuSans-51\"/>\r\n       <use x=\"63.623047\" xlink:href=\"#DejaVuSans-48\"/>\r\n      </g>\r\n     </g>\r\n    </g>\r\n    <g id=\"xtick_5\">\r\n     <g id=\"line2d_5\">\r\n      <g>\r\n       <use style=\"stroke:#000000;stroke-width:0.8;\" x=\"579.609859\" xlink:href=\"#md3c4f5caea\" y=\"351.5175\"/>\r\n      </g>\r\n     </g>\r\n     <g id=\"text_5\">\r\n      <!-- 40 -->\r\n      <g transform=\"translate(573.247359 366.115937)scale(0.1 -0.1)\">\r\n       <defs>\r\n        <path d=\"M 37.796875 64.3125 \r\nL 12.890625 25.390625 \r\nL 37.796875 25.390625 \r\nz\r\nM 35.203125 72.90625 \r\nL 47.609375 72.90625 \r\nL 47.609375 25.390625 \r\nL 58.015625 25.390625 \r\nL 58.015625 17.1875 \r\nL 47.609375 17.1875 \r\nL 47.609375 0 \r\nL 37.796875 0 \r\nL 37.796875 17.1875 \r\nL 4.890625 17.1875 \r\nL 4.890625 26.703125 \r\nz\r\n\" id=\"DejaVuSans-52\"/>\r\n       </defs>\r\n       <use xlink:href=\"#DejaVuSans-52\"/>\r\n       <use x=\"63.623047\" xlink:href=\"#DejaVuSans-48\"/>\r\n      </g>\r\n     </g>\r\n    </g>\r\n    <g id=\"xtick_6\">\r\n     <g id=\"line2d_6\">\r\n      <g>\r\n       <use style=\"stroke:#000000;stroke-width:0.8;\" x=\"709.1263\" xlink:href=\"#md3c4f5caea\" y=\"351.5175\"/>\r\n      </g>\r\n     </g>\r\n     <g id=\"text_6\">\r\n      <!-- 50 -->\r\n      <g transform=\"translate(702.7638 366.115937)scale(0.1 -0.1)\">\r\n       <defs>\r\n        <path d=\"M 10.796875 72.90625 \r\nL 49.515625 72.90625 \r\nL 49.515625 64.59375 \r\nL 19.828125 64.59375 \r\nL 19.828125 46.734375 \r\nQ 21.96875 47.46875 24.109375 47.828125 \r\nQ 26.265625 48.1875 28.421875 48.1875 \r\nQ 40.625 48.1875 47.75 41.5 \r\nQ 54.890625 34.8125 54.890625 23.390625 \r\nQ 54.890625 11.625 47.5625 5.09375 \r\nQ 40.234375 -1.421875 26.90625 -1.421875 \r\nQ 22.3125 -1.421875 17.546875 -0.640625 \r\nQ 12.796875 0.140625 7.71875 1.703125 \r\nL 7.71875 11.625 \r\nQ 12.109375 9.234375 16.796875 8.0625 \r\nQ 21.484375 6.890625 26.703125 6.890625 \r\nQ 35.15625 6.890625 40.078125 11.328125 \r\nQ 45.015625 15.765625 45.015625 23.390625 \r\nQ 45.015625 31 40.078125 35.4375 \r\nQ 35.15625 39.890625 26.703125 39.890625 \r\nQ 22.75 39.890625 18.8125 39.015625 \r\nQ 14.890625 38.140625 10.796875 36.28125 \r\nz\r\n\" id=\"DejaVuSans-53\"/>\r\n       </defs>\r\n       <use xlink:href=\"#DejaVuSans-53\"/>\r\n       <use x=\"63.623047\" xlink:href=\"#DejaVuSans-48\"/>\r\n      </g>\r\n     </g>\r\n    </g>\r\n    <g id=\"text_7\">\r\n     <!-- week_num -->\r\n     <g transform=\"translate(352.014063 379.794062)scale(0.1 -0.1)\">\r\n      <defs>\r\n       <path d=\"M 4.203125 54.6875 \r\nL 13.1875 54.6875 \r\nL 24.421875 12.015625 \r\nL 35.59375 54.6875 \r\nL 46.1875 54.6875 \r\nL 57.421875 12.015625 \r\nL 68.609375 54.6875 \r\nL 77.59375 54.6875 \r\nL 63.28125 0 \r\nL 52.6875 0 \r\nL 40.921875 44.828125 \r\nL 29.109375 0 \r\nL 18.5 0 \r\nz\r\n\" id=\"DejaVuSans-119\"/>\r\n       <path d=\"M 56.203125 29.59375 \r\nL 56.203125 25.203125 \r\nL 14.890625 25.203125 \r\nQ 15.484375 15.921875 20.484375 11.0625 \r\nQ 25.484375 6.203125 34.421875 6.203125 \r\nQ 39.59375 6.203125 44.453125 7.46875 \r\nQ 49.3125 8.734375 54.109375 11.28125 \r\nL 54.109375 2.78125 \r\nQ 49.265625 0.734375 44.1875 -0.34375 \r\nQ 39.109375 -1.421875 33.890625 -1.421875 \r\nQ 20.796875 -1.421875 13.15625 6.1875 \r\nQ 5.515625 13.8125 5.515625 26.8125 \r\nQ 5.515625 40.234375 12.765625 48.109375 \r\nQ 20.015625 56 32.328125 56 \r\nQ 43.359375 56 49.78125 48.890625 \r\nQ 56.203125 41.796875 56.203125 29.59375 \r\nz\r\nM 47.21875 32.234375 \r\nQ 47.125 39.59375 43.09375 43.984375 \r\nQ 39.0625 48.390625 32.421875 48.390625 \r\nQ 24.90625 48.390625 20.390625 44.140625 \r\nQ 15.875 39.890625 15.1875 32.171875 \r\nz\r\n\" id=\"DejaVuSans-101\"/>\r\n       <path d=\"M 9.078125 75.984375 \r\nL 18.109375 75.984375 \r\nL 18.109375 31.109375 \r\nL 44.921875 54.6875 \r\nL 56.390625 54.6875 \r\nL 27.390625 29.109375 \r\nL 57.625 0 \r\nL 45.90625 0 \r\nL 18.109375 26.703125 \r\nL 18.109375 0 \r\nL 9.078125 0 \r\nz\r\n\" id=\"DejaVuSans-107\"/>\r\n       <path d=\"M 50.984375 -16.609375 \r\nL 50.984375 -23.578125 \r\nL -0.984375 -23.578125 \r\nL -0.984375 -16.609375 \r\nz\r\n\" id=\"DejaVuSans-95\"/>\r\n       <path d=\"M 54.890625 33.015625 \r\nL 54.890625 0 \r\nL 45.90625 0 \r\nL 45.90625 32.71875 \r\nQ 45.90625 40.484375 42.875 44.328125 \r\nQ 39.84375 48.1875 33.796875 48.1875 \r\nQ 26.515625 48.1875 22.3125 43.546875 \r\nQ 18.109375 38.921875 18.109375 30.90625 \r\nL 18.109375 0 \r\nL 9.078125 0 \r\nL 9.078125 54.6875 \r\nL 18.109375 54.6875 \r\nL 18.109375 46.1875 \r\nQ 21.34375 51.125 25.703125 53.5625 \r\nQ 30.078125 56 35.796875 56 \r\nQ 45.21875 56 50.046875 50.171875 \r\nQ 54.890625 44.34375 54.890625 33.015625 \r\nz\r\n\" id=\"DejaVuSans-110\"/>\r\n       <path d=\"M 8.5 21.578125 \r\nL 8.5 54.6875 \r\nL 17.484375 54.6875 \r\nL 17.484375 21.921875 \r\nQ 17.484375 14.15625 20.5 10.265625 \r\nQ 23.53125 6.390625 29.59375 6.390625 \r\nQ 36.859375 6.390625 41.078125 11.03125 \r\nQ 45.3125 15.671875 45.3125 23.6875 \r\nL 45.3125 54.6875 \r\nL 54.296875 54.6875 \r\nL 54.296875 0 \r\nL 45.3125 0 \r\nL 45.3125 8.40625 \r\nQ 42.046875 3.421875 37.71875 1 \r\nQ 33.40625 -1.421875 27.6875 -1.421875 \r\nQ 18.265625 -1.421875 13.375 4.4375 \r\nQ 8.5 10.296875 8.5 21.578125 \r\nz\r\nM 31.109375 56 \r\nz\r\n\" id=\"DejaVuSans-117\"/>\r\n       <path d=\"M 52 44.1875 \r\nQ 55.375 50.25 60.0625 53.125 \r\nQ 64.75 56 71.09375 56 \r\nQ 79.640625 56 84.28125 50.015625 \r\nQ 88.921875 44.046875 88.921875 33.015625 \r\nL 88.921875 0 \r\nL 79.890625 0 \r\nL 79.890625 32.71875 \r\nQ 79.890625 40.578125 77.09375 44.375 \r\nQ 74.3125 48.1875 68.609375 48.1875 \r\nQ 61.625 48.1875 57.5625 43.546875 \r\nQ 53.515625 38.921875 53.515625 30.90625 \r\nL 53.515625 0 \r\nL 44.484375 0 \r\nL 44.484375 32.71875 \r\nQ 44.484375 40.625 41.703125 44.40625 \r\nQ 38.921875 48.1875 33.109375 48.1875 \r\nQ 26.21875 48.1875 22.15625 43.53125 \r\nQ 18.109375 38.875 18.109375 30.90625 \r\nL 18.109375 0 \r\nL 9.078125 0 \r\nL 9.078125 54.6875 \r\nL 18.109375 54.6875 \r\nL 18.109375 46.1875 \r\nQ 21.1875 51.21875 25.484375 53.609375 \r\nQ 29.78125 56 35.6875 56 \r\nQ 41.65625 56 45.828125 52.96875 \r\nQ 50 49.953125 52 44.1875 \r\nz\r\n\" id=\"DejaVuSans-109\"/>\r\n      </defs>\r\n      <use xlink:href=\"#DejaVuSans-119\"/>\r\n      <use x=\"81.787109\" xlink:href=\"#DejaVuSans-101\"/>\r\n      <use x=\"143.310547\" xlink:href=\"#DejaVuSans-101\"/>\r\n      <use x=\"204.833984\" xlink:href=\"#DejaVuSans-107\"/>\r\n      <use x=\"262.744141\" xlink:href=\"#DejaVuSans-95\"/>\r\n      <use x=\"312.744141\" xlink:href=\"#DejaVuSans-110\"/>\r\n      <use x=\"376.123047\" xlink:href=\"#DejaVuSans-117\"/>\r\n      <use x=\"439.501953\" xlink:href=\"#DejaVuSans-109\"/>\r\n     </g>\r\n    </g>\r\n   </g>\r\n   <g id=\"matplotlib.axis_2\">\r\n    <g id=\"ytick_1\">\r\n     <g id=\"line2d_7\">\r\n      <defs>\r\n       <path d=\"M 0 0 \r\nL -3.5 0 \r\n\" id=\"m87b4c25e59\" style=\"stroke:#000000;stroke-width:0.8;\"/>\r\n      </defs>\r\n      <g>\r\n       <use style=\"stroke:#000000;stroke-width:0.8;\" x=\"44.059375\" xlink:href=\"#m87b4c25e59\" y=\"336.692045\"/>\r\n      </g>\r\n     </g>\r\n     <g id=\"text_8\">\r\n      <!-- 0.0 -->\r\n      <g transform=\"translate(21.15625 340.491264)scale(0.1 -0.1)\">\r\n       <defs>\r\n        <path d=\"M 10.6875 12.40625 \r\nL 21 12.40625 \r\nL 21 0 \r\nL 10.6875 0 \r\nz\r\n\" id=\"DejaVuSans-46\"/>\r\n       </defs>\r\n       <use xlink:href=\"#DejaVuSans-48\"/>\r\n       <use x=\"63.623047\" xlink:href=\"#DejaVuSans-46\"/>\r\n       <use x=\"95.410156\" xlink:href=\"#DejaVuSans-48\"/>\r\n      </g>\r\n     </g>\r\n    </g>\r\n    <g id=\"ytick_2\">\r\n     <g id=\"line2d_8\">\r\n      <g>\r\n       <use style=\"stroke:#000000;stroke-width:0.8;\" x=\"44.059375\" xlink:href=\"#m87b4c25e59\" y=\"277.390227\"/>\r\n      </g>\r\n     </g>\r\n     <g id=\"text_9\">\r\n      <!-- 0.2 -->\r\n      <g transform=\"translate(21.15625 281.189446)scale(0.1 -0.1)\">\r\n       <use xlink:href=\"#DejaVuSans-48\"/>\r\n       <use x=\"63.623047\" xlink:href=\"#DejaVuSans-46\"/>\r\n       <use x=\"95.410156\" xlink:href=\"#DejaVuSans-50\"/>\r\n      </g>\r\n     </g>\r\n    </g>\r\n    <g id=\"ytick_3\">\r\n     <g id=\"line2d_9\">\r\n      <g>\r\n       <use style=\"stroke:#000000;stroke-width:0.8;\" x=\"44.059375\" xlink:href=\"#m87b4c25e59\" y=\"218.088409\"/>\r\n      </g>\r\n     </g>\r\n     <g id=\"text_10\">\r\n      <!-- 0.4 -->\r\n      <g transform=\"translate(21.15625 221.887628)scale(0.1 -0.1)\">\r\n       <use xlink:href=\"#DejaVuSans-48\"/>\r\n       <use x=\"63.623047\" xlink:href=\"#DejaVuSans-46\"/>\r\n       <use x=\"95.410156\" xlink:href=\"#DejaVuSans-52\"/>\r\n      </g>\r\n     </g>\r\n    </g>\r\n    <g id=\"ytick_4\">\r\n     <g id=\"line2d_10\">\r\n      <g>\r\n       <use style=\"stroke:#000000;stroke-width:0.8;\" x=\"44.059375\" xlink:href=\"#m87b4c25e59\" y=\"158.786591\"/>\r\n      </g>\r\n     </g>\r\n     <g id=\"text_11\">\r\n      <!-- 0.6 -->\r\n      <g transform=\"translate(21.15625 162.58581)scale(0.1 -0.1)\">\r\n       <defs>\r\n        <path d=\"M 33.015625 40.375 \r\nQ 26.375 40.375 22.484375 35.828125 \r\nQ 18.609375 31.296875 18.609375 23.390625 \r\nQ 18.609375 15.53125 22.484375 10.953125 \r\nQ 26.375 6.390625 33.015625 6.390625 \r\nQ 39.65625 6.390625 43.53125 10.953125 \r\nQ 47.40625 15.53125 47.40625 23.390625 \r\nQ 47.40625 31.296875 43.53125 35.828125 \r\nQ 39.65625 40.375 33.015625 40.375 \r\nz\r\nM 52.59375 71.296875 \r\nL 52.59375 62.3125 \r\nQ 48.875 64.0625 45.09375 64.984375 \r\nQ 41.3125 65.921875 37.59375 65.921875 \r\nQ 27.828125 65.921875 22.671875 59.328125 \r\nQ 17.53125 52.734375 16.796875 39.40625 \r\nQ 19.671875 43.65625 24.015625 45.921875 \r\nQ 28.375 48.1875 33.59375 48.1875 \r\nQ 44.578125 48.1875 50.953125 41.515625 \r\nQ 57.328125 34.859375 57.328125 23.390625 \r\nQ 57.328125 12.15625 50.6875 5.359375 \r\nQ 44.046875 -1.421875 33.015625 -1.421875 \r\nQ 20.359375 -1.421875 13.671875 8.265625 \r\nQ 6.984375 17.96875 6.984375 36.375 \r\nQ 6.984375 53.65625 15.1875 63.9375 \r\nQ 23.390625 74.21875 37.203125 74.21875 \r\nQ 40.921875 74.21875 44.703125 73.484375 \r\nQ 48.484375 72.75 52.59375 71.296875 \r\nz\r\n\" id=\"DejaVuSans-54\"/>\r\n       </defs>\r\n       <use xlink:href=\"#DejaVuSans-48\"/>\r\n       <use x=\"63.623047\" xlink:href=\"#DejaVuSans-46\"/>\r\n       <use x=\"95.410156\" xlink:href=\"#DejaVuSans-54\"/>\r\n      </g>\r\n     </g>\r\n    </g>\r\n    <g id=\"ytick_5\">\r\n     <g id=\"line2d_11\">\r\n      <g>\r\n       <use style=\"stroke:#000000;stroke-width:0.8;\" x=\"44.059375\" xlink:href=\"#m87b4c25e59\" y=\"99.484773\"/>\r\n      </g>\r\n     </g>\r\n     <g id=\"text_12\">\r\n      <!-- 0.8 -->\r\n      <g transform=\"translate(21.15625 103.283991)scale(0.1 -0.1)\">\r\n       <defs>\r\n        <path d=\"M 31.78125 34.625 \r\nQ 24.75 34.625 20.71875 30.859375 \r\nQ 16.703125 27.09375 16.703125 20.515625 \r\nQ 16.703125 13.921875 20.71875 10.15625 \r\nQ 24.75 6.390625 31.78125 6.390625 \r\nQ 38.8125 6.390625 42.859375 10.171875 \r\nQ 46.921875 13.96875 46.921875 20.515625 \r\nQ 46.921875 27.09375 42.890625 30.859375 \r\nQ 38.875 34.625 31.78125 34.625 \r\nz\r\nM 21.921875 38.8125 \r\nQ 15.578125 40.375 12.03125 44.71875 \r\nQ 8.5 49.078125 8.5 55.328125 \r\nQ 8.5 64.0625 14.71875 69.140625 \r\nQ 20.953125 74.21875 31.78125 74.21875 \r\nQ 42.671875 74.21875 48.875 69.140625 \r\nQ 55.078125 64.0625 55.078125 55.328125 \r\nQ 55.078125 49.078125 51.53125 44.71875 \r\nQ 48 40.375 41.703125 38.8125 \r\nQ 48.828125 37.15625 52.796875 32.3125 \r\nQ 56.78125 27.484375 56.78125 20.515625 \r\nQ 56.78125 9.90625 50.3125 4.234375 \r\nQ 43.84375 -1.421875 31.78125 -1.421875 \r\nQ 19.734375 -1.421875 13.25 4.234375 \r\nQ 6.78125 9.90625 6.78125 20.515625 \r\nQ 6.78125 27.484375 10.78125 32.3125 \r\nQ 14.796875 37.15625 21.921875 38.8125 \r\nz\r\nM 18.3125 54.390625 \r\nQ 18.3125 48.734375 21.84375 45.5625 \r\nQ 25.390625 42.390625 31.78125 42.390625 \r\nQ 38.140625 42.390625 41.71875 45.5625 \r\nQ 45.3125 48.734375 45.3125 54.390625 \r\nQ 45.3125 60.0625 41.71875 63.234375 \r\nQ 38.140625 66.40625 31.78125 66.40625 \r\nQ 25.390625 66.40625 21.84375 63.234375 \r\nQ 18.3125 60.0625 18.3125 54.390625 \r\nz\r\n\" id=\"DejaVuSans-56\"/>\r\n       </defs>\r\n       <use xlink:href=\"#DejaVuSans-48\"/>\r\n       <use x=\"63.623047\" xlink:href=\"#DejaVuSans-46\"/>\r\n       <use x=\"95.410156\" xlink:href=\"#DejaVuSans-56\"/>\r\n      </g>\r\n     </g>\r\n    </g>\r\n    <g id=\"ytick_6\">\r\n     <g id=\"line2d_12\">\r\n      <g>\r\n       <use style=\"stroke:#000000;stroke-width:0.8;\" x=\"44.059375\" xlink:href=\"#m87b4c25e59\" y=\"40.182955\"/>\r\n      </g>\r\n     </g>\r\n     <g id=\"text_13\">\r\n      <!-- 1.0 -->\r\n      <g transform=\"translate(21.15625 43.982173)scale(0.1 -0.1)\">\r\n       <use xlink:href=\"#DejaVuSans-49\"/>\r\n       <use x=\"63.623047\" xlink:href=\"#DejaVuSans-46\"/>\r\n       <use x=\"95.410156\" xlink:href=\"#DejaVuSans-48\"/>\r\n      </g>\r\n     </g>\r\n    </g>\r\n    <g id=\"text_14\">\r\n     <!-- norm_positive_i -->\r\n     <g transform=\"translate(14.798437 227.505469)rotate(-90)scale(0.1 -0.1)\">\r\n      <defs>\r\n       <path d=\"M 30.609375 48.390625 \r\nQ 23.390625 48.390625 19.1875 42.75 \r\nQ 14.984375 37.109375 14.984375 27.296875 \r\nQ 14.984375 17.484375 19.15625 11.84375 \r\nQ 23.34375 6.203125 30.609375 6.203125 \r\nQ 37.796875 6.203125 41.984375 11.859375 \r\nQ 46.1875 17.53125 46.1875 27.296875 \r\nQ 46.1875 37.015625 41.984375 42.703125 \r\nQ 37.796875 48.390625 30.609375 48.390625 \r\nz\r\nM 30.609375 56 \r\nQ 42.328125 56 49.015625 48.375 \r\nQ 55.71875 40.765625 55.71875 27.296875 \r\nQ 55.71875 13.875 49.015625 6.21875 \r\nQ 42.328125 -1.421875 30.609375 -1.421875 \r\nQ 18.84375 -1.421875 12.171875 6.21875 \r\nQ 5.515625 13.875 5.515625 27.296875 \r\nQ 5.515625 40.765625 12.171875 48.375 \r\nQ 18.84375 56 30.609375 56 \r\nz\r\n\" id=\"DejaVuSans-111\"/>\r\n       <path d=\"M 41.109375 46.296875 \r\nQ 39.59375 47.171875 37.8125 47.578125 \r\nQ 36.03125 48 33.890625 48 \r\nQ 26.265625 48 22.1875 43.046875 \r\nQ 18.109375 38.09375 18.109375 28.8125 \r\nL 18.109375 0 \r\nL 9.078125 0 \r\nL 9.078125 54.6875 \r\nL 18.109375 54.6875 \r\nL 18.109375 46.1875 \r\nQ 20.953125 51.171875 25.484375 53.578125 \r\nQ 30.03125 56 36.53125 56 \r\nQ 37.453125 56 38.578125 55.875 \r\nQ 39.703125 55.765625 41.0625 55.515625 \r\nz\r\n\" id=\"DejaVuSans-114\"/>\r\n       <path d=\"M 18.109375 8.203125 \r\nL 18.109375 -20.796875 \r\nL 9.078125 -20.796875 \r\nL 9.078125 54.6875 \r\nL 18.109375 54.6875 \r\nL 18.109375 46.390625 \r\nQ 20.953125 51.265625 25.265625 53.625 \r\nQ 29.59375 56 35.59375 56 \r\nQ 45.5625 56 51.78125 48.09375 \r\nQ 58.015625 40.1875 58.015625 27.296875 \r\nQ 58.015625 14.40625 51.78125 6.484375 \r\nQ 45.5625 -1.421875 35.59375 -1.421875 \r\nQ 29.59375 -1.421875 25.265625 0.953125 \r\nQ 20.953125 3.328125 18.109375 8.203125 \r\nz\r\nM 48.6875 27.296875 \r\nQ 48.6875 37.203125 44.609375 42.84375 \r\nQ 40.53125 48.484375 33.40625 48.484375 \r\nQ 26.265625 48.484375 22.1875 42.84375 \r\nQ 18.109375 37.203125 18.109375 27.296875 \r\nQ 18.109375 17.390625 22.1875 11.75 \r\nQ 26.265625 6.109375 33.40625 6.109375 \r\nQ 40.53125 6.109375 44.609375 11.75 \r\nQ 48.6875 17.390625 48.6875 27.296875 \r\nz\r\n\" id=\"DejaVuSans-112\"/>\r\n       <path d=\"M 44.28125 53.078125 \r\nL 44.28125 44.578125 \r\nQ 40.484375 46.53125 36.375 47.5 \r\nQ 32.28125 48.484375 27.875 48.484375 \r\nQ 21.1875 48.484375 17.84375 46.4375 \r\nQ 14.5 44.390625 14.5 40.28125 \r\nQ 14.5 37.15625 16.890625 35.375 \r\nQ 19.28125 33.59375 26.515625 31.984375 \r\nL 29.59375 31.296875 \r\nQ 39.15625 29.25 43.1875 25.515625 \r\nQ 47.21875 21.78125 47.21875 15.09375 \r\nQ 47.21875 7.46875 41.1875 3.015625 \r\nQ 35.15625 -1.421875 24.609375 -1.421875 \r\nQ 20.21875 -1.421875 15.453125 -0.5625 \r\nQ 10.6875 0.296875 5.421875 2 \r\nL 5.421875 11.28125 \r\nQ 10.40625 8.6875 15.234375 7.390625 \r\nQ 20.0625 6.109375 24.8125 6.109375 \r\nQ 31.15625 6.109375 34.5625 8.28125 \r\nQ 37.984375 10.453125 37.984375 14.40625 \r\nQ 37.984375 18.0625 35.515625 20.015625 \r\nQ 33.0625 21.96875 24.703125 23.78125 \r\nL 21.578125 24.515625 \r\nQ 13.234375 26.265625 9.515625 29.90625 \r\nQ 5.8125 33.546875 5.8125 39.890625 \r\nQ 5.8125 47.609375 11.28125 51.796875 \r\nQ 16.75 56 26.8125 56 \r\nQ 31.78125 56 36.171875 55.265625 \r\nQ 40.578125 54.546875 44.28125 53.078125 \r\nz\r\n\" id=\"DejaVuSans-115\"/>\r\n       <path d=\"M 9.421875 54.6875 \r\nL 18.40625 54.6875 \r\nL 18.40625 0 \r\nL 9.421875 0 \r\nz\r\nM 9.421875 75.984375 \r\nL 18.40625 75.984375 \r\nL 18.40625 64.59375 \r\nL 9.421875 64.59375 \r\nz\r\n\" id=\"DejaVuSans-105\"/>\r\n       <path d=\"M 18.3125 70.21875 \r\nL 18.3125 54.6875 \r\nL 36.8125 54.6875 \r\nL 36.8125 47.703125 \r\nL 18.3125 47.703125 \r\nL 18.3125 18.015625 \r\nQ 18.3125 11.328125 20.140625 9.421875 \r\nQ 21.96875 7.515625 27.59375 7.515625 \r\nL 36.8125 7.515625 \r\nL 36.8125 0 \r\nL 27.59375 0 \r\nQ 17.1875 0 13.234375 3.875 \r\nQ 9.28125 7.765625 9.28125 18.015625 \r\nL 9.28125 47.703125 \r\nL 2.6875 47.703125 \r\nL 2.6875 54.6875 \r\nL 9.28125 54.6875 \r\nL 9.28125 70.21875 \r\nz\r\n\" id=\"DejaVuSans-116\"/>\r\n       <path d=\"M 2.984375 54.6875 \r\nL 12.5 54.6875 \r\nL 29.59375 8.796875 \r\nL 46.6875 54.6875 \r\nL 56.203125 54.6875 \r\nL 35.6875 0 \r\nL 23.484375 0 \r\nz\r\n\" id=\"DejaVuSans-118\"/>\r\n      </defs>\r\n      <use xlink:href=\"#DejaVuSans-110\"/>\r\n      <use x=\"63.378906\" xlink:href=\"#DejaVuSans-111\"/>\r\n      <use x=\"124.560547\" xlink:href=\"#DejaVuSans-114\"/>\r\n      <use x=\"163.923828\" xlink:href=\"#DejaVuSans-109\"/>\r\n      <use x=\"261.335938\" xlink:href=\"#DejaVuSans-95\"/>\r\n      <use x=\"311.335938\" xlink:href=\"#DejaVuSans-112\"/>\r\n      <use x=\"374.8125\" xlink:href=\"#DejaVuSans-111\"/>\r\n      <use x=\"435.994141\" xlink:href=\"#DejaVuSans-115\"/>\r\n      <use x=\"488.09375\" xlink:href=\"#DejaVuSans-105\"/>\r\n      <use x=\"515.876953\" xlink:href=\"#DejaVuSans-116\"/>\r\n      <use x=\"555.085938\" xlink:href=\"#DejaVuSans-105\"/>\r\n      <use x=\"582.869141\" xlink:href=\"#DejaVuSans-118\"/>\r\n      <use x=\"642.048828\" xlink:href=\"#DejaVuSans-101\"/>\r\n      <use x=\"703.572266\" xlink:href=\"#DejaVuSans-95\"/>\r\n      <use x=\"753.572266\" xlink:href=\"#DejaVuSans-105\"/>\r\n     </g>\r\n    </g>\r\n   </g>\r\n   <g id=\"line2d_13\">\r\n    <path clip-path=\"url(#pb523daf5d7)\" d=\"M 74.495739 336.692045 \r\nL 87.447383 336.692045 \r\nL 100.399027 336.692045 \r\nL 113.350671 336.692045 \r\nL 126.302315 336.692045 \r\nL 139.253959 336.692045 \r\nL 152.205603 336.692045 \r\nL 165.157247 336.692045 \r\nL 178.108891 336.602396 \r\nL 191.060536 336.098699 \r\nL 204.01218 332.957312 \r\nL 216.963824 318.397984 \r\nL 229.915468 297.825562 \r\nL 242.867112 284.051825 \r\nL 255.818756 286.735928 \r\nL 268.7704 287.712054 \r\nL 281.722044 287.556694 \r\nL 294.673688 291.559887 \r\nL 307.625332 297.015299 \r\nL 320.576977 297.879791 \r\nL 333.528621 301.76622 \r\nL 346.480265 300.179648 \r\nL 359.431909 302.097458 \r\nL 372.383553 296.974993 \r\nL 385.335197 280.139259 \r\nL 398.286841 258.399687 \r\nL 411.238485 246.815638 \r\nL 424.190129 227.617023 \r\nL 437.141773 222.984576 \r\nL 450.093418 227.721085 \r\nL 463.045062 243.448296 \r\nL 475.996706 246.612645 \r\nL 488.94835 258.100449 \r\nL 501.899994 266.432942 \r\nL 514.851638 268.807058 \r\nL 527.803282 276.128005 \r\nL 540.754926 270.056774 \r\nL 553.70657 263.839221 \r\nL 566.658214 263.444471 \r\nL 579.609859 258.364511 \r\nL 592.561503 246.008795 \r\nL 605.513147 232.796892 \r\nL 618.464791 206.591714 \r\nL 631.416435 177.880265 \r\nL 644.368079 113.736607 \r\nL 657.319723 60.050152 \r\nL 670.271367 55.459232 \r\nL 683.223011 40.182955 \r\n\" style=\"fill:none;stroke:#1f77b4;stroke-linecap:square;stroke-width:1.5;\"/>\r\n   </g>\r\n   <g id=\"line2d_14\">\r\n    <path clip-path=\"url(#pb523daf5d7)\" d=\"M 74.495739 119.143325 \r\nL 87.447383 113.153842 \r\nL 100.399027 113.687558 \r\nL 113.350671 123.146198 \r\nL 126.302315 121.307842 \r\nL 139.253959 116.385791 \r\nL 152.205603 125.963035 \r\nL 165.157247 121.159587 \r\nL 178.108891 120.27006 \r\nL 191.060536 102.0051 \r\nL 204.01218 109.684685 \r\nL 216.963824 162.374351 \r\nL 229.915468 99.514424 \r\nL 242.867112 100.3743 \r\nL 255.818756 103.6359 \r\nL 268.7704 102.064402 \r\nL 281.722044 107.757376 \r\nL 294.673688 112.382918 \r\nL 307.625332 122.820038 \r\nL 320.576977 123.739216 \r\nL 333.528621 110.722467 \r\nL 346.480265 122.108416 \r\nL 359.431909 110.722467 \r\nL 372.383553 121.278191 \r\nL 385.335197 121.278191 \r\nL 398.286841 113.74686 \r\nL 411.238485 122.612482 \r\nL 424.190129 132.249027 \r\nL 437.141773 125.429318 \r\nL 450.093418 168.304533 \r\nL 463.045062 147.548896 \r\nL 475.996706 131.537405 \r\nL 488.94835 115.407311 \r\nL 501.899994 111.819551 \r\nL 514.851638 120.210758 \r\nL 527.803282 120.210758 \r\nL 540.754926 107.075405 \r\nL 553.70657 106.393435 \r\nL 566.658214 100.166744 \r\nL 579.609859 119.113675 \r\nL 592.561503 110.692816 \r\nL 605.513147 116.741602 \r\nL 618.464791 116.741602 \r\nL 631.416435 121.930511 \r\nL 644.368079 113.924765 \r\nL 657.319723 110.129449 \r\nL 670.271367 106.778896 \r\nL 683.223011 150.751195 \r\n\" style=\"fill:none;stroke:#ff7f0e;stroke-linecap:square;stroke-width:1.5;\"/>\r\n   </g>\r\n   <g id=\"line2d_15\">\r\n    <path clip-path=\"url(#pb523daf5d7)\" d=\"M 74.495739 171.032416 \r\nL 87.447383 175.509704 \r\nL 100.399027 165.813856 \r\nL 113.350671 161.425522 \r\nL 126.302315 169.964984 \r\nL 139.253959 147.6675 \r\nL 152.205603 178.830605 \r\nL 165.157247 149.505856 \r\nL 178.108891 150.187827 \r\nL 191.060536 148.557027 \r\nL 204.01218 147.34134 \r\nL 216.963824 143.130911 \r\nL 229.915468 141.915224 \r\nL 242.867112 144.465202 \r\nL 255.818756 150.187827 \r\nL 268.7704 149.891318 \r\nL 281.722044 151.996533 \r\nL 294.673688 165.487696 \r\nL 307.625332 156.118009 \r\nL 320.576977 162.3447 \r\nL 333.528621 152.263391 \r\nL 346.480265 143.961136 \r\nL 359.431909 152.263391 \r\nL 372.383553 157.12614 \r\nL 385.335197 157.12614 \r\nL 398.286841 156.118009 \r\nL 411.238485 153.716285 \r\nL 424.190129 158.579035 \r\nL 437.141773 144.316947 \r\nL 450.093418 197.481027 \r\nL 463.045062 163.619689 \r\nL 475.996706 137.645493 \r\nL 488.94835 141.589064 \r\nL 501.899994 141.885573 \r\nL 514.851638 152.767456 \r\nL 527.803282 152.767456 \r\nL 540.754926 148.764584 \r\nL 553.70657 146.066351 \r\nL 566.658214 149.476205 \r\nL 579.609859 149.743064 \r\nL 592.561503 157.630205 \r\nL 605.513147 146.985529 \r\nL 618.464791 146.985529 \r\nL 631.416435 153.508729 \r\nL 644.368079 159.379609 \r\nL 657.319723 164.657471 \r\nL 670.271367 169.371965 \r\nL 683.223011 165.724904 \r\n\" style=\"fill:none;stroke:#2ca02c;stroke-linecap:square;stroke-width:1.5;\"/>\r\n   </g>\r\n   <g id=\"patch_3\">\r\n    <path d=\"M 44.059375 351.5175 \r\nL 44.059375 25.3575 \r\n\" style=\"fill:none;stroke:#000000;stroke-linecap:square;stroke-linejoin:miter;stroke-width:0.8;\"/>\r\n   </g>\r\n   <g id=\"patch_4\">\r\n    <path d=\"M 713.659375 351.5175 \r\nL 713.659375 25.3575 \r\n\" style=\"fill:none;stroke:#000000;stroke-linecap:square;stroke-linejoin:miter;stroke-width:0.8;\"/>\r\n   </g>\r\n   <g id=\"patch_5\">\r\n    <path d=\"M 44.059375 351.5175 \r\nL 713.659375 351.5175 \r\n\" style=\"fill:none;stroke:#000000;stroke-linecap:square;stroke-linejoin:miter;stroke-width:0.8;\"/>\r\n   </g>\r\n   <g id=\"patch_6\">\r\n    <path d=\"M 44.059375 25.3575 \r\nL 713.659375 25.3575 \r\n\" style=\"fill:none;stroke:#000000;stroke-linecap:square;stroke-linejoin:miter;stroke-width:0.8;\"/>\r\n   </g>\r\n   <g id=\"text_15\">\r\n    <!-- COVID -->\r\n    <g transform=\"translate(353.123125 19.3575)scale(0.16 -0.16)\">\r\n     <defs>\r\n      <path d=\"M 64.40625 67.28125 \r\nL 64.40625 56.890625 \r\nQ 59.421875 61.53125 53.78125 63.8125 \r\nQ 48.140625 66.109375 41.796875 66.109375 \r\nQ 29.296875 66.109375 22.65625 58.46875 \r\nQ 16.015625 50.828125 16.015625 36.375 \r\nQ 16.015625 21.96875 22.65625 14.328125 \r\nQ 29.296875 6.6875 41.796875 6.6875 \r\nQ 48.140625 6.6875 53.78125 8.984375 \r\nQ 59.421875 11.28125 64.40625 15.921875 \r\nL 64.40625 5.609375 \r\nQ 59.234375 2.09375 53.4375 0.328125 \r\nQ 47.65625 -1.421875 41.21875 -1.421875 \r\nQ 24.65625 -1.421875 15.125 8.703125 \r\nQ 5.609375 18.84375 5.609375 36.375 \r\nQ 5.609375 53.953125 15.125 64.078125 \r\nQ 24.65625 74.21875 41.21875 74.21875 \r\nQ 47.75 74.21875 53.53125 72.484375 \r\nQ 59.328125 70.75 64.40625 67.28125 \r\nz\r\n\" id=\"DejaVuSans-67\"/>\r\n      <path d=\"M 39.40625 66.21875 \r\nQ 28.65625 66.21875 22.328125 58.203125 \r\nQ 16.015625 50.203125 16.015625 36.375 \r\nQ 16.015625 22.609375 22.328125 14.59375 \r\nQ 28.65625 6.59375 39.40625 6.59375 \r\nQ 50.140625 6.59375 56.421875 14.59375 \r\nQ 62.703125 22.609375 62.703125 36.375 \r\nQ 62.703125 50.203125 56.421875 58.203125 \r\nQ 50.140625 66.21875 39.40625 66.21875 \r\nz\r\nM 39.40625 74.21875 \r\nQ 54.734375 74.21875 63.90625 63.9375 \r\nQ 73.09375 53.65625 73.09375 36.375 \r\nQ 73.09375 19.140625 63.90625 8.859375 \r\nQ 54.734375 -1.421875 39.40625 -1.421875 \r\nQ 24.03125 -1.421875 14.8125 8.828125 \r\nQ 5.609375 19.09375 5.609375 36.375 \r\nQ 5.609375 53.65625 14.8125 63.9375 \r\nQ 24.03125 74.21875 39.40625 74.21875 \r\nz\r\n\" id=\"DejaVuSans-79\"/>\r\n      <path d=\"M 28.609375 0 \r\nL 0.78125 72.90625 \r\nL 11.078125 72.90625 \r\nL 34.1875 11.53125 \r\nL 57.328125 72.90625 \r\nL 67.578125 72.90625 \r\nL 39.796875 0 \r\nz\r\n\" id=\"DejaVuSans-86\"/>\r\n      <path d=\"M 9.8125 72.90625 \r\nL 19.671875 72.90625 \r\nL 19.671875 0 \r\nL 9.8125 0 \r\nz\r\n\" id=\"DejaVuSans-73\"/>\r\n      <path d=\"M 19.671875 64.796875 \r\nL 19.671875 8.109375 \r\nL 31.59375 8.109375 \r\nQ 46.6875 8.109375 53.6875 14.9375 \r\nQ 60.6875 21.78125 60.6875 36.53125 \r\nQ 60.6875 51.171875 53.6875 57.984375 \r\nQ 46.6875 64.796875 31.59375 64.796875 \r\nz\r\nM 9.8125 72.90625 \r\nL 30.078125 72.90625 \r\nQ 51.265625 72.90625 61.171875 64.09375 \r\nQ 71.09375 55.28125 71.09375 36.53125 \r\nQ 71.09375 17.671875 61.125 8.828125 \r\nQ 51.171875 0 30.078125 0 \r\nL 9.8125 0 \r\nz\r\n\" id=\"DejaVuSans-68\"/>\r\n     </defs>\r\n     <use xlink:href=\"#DejaVuSans-67\"/>\r\n     <use x=\"69.824219\" xlink:href=\"#DejaVuSans-79\"/>\r\n     <use x=\"146.785156\" xlink:href=\"#DejaVuSans-86\"/>\r\n     <use x=\"215.193359\" xlink:href=\"#DejaVuSans-73\"/>\r\n     <use x=\"244.685547\" xlink:href=\"#DejaVuSans-68\"/>\r\n    </g>\r\n   </g>\r\n  </g>\r\n </g>\r\n <defs>\r\n  <clipPath id=\"pb523daf5d7\">\r\n   <rect height=\"326.16\" width=\"669.6\" x=\"44.059375\" y=\"25.3575\"/>\r\n  </clipPath>\r\n </defs>\r\n</svg>\r\n",
      "image/png": "[encoded data removed]"
     },
     "metadata": {
      "needs_background": "light"
     }
    }
   ],
   "source": [
    "plt.figure(figsize=(12,6))\n",
    "plt.title(\"COVID\", fontsize=16)\n",
    "sns.lineplot(data=merged, x='week_num', y='norm_positive_i')\n",
    "sns.lineplot(data=merged, x='week_num', y='danceability') \n",
    "sns.lineplot(data=merged, x='week_num', y='energy')\n",
    "\n",
    "x = range(0, len(merged.week_num))\n",
    "cases_reg = np.polyfit(x, merged.norm_positive_i, 1)\n",
    "cases_line = np.poly1d(cases_reg)\n",
    "\n",
    "x = range(0, len(merged.week_num))\n",
    "energy_reg = np.polyfit(x, merged.energy, 1)\n",
    "energy_line = np.poly1d(energy_reg)\n",
    "print(f'Slope of trend in positive COVID cases: {cases_line.c[0]}\\n')\n",
    "print(f'Slope of trend in energy of top songs: {energy_line.c[0]}')\n",
    "\n",
    "#  note for analysis: Possibility that energy and # of positive cases increases bc more ppl are going out and partying which causes cases to increase in the first place\n",
    "\n",
    "# plt.plot(merged.week_num, b(x), c=\"r\", ls=':')\n",
    "# print(merged.week_num)\n",
    "# sns.lineplot(data=merged, x='week#', y='tempo')\n",
    "# sns.lineplot(data=merged, x='week#', y='liveness')\n",
    "# sns.lineplot(data=merged, x='week#', y='norm_tempo')\n",
    "plt.show()"
   ]
  },
  {
   "cell_type": "code",
   "execution_count": 113,
   "metadata": {},
   "outputs": [
    {
     "output_type": "execute_result",
     "data": {
      "text/plain": [
       "ek                                                                       \n",
       "(2020-01-02, 2020-01-09]         0           0                         0   \n",
       "(2020-01-09, 2020-01-16]         0           0                         0   \n",
       "(2020-01-16, 2020-01-23]         0           0                         1   \n",
       "(2020-01-23, 2020-01-30]         0           0                         3   \n",
       "(2020-01-30, 2020-02-06]         0           0                        11   \n",
       "(2020-02-06, 2020-02-13]         0           0                         6   \n",
       "(2020-02-13, 2020-02-20]         0           0                        14   \n",
       "(2020-02-20, 2020-02-27]         0           0                      6451   \n",
       "(2020-02-27, 2020-03-05]       953        4138                      2376   \n",
       "(2020-03-05, 2020-03-12]      9467       55851                     19561   \n",
       "(2020-03-12, 2020-03-19]     63650      418435                    134482   \n",
       "(2020-03-19, 2020-03-26]    377548     2012538                    470093   \n",
       "(2020-03-26, 2020-04-02]   1242105     5735931                    752746   \n",
       "(2020-04-02, 2020-04-09]   2615709    11161354                   1124604   \n",
       "(2020-04-09, 2020-04-16]   4101239    17041171                   1050062   \n",
       "(2020-04-16, 2020-04-23]   5505135    23395370                   1333280   \n",
       "(2020-04-23, 2020-04-30]   6946219    32717575                   1649436   \n",
       "(2020-04-30, 2020-05-07]   8282786    43363349                   1888312   \n",
       "(2020-05-07, 2020-05-14]   9466006    56381534                   2306906   \n",
       "(2020-05-14, 2020-05-21]  10582022    72731241                   2814844   \n",
       "(2020-05-21, 2020-05-28]  11642959    91078388                   2803061   \n",
       "(2020-05-28, 2020-06-04]  12674862   110166502                   3197526   \n",
       "(2020-06-04, 2020-06-11]  13680660   131536303                   3353733   \n",
       "(2020-06-11, 2020-06-18]  14736337   154040162                   3590700   \n",
       "(2020-06-18, 2020-06-25]  16116075   178040159                   4022828   \n",
       "(2020-06-25, 2020-07-02]  18088061   204818685                   4695591   \n",
       "(2020-07-02, 2020-07-09]  20531634   233829835                   4884154   \n",
       "(2020-07-09, 2020-07-16]  23441867   265551337                   5790632   \n",
       "(2020-07-16, 2020-07-23]  26667839   300279597                   5960175   \n",
       "(2020-07-23, 2020-07-30]  29863625   336719684                   6251012   \n",
       "(2020-07-30, 2020-08-06]  32760064   370779586                   5768578   \n",
       "(2020-08-06, 2020-08-13]  35345563   403474889                   5568118   \n",
       "(2020-08-13, 2020-08-20]  37785826   437283278                   5743657   \n",
       "(2020-08-20, 2020-08-27]  39849481   469244277                   5492422   \n",
       "(2020-08-27, 2020-09-03]  41841066   502121079                   5813836   \n",
       "(2020-09-03, 2020-09-10]  43718196   535343887                   5566062   \n",
       "(2020-09-10, 2020-09-17]  45479682   565741197                   5805413   \n",
       "(2020-09-17, 2020-09-24]  47494220   601617969                   6932357   \n",
       "(2020-09-24, 2020-10-01]  49611461   640289874                   7141604   \n",
       "(2020-10-01, 2020-10-08]  51742130   679947805                   7408043   \n",
       "(2020-10-08, 2020-10-15]  54187604   721421640                   7798791   \n",
       "(2020-10-15, 2020-10-22]  56988783   763365865                   7840317   \n",
       "(2020-10-22, 2020-10-29]  60411138   807462360                   8605930   \n",
       "(2020-10-29, 2020-11-05]  64530876   853366345                   9126792   \n",
       "(2020-11-05, 2020-11-12]  70097178   903244770                   9891103   \n",
       "(2020-11-12, 2020-11-19]  77450854   957081324                  11333722   \n",
       "(2020-11-19, 2020-11-26]  85674235  1018557042                  12107861   \n",
       "(2020-11-26, 2020-12-03]  93634537  1079371903                  12357505   \n",
       "\n",
       "                          totalTestResults    length  popularity  \\\n",
       "week                                                               \n",
       "(2020-01-02, 2020-01-09]                 0  194850.2        83.6   \n",
       "(2020-01-09, 2020-01-16]                 0  210677.3        82.6   \n",
       "(2020-01-16, 2020-01-23]                 3  211767.5        84.8   \n",
       "(2020-01-23, 2020-01-30]                22  201319.3        80.8   \n",
       "(2020-01-30, 2020-02-06]                81  207396.5        80.6   \n",
       "(2020-02-06, 2020-02-13]               134  200170.1        80.7   \n",
       "(2020-02-13, 2020-02-20]               205  201707.3        78.5   \n",
       "(2020-02-20, 2020-02-27]              6722  215601.0        72.8   \n",
       "(2020-02-27, 2020-03-05]             50810  203927.1        74.4   \n",
       "(2020-03-05, 2020-03-12]            114350  205622.0        70.2   \n",
       "(2020-03-12, 2020-03-19]            613151  205941.6        75.1   \n",
       "(2020-03-19, 2020-03-26]           2724132  224878.2        81.3   \n",
       "(2020-03-26, 2020-04-02]           7324427  182674.2        85.9   \n",
       "(2020-04-02, 2020-04-09]          14188812  183944.7        79.3   \n",
       "(2020-04-09, 2020-04-16]          21675845  187289.0        87.6   \n",
       "(2020-04-16, 2020-04-23]          29745590  189259.2        87.1   \n",
       "(2020-04-23, 2020-04-30]          40820379  195777.9        83.6   \n",
       "(2020-04-30, 2020-05-07]          53197237  200892.6        80.5   \n",
       "(2020-05-07, 2020-05-14]          67895600  200014.7        81.6   \n",
       "(2020-05-14, 2020-05-21]          85967564  183943.1        87.5   \n",
       "(2020-05-21, 2020-05-28]         105969259  186574.7        86.9   \n",
       "(2020-05-28, 2020-06-04]         127264490  182184.1        80.2   \n",
       "(2020-06-04, 2020-06-11]         150822317  186574.7        86.5   \n",
       "(2020-06-11, 2020-06-18]         174896431  186827.5        87.1   \n",
       "(2020-06-18, 2020-06-25]         201495527  186827.5        87.1   \n",
       "(2020-06-25, 2020-07-02]         232403665  180952.9        88.9   \n",
       "(2020-07-02, 2020-07-09]         265845080  183897.6        89.4   \n",
       "(2020-07-09, 2020-07-16]         303663861  188624.9        47.7   \n",
       "(2020-07-16, 2020-07-23]         345039041  189014.9        67.2   \n",
       "(2020-07-23, 2020-07-30]         388291669  235011.9        79.1   \n",
       "(2020-07-30, 2020-08-06]         430330671  208946.2        79.0   \n",
       "(2020-08-06, 2020-08-13]         469372440  197088.6        91.3   \n",
       "(2020-08-13, 2020-08-20]         509815643  199565.2        87.5   \n",
       "(2020-08-20, 2020-08-27]         548575313  198458.3        88.3   \n",
       "(2020-08-27, 2020-09-03]         588338676  198281.8        91.2   \n",
       "(2020-09-03, 2020-09-10]         629248666  198281.8        91.2   \n",
       "(2020-09-10, 2020-09-17]         667763686  198499.9        90.8   \n",
       "(2020-09-17, 2020-09-24]         713355297  200247.1        92.4   \n",
       "(2020-09-24, 2020-10-01]         762856195  199978.1        91.9   \n",
       "(2020-10-01, 2020-10-08]         813785493  194358.2        90.6   \n",
       "(2020-10-08, 2020-10-15]         867315609  198092.6        92.8   \n",
       "(2020-10-15, 2020-10-22]         922168037  190890.9        91.4   \n",
       "(2020-10-22, 2020-10-29]         980018957  190890.9        91.4   \n",
       "(2020-10-29, 2020-11-05]        1041344994  187491.4        93.0   \n",
       "(2020-11-05, 2020-11-12]        1108821522  188846.8        94.9   \n",
       "(2020-11-12, 2020-11-19]        1183554306  180129.7        95.3   \n",
       "(2020-11-19, 2020-11-26]        1268775773  178018.2        94.3   \n",
       "(2020-11-26, 2020-12-03]        1352104345  186295.0        90.6   \n",
       "\n",
       "                          danceability  ...  energy  instrumentalness  \\\n",
       "week                                    ...                             \n",
       "(2020-01-02, 2020-01-09]        0.7337  ...  0.5587          0.065960   \n",
       "(2020-01-09, 2020-01-16]        0.7539  ...  0.5436          0.013644   \n",
       "(2020-01-16, 2020-01-23]        0.7521  ...  0.5763          0.013644   \n",
       "(2020-01-23, 2020-01-30]        0.7202  ...  0.5911          0.065965   \n",
       "(2020-01-30, 2020-02-06]        0.7264  ...  0.5623          0.065965   \n",
       "(2020-02-06, 2020-02-13]        0.7430  ...  0.6375          0.000265   \n",
       "(2020-02-13, 2020-02-20]        0.7107  ...  0.5324          0.001062   \n",
       "(2020-02-20, 2020-02-27]        0.7269  ...  0.6313          0.001243   \n",
       "(2020-02-27, 2020-03-05]        0.7299  ...  0.6290          0.000062   \n",
       "(2020-03-05, 2020-03-12]        0.7915  ...  0.6345          0.000021   \n",
       "(2020-03-12, 2020-03-19]        0.7656  ...  0.6386          0.000021   \n",
       "(2020-03-19, 2020-03-26]        0.5879  ...  0.6528          0.011736   \n",
       "(2020-03-26, 2020-04-02]        0.7999  ...  0.6569          0.001080   \n",
       "(2020-04-02, 2020-04-09]        0.7970  ...  0.6483          0.001081   \n",
       "(2020-04-09, 2020-04-16]        0.7860  ...  0.6290          0.001081   \n",
       "(2020-04-16, 2020-04-23]        0.7913  ...  0.6300          0.001109   \n",
       "(2020-04-23, 2020-04-30]        0.7721  ...  0.6229          0.001080   \n",
       "(2020-04-30, 2020-05-07]        0.7565  ...  0.5774          0.000010   \n",
       "(2020-05-07, 2020-05-14]        0.7213  ...  0.6090          0.000010   \n",
       "(2020-05-14, 2020-05-21]        0.7182  ...  0.5880          0.001080   \n",
       "(2020-05-21, 2020-05-28]        0.7621  ...  0.6220          0.000010   \n",
       "(2020-05-28, 2020-06-04]        0.7237  ...  0.6500          0.000011   \n",
       "(2020-06-04, 2020-06-11]        0.7621  ...  0.6220          0.000010   \n",
       "(2020-06-11, 2020-06-18]        0.7265  ...  0.6056          0.000010   \n",
       "(2020-06-18, 2020-06-25]        0.7265  ...  0.6056          0.000010   \n",
       "(2020-06-25, 2020-07-02]        0.7519  ...  0.6090          0.000010   \n",
       "(2020-07-02, 2020-07-09]        0.7220  ...  0.6171          0.000010   \n",
       "(2020-07-09, 2020-07-16]        0.6895  ...  0.6007          0.000000   \n",
       "(2020-07-16, 2020-07-23]        0.7125  ...  0.6488          0.000000   \n",
       "(2020-07-23, 2020-07-30]        0.5679  ...  0.4695          0.000294   \n",
       "(2020-07-30, 2020-08-06]        0.6379  ...  0.5837          0.013241   \n",
       "(2020-08-06, 2020-08-13]        0.6919  ...  0.6713          0.000010   \n",
       "(2020-08-13, 2020-08-20]        0.7463  ...  0.6580          0.000009   \n",
       "(2020-08-20, 2020-08-27]        0.7584  ...  0.6570          0.000003   \n",
       "(2020-08-27, 2020-09-03]        0.7301  ...  0.6203          0.000003   \n",
       "(2020-09-03, 2020-09-10]        0.7301  ...  0.6203          0.000003   \n",
       "(2020-09-10, 2020-09-17]        0.7744  ...  0.6338          0.000003   \n",
       "(2020-09-17, 2020-09-24]        0.7767  ...  0.6429          0.000003   \n",
       "(2020-09-24, 2020-10-01]        0.7977  ...  0.6314          0.000003   \n",
       "(2020-10-01, 2020-10-08]        0.7338  ...  0.6305          0.010106   \n",
       "(2020-10-08, 2020-10-15]        0.7622  ...  0.6039          0.000432   \n",
       "(2020-10-15, 2020-10-22]        0.7418  ...  0.6398          0.000004   \n",
       "(2020-10-22, 2020-10-29]        0.7418  ...  0.6398          0.000004   \n",
       "(2020-10-29, 2020-11-05]        0.7243  ...  0.6178          0.000005   \n",
       "(2020-11-05, 2020-11-12]        0.7513  ...  0.5980          0.000009   \n",
       "(2020-11-12, 2020-11-19]        0.7641  ...  0.5802          0.013005   \n",
       "(2020-11-19, 2020-11-26]        0.7754  ...  0.5643          0.013005   \n",
       "(2020-11-26, 2020-12-03]        0.6271  ...  0.5766          0.000006   \n",
       "\n",
       "                          liveness  loudness  speechiness     tempo  \\\n",
       "week                                                                  \n",
       "(2020-01-02, 2020-01-09]   0.23090   -7.0007      0.14337  128.8629   \n",
       "(2020-01-09, 2020-01-16]   0.22910   -7.1701      0.16153  134.6623   \n",
       "(2020-01-16, 2020-01-23]   0.23054   -7.1138      0.21306  131.4658   \n",
       "(2020-01-23, 2020-01-30]   0.23238   -6.7767      0.17009  134.6662   \n",
       "(2020-01-30, 2020-02-06]   0.24948   -7.2300      0.14479  131.7848   \n",
       "(2020-02-06, 2020-02-13]   0.24630   -5.9329      0.14191  132.9793   \n",
       "(2020-02-13, 2020-02-20]   0.24052   -7.2972      0.11098  123.2338   \n",
       "(2020-02-20, 2020-02-27]   0.23353   -5.9156      0.11122  124.4678   \n",
       "(2020-02-27, 2020-03-05]   0.25502   -5.9078      0.12184  125.0633   \n",
       "(2020-03-05, 2020-03-12]   0.28949   -6.0292      0.19069  135.1325   \n",
       "(2020-03-12, 2020-03-19]   0.26742   -6.0435      0.16209  131.8729   \n",
       "(2020-03-19, 2020-03-26]   0.24372   -6.6768      0.06858  111.9682   \n",
       "(2020-03-26, 2020-04-02]   0.25622   -5.8454      0.11930  132.5027   \n",
       "(2020-04-02, 2020-04-09]   0.21702   -6.3892      0.14085  124.2560   \n",
       "(2020-04-09, 2020-04-16]   0.27282   -6.5907      0.13595  128.3586   \n",
       "(2020-04-16, 2020-04-23]   0.21050   -6.7599      0.12075  121.1598   \n",
       "(2020-04-23, 2020-04-30]   0.23067   -6.8360      0.09443  122.8612   \n",
       "(2020-04-30, 2020-05-07]   0.21397   -6.9716      0.13444  111.6189   \n",
       "(2020-05-07, 2020-05-14]   0.22917   -6.9023      0.12722  127.3198   \n",
       "(2020-05-14, 2020-05-21]   0.24683   -7.2750      0.10729  129.7794   \n",
       "(2020-05-21, 2020-05-28]   0.22043   -7.0127      0.12053  117.1169   \n",
       "(2020-05-28, 2020-06-04]   0.29243   -6.8101      0.08616  118.9676   \n",
       "(2020-06-04, 2020-06-11]   0.22043   -7.0127      0.12053  117.1169   \n",
       "(2020-06-11, 2020-06-18]   0.23333   -7.1556      0.12661  115.5503   \n",
       "(2020-06-18, 2020-06-25]   0.23333   -7.1556      0.12661  115.5503   \n",
       "(2020-06-25, 2020-07-02]   0.22460   -6.9117      0.11114  126.2607   \n",
       "(2020-07-02, 2020-07-09]   0.17510   -6.7043      0.13081  124.1328   \n",
       "(2020-07-09, 2020-07-16]   0.14190   -6.7176      0.09266  135.1020   \n",
       "(2020-07-16, 2020-07-23]   0.17410   -6.2465      0.11864  128.0459   \n",
       "(2020-07-23, 2020-07-30]   0.11738   -9.4091      0.03795  113.7589   \n",
       "(2020-07-30, 2020-08-06]   0.19980   -7.1521      0.08878  117.4640   \n",
       "(2020-08-06, 2020-08-13]   0.16199   -6.1619      0.18000  139.4021   \n",
       "(2020-08-13, 2020-08-20]   0.16094   -6.2769      0.15214  127.4754   \n",
       "(2020-08-20, 2020-08-27]   0.15830   -6.1980      0.15959  128.6837   \n",
       "(2020-08-27, 2020-09-03]   0.17984   -6.4478      0.14759  125.6082   \n",
       "(2020-09-03, 2020-09-10]   0.17984   -6.4478      0.14759  125.6082   \n",
       "(2020-09-10, 2020-09-17]   0.16104   -6.1995      0.17036  131.7075   \n",
       "(2020-09-17, 2020-09-24]   0.14332   -6.3921      0.19356  125.4022   \n",
       "(2020-09-24, 2020-10-01]   0.14702   -6.4145      0.21469  126.4012   \n",
       "(2020-10-01, 2020-10-08]   0.14552   -6.2222      0.19090  129.5987   \n",
       "(2020-10-08, 2020-10-15]   0.13502   -7.2498      0.20335  117.7173   \n",
       "(2020-10-15, 2020-10-22]   0.14225   -6.6349      0.17856  121.4000   \n",
       "(2020-10-22, 2020-10-29]   0.14225   -6.6349      0.17856  121.4000   \n",
       "(2020-10-29, 2020-11-05]   0.17765   -6.3744      0.11459  119.1091   \n",
       "(2020-11-05, 2020-11-12]   0.14525   -6.8149      0.14696  120.3765   \n",
       "(2020-11-12, 2020-11-19]   0.14005   -6.7051      0.14053  116.3798   \n",
       "(2020-11-19, 2020-11-26]   0.13733   -6.7645      0.10771  123.0740   \n",
       "(2020-11-26, 2020-12-03]   0.19771   -8.3615      0.06265  134.2458   \n",
       "\n",
       "                          time_signature  norm_positive_i  norm_length  \\\n",
       "week                                                                     \n",
       "(2020-01-02, 2020-01-09]             4.1         0.000000     0.295331   \n",
       "(2020-01-09, 2020-01-16]             4.1         0.000000     0.573030   \n",
       "(2020-01-16, 2020-01-23]             4.1         0.000000     0.592158   \n",
       "(2020-01-23, 2020-01-30]             4.1         0.000000     0.408836   \n",
       "(2020-01-30, 2020-02-06]             4.1         0.000000     0.515466   \n",
       "(2020-02-06, 2020-02-13]             4.1         0.000000     0.388673   \n",
       "(2020-02-13, 2020-02-20]             4.1         0.000000     0.415644   \n",
       "(2020-02-20, 2020-02-27]             4.1         0.000000     0.659420   \n",
       "(2020-02-27, 2020-03-05]             4.1         0.000302     0.454592   \n",
       "(2020-03-05, 2020-03-12]             4.0         0.002001     0.484331   \n",
       "(2020-03-12, 2020-03-19]             4.0         0.012596     0.489938   \n",
       "(2020-03-19, 2020-03-26]             4.0         0.061698     0.822196   \n",
       "(2020-03-26, 2020-04-02]             4.0         0.131080     0.081693   \n",
       "(2020-04-02, 2020-04-09]             4.0         0.177533     0.103985   \n",
       "(2020-04-09, 2020-04-16]             4.0         0.168481     0.162664   \n",
       "(2020-04-16, 2020-04-23]             4.0         0.165189     0.197232   \n",
       "(2020-04-23, 2020-04-30]             4.0         0.165713     0.311608   \n",
       "(2020-04-30, 2020-05-07]             4.0         0.152212     0.401350   \n",
       "(2020-05-07, 2020-05-14]             3.9         0.133813     0.385946   \n",
       "(2020-05-14, 2020-05-21]             3.9         0.130897     0.103957   \n",
       "(2020-05-21, 2020-05-28]             4.0         0.117790     0.150131   \n",
       "(2020-05-28, 2020-06-04]             4.0         0.123141     0.073094   \n",
       "(2020-06-04, 2020-06-11]             4.0         0.116673     0.150131   \n",
       "(2020-06-11, 2020-06-18]             3.9         0.133949     0.154566   \n",
       "(2020-06-18, 2020-06-25]             3.9         0.190729     0.154566   \n",
       "(2020-06-25, 2020-07-02]             4.0         0.264047     0.051492   \n",
       "(2020-07-02, 2020-07-09]             4.0         0.303115     0.103159   \n",
       "(2020-07-09, 2020-07-16]             4.0         0.367864     0.186103   \n",
       "(2020-07-16, 2020-07-23]             4.0         0.383487     0.192946   \n",
       "(2020-07-23, 2020-07-30]             4.0         0.367513     1.000000   \n",
       "(2020-07-30, 2020-08-06]             4.0         0.314472     0.542656   \n",
       "(2020-08-06, 2020-08-13]             4.0         0.303800     0.334605   \n",
       "(2020-08-13, 2020-08-20]             4.0         0.265056     0.378059   \n",
       "(2020-08-20, 2020-08-27]             4.0         0.236954     0.358638   \n",
       "(2020-08-27, 2020-09-03]             3.9         0.228947     0.355541   \n",
       "(2020-09-03, 2020-09-10]             3.9         0.204257     0.355541   \n",
       "(2020-09-10, 2020-09-17]             4.0         0.224733     0.359368   \n",
       "(2020-09-17, 2020-09-24]             4.0         0.245702     0.390024   \n",
       "(2020-09-24, 2020-10-01]             4.0         0.247033     0.385304   \n",
       "(2020-10-01, 2020-10-08]             4.0         0.264166     0.286698   \n",
       "(2020-10-08, 2020-10-15]             4.0         0.305836     0.352221   \n",
       "(2020-10-15, 2020-10-22]             4.0         0.350394     0.225862   \n",
       "(2020-10-22, 2020-10-29]             4.0         0.438774     0.225862   \n",
       "(2020-10-29, 2020-11-05]             3.7         0.535605     0.166215   \n",
       "(2020-11-05, 2020-11-12]             4.0         0.751935     0.189996   \n",
       "(2020-11-12, 2020-11-19]             4.0         0.932996     0.037048   \n",
       "(2020-11-19, 2020-11-26]             4.0         0.948480     0.000000   \n",
       "(2020-11-26, 2020-12-03]             3.9         1.000000     0.145223   \n",
       "\n",
       "                          norm_tempo  \n",
       "week                                  \n",
       "(2020-01-02, 2020-01-09]    0.620663  \n",
       "(2020-01-09, 2020-01-16]    0.829401  \n",
       "(2020-01-16, 2020-01-23]    0.714349  \n",
       "(2020-01-23, 2020-01-30]    0.829541  \n",
       "(2020-01-30, 2020-02-06]    0.725831  \n",
       "(2020-02-06, 2020-02-13]    0.768824  \n",
       "(2020-02-13, 2020-02-20]    0.418055  \n",
       "(2020-02-20, 2020-02-27]    0.462470  \n",
       "(2020-02-27, 2020-03-05]    0.483904  \n",
       "(2020-03-05, 2020-03-12]    0.846324  \n",
       "(2020-03-12, 2020-03-19]    0.729002  \n",
       "(2020-03-19, 2020-03-26]    0.012572  \n",
       "(2020-03-26, 2020-04-02]    0.751670  \n",
       "(2020-04-02, 2020-04-09]    0.454847  \n",
       "(2020-04-09, 2020-04-16]    0.602512  \n",
       "(2020-04-16, 2020-04-23]    0.343405  \n",
       "(2020-04-23, 2020-04-30]    0.404644  \n",
       "(2020-04-30, 2020-05-07]    0.000000  \n",
       "(2020-05-07, 2020-05-14]    0.565122  \n",
       "(2020-05-14, 2020-05-21]    0.653650  \n",
       "(2020-05-21, 2020-05-28]    0.197889  \n",
       "(2020-05-28, 2020-06-04]    0.264502  \n",
       "(2020-06-04, 2020-06-11]    0.197889  \n",
       "(2020-06-11, 2020-06-18]    0.141503  \n",
       "(2020-06-18, 2020-06-25]    0.141503  \n",
       "(2020-06-25, 2020-07-02]    0.527002  \n",
       "(2020-07-02, 2020-07-09]    0.450412  \n",
       "(2020-07-09, 2020-07-16]    0.845227  \n",
       "(2020-07-16, 2020-07-23]    0.591257  \n",
       "(2020-07-23, 2020-07-30]    0.077025  \n",
       "(2020-07-30, 2020-08-06]    0.210383  \n",
       "(2020-08-06, 2020-08-13]    1.000000  \n",
       "(2020-08-13, 2020-08-20]    0.570723  \n",
       "(2020-08-20, 2020-08-27]    0.614213  \n",
       "(2020-08-27, 2020-09-03]    0.503517  \n",
       "(2020-09-03, 2020-09-10]    0.503517  \n",
       "(2020-09-10, 2020-09-17]    0.723048  \n",
       "(2020-09-17, 2020-09-24]    0.496102  \n",
       "(2020-09-24, 2020-10-01]    0.532059  \n",
       "(2020-10-01, 2020-10-08]    0.647146  \n",
       "(2020-10-08, 2020-10-15]    0.219500  \n",
       "(2020-10-15, 2020-10-22]    0.352051  \n",
       "(2020-10-22, 2020-10-29]    0.352051  \n",
       "(2020-10-29, 2020-11-05]    0.269595  \n",
       "(2020-11-05, 2020-11-12]    0.315212  \n",
       "(2020-11-12, 2020-11-19]    0.171359  \n",
       "(2020-11-19, 2020-11-26]    0.412303  \n",
       "(2020-11-26, 2020-12-03]    0.814409  \n",
       "\n",
       "[48 rows x 22 columns]"
      ],
      "text/html": "<div>\n<style scoped>\n    .dataframe tbody tr th:only-of-type {\n        vertical-align: middle;\n    }\n\n    .dataframe tbody tr th {\n        vertical-align: top;\n    }\n\n    .dataframe thead th {\n        text-align: right;\n    }\n</style>\n<table border=\"1\" class=\"dataframe\">\n  <thead>\n    <tr style=\"text-align: right;\">\n      <th></th>\n      <th>week_num</th>\n      <th>positiveIncrease</th>\n      <th>negativeIncrease</th>\n      <th>positive</th>\n      <th>negative</th>\n      <th>totalTestResultsIncrease</th>\n      <th>totalTestResults</th>\n      <th>length</th>\n      <th>popularity</th>\n      <th>danceability</th>\n      <th>...</th>\n      <th>energy</th>\n      <th>instrumentalness</th>\n      <th>liveness</th>\n      <th>loudness</th>\n      <th>speechiness</th>\n      <th>tempo</th>\n      <th>time_signature</th>\n      <th>norm_positive_i</th>\n      <th>norm_length</th>\n      <th>norm_tempo</th>\n    </tr>\n    <tr>\n      <th>week</th>\n      <th></th>\n      <th></th>\n      <th></th>\n      <th></th>\n      <th></th>\n      <th></th>\n      <th></th>\n      <th></th>\n      <th></th>\n      <th></th>\n      <th></th>\n      <th></th>\n      <th></th>\n      <th></th>\n      <th></th>\n      <th></th>\n      <th></th>\n      <th></th>\n      <th></th>\n      <th></th>\n      <th></th>\n    </tr>\n  </thead>\n  <tbody>\n    <tr>\n      <th>(2020-01-02, 2020-01-09]</th>\n      <td>1</td>\n      <td>0</td>\n      <td>0</td>\n      <td>0</td>\n      <td>0</td>\n      <td>0</td>\n      <td>0</td>\n      <td>194850.2</td>\n      <td>83.6</td>\n      <td>0.7337</td>\n      <td>...</td>\n      <td>0.5587</td>\n      <td>0.065960</td>\n      <td>0.23090</td>\n      <td>-7.0007</td>\n      <td>0.14337</td>\n      <td>128.8629</td>\n      <td>4.1</td>\n      <td>0.000000</td>\n      <td>0.295331</td>\n      <td>0.620663</td>\n    </tr>\n    <tr>\n      <th>(2020-01-09, 2020-01-16]</th>\n      <td>2</td>\n      <td>0</td>\n      <td>0</td>\n      <td>0</td>\n      <td>0</td>\n      <td>0</td>\n      <td>0</td>\n      <td>210677.3</td>\n      <td>82.6</td>\n      <td>0.7539</td>\n      <td>...</td>\n      <td>0.5436</td>\n      <td>0.013644</td>\n      <td>0.22910</td>\n      <td>-7.1701</td>\n      <td>0.16153</td>\n      <td>134.6623</td>\n      <td>4.1</td>\n      <td>0.000000</td>\n      <td>0.573030</td>\n      <td>0.829401</td>\n    </tr>\n    <tr>\n      <th>(2020-01-16, 2020-01-23]</th>\n      <td>3</td>\n      <td>0</td>\n      <td>0</td>\n      <td>0</td>\n      <td>0</td>\n      <td>1</td>\n      <td>3</td>\n      <td>211767.5</td>\n      <td>84.8</td>\n      <td>0.7521</td>\n      <td>...</td>\n      <td>0.5763</td>\n      <td>0.013644</td>\n      <td>0.23054</td>\n      <td>-7.1138</td>\n      <td>0.21306</td>\n      <td>131.4658</td>\n      <td>4.1</td>\n      <td>0.000000</td>\n      <td>0.592158</td>\n      <td>0.714349</td>\n    </tr>\n    <tr>\n      <th>(2020-01-23, 2020-01-30]</th>\n      <td>4</td>\n      <td>0</td>\n      <td>0</td>\n      <td>0</td>\n      <td>0</td>\n      <td>3</td>\n      <td>22</td>\n      <td>201319.3</td>\n      <td>80.8</td>\n      <td>0.7202</td>\n      <td>...</td>\n      <td>0.5911</td>\n      <td>0.065965</td>\n      <td>0.23238</td>\n      <td>-6.7767</td>\n      <td>0.17009</td>\n      <td>134.6662</td>\n      <td>4.1</td>\n      <td>0.000000</td>\n      <td>0.408836</td>\n      <td>0.829541</td>\n    </tr>\n    <tr>\n      <th>(2020-01-30, 2020-02-06]</th>\n      <td>5</td>\n      <td>0</td>\n      <td>0</td>\n      <td>0</td>\n      <td>0</td>\n      <td>11</td>\n      <td>81</td>\n      <td>207396.5</td>\n      <td>80.6</td>\n      <td>0.7264</td>\n      <td>...</td>\n      <td>0.5623</td>\n      <td>0.065965</td>\n      <td>0.24948</td>\n      <td>-7.2300</td>\n      <td>0.14479</td>\n      <td>131.7848</td>\n      <td>4.1</td>\n      <td>0.000000</td>\n      <td>0.515466</td>\n      <td>0.725831</td>\n    </tr>\n    <tr>\n      <th>(2020-02-06, 2020-02-13]</th>\n      <td>6</td>\n      <td>0</td>\n      <td>0</td>\n      <td>0</td>\n      <td>0</td>\n      <td>6</td>\n      <td>134</td>\n      <td>200170.1</td>\n      <td>80.7</td>\n      <td>0.7430</td>\n      <td>...</td>\n      <td>0.6375</td>\n      <td>0.000265</td>\n      <td>0.24630</td>\n      <td>-5.9329</td>\n      <td>0.14191</td>\n      <td>132.9793</td>\n      <td>4.1</td>\n      <td>0.000000</td>\n      <td>0.388673</td>\n      <td>0.768824</td>\n    </tr>\n    <tr>\n      <th>(2020-02-13, 2020-02-20]</th>\n      <td>7</td>\n      <td>0</td>\n      <td>0</td>\n      <td>0</td>\n      <td>0</td>\n      <td>14</td>\n      <td>205</td>\n      <td>201707.3</td>\n      <td>78.5</td>\n      <td>0.7107</td>\n      <td>...</td>\n      <td>0.5324</td>\n      <td>0.001062</td>\n      <td>0.24052</td>\n      <td>-7.2972</td>\n      <td>0.11098</td>\n      <td>123.2338</td>\n      <td>4.1</td>\n      <td>0.000000</td>\n      <td>0.415644</td>\n      <td>0.418055</td>\n    </tr>\n    <tr>\n      <th>(2020-02-20, 2020-02-27]</th>\n      <td>8</td>\n      <td>0</td>\n      <td>0</td>\n      <td>0</td>\n      <td>0</td>\n      <td>6451</td>\n      <td>6722</td>\n      <td>215601.0</td>\n      <td>72.8</td>\n      <td>0.7269</td>\n      <td>...</td>\n      <td>0.6313</td>\n      <td>0.001243</td>\n      <td>0.23353</td>\n      <td>-5.9156</td>\n      <td>0.11122</td>\n      <td>124.4678</td>\n      <td>4.1</td>\n      <td>0.000000</td>\n      <td>0.659420</td>\n      <td>0.462470</td>\n    </tr>\n    <tr>\n      <th>(2020-02-27, 2020-03-05]</th>\n      <td>9</td>\n      <td>367</td>\n      <td>1943</td>\n      <td>953</td>\n      <td>4138</td>\n      <td>2376</td>\n      <td>50810</td>\n      <td>203927.1</td>\n      <td>74.4</td>\n      <td>0.7299</td>\n      <td>...</td>\n      <td>0.6290</td>\n      <td>0.000062</td>\n      <td>0.25502</td>\n      <td>-5.9078</td>\n      <td>0.12184</td>\n      <td>125.0633</td>\n      <td>4.1</td>\n      <td>0.000302</td>\n      <td>0.454592</td>\n      <td>0.483904</td>\n    </tr>\n    <tr>\n      <th>(2020-03-05, 2020-03-12]</th>\n      <td>10</td>\n      <td>2429</td>\n      <td>15934</td>\n      <td>9467</td>\n      <td>55851</td>\n      <td>19561</td>\n      <td>114350</td>\n      <td>205622.0</td>\n      <td>70.2</td>\n      <td>0.7915</td>\n      <td>...</td>\n      <td>0.6345</td>\n      <td>0.000021</td>\n      <td>0.28949</td>\n      <td>-6.0292</td>\n      <td>0.19069</td>\n      <td>135.1325</td>\n      <td>4.0</td>\n      <td>0.002001</td>\n      <td>0.484331</td>\n      <td>0.846324</td>\n    </tr>\n    <tr>\n      <th>(2020-03-12, 2020-03-19]</th>\n      <td>11</td>\n      <td>15289</td>\n      <td>95363</td>\n      <td>63650</td>\n      <td>418435</td>\n      <td>134482</td>\n      <td>613151</td>\n      <td>205941.6</td>\n      <td>75.1</td>\n      <td>0.7656</td>\n      <td>...</td>\n      <td>0.6386</td>\n      <td>0.000021</td>\n      <td>0.26742</td>\n      <td>-6.0435</td>\n      <td>0.16209</td>\n      <td>131.8729</td>\n      <td>4.0</td>\n      <td>0.012596</td>\n      <td>0.489938</td>\n      <td>0.729002</td>\n    </tr>\n    <tr>\n      <th>(2020-03-19, 2020-03-26]</th>\n      <td>12</td>\n      <td>74891</td>\n      <td>368908</td>\n      <td>377548</td>\n      <td>2012538</td>\n      <td>470093</td>\n      <td>2724132</td>\n      <td>224878.2</td>\n      <td>81.3</td>\n      <td>0.5879</td>\n      <td>...</td>\n      <td>0.6528</td>\n      <td>0.011736</td>\n      <td>0.24372</td>\n      <td>-6.6768</td>\n      <td>0.06858</td>\n      <td>111.9682</td>\n      <td>4.0</td>\n      <td>0.061698</td>\n      <td>0.822196</td>\n      <td>0.012572</td>\n    </tr>\n    <tr>\n      <th>(2020-03-26, 2020-04-02]</th>\n      <td>13</td>\n      <td>159109</td>\n      <td>600577</td>\n      <td>1242105</td>\n      <td>5735931</td>\n      <td>752746</td>\n      <td>7324427</td>\n      <td>182674.2</td>\n      <td>85.9</td>\n      <td>0.7999</td>\n      <td>...</td>\n      <td>0.6569</td>\n      <td>0.001080</td>\n      <td>0.25622</td>\n      <td>-5.8454</td>\n      <td>0.11930</td>\n      <td>132.5027</td>\n      <td>4.0</td>\n      <td>0.131080</td>\n      <td>0.081693</td>\n      <td>0.751670</td>\n    </tr>\n    <tr>\n      <th>(2020-04-02, 2020-04-09]</th>\n      <td>14</td>\n      <td>215495</td>\n      <td>893962</td>\n      <td>2615709</td>\n      <td>11161354</td>\n      <td>1124604</td>\n      <td>14188812</td>\n      <td>183944.7</td>\n      <td>79.3</td>\n      <td>0.7970</td>\n      <td>...</td>\n      <td>0.6483</td>\n      <td>0.001081</td>\n      <td>0.21702</td>\n      <td>-6.3892</td>\n      <td>0.14085</td>\n      <td>124.2560</td>\n      <td>4.0</td>\n      <td>0.177533</td>\n      <td>0.103985</td>\n      <td>0.454847</td>\n    </tr>\n    <tr>\n      <th>(2020-04-09, 2020-04-16]</th>\n      <td>15</td>\n      <td>204507</td>\n      <td>816465</td>\n      <td>4101239</td>\n      <td>17041171</td>\n      <td>1050062</td>\n      <td>21675845</td>\n      <td>187289.0</td>\n      <td>87.6</td>\n      <td>0.7860</td>\n      <td>...</td>\n      <td>0.6290</td>\n      <td>0.001081</td>\n      <td>0.27282</td>\n      <td>-6.5907</td>\n      <td>0.13595</td>\n      <td>128.3586</td>\n      <td>4.0</td>\n      <td>0.168481</td>\n      <td>0.162664</td>\n      <td>0.602512</td>\n    </tr>\n    <tr>\n      <th>(2020-04-16, 2020-04-23]</th>\n      <td>16</td>\n      <td>200511</td>\n      <td>1081048</td>\n      <td>5505135</td>\n      <td>23395370</td>\n      <td>1333280</td>\n      <td>29745590</td>\n      <td>189259.2</td>\n      <td>87.1</td>\n      <td>0.7913</td>\n      <td>...</td>\n      <td>0.6300</td>\n      <td>0.001109</td>\n      <td>0.21050</td>\n      <td>-6.7599</td>\n      <td>0.12075</td>\n      <td>121.1598</td>\n      <td>4.0</td>\n      <td>0.165189</td>\n      <td>0.197232</td>\n      <td>0.343405</td>\n    </tr>\n    <tr>\n      <th>(2020-04-23, 2020-04-30]</th>\n      <td>17</td>\n      <td>201147</td>\n      <td>1388880</td>\n      <td>6946219</td>\n      <td>32717575</td>\n      <td>1649436</td>\n      <td>40820379</td>\n      <td>195777.9</td>\n      <td>83.6</td>\n      <td>0.7721</td>\n      <td>...</td>\n      <td>0.6229</td>\n      <td>0.001080</td>\n      <td>0.23067</td>\n      <td>-6.8360</td>\n      <td>0.09443</td>\n      <td>122.8612</td>\n      <td>4.0</td>\n      <td>0.165713</td>\n      <td>0.311608</td>\n      <td>0.404644</td>\n    </tr>\n    <tr>\n      <th>(2020-04-30, 2020-05-07]</th>\n      <td>18</td>\n      <td>184759</td>\n      <td>1650494</td>\n      <td>8282786</td>\n      <td>43363349</td>\n      <td>1888312</td>\n      <td>53197237</td>\n      <td>200892.6</td>\n      <td>80.5</td>\n      <td>0.7565</td>\n      <td>...</td>\n      <td>0.5774</td>\n      <td>0.000010</td>\n      <td>0.21397</td>\n      <td>-6.9716</td>\n      <td>0.13444</td>\n      <td>111.6189</td>\n      <td>4.0</td>\n      <td>0.152212</td>\n      <td>0.401350</td>\n      <td>0.000000</td>\n    </tr>\n    <tr>\n      <th>(2020-05-07, 2020-05-14]</th>\n      <td>19</td>\n      <td>162426</td>\n      <td>2072956</td>\n      <td>9466006</td>\n      <td>56381534</td>\n      <td>2306906</td>\n      <td>67895600</td>\n      <td>200014.7</td>\n      <td>81.6</td>\n      <td>0.7213</td>\n      <td>...</td>\n      <td>0.6090</td>\n      <td>0.000010</td>\n      <td>0.22917</td>\n      <td>-6.9023</td>\n      <td>0.12722</td>\n      <td>127.3198</td>\n      <td>3.9</td>\n      <td>0.133813</td>\n      <td>0.385946</td>\n      <td>0.565122</td>\n    </tr>\n    <tr>\n      <th>(2020-05-14, 2020-05-21]</th>\n      <td>20</td>\n      <td>158887</td>\n      <td>2569838</td>\n      <td>10582022</td>\n      <td>72731241</td>\n      <td>2814844</td>\n      <td>85967564</td>\n      <td>183943.1</td>\n      <td>87.5</td>\n      <td>0.7182</td>\n      <td>...</td>\n      <td>0.5880</td>\n      <td>0.001080</td>\n      <td>0.24683</td>\n      <td>-7.2750</td>\n      <td>0.10729</td>\n      <td>129.7794</td>\n      <td>3.9</td>\n      <td>0.130897</td>\n      <td>0.103957</td>\n      <td>0.653650</td>\n    </tr>\n    <tr>\n      <th>(2020-05-21, 2020-05-28]</th>\n      <td>21</td>\n      <td>142977</td>\n      <td>2514602</td>\n      <td>11642959</td>\n      <td>91078388</td>\n      <td>2803061</td>\n      <td>105969259</td>\n      <td>186574.7</td>\n      <td>86.9</td>\n      <td>0.7621</td>\n      <td>...</td>\n      <td>0.6220</td>\n      <td>0.000010</td>\n      <td>0.22043</td>\n      <td>-7.0127</td>\n      <td>0.12053</td>\n      <td>117.1169</td>\n      <td>4.0</td>\n      <td>0.117790</td>\n      <td>0.150131</td>\n      <td>0.197889</td>\n    </tr>\n    <tr>\n      <th>(2020-05-28, 2020-06-04]</th>\n      <td>22</td>\n      <td>149472</td>\n      <td>2930564</td>\n      <td>12674862</td>\n      <td>110166502</td>\n      <td>3197526</td>\n      <td>127264490</td>\n      <td>182184.1</td>\n      <td>80.2</td>\n      <td>0.7237</td>\n      <td>...</td>\n      <td>0.6500</td>\n      <td>0.000011</td>\n      <td>0.29243</td>\n      <td>-6.8101</td>\n      <td>0.08616</td>\n      <td>118.9676</td>\n      <td>4.0</td>\n      <td>0.123141</td>\n      <td>0.073094</td>\n      <td>0.264502</td>\n    </tr>\n    <tr>\n      <th>(2020-06-04, 2020-06-11]</th>\n      <td>23</td>\n      <td>141621</td>\n      <td>3041317</td>\n      <td>13680660</td>\n      <td>131536303</td>\n      <td>3353733</td>\n      <td>150822317</td>\n      <td>186574.7</td>\n      <td>86.5</td>\n      <td>0.7621</td>\n      <td>...</td>\n      <td>0.6220</td>\n      <td>0.000010</td>\n      <td>0.22043</td>\n      <td>-7.0127</td>\n      <td>0.12053</td>\n      <td>117.1169</td>\n      <td>4.0</td>\n      <td>0.116673</td>\n      <td>0.150131</td>\n      <td>0.197889</td>\n    </tr>\n    <tr>\n      <th>(2020-06-11, 2020-06-18]</th>\n      <td>24</td>\n      <td>162591</td>\n      <td>3341667</td>\n      <td>14736337</td>\n      <td>154040162</td>\n      <td>3590700</td>\n      <td>174896431</td>\n      <td>186827.5</td>\n      <td>87.1</td>\n      <td>0.7265</td>\n      <td>...</td>\n      <td>0.6056</td>\n      <td>0.000010</td>\n      <td>0.23333</td>\n      <td>-7.1556</td>\n      <td>0.12661</td>\n      <td>115.5503</td>\n      <td>3.9</td>\n      <td>0.133949</td>\n      <td>0.154566</td>\n      <td>0.141503</td>\n    </tr>\n    <tr>\n      <th>(2020-06-18, 2020-06-25]</th>\n      <td>25</td>\n      <td>231512</td>\n      <td>3594674</td>\n      <td>16116075</td>\n      <td>178040159</td>\n      <td>4022828</td>\n      <td>201495527</td>\n      <td>186827.5</td>\n      <td>87.1</td>\n      <td>0.7265</td>\n      <td>...</td>\n      <td>0.6056</td>\n      <td>0.000010</td>\n      <td>0.23333</td>\n      <td>-7.1556</td>\n      <td>0.12661</td>\n      <td>115.5503</td>\n      <td>3.9</td>\n      <td>0.190729</td>\n      <td>0.154566</td>\n      <td>0.141503</td>\n    </tr>\n    <tr>\n      <th>(2020-06-25, 2020-07-02]</th>\n      <td>26</td>\n      <td>320508</td>\n      <td>4057563</td>\n      <td>18088061</td>\n      <td>204818685</td>\n      <td>4695591</td>\n      <td>232403665</td>\n      <td>180952.9</td>\n      <td>88.9</td>\n      <td>0.7519</td>\n      <td>...</td>\n      <td>0.6090</td>\n      <td>0.000010</td>\n      <td>0.22460</td>\n      <td>-6.9117</td>\n      <td>0.11114</td>\n      <td>126.2607</td>\n      <td>4.0</td>\n      <td>0.264047</td>\n      <td>0.051492</td>\n      <td>0.527002</td>\n    </tr>\n    <tr>\n      <th>(2020-07-02, 2020-07-09]</th>\n      <td>27</td>\n      <td>367930</td>\n      <td>4136761</td>\n      <td>20531634</td>\n      <td>233829835</td>\n      <td>4884154</td>\n      <td>265845080</td>\n      <td>183897.6</td>\n      <td>89.4</td>\n      <td>0.7220</td>\n      <td>...</td>\n      <td>0.6171</td>\n      <td>0.000010</td>\n      <td>0.17510</td>\n      <td>-6.7043</td>\n      <td>0.13081</td>\n      <td>124.1328</td>\n      <td>4.0</td>\n      <td>0.303115</td>\n      <td>0.103159</td>\n      <td>0.450412</td>\n    </tr>\n    <tr>\n      <th>(2020-07-09, 2020-07-16]</th>\n      <td>28</td>\n      <td>446524</td>\n      <td>4879677</td>\n      <td>23441867</td>\n      <td>265551337</td>\n      <td>5790632</td>\n      <td>303663861</td>\n      <td>188624.9</td>\n      <td>47.7</td>\n      <td>0.6895</td>\n      <td>...</td>\n      <td>0.6007</td>\n      <td>0.000000</td>\n      <td>0.14190</td>\n      <td>-6.7176</td>\n      <td>0.09266</td>\n      <td>135.1020</td>\n      <td>4.0</td>\n      <td>0.367864</td>\n      <td>0.186103</td>\n      <td>0.845227</td>\n    </tr>\n    <tr>\n      <th>(2020-07-16, 2020-07-23]</th>\n      <td>29</td>\n      <td>465488</td>\n      <td>4997759</td>\n      <td>26667839</td>\n      <td>300279597</td>\n      <td>5960175</td>\n      <td>345039041</td>\n      <td>189014.9</td>\n      <td>67.2</td>\n      <td>0.7125</td>\n      <td>...</td>\n      <td>0.6488</td>\n      <td>0.000000</td>\n      <td>0.17410</td>\n      <td>-6.2465</td>\n      <td>0.11864</td>\n      <td>128.0459</td>\n      <td>4.0</td>\n      <td>0.383487</td>\n      <td>0.192946</td>\n      <td>0.591257</td>\n    </tr>\n    <tr>\n      <th>(2020-07-23, 2020-07-30]</th>\n      <td>30</td>\n      <td>446098</td>\n      <td>5260401</td>\n      <td>29863625</td>\n      <td>336719684</td>\n      <td>6251012</td>\n      <td>388291669</td>\n      <td>235011.9</td>\n      <td>79.1</td>\n      <td>0.5679</td>\n      <td>...</td>\n      <td>0.4695</td>\n      <td>0.000294</td>\n      <td>0.11738</td>\n      <td>-9.4091</td>\n      <td>0.03795</td>\n      <td>113.7589</td>\n      <td>4.0</td>\n      <td>0.367513</td>\n      <td>1.000000</td>\n      <td>0.077025</td>\n    </tr>\n    <tr>\n      <th>(2020-07-30, 2020-08-06]</th>\n      <td>31</td>\n      <td>381715</td>\n      <td>4662208</td>\n      <td>32760064</td>\n      <td>370779586</td>\n      <td>5768578</td>\n      <td>430330671</td>\n      <td>208946.2</td>\n      <td>79.0</td>\n      <td>0.6379</td>\n      <td>...</td>\n      <td>0.5837</td>\n      <td>0.013241</td>\n      <td>0.19980</td>\n      <td>-7.1521</td>\n      <td>0.08878</td>\n      <td>117.4640</td>\n      <td>4.0</td>\n      <td>0.314472</td>\n      <td>0.542656</td>\n      <td>0.210383</td>\n    </tr>\n    <tr>\n      <th>(2020-08-06, 2020-08-13]</th>\n      <td>32</td>\n      <td>368761</td>\n      <td>4679424</td>\n      <td>35345563</td>\n      <td>403474889</td>\n      <td>5568118</td>\n      <td>469372440</td>\n      <td>197088.6</td>\n      <td>91.3</td>\n      <td>0.6919</td>\n      <td>...</td>\n      <td>0.6713</td>\n      <td>0.000010</td>\n      <td>0.16199</td>\n      <td>-6.1619</td>\n      <td>0.18000</td>\n      <td>139.4021</td>\n      <td>4.0</td>\n      <td>0.303800</td>\n      <td>0.334605</td>\n      <td>1.000000</td>\n    </tr>\n    <tr>\n      <th>(2020-08-13, 2020-08-20]</th>\n      <td>33</td>\n      <td>321733</td>\n      <td>4746866</td>\n      <td>37785826</td>\n      <td>437283278</td>\n      <td>5743657</td>\n      <td>509815643</td>\n      <td>199565.2</td>\n      <td>87.5</td>\n      <td>0.7463</td>\n      <td>...</td>\n      <td>0.6580</td>\n      <td>0.000009</td>\n      <td>0.16094</td>\n      <td>-6.2769</td>\n      <td>0.15214</td>\n      <td>127.4754</td>\n      <td>4.0</td>\n      <td>0.265056</td>\n      <td>0.378059</td>\n      <td>0.570723</td>\n    </tr>\n    <tr>\n      <th>(2020-08-20, 2020-08-27]</th>\n      <td>34</td>\n      <td>287622</td>\n      <td>4566500</td>\n      <td>39849481</td>\n      <td>469244277</td>\n      <td>5492422</td>\n      <td>548575313</td>\n      <td>198458.3</td>\n      <td>88.3</td>\n      <td>0.7584</td>\n      <td>...</td>\n      <td>0.6570</td>\n      <td>0.000003</td>\n      <td>0.15830</td>\n      <td>-6.1980</td>\n      <td>0.15959</td>\n      <td>128.6837</td>\n      <td>4.0</td>\n      <td>0.236954</td>\n      <td>0.358638</td>\n      <td>0.614213</td>\n    </tr>\n    <tr>\n      <th>(2020-08-27, 2020-09-03]</th>\n      <td>35</td>\n      <td>277903</td>\n      <td>4742063</td>\n      <td>41841066</td>\n      <td>502121079</td>\n      <td>5813836</td>\n      <td>588338676</td>\n      <td>198281.8</td>\n      <td>91.2</td>\n      <td>0.7301</td>\n      <td>...</td>\n      <td>0.6203</td>\n      <td>0.000003</td>\n      <td>0.17984</td>\n      <td>-6.4478</td>\n      <td>0.14759</td>\n      <td>125.6082</td>\n      <td>3.9</td>\n      <td>0.228947</td>\n      <td>0.355541</td>\n      <td>0.503517</td>\n    </tr>\n    <tr>\n      <th>(2020-09-03, 2020-09-10]</th>\n      <td>36</td>\n      <td>247933</td>\n      <td>4483202</td>\n      <td>43718196</td>\n      <td>535343887</td>\n      <td>5566062</td>\n      <td>629248666</td>\n      <td>198281.8</td>\n      <td>91.2</td>\n      <td>0.7301</td>\n      <td>...</td>\n      <td>0.6203</td>\n      <td>0.000003</td>\n      <td>0.17984</td>\n      <td>-6.4478</td>\n      <td>0.14759</td>\n      <td>125.6082</td>\n      <td>3.9</td>\n      <td>0.204257</td>\n      <td>0.355541</td>\n      <td>0.503517</td>\n    </tr>\n    <tr>\n      <th>(2020-09-10, 2020-09-17]</th>\n      <td>37</td>\n      <td>272787</td>\n      <td>4529747</td>\n      <td>45479682</td>\n      <td>565741197</td>\n      <td>5805413</td>\n      <td>667763686</td>\n      <td>198499.9</td>\n      <td>90.8</td>\n      <td>0.7744</td>\n      <td>...</td>\n      <td>0.6338</td>\n      <td>0.000003</td>\n      <td>0.16104</td>\n      <td>-6.1995</td>\n      <td>0.17036</td>\n      <td>131.7075</td>\n      <td>4.0</td>\n      <td>0.224733</td>\n      <td>0.359368</td>\n      <td>0.723048</td>\n    </tr>\n    <tr>\n      <th>(2020-09-17, 2020-09-24]</th>\n      <td>38</td>\n      <td>298240</td>\n      <td>5505253</td>\n      <td>47494220</td>\n      <td>601617969</td>\n      <td>6932357</td>\n      <td>713355297</td>\n      <td>200247.1</td>\n      <td>92.4</td>\n      <td>0.7767</td>\n      <td>...</td>\n      <td>0.6429</td>\n      <td>0.000003</td>\n      <td>0.14332</td>\n      <td>-6.3921</td>\n      <td>0.19356</td>\n      <td>125.4022</td>\n      <td>4.0</td>\n      <td>0.245702</td>\n      <td>0.390024</td>\n      <td>0.496102</td>\n    </tr>\n    <tr>\n      <th>(2020-09-24, 2020-10-01]</th>\n      <td>39</td>\n      <td>299856</td>\n      <td>5496703</td>\n      <td>49611461</td>\n      <td>640289874</td>\n      <td>7141604</td>\n      <td>762856195</td>\n      <td>199978.1</td>\n      <td>91.9</td>\n      <td>0.7977</td>\n      <td>...</td>\n      <td>0.6314</td>\n      <td>0.000003</td>\n      <td>0.14702</td>\n      <td>-6.4145</td>\n      <td>0.21469</td>\n      <td>126.4012</td>\n      <td>4.0</td>\n      <td>0.247033</td>\n      <td>0.385304</td>\n      <td>0.532059</td>\n    </tr>\n    <tr>\n      <th>(2020-10-01, 2020-10-08]</th>\n      <td>40</td>\n      <td>320652</td>\n      <td>5819892</td>\n      <td>51742130</td>\n      <td>679947805</td>\n      <td>7408043</td>\n      <td>813785493</td>\n      <td>194358.2</td>\n      <td>90.6</td>\n      <td>0.7338</td>\n      <td>...</td>\n      <td>0.6305</td>\n      <td>0.010106</td>\n      <td>0.14552</td>\n      <td>-6.2222</td>\n      <td>0.19090</td>\n      <td>129.5987</td>\n      <td>4.0</td>\n      <td>0.264166</td>\n      <td>0.286698</td>\n      <td>0.647146</td>\n    </tr>\n    <tr>\n      <th>(2020-10-08, 2020-10-15]</th>\n      <td>41</td>\n      <td>371233</td>\n      <td>5926683</td>\n      <td>54187604</td>\n      <td>721421640</td>\n      <td>7798791</td>\n      <td>867315609</td>\n      <td>198092.6</td>\n      <td>92.8</td>\n      <td>0.7622</td>\n      <td>...</td>\n      <td>0.6039</td>\n      <td>0.000432</td>\n      <td>0.13502</td>\n      <td>-7.2498</td>\n      <td>0.20335</td>\n      <td>117.7173</td>\n      <td>4.0</td>\n      <td>0.305836</td>\n      <td>0.352221</td>\n      <td>0.219500</td>\n    </tr>\n    <tr>\n      <th>(2020-10-15, 2020-10-22]</th>\n      <td>42</td>\n      <td>425319</td>\n      <td>6090183</td>\n      <td>56988783</td>\n      <td>763365865</td>\n      <td>7840317</td>\n      <td>922168037</td>\n      <td>190890.9</td>\n      <td>91.4</td>\n      <td>0.7418</td>\n      <td>...</td>\n      <td>0.6398</td>\n      <td>0.000004</td>\n      <td>0.14225</td>\n      <td>-6.6349</td>\n      <td>0.17856</td>\n      <td>121.4000</td>\n      <td>4.0</td>\n      <td>0.350394</td>\n      <td>0.225862</td>\n      <td>0.352051</td>\n    </tr>\n    <tr>\n      <th>(2020-10-22, 2020-10-29]</th>\n      <td>43</td>\n      <td>532596</td>\n      <td>6508030</td>\n      <td>60411138</td>\n      <td>807462360</td>\n      <td>8605930</td>\n      <td>980018957</td>\n      <td>190890.9</td>\n      <td>91.4</td>\n      <td>0.7418</td>\n      <td>...</td>\n      <td>0.6398</td>\n      <td>0.000004</td>\n      <td>0.14225</td>\n      <td>-6.6349</td>\n      <td>0.17856</td>\n      <td>121.4000</td>\n      <td>4.0</td>\n      <td>0.438774</td>\n      <td>0.225862</td>\n      <td>0.352051</td>\n    </tr>\n    <tr>\n      <th>(2020-10-29, 2020-11-05]</th>\n      <td>44</td>\n      <td>650133</td>\n      <td>6797916</td>\n      <td>64530876</td>\n      <td>853366345</td>\n      <td>9126792</td>\n      <td>1041344994</td>\n      <td>187491.4</td>\n      <td>93.0</td>\n      <td>0.7243</td>\n      <td>...</td>\n      <td>0.6178</td>\n      <td>0.000005</td>\n      <td>0.17765</td>\n      <td>-6.3744</td>\n      <td>0.11459</td>\n      <td>119.1091</td>\n      <td>3.7</td>\n      <td>0.535605</td>\n      <td>0.166215</td>\n      <td>0.269595</td>\n    </tr>\n    <tr>\n      <th>(2020-11-05, 2020-11-12]</th>\n      <td>45</td>\n      <td>912720</td>\n      <td>7195535</td>\n      <td>70097178</td>\n      <td>903244770</td>\n      <td>9891103</td>\n      <td>1108821522</td>\n      <td>188846.8</td>\n      <td>94.9</td>\n      <td>0.7513</td>\n      <td>...</td>\n      <td>0.5980</td>\n      <td>0.000009</td>\n      <td>0.14525</td>\n      <td>-6.8149</td>\n      <td>0.14696</td>\n      <td>120.3765</td>\n      <td>4.0</td>\n      <td>0.751935</td>\n      <td>0.189996</td>\n      <td>0.315212</td>\n    </tr>\n    <tr>\n      <th>(2020-11-12, 2020-11-19]</th>\n      <td>46</td>\n      <td>1132498</td>\n      <td>8131962</td>\n      <td>77450854</td>\n      <td>957081324</td>\n      <td>11333722</td>\n      <td>1183554306</td>\n      <td>180129.7</td>\n      <td>95.3</td>\n      <td>0.7641</td>\n      <td>...</td>\n      <td>0.5802</td>\n      <td>0.013005</td>\n      <td>0.14005</td>\n      <td>-6.7051</td>\n      <td>0.14053</td>\n      <td>116.3798</td>\n      <td>4.0</td>\n      <td>0.932996</td>\n      <td>0.037048</td>\n      <td>0.171359</td>\n    </tr>\n    <tr>\n      <th>(2020-11-19, 2020-11-26]</th>\n      <td>47</td>\n      <td>1151292</td>\n      <td>8785999</td>\n      <td>85674235</td>\n      <td>1018557042</td>\n      <td>12107861</td>\n      <td>1268775773</td>\n      <td>178018.2</td>\n      <td>94.3</td>\n      <td>0.7754</td>\n      <td>...</td>\n      <td>0.5643</td>\n      <td>0.013005</td>\n      <td>0.13733</td>\n      <td>-6.7645</td>\n      <td>0.10771</td>\n      <td>123.0740</td>\n      <td>4.0</td>\n      <td>0.948480</td>\n      <td>0.000000</td>\n      <td>0.412303</td>\n    </tr>\n    <tr>\n      <th>(2020-11-26, 2020-12-03]</th>\n      <td>48</td>\n      <td>1213829</td>\n      <td>9046533</td>\n      <td>93634537</td>\n      <td>1079371903</td>\n      <td>12357505</td>\n      <td>1352104345</td>\n      <td>186295.0</td>\n      <td>90.6</td>\n      <td>0.6271</td>\n      <td>...</td>\n      <td>0.5766</td>\n      <td>0.000006</td>\n      <td>0.19771</td>\n      <td>-8.3615</td>\n      <td>0.06265</td>\n      <td>134.2458</td>\n      <td>3.9</td>\n      <td>1.000000</td>\n      <td>0.145223</td>\n      <td>0.814409</td>\n    </tr>\n  </tbody>\n</table>\n<p>48 rows × 22 columns</p>\n</div>"
     },
     "metadata": {},
     "execution_count": 113
    }
   ],
   "source": [
    "merged"
   ]
  },
  {
   "cell_type": "code",
   "execution_count": null,
   "metadata": {},
   "outputs": [],
   "source": []
  }
 ],
 "metadata": {
  "kernelspec": {
   "name": "python3",
   "display_name": "Python 3.9.0 64-bit",
   "metadata": {
    "interpreter": {
     "hash": "d23ef034e8ade8fc2f3c7e2f9e5372530fd3e5069b8add3d59bbda26e04acbd0"
    }
   }
  },
  "language_info": {
   "codemirror_mode": {
    "name": "ipython",
    "version": 3
   },
   "file_extension": ".py",
   "mimetype": "text/x-python",
   "name": "python",
   "nbconvert_exporter": "python",
   "pygments_lexer": "ipython3",
   "version": "3.9.0-final"
  }
 },
 "nbformat": 4,
 "nbformat_minor": 4
}