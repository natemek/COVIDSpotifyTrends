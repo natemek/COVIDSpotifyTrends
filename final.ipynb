{
 "cells": [
  {
   "cell_type": "markdown",
   "metadata": {},
   "source": [
    "# The Pandemic's Effect on Trends in Music: Exploration"
   ]
  },
  {
   "cell_type": "markdown",
   "metadata": {},
   "source": [
    "Authors: Natnael Mekonnen, Sonya Lew, and Daniel Park"
   ]
  },
  {
   "cell_type": "markdown",
   "metadata": {},
   "source": [
    "## Introduction"
   ]
  },
  {
   "cell_type": "markdown",
   "metadata": {},
   "source": [
    "Why did we choose this topic? What is the importance?\n",
    "Do we anticipate to be any changes?"
   ]
  },
  {
   "cell_type": "markdown",
   "metadata": {},
   "source": [
    "## 1. Data Scraping"
   ]
  },
  {
   "cell_type": "markdown",
   "metadata": {},
   "source": [
    "To explore the pandemic's effect on music, we chose to compare the COVID data in the US with the top 20 list on Spotify since January 2020. The COVID data will be extracted from the Atlantic's [The COVID Tracking Project](https://covidtracking.com/data/national) which has been constantly updating the data everyday with representatives from 50 states, 5 territories, and District of Colombia. On the other hand, the Spotify top 20 will be extracted from the [Spotify Charts](https://spotifycharts.com/) on a weekly starting from January 2020. The charts does not have a detail information on the song so we will get more detail by querying the Spotify API.  "
   ]
  },
  {
   "cell_type": "markdown",
   "metadata": {},
   "source": [
    "Import the necessary libraries: "
   ]
  },
  {
   "cell_type": "code",
   "execution_count": 2,
   "metadata": {},
   "outputs": [],
   "source": [
    "import pandas as pd\n",
    "import matplotlib.pyplot as plt\n",
    "import numpy as np\n",
    "import seaborn as sns"
   ]
  },
  {
   "cell_type": "markdown",
   "metadata": {},
   "source": [
    "## 1.1 Load and View COVID data"
   ]
  },
  {
   "cell_type": "code",
   "execution_count": 3,
   "metadata": {},
   "outputs": [
    {
     "output_type": "execute_result",
     "data": {
      "text/plain": [
       "         date     death  deathIncrease  inIcuCumulative  inIcuCurrently  \\\n",
       "0  2020-12-07  274745.0           1347          32120.0         20098.0   \n",
       "1  2020-12-06  273398.0           1146          31946.0         20145.0   \n",
       "2  2020-12-05  272252.0           2461          31831.0         19947.0   \n",
       "3  2020-12-04  269791.0           2563          31608.0         19858.0   \n",
       "4  2020-12-03  267228.0           2706          31276.0         19723.0   \n",
       "\n",
       "   hospitalizedIncrease  hospitalizedCurrently  hospitalizedCumulative  \\\n",
       "0                  3614               102148.0                589486.0   \n",
       "1                  2311               101501.0                585872.0   \n",
       "2                  3457               101192.0                583561.0   \n",
       "3                  4652               101276.0                580104.0   \n",
       "4                  5331               100755.0                575452.0   \n",
       "\n",
       "    negative  negativeIncrease  onVentilatorCumulative  onVentilatorCurrently  \\\n",
       "0  163378726           1386381                  3328.0                 7073.0   \n",
       "1  161992345           1175503                  3322.0                 7095.0   \n",
       "2  160816842           1530133                  3321.0                 7006.0   \n",
       "3  159286709           1260657                  3305.0                 6999.0   \n",
       "4  158026052           1238465                  3280.0                 6867.0   \n",
       "\n",
       "   positive  positiveIncrease  recovered  states  totalTestResults  \\\n",
       "0  14717065            180193  5714557.0      56         205934174   \n",
       "1  14536872            177801  5624609.0      56         204098786   \n",
       "2  14359071            212880  5576152.0      56         202450480   \n",
       "3  14146191            224831  5470389.0      56         200259581   \n",
       "4  13921360            210204  5404018.0      56         198404712   \n",
       "\n",
       "   totalTestResultsIncrease  \n",
       "0                   1835388  \n",
       "1                   1648306  \n",
       "2                   2190899  \n",
       "3                   1854869  \n",
       "4                   1828230  "
      ],
      "text/html": "<div>\n<style scoped>\n    .dataframe tbody tr th:only-of-type {\n        vertical-align: middle;\n    }\n\n    .dataframe tbody tr th {\n        vertical-align: top;\n    }\n\n    .dataframe thead th {\n        text-align: right;\n    }\n</style>\n<table border=\"1\" class=\"dataframe\">\n  <thead>\n    <tr style=\"text-align: right;\">\n      <th></th>\n      <th>date</th>\n      <th>death</th>\n      <th>deathIncrease</th>\n      <th>inIcuCumulative</th>\n      <th>inIcuCurrently</th>\n      <th>hospitalizedIncrease</th>\n      <th>hospitalizedCurrently</th>\n      <th>hospitalizedCumulative</th>\n      <th>negative</th>\n      <th>negativeIncrease</th>\n      <th>onVentilatorCumulative</th>\n      <th>onVentilatorCurrently</th>\n      <th>positive</th>\n      <th>positiveIncrease</th>\n      <th>recovered</th>\n      <th>states</th>\n      <th>totalTestResults</th>\n      <th>totalTestResultsIncrease</th>\n    </tr>\n  </thead>\n  <tbody>\n    <tr>\n      <th>0</th>\n      <td>2020-12-07</td>\n      <td>274745.0</td>\n      <td>1347</td>\n      <td>32120.0</td>\n      <td>20098.0</td>\n      <td>3614</td>\n      <td>102148.0</td>\n      <td>589486.0</td>\n      <td>163378726</td>\n      <td>1386381</td>\n      <td>3328.0</td>\n      <td>7073.0</td>\n      <td>14717065</td>\n      <td>180193</td>\n      <td>5714557.0</td>\n      <td>56</td>\n      <td>205934174</td>\n      <td>1835388</td>\n    </tr>\n    <tr>\n      <th>1</th>\n      <td>2020-12-06</td>\n      <td>273398.0</td>\n      <td>1146</td>\n      <td>31946.0</td>\n      <td>20145.0</td>\n      <td>2311</td>\n      <td>101501.0</td>\n      <td>585872.0</td>\n      <td>161992345</td>\n      <td>1175503</td>\n      <td>3322.0</td>\n      <td>7095.0</td>\n      <td>14536872</td>\n      <td>177801</td>\n      <td>5624609.0</td>\n      <td>56</td>\n      <td>204098786</td>\n      <td>1648306</td>\n    </tr>\n    <tr>\n      <th>2</th>\n      <td>2020-12-05</td>\n      <td>272252.0</td>\n      <td>2461</td>\n      <td>31831.0</td>\n      <td>19947.0</td>\n      <td>3457</td>\n      <td>101192.0</td>\n      <td>583561.0</td>\n      <td>160816842</td>\n      <td>1530133</td>\n      <td>3321.0</td>\n      <td>7006.0</td>\n      <td>14359071</td>\n      <td>212880</td>\n      <td>5576152.0</td>\n      <td>56</td>\n      <td>202450480</td>\n      <td>2190899</td>\n    </tr>\n    <tr>\n      <th>3</th>\n      <td>2020-12-04</td>\n      <td>269791.0</td>\n      <td>2563</td>\n      <td>31608.0</td>\n      <td>19858.0</td>\n      <td>4652</td>\n      <td>101276.0</td>\n      <td>580104.0</td>\n      <td>159286709</td>\n      <td>1260657</td>\n      <td>3305.0</td>\n      <td>6999.0</td>\n      <td>14146191</td>\n      <td>224831</td>\n      <td>5470389.0</td>\n      <td>56</td>\n      <td>200259581</td>\n      <td>1854869</td>\n    </tr>\n    <tr>\n      <th>4</th>\n      <td>2020-12-03</td>\n      <td>267228.0</td>\n      <td>2706</td>\n      <td>31276.0</td>\n      <td>19723.0</td>\n      <td>5331</td>\n      <td>100755.0</td>\n      <td>575452.0</td>\n      <td>158026052</td>\n      <td>1238465</td>\n      <td>3280.0</td>\n      <td>6867.0</td>\n      <td>13921360</td>\n      <td>210204</td>\n      <td>5404018.0</td>\n      <td>56</td>\n      <td>198404712</td>\n      <td>1828230</td>\n    </tr>\n  </tbody>\n</table>\n</div>"
     },
     "metadata": {},
     "execution_count": 3
    }
   ],
   "source": [
    "covid_data = pd.read_csv('national-history.csv')\n",
    "covid_data.head()"
   ]
  },
  {
   "cell_type": "markdown",
   "metadata": {},
   "source": [
    "The COVID data is detailed but since this project is finding its relationship with music, most of the unnecessary columns will be dropped."
   ]
  },
  {
   "cell_type": "code",
   "execution_count": 4,
   "metadata": {},
   "outputs": [],
   "source": [
    "covid_data = covid_data.drop(['death','deathIncrease','inIcuCumulative','inIcuCurrently', 'hospitalizedIncrease','hospitalizedCurrently','hospitalizedCumulative','onVentilatorCumulative','onVentilatorCurrently','recovered','states'], axis=1)"
   ]
  },
  {
   "cell_type": "markdown",
   "metadata": {},
   "source": [
    "Knowing that the Spotify data is grouped on a weekly basis starting on a Friday, the next step is to prepare the COVID data so it is easy to merge."
   ]
  },
  {
   "cell_type": "code",
   "execution_count": 5,
   "metadata": {},
   "outputs": [],
   "source": [
    "# Creating a custom interval index for grouping the data which starts from begining of the year on a Friday and continues weekly\n",
    "i = pd.to_datetime('01/02/2020')\n",
    "bins = []\n",
    "while i < pd.to_datetime('12/12/2020'):\n",
    "    temp = i + pd.Timedelta('7 days')\n",
    "    bins.append((i,temp))\n",
    "    i = temp\n",
    "bins = pd.IntervalIndex.from_tuples(bins)"
   ]
  },
  {
   "cell_type": "code",
   "execution_count": 6,
   "metadata": {},
   "outputs": [
    {
     "output_type": "execute_result",
     "data": {
      "text/plain": [
       "                          negative  negativeIncrease  positive  \\\n",
       "week                                                             \n",
       "(2020-01-02, 2020-01-09]         0                 0         0   \n",
       "(2020-01-09, 2020-01-16]         0                 0         0   \n",
       "(2020-01-16, 2020-01-23]         0                 0         0   \n",
       "(2020-01-23, 2020-01-30]         0                 0         0   \n",
       "(2020-01-30, 2020-02-06]         0                 0         0   \n",
       "(2020-02-06, 2020-02-13]         0                 0         0   \n",
       "(2020-02-13, 2020-02-20]         0                 0         0   \n",
       "(2020-02-20, 2020-02-27]         0                 0         0   \n",
       "(2020-02-27, 2020-03-05]      4138              1943       953   \n",
       "(2020-03-05, 2020-03-12]     55851             15934      9467   \n",
       "\n",
       "                          positiveIncrease  totalTestResults  \\\n",
       "week                                                           \n",
       "(2020-01-02, 2020-01-09]                 0                 0   \n",
       "(2020-01-09, 2020-01-16]                 0                 0   \n",
       "(2020-01-16, 2020-01-23]                 0                 3   \n",
       "(2020-01-23, 2020-01-30]                 0                22   \n",
       "(2020-01-30, 2020-02-06]                 0                81   \n",
       "(2020-02-06, 2020-02-13]                 0               134   \n",
       "(2020-02-13, 2020-02-20]                 0               205   \n",
       "(2020-02-20, 2020-02-27]                 0              6722   \n",
       "(2020-02-27, 2020-03-05]               367             50810   \n",
       "(2020-03-05, 2020-03-12]              2429            114350   \n",
       "\n",
       "                          totalTestResultsIncrease  week#  \n",
       "week                                                       \n",
       "(2020-01-02, 2020-01-09]                         0      1  \n",
       "(2020-01-09, 2020-01-16]                         0      2  \n",
       "(2020-01-16, 2020-01-23]                         1      3  \n",
       "(2020-01-23, 2020-01-30]                         3      4  \n",
       "(2020-01-30, 2020-02-06]                        11      5  \n",
       "(2020-02-06, 2020-02-13]                         6      6  \n",
       "(2020-02-13, 2020-02-20]                        14      7  \n",
       "(2020-02-20, 2020-02-27]                      6451      8  \n",
       "(2020-02-27, 2020-03-05]                      2376      9  \n",
       "(2020-03-05, 2020-03-12]                     19561     10  "
      ],
      "text/html": "<div>\n<style scoped>\n    .dataframe tbody tr th:only-of-type {\n        vertical-align: middle;\n    }\n\n    .dataframe tbody tr th {\n        vertical-align: top;\n    }\n\n    .dataframe thead th {\n        text-align: right;\n    }\n</style>\n<table border=\"1\" class=\"dataframe\">\n  <thead>\n    <tr style=\"text-align: right;\">\n      <th></th>\n      <th>negative</th>\n      <th>negativeIncrease</th>\n      <th>positive</th>\n      <th>positiveIncrease</th>\n      <th>totalTestResults</th>\n      <th>totalTestResultsIncrease</th>\n      <th>week#</th>\n    </tr>\n    <tr>\n      <th>week</th>\n      <th></th>\n      <th></th>\n      <th></th>\n      <th></th>\n      <th></th>\n      <th></th>\n      <th></th>\n    </tr>\n  </thead>\n  <tbody>\n    <tr>\n      <th>(2020-01-02, 2020-01-09]</th>\n      <td>0</td>\n      <td>0</td>\n      <td>0</td>\n      <td>0</td>\n      <td>0</td>\n      <td>0</td>\n      <td>1</td>\n    </tr>\n    <tr>\n      <th>(2020-01-09, 2020-01-16]</th>\n      <td>0</td>\n      <td>0</td>\n      <td>0</td>\n      <td>0</td>\n      <td>0</td>\n      <td>0</td>\n      <td>2</td>\n    </tr>\n    <tr>\n      <th>(2020-01-16, 2020-01-23]</th>\n      <td>0</td>\n      <td>0</td>\n      <td>0</td>\n      <td>0</td>\n      <td>3</td>\n      <td>1</td>\n      <td>3</td>\n    </tr>\n    <tr>\n      <th>(2020-01-23, 2020-01-30]</th>\n      <td>0</td>\n      <td>0</td>\n      <td>0</td>\n      <td>0</td>\n      <td>22</td>\n      <td>3</td>\n      <td>4</td>\n    </tr>\n    <tr>\n      <th>(2020-01-30, 2020-02-06]</th>\n      <td>0</td>\n      <td>0</td>\n      <td>0</td>\n      <td>0</td>\n      <td>81</td>\n      <td>11</td>\n      <td>5</td>\n    </tr>\n    <tr>\n      <th>(2020-02-06, 2020-02-13]</th>\n      <td>0</td>\n      <td>0</td>\n      <td>0</td>\n      <td>0</td>\n      <td>134</td>\n      <td>6</td>\n      <td>6</td>\n    </tr>\n    <tr>\n      <th>(2020-02-13, 2020-02-20]</th>\n      <td>0</td>\n      <td>0</td>\n      <td>0</td>\n      <td>0</td>\n      <td>205</td>\n      <td>14</td>\n      <td>7</td>\n    </tr>\n    <tr>\n      <th>(2020-02-20, 2020-02-27]</th>\n      <td>0</td>\n      <td>0</td>\n      <td>0</td>\n      <td>0</td>\n      <td>6722</td>\n      <td>6451</td>\n      <td>8</td>\n    </tr>\n    <tr>\n      <th>(2020-02-27, 2020-03-05]</th>\n      <td>4138</td>\n      <td>1943</td>\n      <td>953</td>\n      <td>367</td>\n      <td>50810</td>\n      <td>2376</td>\n      <td>9</td>\n    </tr>\n    <tr>\n      <th>(2020-03-05, 2020-03-12]</th>\n      <td>55851</td>\n      <td>15934</td>\n      <td>9467</td>\n      <td>2429</td>\n      <td>114350</td>\n      <td>19561</td>\n      <td>10</td>\n    </tr>\n  </tbody>\n</table>\n</div>"
     },
     "metadata": {},
     "execution_count": 6
    }
   ],
   "source": [
    "# Convert the date from the dataframe to a pandas date and time format to be comuted in the cutting\n",
    "covid_data['date'] = pd.to_datetime(covid_data['date'])\n",
    "\n",
    "# Using the interval index created above, create a new column week which has the week interval of the data\n",
    "covid_data['week'] = pd.cut(covid_data['date'], bins)\n",
    "\n",
    "# Now that every row has a week interval, they will be grouped with the total for each column \n",
    "grouped_covid = covid_data.groupby(['week']).sum()\n",
    "\n",
    "# Number the weeks to easily identify\n",
    "grouped_covid['week#'] = list(range(1,len(bins)+1))\n",
    "\n",
    "grouped_covid.head(10)"
   ]
  },
  {
   "cell_type": "code",
   "execution_count": 7,
   "metadata": {},
   "outputs": [
    {
     "output_type": "execute_result",
     "data": {
      "text/plain": [
       "                          week#  positiveIncrease  negativeIncrease  positive  \\\n",
       "week                                                                            \n",
       "(2020-01-02, 2020-01-09]      1                 0                 0         0   \n",
       "(2020-01-09, 2020-01-16]      2                 0                 0         0   \n",
       "(2020-01-16, 2020-01-23]      3                 0                 0         0   \n",
       "(2020-01-23, 2020-01-30]      4                 0                 0         0   \n",
       "(2020-01-30, 2020-02-06]      5                 0                 0         0   \n",
       "(2020-02-06, 2020-02-13]      6                 0                 0         0   \n",
       "(2020-02-13, 2020-02-20]      7                 0                 0         0   \n",
       "(2020-02-20, 2020-02-27]      8                 0                 0         0   \n",
       "(2020-02-27, 2020-03-05]      9               367              1943       953   \n",
       "(2020-03-05, 2020-03-12]     10              2429             15934      9467   \n",
       "\n",
       "                          negative  totalTestResultsIncrease  totalTestResults  \n",
       "week                                                                            \n",
       "(2020-01-02, 2020-01-09]         0                         0                 0  \n",
       "(2020-01-09, 2020-01-16]         0                         0                 0  \n",
       "(2020-01-16, 2020-01-23]         0                         1                 3  \n",
       "(2020-01-23, 2020-01-30]         0                         3                22  \n",
       "(2020-01-30, 2020-02-06]         0                        11                81  \n",
       "(2020-02-06, 2020-02-13]         0                         6               134  \n",
       "(2020-02-13, 2020-02-20]         0                        14               205  \n",
       "(2020-02-20, 2020-02-27]         0                      6451              6722  \n",
       "(2020-02-27, 2020-03-05]      4138                      2376             50810  \n",
       "(2020-03-05, 2020-03-12]     55851                     19561            114350  "
      ],
      "text/html": "<div>\n<style scoped>\n    .dataframe tbody tr th:only-of-type {\n        vertical-align: middle;\n    }\n\n    .dataframe tbody tr th {\n        vertical-align: top;\n    }\n\n    .dataframe thead th {\n        text-align: right;\n    }\n</style>\n<table border=\"1\" class=\"dataframe\">\n  <thead>\n    <tr style=\"text-align: right;\">\n      <th></th>\n      <th>week#</th>\n      <th>positiveIncrease</th>\n      <th>negativeIncrease</th>\n      <th>positive</th>\n      <th>negative</th>\n      <th>totalTestResultsIncrease</th>\n      <th>totalTestResults</th>\n    </tr>\n    <tr>\n      <th>week</th>\n      <th></th>\n      <th></th>\n      <th></th>\n      <th></th>\n      <th></th>\n      <th></th>\n      <th></th>\n    </tr>\n  </thead>\n  <tbody>\n    <tr>\n      <th>(2020-01-02, 2020-01-09]</th>\n      <td>1</td>\n      <td>0</td>\n      <td>0</td>\n      <td>0</td>\n      <td>0</td>\n      <td>0</td>\n      <td>0</td>\n    </tr>\n    <tr>\n      <th>(2020-01-09, 2020-01-16]</th>\n      <td>2</td>\n      <td>0</td>\n      <td>0</td>\n      <td>0</td>\n      <td>0</td>\n      <td>0</td>\n      <td>0</td>\n    </tr>\n    <tr>\n      <th>(2020-01-16, 2020-01-23]</th>\n      <td>3</td>\n      <td>0</td>\n      <td>0</td>\n      <td>0</td>\n      <td>0</td>\n      <td>1</td>\n      <td>3</td>\n    </tr>\n    <tr>\n      <th>(2020-01-23, 2020-01-30]</th>\n      <td>4</td>\n      <td>0</td>\n      <td>0</td>\n      <td>0</td>\n      <td>0</td>\n      <td>3</td>\n      <td>22</td>\n    </tr>\n    <tr>\n      <th>(2020-01-30, 2020-02-06]</th>\n      <td>5</td>\n      <td>0</td>\n      <td>0</td>\n      <td>0</td>\n      <td>0</td>\n      <td>11</td>\n      <td>81</td>\n    </tr>\n    <tr>\n      <th>(2020-02-06, 2020-02-13]</th>\n      <td>6</td>\n      <td>0</td>\n      <td>0</td>\n      <td>0</td>\n      <td>0</td>\n      <td>6</td>\n      <td>134</td>\n    </tr>\n    <tr>\n      <th>(2020-02-13, 2020-02-20]</th>\n      <td>7</td>\n      <td>0</td>\n      <td>0</td>\n      <td>0</td>\n      <td>0</td>\n      <td>14</td>\n      <td>205</td>\n    </tr>\n    <tr>\n      <th>(2020-02-20, 2020-02-27]</th>\n      <td>8</td>\n      <td>0</td>\n      <td>0</td>\n      <td>0</td>\n      <td>0</td>\n      <td>6451</td>\n      <td>6722</td>\n    </tr>\n    <tr>\n      <th>(2020-02-27, 2020-03-05]</th>\n      <td>9</td>\n      <td>367</td>\n      <td>1943</td>\n      <td>953</td>\n      <td>4138</td>\n      <td>2376</td>\n      <td>50810</td>\n    </tr>\n    <tr>\n      <th>(2020-03-05, 2020-03-12]</th>\n      <td>10</td>\n      <td>2429</td>\n      <td>15934</td>\n      <td>9467</td>\n      <td>55851</td>\n      <td>19561</td>\n      <td>114350</td>\n    </tr>\n  </tbody>\n</table>\n</div>"
     },
     "metadata": {},
     "execution_count": 7
    }
   ],
   "source": [
    "column_names = ['week#','positiveIncrease','negativeIncrease','positive','negative','totalTestResultsIncrease','totalTestResults']\n",
    "grouped_covid = grouped_covid.reindex(columns=column_names)\n",
    "\n",
    "grouped_covid.head(10)"
   ]
  },
  {
   "source": [
    "## 1.2 Load and View Spotify Top 20 Weekly Data"
   ],
   "cell_type": "markdown",
   "metadata": {}
  },
  {
   "source": [
    "As mentioned above, the weekly Spotify top 10 list for 2020 has been downloaded as a csv file. However, since the data is not robust, the Spotify developer API was used to get more detail information on the songs and collectively stored under `data.csv`. The script to run this process is under `spotify_data_extraction.py`."
   ],
   "cell_type": "markdown",
   "metadata": {}
  },
  {
   "cell_type": "code",
   "execution_count": 8,
   "metadata": {},
   "outputs": [
    {
     "output_type": "execute_result",
     "data": {
      "text/plain": [
       "      name                                  album          artist  \\\n",
       "0  The Box  Please Excuse Me For Being Antisocial     Roddy Ricch   \n",
       "1  ROXANNE                                ROXANNE  Arizona Zervas   \n",
       "2    Yummy                                  Yummy   Justin Bieber   \n",
       "3  Circles                   Hollywood's Bleeding     Post Malone   \n",
       "4      BOP                                   KIRK          DaBaby   \n",
       "\n",
       "  release_date  length  popularity  danceability  acousticness  \\\n",
       "0   2019-12-06  196652          90         0.896        0.1040   \n",
       "1   2019-10-10  163636          88         0.621        0.0522   \n",
       "2   2020-01-03  210426          79         0.687        0.3660   \n",
       "3   2019-09-06  215280          90         0.695        0.1920   \n",
       "4   2019-09-27  159714          85         0.769        0.1890   \n",
       "\n",
       "   danceability.1  energy  instrumentalness  liveness  loudness  speechiness  \\\n",
       "0           0.896   0.586           0.00000    0.7900    -6.687       0.0559   \n",
       "1           0.621   0.601           0.00000    0.4600    -5.616       0.1480   \n",
       "2           0.687   0.514           0.00000    0.1160    -6.612       0.0897   \n",
       "3           0.695   0.762           0.00244    0.0863    -3.497       0.0395   \n",
       "4           0.769   0.787           0.00000    0.1290    -3.909       0.3670   \n",
       "\n",
       "     tempo  time_signature  start_date    end_date  \n",
       "0  116.971               4  2020-01-03  2020-01-10  \n",
       "1  116.735               5  2020-01-03  2020-01-10  \n",
       "2  145.921               4  2020-01-03  2020-01-10  \n",
       "3  120.042               4  2020-01-03  2020-01-10  \n",
       "4  126.770               4  2020-01-03  2020-01-10  "
      ],
      "text/html": "<div>\n<style scoped>\n    .dataframe tbody tr th:only-of-type {\n        vertical-align: middle;\n    }\n\n    .dataframe tbody tr th {\n        vertical-align: top;\n    }\n\n    .dataframe thead th {\n        text-align: right;\n    }\n</style>\n<table border=\"1\" class=\"dataframe\">\n  <thead>\n    <tr style=\"text-align: right;\">\n      <th></th>\n      <th>name</th>\n      <th>album</th>\n      <th>artist</th>\n      <th>release_date</th>\n      <th>length</th>\n      <th>popularity</th>\n      <th>danceability</th>\n      <th>acousticness</th>\n      <th>danceability.1</th>\n      <th>energy</th>\n      <th>instrumentalness</th>\n      <th>liveness</th>\n      <th>loudness</th>\n      <th>speechiness</th>\n      <th>tempo</th>\n      <th>time_signature</th>\n      <th>start_date</th>\n      <th>end_date</th>\n    </tr>\n  </thead>\n  <tbody>\n    <tr>\n      <th>0</th>\n      <td>The Box</td>\n      <td>Please Excuse Me For Being Antisocial</td>\n      <td>Roddy Ricch</td>\n      <td>2019-12-06</td>\n      <td>196652</td>\n      <td>90</td>\n      <td>0.896</td>\n      <td>0.1040</td>\n      <td>0.896</td>\n      <td>0.586</td>\n      <td>0.00000</td>\n      <td>0.7900</td>\n      <td>-6.687</td>\n      <td>0.0559</td>\n      <td>116.971</td>\n      <td>4</td>\n      <td>2020-01-03</td>\n      <td>2020-01-10</td>\n    </tr>\n    <tr>\n      <th>1</th>\n      <td>ROXANNE</td>\n      <td>ROXANNE</td>\n      <td>Arizona Zervas</td>\n      <td>2019-10-10</td>\n      <td>163636</td>\n      <td>88</td>\n      <td>0.621</td>\n      <td>0.0522</td>\n      <td>0.621</td>\n      <td>0.601</td>\n      <td>0.00000</td>\n      <td>0.4600</td>\n      <td>-5.616</td>\n      <td>0.1480</td>\n      <td>116.735</td>\n      <td>5</td>\n      <td>2020-01-03</td>\n      <td>2020-01-10</td>\n    </tr>\n    <tr>\n      <th>2</th>\n      <td>Yummy</td>\n      <td>Yummy</td>\n      <td>Justin Bieber</td>\n      <td>2020-01-03</td>\n      <td>210426</td>\n      <td>79</td>\n      <td>0.687</td>\n      <td>0.3660</td>\n      <td>0.687</td>\n      <td>0.514</td>\n      <td>0.00000</td>\n      <td>0.1160</td>\n      <td>-6.612</td>\n      <td>0.0897</td>\n      <td>145.921</td>\n      <td>4</td>\n      <td>2020-01-03</td>\n      <td>2020-01-10</td>\n    </tr>\n    <tr>\n      <th>3</th>\n      <td>Circles</td>\n      <td>Hollywood's Bleeding</td>\n      <td>Post Malone</td>\n      <td>2019-09-06</td>\n      <td>215280</td>\n      <td>90</td>\n      <td>0.695</td>\n      <td>0.1920</td>\n      <td>0.695</td>\n      <td>0.762</td>\n      <td>0.00244</td>\n      <td>0.0863</td>\n      <td>-3.497</td>\n      <td>0.0395</td>\n      <td>120.042</td>\n      <td>4</td>\n      <td>2020-01-03</td>\n      <td>2020-01-10</td>\n    </tr>\n    <tr>\n      <th>4</th>\n      <td>BOP</td>\n      <td>KIRK</td>\n      <td>DaBaby</td>\n      <td>2019-09-27</td>\n      <td>159714</td>\n      <td>85</td>\n      <td>0.769</td>\n      <td>0.1890</td>\n      <td>0.769</td>\n      <td>0.787</td>\n      <td>0.00000</td>\n      <td>0.1290</td>\n      <td>-3.909</td>\n      <td>0.3670</td>\n      <td>126.770</td>\n      <td>4</td>\n      <td>2020-01-03</td>\n      <td>2020-01-10</td>\n    </tr>\n  </tbody>\n</table>\n</div>"
     },
     "metadata": {},
     "execution_count": 8
    }
   ],
   "source": [
    "spotify_data = pd.read_csv('data.csv')\n",
    "spotify_data.head()"
   ]
  },
  {
   "cell_type": "code",
   "execution_count": 9,
   "metadata": {},
   "outputs": [
    {
     "output_type": "execute_result",
     "data": {
      "text/plain": [
       "                       week  length  popularity  danceability  acousticness  \\\n",
       "0  (2020-01-02, 2020-01-09]  196652          90         0.896        0.1040   \n",
       "1  (2020-01-02, 2020-01-09]  163636          88         0.621        0.0522   \n",
       "2  (2020-01-02, 2020-01-09]  210426          79         0.687        0.3660   \n",
       "3  (2020-01-02, 2020-01-09]  215280          90         0.695        0.1920   \n",
       "4  (2020-01-02, 2020-01-09]  159714          85         0.769        0.1890   \n",
       "\n",
       "   danceability.1  energy  instrumentalness  liveness  loudness  speechiness  \\\n",
       "0           0.896   0.586           0.00000    0.7900    -6.687       0.0559   \n",
       "1           0.621   0.601           0.00000    0.4600    -5.616       0.1480   \n",
       "2           0.687   0.514           0.00000    0.1160    -6.612       0.0897   \n",
       "3           0.695   0.762           0.00244    0.0863    -3.497       0.0395   \n",
       "4           0.769   0.787           0.00000    0.1290    -3.909       0.3670   \n",
       "\n",
       "     tempo  time_signature  \n",
       "0  116.971               4  \n",
       "1  116.735               5  \n",
       "2  145.921               4  \n",
       "3  120.042               4  \n",
       "4  126.770               4  "
      ],
      "text/html": "<div>\n<style scoped>\n    .dataframe tbody tr th:only-of-type {\n        vertical-align: middle;\n    }\n\n    .dataframe tbody tr th {\n        vertical-align: top;\n    }\n\n    .dataframe thead th {\n        text-align: right;\n    }\n</style>\n<table border=\"1\" class=\"dataframe\">\n  <thead>\n    <tr style=\"text-align: right;\">\n      <th></th>\n      <th>week</th>\n      <th>length</th>\n      <th>popularity</th>\n      <th>danceability</th>\n      <th>acousticness</th>\n      <th>danceability.1</th>\n      <th>energy</th>\n      <th>instrumentalness</th>\n      <th>liveness</th>\n      <th>loudness</th>\n      <th>speechiness</th>\n      <th>tempo</th>\n      <th>time_signature</th>\n    </tr>\n  </thead>\n  <tbody>\n    <tr>\n      <th>0</th>\n      <td>(2020-01-02, 2020-01-09]</td>\n      <td>196652</td>\n      <td>90</td>\n      <td>0.896</td>\n      <td>0.1040</td>\n      <td>0.896</td>\n      <td>0.586</td>\n      <td>0.00000</td>\n      <td>0.7900</td>\n      <td>-6.687</td>\n      <td>0.0559</td>\n      <td>116.971</td>\n      <td>4</td>\n    </tr>\n    <tr>\n      <th>1</th>\n      <td>(2020-01-02, 2020-01-09]</td>\n      <td>163636</td>\n      <td>88</td>\n      <td>0.621</td>\n      <td>0.0522</td>\n      <td>0.621</td>\n      <td>0.601</td>\n      <td>0.00000</td>\n      <td>0.4600</td>\n      <td>-5.616</td>\n      <td>0.1480</td>\n      <td>116.735</td>\n      <td>5</td>\n    </tr>\n    <tr>\n      <th>2</th>\n      <td>(2020-01-02, 2020-01-09]</td>\n      <td>210426</td>\n      <td>79</td>\n      <td>0.687</td>\n      <td>0.3660</td>\n      <td>0.687</td>\n      <td>0.514</td>\n      <td>0.00000</td>\n      <td>0.1160</td>\n      <td>-6.612</td>\n      <td>0.0897</td>\n      <td>145.921</td>\n      <td>4</td>\n    </tr>\n    <tr>\n      <th>3</th>\n      <td>(2020-01-02, 2020-01-09]</td>\n      <td>215280</td>\n      <td>90</td>\n      <td>0.695</td>\n      <td>0.1920</td>\n      <td>0.695</td>\n      <td>0.762</td>\n      <td>0.00244</td>\n      <td>0.0863</td>\n      <td>-3.497</td>\n      <td>0.0395</td>\n      <td>120.042</td>\n      <td>4</td>\n    </tr>\n    <tr>\n      <th>4</th>\n      <td>(2020-01-02, 2020-01-09]</td>\n      <td>159714</td>\n      <td>85</td>\n      <td>0.769</td>\n      <td>0.1890</td>\n      <td>0.769</td>\n      <td>0.787</td>\n      <td>0.00000</td>\n      <td>0.1290</td>\n      <td>-3.909</td>\n      <td>0.3670</td>\n      <td>126.770</td>\n      <td>4</td>\n    </tr>\n  </tbody>\n</table>\n</div>"
     },
     "metadata": {},
     "execution_count": 9
    }
   ],
   "source": [
    "spotify_data['start_date'] = pd.to_datetime(spotify_data['start_date'])\n",
    "\n",
    "# Using the same interval index created for the covid_data, create a new column week which has the week interval\n",
    "spotify_data['week'] = pd.cut(spotify_data['start_date'], bins)\n",
    "\n",
    "# Now that week is included, we can reindex with only the columns we need\n",
    "spotify_data = spotify_data.reindex(columns=['week','length', 'popularity',\n",
    "       'danceability', 'acousticness', 'danceability.1', 'energy',\n",
    "       'instrumentalness', 'liveness', 'loudness', 'speechiness', 'tempo',\n",
    "       'time_signature'])\n",
    "\n",
    "spotify_data.head()"
   ]
  },
  {
   "cell_type": "code",
   "execution_count": 10,
   "metadata": {},
   "outputs": [
    {
     "output_type": "execute_result",
     "data": {
      "text/plain": [
       "                             length  popularity  danceability  acousticness  \\\n",
       "week                                                                          \n",
       "(2020-01-02, 2020-01-09]  188656.35       75.55       0.71665      0.219063   \n",
       "(2020-01-09, 2020-01-16]  208934.70       75.35       0.71400      0.265838   \n",
       "(2020-01-16, 2020-01-23]  206069.10       77.70       0.72310      0.272378   \n",
       "(2020-01-23, 2020-01-30]  204243.55       81.20       0.72620      0.265644   \n",
       "(2020-01-30, 2020-02-06]  198553.85       80.50       0.73100      0.225643   \n",
       "\n",
       "                          danceability.1   energy  instrumentalness  liveness  \\\n",
       "week                                                                            \n",
       "(2020-01-02, 2020-01-09]         0.71665  0.60050          0.033020  0.198585   \n",
       "(2020-01-09, 2020-01-16]         0.71400  0.55110          0.039695  0.179490   \n",
       "(2020-01-16, 2020-01-23]         0.72310  0.55853          0.007701  0.195490   \n",
       "(2020-01-23, 2020-01-30]         0.72620  0.56990          0.046191  0.185030   \n",
       "(2020-01-30, 2020-02-06]         0.73100  0.59270          0.032991  0.199450   \n",
       "\n",
       "                          loudness  speechiness      tempo  time_signature  \n",
       "week                                                                        \n",
       "(2020-01-02, 2020-01-09]  -6.22025     0.116085  126.61265            3.90  \n",
       "(2020-01-09, 2020-01-16]  -7.12430     0.140355  128.23130            4.05  \n",
       "(2020-01-16, 2020-01-23]  -7.31150     0.158935  130.57085            4.05  \n",
       "(2020-01-23, 2020-01-30]  -7.03405     0.171040  133.48885            4.05  \n",
       "(2020-01-30, 2020-02-06]  -6.23020     0.170440  130.47640            4.05  "
      ],
      "text/html": "<div>\n<style scoped>\n    .dataframe tbody tr th:only-of-type {\n        vertical-align: middle;\n    }\n\n    .dataframe tbody tr th {\n        vertical-align: top;\n    }\n\n    .dataframe thead th {\n        text-align: right;\n    }\n</style>\n<table border=\"1\" class=\"dataframe\">\n  <thead>\n    <tr style=\"text-align: right;\">\n      <th></th>\n      <th>length</th>\n      <th>popularity</th>\n      <th>danceability</th>\n      <th>acousticness</th>\n      <th>danceability.1</th>\n      <th>energy</th>\n      <th>instrumentalness</th>\n      <th>liveness</th>\n      <th>loudness</th>\n      <th>speechiness</th>\n      <th>tempo</th>\n      <th>time_signature</th>\n    </tr>\n    <tr>\n      <th>week</th>\n      <th></th>\n      <th></th>\n      <th></th>\n      <th></th>\n      <th></th>\n      <th></th>\n      <th></th>\n      <th></th>\n      <th></th>\n      <th></th>\n      <th></th>\n      <th></th>\n    </tr>\n  </thead>\n  <tbody>\n    <tr>\n      <th>(2020-01-02, 2020-01-09]</th>\n      <td>188656.35</td>\n      <td>75.55</td>\n      <td>0.71665</td>\n      <td>0.219063</td>\n      <td>0.71665</td>\n      <td>0.60050</td>\n      <td>0.033020</td>\n      <td>0.198585</td>\n      <td>-6.22025</td>\n      <td>0.116085</td>\n      <td>126.61265</td>\n      <td>3.90</td>\n    </tr>\n    <tr>\n      <th>(2020-01-09, 2020-01-16]</th>\n      <td>208934.70</td>\n      <td>75.35</td>\n      <td>0.71400</td>\n      <td>0.265838</td>\n      <td>0.71400</td>\n      <td>0.55110</td>\n      <td>0.039695</td>\n      <td>0.179490</td>\n      <td>-7.12430</td>\n      <td>0.140355</td>\n      <td>128.23130</td>\n      <td>4.05</td>\n    </tr>\n    <tr>\n      <th>(2020-01-16, 2020-01-23]</th>\n      <td>206069.10</td>\n      <td>77.70</td>\n      <td>0.72310</td>\n      <td>0.272378</td>\n      <td>0.72310</td>\n      <td>0.55853</td>\n      <td>0.007701</td>\n      <td>0.195490</td>\n      <td>-7.31150</td>\n      <td>0.158935</td>\n      <td>130.57085</td>\n      <td>4.05</td>\n    </tr>\n    <tr>\n      <th>(2020-01-23, 2020-01-30]</th>\n      <td>204243.55</td>\n      <td>81.20</td>\n      <td>0.72620</td>\n      <td>0.265644</td>\n      <td>0.72620</td>\n      <td>0.56990</td>\n      <td>0.046191</td>\n      <td>0.185030</td>\n      <td>-7.03405</td>\n      <td>0.171040</td>\n      <td>133.48885</td>\n      <td>4.05</td>\n    </tr>\n    <tr>\n      <th>(2020-01-30, 2020-02-06]</th>\n      <td>198553.85</td>\n      <td>80.50</td>\n      <td>0.73100</td>\n      <td>0.225643</td>\n      <td>0.73100</td>\n      <td>0.59270</td>\n      <td>0.032991</td>\n      <td>0.199450</td>\n      <td>-6.23020</td>\n      <td>0.170440</td>\n      <td>130.47640</td>\n      <td>4.05</td>\n    </tr>\n  </tbody>\n</table>\n</div>"
     },
     "metadata": {},
     "execution_count": 10
    }
   ],
   "source": [
    "# Now that every row has a week interval, they will be grouped with the mean for each column \n",
    "grouped_spotify = spotify_data.groupby(['week']).mean()\n",
    "grouped_spotify.head()"
   ]
  },
  {
   "source": [
    "## 1.3 Merge the Spotify and Covid Data"
   ],
   "cell_type": "markdown",
   "metadata": {}
  },
  {
   "cell_type": "code",
   "execution_count": 11,
   "metadata": {},
   "outputs": [
    {
     "output_type": "execute_result",
     "data": {
      "text/plain": [
       "                          week#  positiveIncrease  negativeIncrease  positive  \\\n",
       "week                                                                            \n",
       "(2020-01-02, 2020-01-09]      1                 0                 0         0   \n",
       "(2020-01-09, 2020-01-16]      2                 0                 0         0   \n",
       "(2020-01-16, 2020-01-23]      3                 0                 0         0   \n",
       "(2020-01-23, 2020-01-30]      4                 0                 0         0   \n",
       "(2020-01-30, 2020-02-06]      5                 0                 0         0   \n",
       "\n",
       "                          negative  totalTestResultsIncrease  \\\n",
       "week                                                           \n",
       "(2020-01-02, 2020-01-09]         0                         0   \n",
       "(2020-01-09, 2020-01-16]         0                         0   \n",
       "(2020-01-16, 2020-01-23]         0                         1   \n",
       "(2020-01-23, 2020-01-30]         0                         3   \n",
       "(2020-01-30, 2020-02-06]         0                        11   \n",
       "\n",
       "                          totalTestResults     length  popularity  \\\n",
       "week                                                                \n",
       "(2020-01-02, 2020-01-09]                 0  188656.35       75.55   \n",
       "(2020-01-09, 2020-01-16]                 0  208934.70       75.35   \n",
       "(2020-01-16, 2020-01-23]                 3  206069.10       77.70   \n",
       "(2020-01-23, 2020-01-30]                22  204243.55       81.20   \n",
       "(2020-01-30, 2020-02-06]                81  198553.85       80.50   \n",
       "\n",
       "                          danceability  acousticness  danceability.1   energy  \\\n",
       "week                                                                            \n",
       "(2020-01-02, 2020-01-09]       0.71665      0.219063         0.71665  0.60050   \n",
       "(2020-01-09, 2020-01-16]       0.71400      0.265838         0.71400  0.55110   \n",
       "(2020-01-16, 2020-01-23]       0.72310      0.272378         0.72310  0.55853   \n",
       "(2020-01-23, 2020-01-30]       0.72620      0.265644         0.72620  0.56990   \n",
       "(2020-01-30, 2020-02-06]       0.73100      0.225643         0.73100  0.59270   \n",
       "\n",
       "                          instrumentalness  liveness  loudness  speechiness  \\\n",
       "week                                                                          \n",
       "(2020-01-02, 2020-01-09]          0.033020  0.198585  -6.22025     0.116085   \n",
       "(2020-01-09, 2020-01-16]          0.039695  0.179490  -7.12430     0.140355   \n",
       "(2020-01-16, 2020-01-23]          0.007701  0.195490  -7.31150     0.158935   \n",
       "(2020-01-23, 2020-01-30]          0.046191  0.185030  -7.03405     0.171040   \n",
       "(2020-01-30, 2020-02-06]          0.032991  0.199450  -6.23020     0.170440   \n",
       "\n",
       "                              tempo  time_signature  \n",
       "week                                                 \n",
       "(2020-01-02, 2020-01-09]  126.61265            3.90  \n",
       "(2020-01-09, 2020-01-16]  128.23130            4.05  \n",
       "(2020-01-16, 2020-01-23]  130.57085            4.05  \n",
       "(2020-01-23, 2020-01-30]  133.48885            4.05  \n",
       "(2020-01-30, 2020-02-06]  130.47640            4.05  "
      ],
      "text/html": "<div>\n<style scoped>\n    .dataframe tbody tr th:only-of-type {\n        vertical-align: middle;\n    }\n\n    .dataframe tbody tr th {\n        vertical-align: top;\n    }\n\n    .dataframe thead th {\n        text-align: right;\n    }\n</style>\n<table border=\"1\" class=\"dataframe\">\n  <thead>\n    <tr style=\"text-align: right;\">\n      <th></th>\n      <th>week#</th>\n      <th>positiveIncrease</th>\n      <th>negativeIncrease</th>\n      <th>positive</th>\n      <th>negative</th>\n      <th>totalTestResultsIncrease</th>\n      <th>totalTestResults</th>\n      <th>length</th>\n      <th>popularity</th>\n      <th>danceability</th>\n      <th>acousticness</th>\n      <th>danceability.1</th>\n      <th>energy</th>\n      <th>instrumentalness</th>\n      <th>liveness</th>\n      <th>loudness</th>\n      <th>speechiness</th>\n      <th>tempo</th>\n      <th>time_signature</th>\n    </tr>\n    <tr>\n      <th>week</th>\n      <th></th>\n      <th></th>\n      <th></th>\n      <th></th>\n      <th></th>\n      <th></th>\n      <th></th>\n      <th></th>\n      <th></th>\n      <th></th>\n      <th></th>\n      <th></th>\n      <th></th>\n      <th></th>\n      <th></th>\n      <th></th>\n      <th></th>\n      <th></th>\n      <th></th>\n    </tr>\n  </thead>\n  <tbody>\n    <tr>\n      <th>(2020-01-02, 2020-01-09]</th>\n      <td>1</td>\n      <td>0</td>\n      <td>0</td>\n      <td>0</td>\n      <td>0</td>\n      <td>0</td>\n      <td>0</td>\n      <td>188656.35</td>\n      <td>75.55</td>\n      <td>0.71665</td>\n      <td>0.219063</td>\n      <td>0.71665</td>\n      <td>0.60050</td>\n      <td>0.033020</td>\n      <td>0.198585</td>\n      <td>-6.22025</td>\n      <td>0.116085</td>\n      <td>126.61265</td>\n      <td>3.90</td>\n    </tr>\n    <tr>\n      <th>(2020-01-09, 2020-01-16]</th>\n      <td>2</td>\n      <td>0</td>\n      <td>0</td>\n      <td>0</td>\n      <td>0</td>\n      <td>0</td>\n      <td>0</td>\n      <td>208934.70</td>\n      <td>75.35</td>\n      <td>0.71400</td>\n      <td>0.265838</td>\n      <td>0.71400</td>\n      <td>0.55110</td>\n      <td>0.039695</td>\n      <td>0.179490</td>\n      <td>-7.12430</td>\n      <td>0.140355</td>\n      <td>128.23130</td>\n      <td>4.05</td>\n    </tr>\n    <tr>\n      <th>(2020-01-16, 2020-01-23]</th>\n      <td>3</td>\n      <td>0</td>\n      <td>0</td>\n      <td>0</td>\n      <td>0</td>\n      <td>1</td>\n      <td>3</td>\n      <td>206069.10</td>\n      <td>77.70</td>\n      <td>0.72310</td>\n      <td>0.272378</td>\n      <td>0.72310</td>\n      <td>0.55853</td>\n      <td>0.007701</td>\n      <td>0.195490</td>\n      <td>-7.31150</td>\n      <td>0.158935</td>\n      <td>130.57085</td>\n      <td>4.05</td>\n    </tr>\n    <tr>\n      <th>(2020-01-23, 2020-01-30]</th>\n      <td>4</td>\n      <td>0</td>\n      <td>0</td>\n      <td>0</td>\n      <td>0</td>\n      <td>3</td>\n      <td>22</td>\n      <td>204243.55</td>\n      <td>81.20</td>\n      <td>0.72620</td>\n      <td>0.265644</td>\n      <td>0.72620</td>\n      <td>0.56990</td>\n      <td>0.046191</td>\n      <td>0.185030</td>\n      <td>-7.03405</td>\n      <td>0.171040</td>\n      <td>133.48885</td>\n      <td>4.05</td>\n    </tr>\n    <tr>\n      <th>(2020-01-30, 2020-02-06]</th>\n      <td>5</td>\n      <td>0</td>\n      <td>0</td>\n      <td>0</td>\n      <td>0</td>\n      <td>11</td>\n      <td>81</td>\n      <td>198553.85</td>\n      <td>80.50</td>\n      <td>0.73100</td>\n      <td>0.225643</td>\n      <td>0.73100</td>\n      <td>0.59270</td>\n      <td>0.032991</td>\n      <td>0.199450</td>\n      <td>-6.23020</td>\n      <td>0.170440</td>\n      <td>130.47640</td>\n      <td>4.05</td>\n    </tr>\n  </tbody>\n</table>\n</div>"
     },
     "metadata": {},
     "execution_count": 11
    }
   ],
   "source": [
    "merged = grouped_covid.merge(grouped_spotify, left_on='week', right_on='week')\n",
    "merged.head()"
   ]
  },
  {
   "source": [
    "## 2. Data Analysis and Visualization"
   ],
   "cell_type": "markdown",
   "metadata": {}
  },
  {
   "cell_type": "code",
   "execution_count": 33,
   "metadata": {},
   "outputs": [],
   "source": [
    "# In order to graph some variables from covid with spotify, they have to get normalized. In this case min-max normalization is used on negative increase\n",
    "merged['norm_positive_i'] = (merged.positiveIncrease-merged.positiveIncrease.min())/(merged.positiveIncrease.max()-merged.positiveIncrease.min())\n",
    "\n",
    "merged['norm_length'] = (merged.length-merged.length.min())/(merged.length.max()-merged.length.min())\n",
    "\n",
    "merged['norm_tempo'] = (merged.tempo-merged.tempo.min())/(merged.tempo.max()-merged.tempo.min())\n",
    "merged = merged[:48]"
   ]
  },
  {
   "cell_type": "code",
   "execution_count": 34,
   "metadata": {},
   "outputs": [
    {
     "output_type": "display_data",
     "data": {
      "text/plain": "<Figure size 864x432 with 1 Axes>",
      "image/svg+xml": "<?xml version=\"1.0\" encoding=\"utf-8\" standalone=\"no\"?>\n<!DOCTYPE svg PUBLIC \"-//W3C//DTD SVG 1.1//EN\"\n  \"http://www.w3.org/Graphics/SVG/1.1/DTD/svg11.dtd\">\n<!-- Created with matplotlib (https://matplotlib.org/) -->\n<svg height=\"389.07375pt\" version=\"1.1\" viewBox=\"0 0 722.6888 389.07375\" width=\"722.6888pt\" xmlns=\"http://www.w3.org/2000/svg\" xmlns:xlink=\"http://www.w3.org/1999/xlink\">\n <metadata>\n  <rdf:RDF xmlns:cc=\"http://creativecommons.org/ns#\" xmlns:dc=\"http://purl.org/dc/elements/1.1/\" xmlns:rdf=\"http://www.w3.org/1999/02/22-rdf-syntax-ns#\">\n   <cc:Work>\n    <dc:type rdf:resource=\"http://purl.org/dc/dcmitype/StillImage\"/>\n    <dc:date>2020-12-19T02:08:47.302421</dc:date>\n    <dc:format>image/svg+xml</dc:format>\n    <dc:creator>\n     <cc:Agent>\n      <dc:title>Matplotlib v3.3.3, https://matplotlib.org/</dc:title>\n     </cc:Agent>\n    </dc:creator>\n   </cc:Work>\n  </rdf:RDF>\n </metadata>\n <defs>\n  <style type=\"text/css\">*{stroke-linecap:butt;stroke-linejoin:round;}</style>\n </defs>\n <g id=\"figure_1\">\n  <g id=\"patch_1\">\n   <path d=\"M 0 389.07375 \nL 722.6888 389.07375 \nL 722.6888 0 \nL 0 0 \nz\n\" style=\"fill:none;\"/>\n  </g>\n  <g id=\"axes_1\">\n   <g id=\"patch_2\">\n    <path d=\"M 44.059375 351.5175 \nL 713.659375 351.5175 \nL 713.659375 25.3575 \nL 44.059375 25.3575 \nz\n\" style=\"fill:#ffffff;\"/>\n   </g>\n   <g id=\"matplotlib.axis_1\">\n    <g id=\"xtick_1\">\n     <g id=\"line2d_1\">\n      <defs>\n       <path d=\"M 0 0 \nL 0 3.5 \n\" id=\"m5c1c2e0722\" style=\"stroke:#000000;stroke-width:0.8;\"/>\n      </defs>\n      <g>\n       <use style=\"stroke:#000000;stroke-width:0.8;\" x=\"61.544095\" xlink:href=\"#m5c1c2e0722\" y=\"351.5175\"/>\n      </g>\n     </g>\n     <g id=\"text_1\">\n      <!-- 0 -->\n      <g transform=\"translate(58.362845 366.115937)scale(0.1 -0.1)\">\n       <defs>\n        <path d=\"M 31.78125 66.40625 \nQ 24.171875 66.40625 20.328125 58.90625 \nQ 16.5 51.421875 16.5 36.375 \nQ 16.5 21.390625 20.328125 13.890625 \nQ 24.171875 6.390625 31.78125 6.390625 \nQ 39.453125 6.390625 43.28125 13.890625 \nQ 47.125 21.390625 47.125 36.375 \nQ 47.125 51.421875 43.28125 58.90625 \nQ 39.453125 66.40625 31.78125 66.40625 \nz\nM 31.78125 74.21875 \nQ 44.046875 74.21875 50.515625 64.515625 \nQ 56.984375 54.828125 56.984375 36.375 \nQ 56.984375 17.96875 50.515625 8.265625 \nQ 44.046875 -1.421875 31.78125 -1.421875 \nQ 19.53125 -1.421875 13.0625 8.265625 \nQ 6.59375 17.96875 6.59375 36.375 \nQ 6.59375 54.828125 13.0625 64.515625 \nQ 19.53125 74.21875 31.78125 74.21875 \nz\n\" id=\"DejaVuSans-48\"/>\n       </defs>\n       <use xlink:href=\"#DejaVuSans-48\"/>\n      </g>\n     </g>\n    </g>\n    <g id=\"xtick_2\">\n     <g id=\"line2d_2\">\n      <g>\n       <use style=\"stroke:#000000;stroke-width:0.8;\" x=\"191.060536\" xlink:href=\"#m5c1c2e0722\" y=\"351.5175\"/>\n      </g>\n     </g>\n     <g id=\"text_2\">\n      <!-- 10 -->\n      <g transform=\"translate(184.698036 366.115937)scale(0.1 -0.1)\">\n       <defs>\n        <path d=\"M 12.40625 8.296875 \nL 28.515625 8.296875 \nL 28.515625 63.921875 \nL 10.984375 60.40625 \nL 10.984375 69.390625 \nL 28.421875 72.90625 \nL 38.28125 72.90625 \nL 38.28125 8.296875 \nL 54.390625 8.296875 \nL 54.390625 0 \nL 12.40625 0 \nz\n\" id=\"DejaVuSans-49\"/>\n       </defs>\n       <use xlink:href=\"#DejaVuSans-49\"/>\n       <use x=\"63.623047\" xlink:href=\"#DejaVuSans-48\"/>\n      </g>\n     </g>\n    </g>\n    <g id=\"xtick_3\">\n     <g id=\"line2d_3\">\n      <g>\n       <use style=\"stroke:#000000;stroke-width:0.8;\" x=\"320.576977\" xlink:href=\"#m5c1c2e0722\" y=\"351.5175\"/>\n      </g>\n     </g>\n     <g id=\"text_3\">\n      <!-- 20 -->\n      <g transform=\"translate(314.214477 366.115937)scale(0.1 -0.1)\">\n       <defs>\n        <path d=\"M 19.1875 8.296875 \nL 53.609375 8.296875 \nL 53.609375 0 \nL 7.328125 0 \nL 7.328125 8.296875 \nQ 12.9375 14.109375 22.625 23.890625 \nQ 32.328125 33.6875 34.8125 36.53125 \nQ 39.546875 41.84375 41.421875 45.53125 \nQ 43.3125 49.21875 43.3125 52.78125 \nQ 43.3125 58.59375 39.234375 62.25 \nQ 35.15625 65.921875 28.609375 65.921875 \nQ 23.96875 65.921875 18.8125 64.3125 \nQ 13.671875 62.703125 7.8125 59.421875 \nL 7.8125 69.390625 \nQ 13.765625 71.78125 18.9375 73 \nQ 24.125 74.21875 28.421875 74.21875 \nQ 39.75 74.21875 46.484375 68.546875 \nQ 53.21875 62.890625 53.21875 53.421875 \nQ 53.21875 48.921875 51.53125 44.890625 \nQ 49.859375 40.875 45.40625 35.40625 \nQ 44.1875 33.984375 37.640625 27.21875 \nQ 31.109375 20.453125 19.1875 8.296875 \nz\n\" id=\"DejaVuSans-50\"/>\n       </defs>\n       <use xlink:href=\"#DejaVuSans-50\"/>\n       <use x=\"63.623047\" xlink:href=\"#DejaVuSans-48\"/>\n      </g>\n     </g>\n    </g>\n    <g id=\"xtick_4\">\n     <g id=\"line2d_4\">\n      <g>\n       <use style=\"stroke:#000000;stroke-width:0.8;\" x=\"450.093418\" xlink:href=\"#m5c1c2e0722\" y=\"351.5175\"/>\n      </g>\n     </g>\n     <g id=\"text_4\">\n      <!-- 30 -->\n      <g transform=\"translate(443.730918 366.115937)scale(0.1 -0.1)\">\n       <defs>\n        <path d=\"M 40.578125 39.3125 \nQ 47.65625 37.796875 51.625 33 \nQ 55.609375 28.21875 55.609375 21.1875 \nQ 55.609375 10.40625 48.1875 4.484375 \nQ 40.765625 -1.421875 27.09375 -1.421875 \nQ 22.515625 -1.421875 17.65625 -0.515625 \nQ 12.796875 0.390625 7.625 2.203125 \nL 7.625 11.71875 \nQ 11.71875 9.328125 16.59375 8.109375 \nQ 21.484375 6.890625 26.8125 6.890625 \nQ 36.078125 6.890625 40.9375 10.546875 \nQ 45.796875 14.203125 45.796875 21.1875 \nQ 45.796875 27.640625 41.28125 31.265625 \nQ 36.765625 34.90625 28.71875 34.90625 \nL 20.21875 34.90625 \nL 20.21875 43.015625 \nL 29.109375 43.015625 \nQ 36.375 43.015625 40.234375 45.921875 \nQ 44.09375 48.828125 44.09375 54.296875 \nQ 44.09375 59.90625 40.109375 62.90625 \nQ 36.140625 65.921875 28.71875 65.921875 \nQ 24.65625 65.921875 20.015625 65.03125 \nQ 15.375 64.15625 9.8125 62.3125 \nL 9.8125 71.09375 \nQ 15.4375 72.65625 20.34375 73.4375 \nQ 25.25 74.21875 29.59375 74.21875 \nQ 40.828125 74.21875 47.359375 69.109375 \nQ 53.90625 64.015625 53.90625 55.328125 \nQ 53.90625 49.265625 50.4375 45.09375 \nQ 46.96875 40.921875 40.578125 39.3125 \nz\n\" id=\"DejaVuSans-51\"/>\n       </defs>\n       <use xlink:href=\"#DejaVuSans-51\"/>\n       <use x=\"63.623047\" xlink:href=\"#DejaVuSans-48\"/>\n      </g>\n     </g>\n    </g>\n    <g id=\"xtick_5\">\n     <g id=\"line2d_5\">\n      <g>\n       <use style=\"stroke:#000000;stroke-width:0.8;\" x=\"579.609859\" xlink:href=\"#m5c1c2e0722\" y=\"351.5175\"/>\n      </g>\n     </g>\n     <g id=\"text_5\">\n      <!-- 40 -->\n      <g transform=\"translate(573.247359 366.115937)scale(0.1 -0.1)\">\n       <defs>\n        <path d=\"M 37.796875 64.3125 \nL 12.890625 25.390625 \nL 37.796875 25.390625 \nz\nM 35.203125 72.90625 \nL 47.609375 72.90625 \nL 47.609375 25.390625 \nL 58.015625 25.390625 \nL 58.015625 17.1875 \nL 47.609375 17.1875 \nL 47.609375 0 \nL 37.796875 0 \nL 37.796875 17.1875 \nL 4.890625 17.1875 \nL 4.890625 26.703125 \nz\n\" id=\"DejaVuSans-52\"/>\n       </defs>\n       <use xlink:href=\"#DejaVuSans-52\"/>\n       <use x=\"63.623047\" xlink:href=\"#DejaVuSans-48\"/>\n      </g>\n     </g>\n    </g>\n    <g id=\"xtick_6\">\n     <g id=\"line2d_6\">\n      <g>\n       <use style=\"stroke:#000000;stroke-width:0.8;\" x=\"709.1263\" xlink:href=\"#m5c1c2e0722\" y=\"351.5175\"/>\n      </g>\n     </g>\n     <g id=\"text_6\">\n      <!-- 50 -->\n      <g transform=\"translate(702.7638 366.115937)scale(0.1 -0.1)\">\n       <defs>\n        <path d=\"M 10.796875 72.90625 \nL 49.515625 72.90625 \nL 49.515625 64.59375 \nL 19.828125 64.59375 \nL 19.828125 46.734375 \nQ 21.96875 47.46875 24.109375 47.828125 \nQ 26.265625 48.1875 28.421875 48.1875 \nQ 40.625 48.1875 47.75 41.5 \nQ 54.890625 34.8125 54.890625 23.390625 \nQ 54.890625 11.625 47.5625 5.09375 \nQ 40.234375 -1.421875 26.90625 -1.421875 \nQ 22.3125 -1.421875 17.546875 -0.640625 \nQ 12.796875 0.140625 7.71875 1.703125 \nL 7.71875 11.625 \nQ 12.109375 9.234375 16.796875 8.0625 \nQ 21.484375 6.890625 26.703125 6.890625 \nQ 35.15625 6.890625 40.078125 11.328125 \nQ 45.015625 15.765625 45.015625 23.390625 \nQ 45.015625 31 40.078125 35.4375 \nQ 35.15625 39.890625 26.703125 39.890625 \nQ 22.75 39.890625 18.8125 39.015625 \nQ 14.890625 38.140625 10.796875 36.28125 \nz\n\" id=\"DejaVuSans-53\"/>\n       </defs>\n       <use xlink:href=\"#DejaVuSans-53\"/>\n       <use x=\"63.623047\" xlink:href=\"#DejaVuSans-48\"/>\n      </g>\n     </g>\n    </g>\n    <g id=\"text_7\">\n     <!-- week# -->\n     <g transform=\"translate(361.532031 379.794062)scale(0.1 -0.1)\">\n      <defs>\n       <path d=\"M 4.203125 54.6875 \nL 13.1875 54.6875 \nL 24.421875 12.015625 \nL 35.59375 54.6875 \nL 46.1875 54.6875 \nL 57.421875 12.015625 \nL 68.609375 54.6875 \nL 77.59375 54.6875 \nL 63.28125 0 \nL 52.6875 0 \nL 40.921875 44.828125 \nL 29.109375 0 \nL 18.5 0 \nz\n\" id=\"DejaVuSans-119\"/>\n       <path d=\"M 56.203125 29.59375 \nL 56.203125 25.203125 \nL 14.890625 25.203125 \nQ 15.484375 15.921875 20.484375 11.0625 \nQ 25.484375 6.203125 34.421875 6.203125 \nQ 39.59375 6.203125 44.453125 7.46875 \nQ 49.3125 8.734375 54.109375 11.28125 \nL 54.109375 2.78125 \nQ 49.265625 0.734375 44.1875 -0.34375 \nQ 39.109375 -1.421875 33.890625 -1.421875 \nQ 20.796875 -1.421875 13.15625 6.1875 \nQ 5.515625 13.8125 5.515625 26.8125 \nQ 5.515625 40.234375 12.765625 48.109375 \nQ 20.015625 56 32.328125 56 \nQ 43.359375 56 49.78125 48.890625 \nQ 56.203125 41.796875 56.203125 29.59375 \nz\nM 47.21875 32.234375 \nQ 47.125 39.59375 43.09375 43.984375 \nQ 39.0625 48.390625 32.421875 48.390625 \nQ 24.90625 48.390625 20.390625 44.140625 \nQ 15.875 39.890625 15.1875 32.171875 \nz\n\" id=\"DejaVuSans-101\"/>\n       <path d=\"M 9.078125 75.984375 \nL 18.109375 75.984375 \nL 18.109375 31.109375 \nL 44.921875 54.6875 \nL 56.390625 54.6875 \nL 27.390625 29.109375 \nL 57.625 0 \nL 45.90625 0 \nL 18.109375 26.703125 \nL 18.109375 0 \nL 9.078125 0 \nz\n\" id=\"DejaVuSans-107\"/>\n       <path d=\"M 51.125 44 \nL 36.921875 44 \nL 32.8125 27.6875 \nL 47.125 27.6875 \nz\nM 43.796875 71.78125 \nL 38.71875 51.515625 \nL 52.984375 51.515625 \nL 58.109375 71.78125 \nL 65.921875 71.78125 \nL 60.890625 51.515625 \nL 76.125 51.515625 \nL 76.125 44 \nL 58.984375 44 \nL 54.984375 27.6875 \nL 70.515625 27.6875 \nL 70.515625 20.21875 \nL 53.078125 20.21875 \nL 48 0 \nL 40.1875 0 \nL 45.21875 20.21875 \nL 30.90625 20.21875 \nL 25.875 0 \nL 18.015625 0 \nL 23.09375 20.21875 \nL 7.71875 20.21875 \nL 7.71875 27.6875 \nL 24.90625 27.6875 \nL 29 44 \nL 13.28125 44 \nL 13.28125 51.515625 \nL 30.90625 51.515625 \nL 35.890625 71.78125 \nz\n\" id=\"DejaVuSans-35\"/>\n      </defs>\n      <use xlink:href=\"#DejaVuSans-119\"/>\n      <use x=\"81.787109\" xlink:href=\"#DejaVuSans-101\"/>\n      <use x=\"143.310547\" xlink:href=\"#DejaVuSans-101\"/>\n      <use x=\"204.833984\" xlink:href=\"#DejaVuSans-107\"/>\n      <use x=\"262.744141\" xlink:href=\"#DejaVuSans-35\"/>\n     </g>\n    </g>\n   </g>\n   <g id=\"matplotlib.axis_2\">\n    <g id=\"ytick_1\">\n     <g id=\"line2d_7\">\n      <defs>\n       <path d=\"M 0 0 \nL -3.5 0 \n\" id=\"m062bd69ff8\" style=\"stroke:#000000;stroke-width:0.8;\"/>\n      </defs>\n      <g>\n       <use style=\"stroke:#000000;stroke-width:0.8;\" x=\"44.059375\" xlink:href=\"#m062bd69ff8\" y=\"336.692045\"/>\n      </g>\n     </g>\n     <g id=\"text_8\">\n      <!-- 0.0 -->\n      <g transform=\"translate(21.15625 340.491264)scale(0.1 -0.1)\">\n       <defs>\n        <path d=\"M 10.6875 12.40625 \nL 21 12.40625 \nL 21 0 \nL 10.6875 0 \nz\n\" id=\"DejaVuSans-46\"/>\n       </defs>\n       <use xlink:href=\"#DejaVuSans-48\"/>\n       <use x=\"63.623047\" xlink:href=\"#DejaVuSans-46\"/>\n       <use x=\"95.410156\" xlink:href=\"#DejaVuSans-48\"/>\n      </g>\n     </g>\n    </g>\n    <g id=\"ytick_2\">\n     <g id=\"line2d_8\">\n      <g>\n       <use style=\"stroke:#000000;stroke-width:0.8;\" x=\"44.059375\" xlink:href=\"#m062bd69ff8\" y=\"277.390227\"/>\n      </g>\n     </g>\n     <g id=\"text_9\">\n      <!-- 0.2 -->\n      <g transform=\"translate(21.15625 281.189446)scale(0.1 -0.1)\">\n       <use xlink:href=\"#DejaVuSans-48\"/>\n       <use x=\"63.623047\" xlink:href=\"#DejaVuSans-46\"/>\n       <use x=\"95.410156\" xlink:href=\"#DejaVuSans-50\"/>\n      </g>\n     </g>\n    </g>\n    <g id=\"ytick_3\">\n     <g id=\"line2d_9\">\n      <g>\n       <use style=\"stroke:#000000;stroke-width:0.8;\" x=\"44.059375\" xlink:href=\"#m062bd69ff8\" y=\"218.088409\"/>\n      </g>\n     </g>\n     <g id=\"text_10\">\n      <!-- 0.4 -->\n      <g transform=\"translate(21.15625 221.887628)scale(0.1 -0.1)\">\n       <use xlink:href=\"#DejaVuSans-48\"/>\n       <use x=\"63.623047\" xlink:href=\"#DejaVuSans-46\"/>\n       <use x=\"95.410156\" xlink:href=\"#DejaVuSans-52\"/>\n      </g>\n     </g>\n    </g>\n    <g id=\"ytick_4\">\n     <g id=\"line2d_10\">\n      <g>\n       <use style=\"stroke:#000000;stroke-width:0.8;\" x=\"44.059375\" xlink:href=\"#m062bd69ff8\" y=\"158.786591\"/>\n      </g>\n     </g>\n     <g id=\"text_11\">\n      <!-- 0.6 -->\n      <g transform=\"translate(21.15625 162.58581)scale(0.1 -0.1)\">\n       <defs>\n        <path d=\"M 33.015625 40.375 \nQ 26.375 40.375 22.484375 35.828125 \nQ 18.609375 31.296875 18.609375 23.390625 \nQ 18.609375 15.53125 22.484375 10.953125 \nQ 26.375 6.390625 33.015625 6.390625 \nQ 39.65625 6.390625 43.53125 10.953125 \nQ 47.40625 15.53125 47.40625 23.390625 \nQ 47.40625 31.296875 43.53125 35.828125 \nQ 39.65625 40.375 33.015625 40.375 \nz\nM 52.59375 71.296875 \nL 52.59375 62.3125 \nQ 48.875 64.0625 45.09375 64.984375 \nQ 41.3125 65.921875 37.59375 65.921875 \nQ 27.828125 65.921875 22.671875 59.328125 \nQ 17.53125 52.734375 16.796875 39.40625 \nQ 19.671875 43.65625 24.015625 45.921875 \nQ 28.375 48.1875 33.59375 48.1875 \nQ 44.578125 48.1875 50.953125 41.515625 \nQ 57.328125 34.859375 57.328125 23.390625 \nQ 57.328125 12.15625 50.6875 5.359375 \nQ 44.046875 -1.421875 33.015625 -1.421875 \nQ 20.359375 -1.421875 13.671875 8.265625 \nQ 6.984375 17.96875 6.984375 36.375 \nQ 6.984375 53.65625 15.1875 63.9375 \nQ 23.390625 74.21875 37.203125 74.21875 \nQ 40.921875 74.21875 44.703125 73.484375 \nQ 48.484375 72.75 52.59375 71.296875 \nz\n\" id=\"DejaVuSans-54\"/>\n       </defs>\n       <use xlink:href=\"#DejaVuSans-48\"/>\n       <use x=\"63.623047\" xlink:href=\"#DejaVuSans-46\"/>\n       <use x=\"95.410156\" xlink:href=\"#DejaVuSans-54\"/>\n      </g>\n     </g>\n    </g>\n    <g id=\"ytick_5\">\n     <g id=\"line2d_11\">\n      <g>\n       <use style=\"stroke:#000000;stroke-width:0.8;\" x=\"44.059375\" xlink:href=\"#m062bd69ff8\" y=\"99.484773\"/>\n      </g>\n     </g>\n     <g id=\"text_12\">\n      <!-- 0.8 -->\n      <g transform=\"translate(21.15625 103.283991)scale(0.1 -0.1)\">\n       <defs>\n        <path d=\"M 31.78125 34.625 \nQ 24.75 34.625 20.71875 30.859375 \nQ 16.703125 27.09375 16.703125 20.515625 \nQ 16.703125 13.921875 20.71875 10.15625 \nQ 24.75 6.390625 31.78125 6.390625 \nQ 38.8125 6.390625 42.859375 10.171875 \nQ 46.921875 13.96875 46.921875 20.515625 \nQ 46.921875 27.09375 42.890625 30.859375 \nQ 38.875 34.625 31.78125 34.625 \nz\nM 21.921875 38.8125 \nQ 15.578125 40.375 12.03125 44.71875 \nQ 8.5 49.078125 8.5 55.328125 \nQ 8.5 64.0625 14.71875 69.140625 \nQ 20.953125 74.21875 31.78125 74.21875 \nQ 42.671875 74.21875 48.875 69.140625 \nQ 55.078125 64.0625 55.078125 55.328125 \nQ 55.078125 49.078125 51.53125 44.71875 \nQ 48 40.375 41.703125 38.8125 \nQ 48.828125 37.15625 52.796875 32.3125 \nQ 56.78125 27.484375 56.78125 20.515625 \nQ 56.78125 9.90625 50.3125 4.234375 \nQ 43.84375 -1.421875 31.78125 -1.421875 \nQ 19.734375 -1.421875 13.25 4.234375 \nQ 6.78125 9.90625 6.78125 20.515625 \nQ 6.78125 27.484375 10.78125 32.3125 \nQ 14.796875 37.15625 21.921875 38.8125 \nz\nM 18.3125 54.390625 \nQ 18.3125 48.734375 21.84375 45.5625 \nQ 25.390625 42.390625 31.78125 42.390625 \nQ 38.140625 42.390625 41.71875 45.5625 \nQ 45.3125 48.734375 45.3125 54.390625 \nQ 45.3125 60.0625 41.71875 63.234375 \nQ 38.140625 66.40625 31.78125 66.40625 \nQ 25.390625 66.40625 21.84375 63.234375 \nQ 18.3125 60.0625 18.3125 54.390625 \nz\n\" id=\"DejaVuSans-56\"/>\n       </defs>\n       <use xlink:href=\"#DejaVuSans-48\"/>\n       <use x=\"63.623047\" xlink:href=\"#DejaVuSans-46\"/>\n       <use x=\"95.410156\" xlink:href=\"#DejaVuSans-56\"/>\n      </g>\n     </g>\n    </g>\n    <g id=\"ytick_6\">\n     <g id=\"line2d_12\">\n      <g>\n       <use style=\"stroke:#000000;stroke-width:0.8;\" x=\"44.059375\" xlink:href=\"#m062bd69ff8\" y=\"40.182955\"/>\n      </g>\n     </g>\n     <g id=\"text_13\">\n      <!-- 1.0 -->\n      <g transform=\"translate(21.15625 43.982173)scale(0.1 -0.1)\">\n       <use xlink:href=\"#DejaVuSans-49\"/>\n       <use x=\"63.623047\" xlink:href=\"#DejaVuSans-46\"/>\n       <use x=\"95.410156\" xlink:href=\"#DejaVuSans-48\"/>\n      </g>\n     </g>\n    </g>\n    <g id=\"text_14\">\n     <!-- norm_positive_i -->\n     <g transform=\"translate(14.798437 227.505469)rotate(-90)scale(0.1 -0.1)\">\n      <defs>\n       <path d=\"M 54.890625 33.015625 \nL 54.890625 0 \nL 45.90625 0 \nL 45.90625 32.71875 \nQ 45.90625 40.484375 42.875 44.328125 \nQ 39.84375 48.1875 33.796875 48.1875 \nQ 26.515625 48.1875 22.3125 43.546875 \nQ 18.109375 38.921875 18.109375 30.90625 \nL 18.109375 0 \nL 9.078125 0 \nL 9.078125 54.6875 \nL 18.109375 54.6875 \nL 18.109375 46.1875 \nQ 21.34375 51.125 25.703125 53.5625 \nQ 30.078125 56 35.796875 56 \nQ 45.21875 56 50.046875 50.171875 \nQ 54.890625 44.34375 54.890625 33.015625 \nz\n\" id=\"DejaVuSans-110\"/>\n       <path d=\"M 30.609375 48.390625 \nQ 23.390625 48.390625 19.1875 42.75 \nQ 14.984375 37.109375 14.984375 27.296875 \nQ 14.984375 17.484375 19.15625 11.84375 \nQ 23.34375 6.203125 30.609375 6.203125 \nQ 37.796875 6.203125 41.984375 11.859375 \nQ 46.1875 17.53125 46.1875 27.296875 \nQ 46.1875 37.015625 41.984375 42.703125 \nQ 37.796875 48.390625 30.609375 48.390625 \nz\nM 30.609375 56 \nQ 42.328125 56 49.015625 48.375 \nQ 55.71875 40.765625 55.71875 27.296875 \nQ 55.71875 13.875 49.015625 6.21875 \nQ 42.328125 -1.421875 30.609375 -1.421875 \nQ 18.84375 -1.421875 12.171875 6.21875 \nQ 5.515625 13.875 5.515625 27.296875 \nQ 5.515625 40.765625 12.171875 48.375 \nQ 18.84375 56 30.609375 56 \nz\n\" id=\"DejaVuSans-111\"/>\n       <path d=\"M 41.109375 46.296875 \nQ 39.59375 47.171875 37.8125 47.578125 \nQ 36.03125 48 33.890625 48 \nQ 26.265625 48 22.1875 43.046875 \nQ 18.109375 38.09375 18.109375 28.8125 \nL 18.109375 0 \nL 9.078125 0 \nL 9.078125 54.6875 \nL 18.109375 54.6875 \nL 18.109375 46.1875 \nQ 20.953125 51.171875 25.484375 53.578125 \nQ 30.03125 56 36.53125 56 \nQ 37.453125 56 38.578125 55.875 \nQ 39.703125 55.765625 41.0625 55.515625 \nz\n\" id=\"DejaVuSans-114\"/>\n       <path d=\"M 52 44.1875 \nQ 55.375 50.25 60.0625 53.125 \nQ 64.75 56 71.09375 56 \nQ 79.640625 56 84.28125 50.015625 \nQ 88.921875 44.046875 88.921875 33.015625 \nL 88.921875 0 \nL 79.890625 0 \nL 79.890625 32.71875 \nQ 79.890625 40.578125 77.09375 44.375 \nQ 74.3125 48.1875 68.609375 48.1875 \nQ 61.625 48.1875 57.5625 43.546875 \nQ 53.515625 38.921875 53.515625 30.90625 \nL 53.515625 0 \nL 44.484375 0 \nL 44.484375 32.71875 \nQ 44.484375 40.625 41.703125 44.40625 \nQ 38.921875 48.1875 33.109375 48.1875 \nQ 26.21875 48.1875 22.15625 43.53125 \nQ 18.109375 38.875 18.109375 30.90625 \nL 18.109375 0 \nL 9.078125 0 \nL 9.078125 54.6875 \nL 18.109375 54.6875 \nL 18.109375 46.1875 \nQ 21.1875 51.21875 25.484375 53.609375 \nQ 29.78125 56 35.6875 56 \nQ 41.65625 56 45.828125 52.96875 \nQ 50 49.953125 52 44.1875 \nz\n\" id=\"DejaVuSans-109\"/>\n       <path d=\"M 50.984375 -16.609375 \nL 50.984375 -23.578125 \nL -0.984375 -23.578125 \nL -0.984375 -16.609375 \nz\n\" id=\"DejaVuSans-95\"/>\n       <path d=\"M 18.109375 8.203125 \nL 18.109375 -20.796875 \nL 9.078125 -20.796875 \nL 9.078125 54.6875 \nL 18.109375 54.6875 \nL 18.109375 46.390625 \nQ 20.953125 51.265625 25.265625 53.625 \nQ 29.59375 56 35.59375 56 \nQ 45.5625 56 51.78125 48.09375 \nQ 58.015625 40.1875 58.015625 27.296875 \nQ 58.015625 14.40625 51.78125 6.484375 \nQ 45.5625 -1.421875 35.59375 -1.421875 \nQ 29.59375 -1.421875 25.265625 0.953125 \nQ 20.953125 3.328125 18.109375 8.203125 \nz\nM 48.6875 27.296875 \nQ 48.6875 37.203125 44.609375 42.84375 \nQ 40.53125 48.484375 33.40625 48.484375 \nQ 26.265625 48.484375 22.1875 42.84375 \nQ 18.109375 37.203125 18.109375 27.296875 \nQ 18.109375 17.390625 22.1875 11.75 \nQ 26.265625 6.109375 33.40625 6.109375 \nQ 40.53125 6.109375 44.609375 11.75 \nQ 48.6875 17.390625 48.6875 27.296875 \nz\n\" id=\"DejaVuSans-112\"/>\n       <path d=\"M 44.28125 53.078125 \nL 44.28125 44.578125 \nQ 40.484375 46.53125 36.375 47.5 \nQ 32.28125 48.484375 27.875 48.484375 \nQ 21.1875 48.484375 17.84375 46.4375 \nQ 14.5 44.390625 14.5 40.28125 \nQ 14.5 37.15625 16.890625 35.375 \nQ 19.28125 33.59375 26.515625 31.984375 \nL 29.59375 31.296875 \nQ 39.15625 29.25 43.1875 25.515625 \nQ 47.21875 21.78125 47.21875 15.09375 \nQ 47.21875 7.46875 41.1875 3.015625 \nQ 35.15625 -1.421875 24.609375 -1.421875 \nQ 20.21875 -1.421875 15.453125 -0.5625 \nQ 10.6875 0.296875 5.421875 2 \nL 5.421875 11.28125 \nQ 10.40625 8.6875 15.234375 7.390625 \nQ 20.0625 6.109375 24.8125 6.109375 \nQ 31.15625 6.109375 34.5625 8.28125 \nQ 37.984375 10.453125 37.984375 14.40625 \nQ 37.984375 18.0625 35.515625 20.015625 \nQ 33.0625 21.96875 24.703125 23.78125 \nL 21.578125 24.515625 \nQ 13.234375 26.265625 9.515625 29.90625 \nQ 5.8125 33.546875 5.8125 39.890625 \nQ 5.8125 47.609375 11.28125 51.796875 \nQ 16.75 56 26.8125 56 \nQ 31.78125 56 36.171875 55.265625 \nQ 40.578125 54.546875 44.28125 53.078125 \nz\n\" id=\"DejaVuSans-115\"/>\n       <path d=\"M 9.421875 54.6875 \nL 18.40625 54.6875 \nL 18.40625 0 \nL 9.421875 0 \nz\nM 9.421875 75.984375 \nL 18.40625 75.984375 \nL 18.40625 64.59375 \nL 9.421875 64.59375 \nz\n\" id=\"DejaVuSans-105\"/>\n       <path d=\"M 18.3125 70.21875 \nL 18.3125 54.6875 \nL 36.8125 54.6875 \nL 36.8125 47.703125 \nL 18.3125 47.703125 \nL 18.3125 18.015625 \nQ 18.3125 11.328125 20.140625 9.421875 \nQ 21.96875 7.515625 27.59375 7.515625 \nL 36.8125 7.515625 \nL 36.8125 0 \nL 27.59375 0 \nQ 17.1875 0 13.234375 3.875 \nQ 9.28125 7.765625 9.28125 18.015625 \nL 9.28125 47.703125 \nL 2.6875 47.703125 \nL 2.6875 54.6875 \nL 9.28125 54.6875 \nL 9.28125 70.21875 \nz\n\" id=\"DejaVuSans-116\"/>\n       <path d=\"M 2.984375 54.6875 \nL 12.5 54.6875 \nL 29.59375 8.796875 \nL 46.6875 54.6875 \nL 56.203125 54.6875 \nL 35.6875 0 \nL 23.484375 0 \nz\n\" id=\"DejaVuSans-118\"/>\n      </defs>\n      <use xlink:href=\"#DejaVuSans-110\"/>\n      <use x=\"63.378906\" xlink:href=\"#DejaVuSans-111\"/>\n      <use x=\"124.560547\" xlink:href=\"#DejaVuSans-114\"/>\n      <use x=\"163.923828\" xlink:href=\"#DejaVuSans-109\"/>\n      <use x=\"261.335938\" xlink:href=\"#DejaVuSans-95\"/>\n      <use x=\"311.335938\" xlink:href=\"#DejaVuSans-112\"/>\n      <use x=\"374.8125\" xlink:href=\"#DejaVuSans-111\"/>\n      <use x=\"435.994141\" xlink:href=\"#DejaVuSans-115\"/>\n      <use x=\"488.09375\" xlink:href=\"#DejaVuSans-105\"/>\n      <use x=\"515.876953\" xlink:href=\"#DejaVuSans-116\"/>\n      <use x=\"555.085938\" xlink:href=\"#DejaVuSans-105\"/>\n      <use x=\"582.869141\" xlink:href=\"#DejaVuSans-118\"/>\n      <use x=\"642.048828\" xlink:href=\"#DejaVuSans-101\"/>\n      <use x=\"703.572266\" xlink:href=\"#DejaVuSans-95\"/>\n      <use x=\"753.572266\" xlink:href=\"#DejaVuSans-105\"/>\n     </g>\n    </g>\n   </g>\n   <g id=\"line2d_13\">\n    <path clip-path=\"url(#pbe51b49c02)\" d=\"M 74.495739 336.692045 \nL 87.447383 336.692045 \nL 100.399027 336.692045 \nL 113.350671 336.692045 \nL 126.302315 336.692045 \nL 139.253959 336.692045 \nL 152.205603 336.692045 \nL 165.157247 336.692045 \nL 178.108891 336.602396 \nL 191.060536 336.098699 \nL 204.01218 332.957312 \nL 216.963824 318.397984 \nL 229.915468 297.825562 \nL 242.867112 284.051825 \nL 255.818756 286.735928 \nL 268.7704 287.712054 \nL 281.722044 287.556694 \nL 294.673688 291.559887 \nL 307.625332 297.015299 \nL 320.576977 297.879791 \nL 333.528621 301.76622 \nL 346.480265 300.179648 \nL 359.431909 302.097458 \nL 372.383553 296.974993 \nL 385.335197 280.139259 \nL 398.286841 258.399687 \nL 411.238485 246.815638 \nL 424.190129 227.617023 \nL 437.141773 222.984576 \nL 450.093418 227.721085 \nL 463.045062 243.448296 \nL 475.996706 246.612645 \nL 488.94835 258.100449 \nL 501.899994 266.432942 \nL 514.851638 268.807058 \nL 527.803282 276.128005 \nL 540.754926 270.056774 \nL 553.70657 263.839221 \nL 566.658214 263.444471 \nL 579.609859 258.364511 \nL 592.561503 246.008795 \nL 605.513147 232.796892 \nL 618.464791 206.591714 \nL 631.416435 177.880265 \nL 644.368079 113.736607 \nL 657.319723 60.050152 \nL 670.271367 55.459232 \nL 683.223011 40.182955 \n\" style=\"fill:none;stroke:#1f77b4;stroke-linecap:square;stroke-width:1.5;\"/>\n   </g>\n   <g id=\"line2d_14\">\n    <path clip-path=\"url(#pbe51b49c02)\" d=\"M 74.495739 124.198805 \nL 87.447383 124.984555 \nL 100.399027 122.286322 \nL 113.350671 121.367144 \nL 126.302315 119.9439 \nL 139.253959 120.685173 \nL 152.205603 116.459918 \nL 165.157247 119.336056 \nL 178.108891 110.381482 \nL 191.060536 102.405387 \nL 204.01218 108.053885 \nL 216.963824 149.150045 \nL 229.915468 110.930024 \nL 242.867112 103.235613 \nL 255.818756 101.263827 \nL 268.7704 100.389125 \nL 281.722044 106.185878 \nL 294.673688 117.33462 \nL 307.625332 113.242795 \nL 320.576977 113.183493 \nL 333.528621 113.924765 \nL 346.480265 115.941027 \nL 359.431909 113.272445 \nL 372.383553 123.590962 \nL 385.335197 118.565133 \nL 398.286841 111.537867 \nL 411.238485 119.795645 \nL 424.190129 136.844918 \nL 437.141773 120.685173 \nL 450.093418 158.623511 \nL 463.045062 142.508242 \nL 475.996706 138.638798 \nL 488.94835 134.398718 \nL 501.899994 133.687096 \nL 514.851638 128.735395 \nL 527.803282 128.735395 \nL 540.754926 128.824347 \nL 553.70657 129.595271 \nL 566.658214 126.867387 \nL 579.609859 117.571827 \nL 592.561503 132.560362 \nL 605.513147 135.184467 \nL 618.464791 135.184467 \nL 631.416435 129.713875 \nL 644.368079 127.030467 \nL 657.319723 120.27006 \nL 670.271367 122.419751 \nL 683.223011 135.658882 \n\" style=\"fill:none;stroke:#ff7f0e;stroke-linecap:square;stroke-width:1.5;\"/>\n   </g>\n   <g id=\"line2d_15\">\n    <path clip-path=\"url(#pbe51b49c02)\" d=\"M 74.495739 158.638336 \nL 87.447383 173.285885 \nL 100.399027 171.082823 \nL 113.350671 167.711515 \nL 126.302315 160.951107 \nL 139.253959 157.986016 \nL 152.205603 168.245231 \nL 165.157247 162.789464 \nL 178.108891 151.833453 \nL 191.060536 149.846842 \nL 204.01218 147.118958 \nL 216.963824 146.777973 \nL 229.915468 148.275344 \nL 242.867112 155.109878 \nL 255.818756 155.376736 \nL 268.7704 153.983144 \nL 281.722044 149.876493 \nL 294.673688 162.552256 \nL 307.625332 154.086922 \nL 320.576977 157.481951 \nL 333.528621 156.888933 \nL 346.480265 142.256209 \nL 359.431909 151.625896 \nL 372.383553 150.528813 \nL 385.335197 150.677067 \nL 398.286841 150.573289 \nL 411.238485 148.393947 \nL 424.190129 155.347085 \nL 437.141773 164.865027 \nL 450.093418 193.759838 \nL 463.045062 170.142889 \nL 475.996706 164.509216 \nL 488.94835 146.896576 \nL 501.899994 146.792798 \nL 514.851638 150.084049 \nL 527.803282 150.084049 \nL 540.754926 153.627333 \nL 553.70657 151.90758 \nL 566.658214 144.717235 \nL 579.609859 141.262904 \nL 592.561503 152.515424 \nL 605.513147 162.107493 \nL 618.464791 162.107493 \nL 631.416435 160.773202 \nL 644.368079 152.085485 \nL 657.319723 159.216529 \nL 670.271367 162.700511 \nL 683.223011 166.4217 \n\" style=\"fill:none;stroke:#2ca02c;stroke-linecap:square;stroke-width:1.5;\"/>\n   </g>\n   <g id=\"patch_3\">\n    <path d=\"M 44.059375 351.5175 \nL 44.059375 25.3575 \n\" style=\"fill:none;stroke:#000000;stroke-linecap:square;stroke-linejoin:miter;stroke-width:0.8;\"/>\n   </g>\n   <g id=\"patch_4\">\n    <path d=\"M 713.659375 351.5175 \nL 713.659375 25.3575 \n\" style=\"fill:none;stroke:#000000;stroke-linecap:square;stroke-linejoin:miter;stroke-width:0.8;\"/>\n   </g>\n   <g id=\"patch_5\">\n    <path d=\"M 44.059375 351.5175 \nL 713.659375 351.5175 \n\" style=\"fill:none;stroke:#000000;stroke-linecap:square;stroke-linejoin:miter;stroke-width:0.8;\"/>\n   </g>\n   <g id=\"patch_6\">\n    <path d=\"M 44.059375 25.3575 \nL 713.659375 25.3575 \n\" style=\"fill:none;stroke:#000000;stroke-linecap:square;stroke-linejoin:miter;stroke-width:0.8;\"/>\n   </g>\n   <g id=\"text_15\">\n    <!-- COVID -->\n    <g transform=\"translate(353.123125 19.3575)scale(0.16 -0.16)\">\n     <defs>\n      <path d=\"M 64.40625 67.28125 \nL 64.40625 56.890625 \nQ 59.421875 61.53125 53.78125 63.8125 \nQ 48.140625 66.109375 41.796875 66.109375 \nQ 29.296875 66.109375 22.65625 58.46875 \nQ 16.015625 50.828125 16.015625 36.375 \nQ 16.015625 21.96875 22.65625 14.328125 \nQ 29.296875 6.6875 41.796875 6.6875 \nQ 48.140625 6.6875 53.78125 8.984375 \nQ 59.421875 11.28125 64.40625 15.921875 \nL 64.40625 5.609375 \nQ 59.234375 2.09375 53.4375 0.328125 \nQ 47.65625 -1.421875 41.21875 -1.421875 \nQ 24.65625 -1.421875 15.125 8.703125 \nQ 5.609375 18.84375 5.609375 36.375 \nQ 5.609375 53.953125 15.125 64.078125 \nQ 24.65625 74.21875 41.21875 74.21875 \nQ 47.75 74.21875 53.53125 72.484375 \nQ 59.328125 70.75 64.40625 67.28125 \nz\n\" id=\"DejaVuSans-67\"/>\n      <path d=\"M 39.40625 66.21875 \nQ 28.65625 66.21875 22.328125 58.203125 \nQ 16.015625 50.203125 16.015625 36.375 \nQ 16.015625 22.609375 22.328125 14.59375 \nQ 28.65625 6.59375 39.40625 6.59375 \nQ 50.140625 6.59375 56.421875 14.59375 \nQ 62.703125 22.609375 62.703125 36.375 \nQ 62.703125 50.203125 56.421875 58.203125 \nQ 50.140625 66.21875 39.40625 66.21875 \nz\nM 39.40625 74.21875 \nQ 54.734375 74.21875 63.90625 63.9375 \nQ 73.09375 53.65625 73.09375 36.375 \nQ 73.09375 19.140625 63.90625 8.859375 \nQ 54.734375 -1.421875 39.40625 -1.421875 \nQ 24.03125 -1.421875 14.8125 8.828125 \nQ 5.609375 19.09375 5.609375 36.375 \nQ 5.609375 53.65625 14.8125 63.9375 \nQ 24.03125 74.21875 39.40625 74.21875 \nz\n\" id=\"DejaVuSans-79\"/>\n      <path d=\"M 28.609375 0 \nL 0.78125 72.90625 \nL 11.078125 72.90625 \nL 34.1875 11.53125 \nL 57.328125 72.90625 \nL 67.578125 72.90625 \nL 39.796875 0 \nz\n\" id=\"DejaVuSans-86\"/>\n      <path d=\"M 9.8125 72.90625 \nL 19.671875 72.90625 \nL 19.671875 0 \nL 9.8125 0 \nz\n\" id=\"DejaVuSans-73\"/>\n      <path d=\"M 19.671875 64.796875 \nL 19.671875 8.109375 \nL 31.59375 8.109375 \nQ 46.6875 8.109375 53.6875 14.9375 \nQ 60.6875 21.78125 60.6875 36.53125 \nQ 60.6875 51.171875 53.6875 57.984375 \nQ 46.6875 64.796875 31.59375 64.796875 \nz\nM 9.8125 72.90625 \nL 30.078125 72.90625 \nQ 51.265625 72.90625 61.171875 64.09375 \nQ 71.09375 55.28125 71.09375 36.53125 \nQ 71.09375 17.671875 61.125 8.828125 \nQ 51.171875 0 30.078125 0 \nL 9.8125 0 \nz\n\" id=\"DejaVuSans-68\"/>\n     </defs>\n     <use xlink:href=\"#DejaVuSans-67\"/>\n     <use x=\"69.824219\" xlink:href=\"#DejaVuSans-79\"/>\n     <use x=\"146.785156\" xlink:href=\"#DejaVuSans-86\"/>\n     <use x=\"215.193359\" xlink:href=\"#DejaVuSans-73\"/>\n     <use x=\"244.685547\" xlink:href=\"#DejaVuSans-68\"/>\n    </g>\n   </g>\n  </g>\n </g>\n <defs>\n  <clipPath id=\"pbe51b49c02\">\n   <rect height=\"326.16\" width=\"669.6\" x=\"44.059375\" y=\"25.3575\"/>\n  </clipPath>\n </defs>\n</svg>\n",
      "image/png": "[encoded data removed]"
     },
     "metadata": {
      "needs_background": "light"
     }
    }
   ],
   "source": [
    "plt.figure(figsize=(12,6))\n",
    "plt.title(\"COVID\", fontsize=16)\n",
    "sns.lineplot(data=merged, x='week#', y='norm_positive_i')\n",
    "sns.lineplot(data=merged, x='week#', y='danceability')\n",
    "sns.lineplot(data=merged, x='week#', y='energy')\n",
    "# sns.lineplot(data=merged, x='week#', y='norm_length')\n",
    "# sns.lineplot(data=merged, x='week#', y='liveness')\n",
    "# sns.lineplot(data=merged, x='week#', y='norm_tempo')\n",
    "plt.show()"
   ]
  },
  {
   "cell_type": "code",
   "execution_count": 31,
   "metadata": {},
   "outputs": [
    {
     "output_type": "execute_result",
     "data": {
      "text/plain": [
       "020-02-13, 2020-02-20]           0                        14   \n",
       "(2020-02-20, 2020-02-27]           0                      6451   \n",
       "(2020-02-27, 2020-03-05]        4138                      2376   \n",
       "(2020-03-05, 2020-03-12]       55851                     19561   \n",
       "(2020-03-12, 2020-03-19]      418435                    134482   \n",
       "(2020-03-19, 2020-03-26]     2012538                    470093   \n",
       "(2020-03-26, 2020-04-02]     5735931                    752746   \n",
       "(2020-04-02, 2020-04-09]    11161354                   1124604   \n",
       "(2020-04-09, 2020-04-16]    17041171                   1050062   \n",
       "(2020-04-16, 2020-04-23]    23395370                   1333280   \n",
       "(2020-04-23, 2020-04-30]    32717575                   1649436   \n",
       "(2020-04-30, 2020-05-07]    43363349                   1888312   \n",
       "(2020-05-07, 2020-05-14]    56381534                   2306906   \n",
       "(2020-05-14, 2020-05-21]    72731241                   2814844   \n",
       "(2020-05-21, 2020-05-28]    91078388                   2803061   \n",
       "(2020-05-28, 2020-06-04]   110166502                   3197526   \n",
       "(2020-06-04, 2020-06-11]   131536303                   3353733   \n",
       "(2020-06-11, 2020-06-18]   154040162                   3590700   \n",
       "(2020-06-18, 2020-06-25]   178040159                   4022828   \n",
       "(2020-06-25, 2020-07-02]   204818685                   4695591   \n",
       "(2020-07-02, 2020-07-09]   233829835                   4884154   \n",
       "(2020-07-09, 2020-07-16]   265551337                   5790632   \n",
       "(2020-07-16, 2020-07-23]   300279597                   5960175   \n",
       "(2020-07-23, 2020-07-30]   336719684                   6251012   \n",
       "(2020-07-30, 2020-08-06]   370779586                   5768578   \n",
       "(2020-08-06, 2020-08-13]   403474889                   5568118   \n",
       "(2020-08-13, 2020-08-20]   437283278                   5743657   \n",
       "(2020-08-20, 2020-08-27]   469244277                   5492422   \n",
       "(2020-08-27, 2020-09-03]   502121079                   5813836   \n",
       "(2020-09-03, 2020-09-10]   535343887                   5566062   \n",
       "(2020-09-10, 2020-09-17]   565741197                   5805413   \n",
       "(2020-09-17, 2020-09-24]   601617969                   6932357   \n",
       "(2020-09-24, 2020-10-01]   640289874                   7141604   \n",
       "(2020-10-01, 2020-10-08]   679947805                   7408043   \n",
       "(2020-10-08, 2020-10-15]   721421640                   7798791   \n",
       "(2020-10-15, 2020-10-22]   763365865                   7840317   \n",
       "(2020-10-22, 2020-10-29]   807462360                   8605930   \n",
       "(2020-10-29, 2020-11-05]   853366345                   9126792   \n",
       "(2020-11-05, 2020-11-12]   903244770                   9891103   \n",
       "(2020-11-12, 2020-11-19]   957081324                  11333722   \n",
       "(2020-11-19, 2020-11-26]  1018557042                  12107861   \n",
       "(2020-11-26, 2020-12-03]  1079371903                  12357505   \n",
       "(2020-12-03, 2020-12-10]   645474622                   7529462   \n",
       "\n",
       "                          totalTestResults     length  popularity  \\\n",
       "week                                                                \n",
       "(2020-01-02, 2020-01-09]                 0  188656.35       75.55   \n",
       "(2020-01-09, 2020-01-16]                 0  208934.70       75.35   \n",
       "(2020-01-16, 2020-01-23]                 3  206069.10       77.70   \n",
       "(2020-01-23, 2020-01-30]                22  204243.55       81.20   \n",
       "(2020-01-30, 2020-02-06]                81  198553.85       80.50   \n",
       "(2020-02-06, 2020-02-13]               134  197057.60       81.15   \n",
       "(2020-02-13, 2020-02-20]               205  200057.85       77.25   \n",
       "(2020-02-20, 2020-02-27]              6722  209555.65       75.20   \n",
       "(2020-02-27, 2020-03-05]             50810  200194.75       71.35   \n",
       "(2020-03-05, 2020-03-12]            114350  207809.15       70.70   \n",
       "(2020-03-12, 2020-03-19]            613151  203876.45       79.30   \n",
       "(2020-03-19, 2020-03-26]           2724132  225434.60       81.15   \n",
       "(2020-03-26, 2020-04-02]           7324427  186663.80       85.30   \n",
       "(2020-04-02, 2020-04-09]          14188812  185770.00       81.55   \n",
       "(2020-04-09, 2020-04-16]          21675845  188590.75       81.05   \n",
       "(2020-04-16, 2020-04-23]          29745590  181848.95       84.35   \n",
       "(2020-04-23, 2020-04-30]          40820379  197816.85       84.55   \n",
       "(2020-04-30, 2020-05-07]          53197237  200201.55       79.45   \n",
       "(2020-05-07, 2020-05-14]          67895600  189851.40       83.30   \n",
       "(2020-05-14, 2020-05-21]          85967564  189371.95       82.05   \n",
       "(2020-05-21, 2020-05-28]         105969259  187775.65       82.95   \n",
       "(2020-05-28, 2020-06-04]         127264490  184036.35       82.95   \n",
       "(2020-06-04, 2020-06-11]         150822317  188812.25       86.05   \n",
       "(2020-06-11, 2020-06-18]         174896431  187683.65       84.40   \n",
       "(2020-06-18, 2020-06-25]         201495527  188643.05       84.30   \n",
       "(2020-06-25, 2020-07-02]         232403665  186558.90       85.25   \n",
       "(2020-07-02, 2020-07-09]         265845080  192098.35       86.70   \n",
       "(2020-07-09, 2020-07-16]         303663861  181514.70       47.20   \n",
       "(2020-07-16, 2020-07-23]         345039041  188313.55       71.55   \n",
       "(2020-07-23, 2020-07-30]         388291669  231295.15       75.80   \n",
       "(2020-07-30, 2020-08-06]         430330671  207541.55       80.20   \n",
       "(2020-08-06, 2020-08-13]         469372440  198984.40       87.85   \n",
       "(2020-08-13, 2020-08-20]         509815643  196087.30       88.40   \n",
       "(2020-08-20, 2020-08-27]         548575313  194401.30       87.35   \n",
       "(2020-08-27, 2020-09-03]         588338676  195066.50       89.85   \n",
       "(2020-09-03, 2020-09-10]         629248666  195066.50       89.85   \n",
       "(2020-09-10, 2020-09-17]         667763686  192289.50       90.65   \n",
       "(2020-09-17, 2020-09-24]         713355297  194225.05       91.60   \n",
       "(2020-09-24, 2020-10-01]         762856195  190568.20       91.55   \n",
       "(2020-10-01, 2020-10-08]         813785493  197348.70       88.45   \n",
       "(2020-10-08, 2020-10-15]         867315609  199246.20       91.65   \n",
       "(2020-10-15, 2020-10-22]         922168037  190951.35       91.30   \n",
       "(2020-10-22, 2020-10-29]         980018957  190951.35       91.30   \n",
       "(2020-10-29, 2020-11-05]        1041344994  187227.25       89.05   \n",
       "(2020-11-05, 2020-11-12]        1108821522  186577.95       92.20   \n",
       "(2020-11-12, 2020-11-19]        1183554306  187367.70       93.05   \n",
       "(2020-11-19, 2020-11-26]        1268775773  183642.95       93.45   \n",
       "(2020-11-26, 2020-12-03]        1352104345  186069.80       91.20   \n",
       "(2020-12-03, 2020-12-10]         812743021        NaN         NaN   \n",
       "\n",
       "                          danceability  ...  instrumentalness  liveness  \\\n",
       "week                                    ...                               \n",
       "(2020-01-02, 2020-01-09]       0.71665  ...          0.033020  0.198585   \n",
       "(2020-01-09, 2020-01-16]       0.71400  ...          0.039695  0.179490   \n",
       "(2020-01-16, 2020-01-23]       0.72310  ...          0.007701  0.195490   \n",
       "(2020-01-23, 2020-01-30]       0.72620  ...          0.046191  0.185030   \n",
       "(2020-01-30, 2020-02-06]       0.73100  ...          0.032991  0.199450   \n",
       "(2020-02-06, 2020-02-13]       0.72850  ...          0.033006  0.210250   \n",
       "(2020-02-13, 2020-02-20]       0.74275  ...          0.033511  0.194965   \n",
       "(2020-02-20, 2020-02-27]       0.73305  ...          0.034000  0.189705   \n",
       "(2020-02-27, 2020-03-05]       0.76325  ...          0.000645  0.190260   \n",
       "(2020-03-05, 2020-03-12]       0.79015  ...          0.000011  0.258465   \n",
       "(2020-03-12, 2020-03-19]       0.77110  ...          0.000133  0.224820   \n",
       "(2020-03-19, 2020-03-26]       0.63250  ...          0.008270  0.238340   \n",
       "(2020-03-26, 2020-04-02]       0.76140  ...          0.000666  0.248725   \n",
       "(2020-04-02, 2020-04-09]       0.78735  ...          0.000662  0.236995   \n",
       "(2020-04-09, 2020-04-16]       0.79400  ...          0.000670  0.221195   \n",
       "(2020-04-16, 2020-04-23]       0.79695  ...          0.000676  0.186085   \n",
       "(2020-04-23, 2020-04-30]       0.77740  ...          0.000663  0.197460   \n",
       "(2020-04-30, 2020-05-07]       0.73980  ...          0.000541  0.234475   \n",
       "(2020-05-07, 2020-05-14]       0.75360  ...          0.017212  0.253085   \n",
       "(2020-05-14, 2020-05-21]       0.75380  ...          0.017090  0.254980   \n",
       "(2020-05-21, 2020-05-28]       0.75130  ...          0.017090  0.251650   \n",
       "(2020-05-28, 2020-06-04]       0.74450  ...          0.017212  0.284465   \n",
       "(2020-06-04, 2020-06-11]       0.75350  ...          0.017212  0.239265   \n",
       "(2020-06-11, 2020-06-18]       0.71870  ...          0.017095  0.255920   \n",
       "(2020-06-18, 2020-06-25]       0.73565  ...          0.017090  0.247970   \n",
       "(2020-06-25, 2020-07-02]       0.75935  ...          0.017092  0.255140   \n",
       "(2020-07-02, 2020-07-09]       0.73150  ...          0.000560  0.221620   \n",
       "(2020-07-09, 2020-07-16]       0.67400  ...          0.000004  0.158820   \n",
       "(2020-07-16, 2020-07-23]       0.72850  ...          0.000005  0.163170   \n",
       "(2020-07-23, 2020-07-30]       0.60055  ...          0.000169  0.125650   \n",
       "(2020-07-30, 2020-08-06]       0.65490  ...          0.006744  0.173705   \n",
       "(2020-08-06, 2020-08-13]       0.66795  ...          0.006625  0.174185   \n",
       "(2020-08-13, 2020-08-20]       0.68225  ...          0.000165  0.179445   \n",
       "(2020-08-20, 2020-08-27]       0.68465  ...          0.000009  0.177775   \n",
       "(2020-08-27, 2020-09-03]       0.70135  ...          0.000007  0.175400   \n",
       "(2020-09-03, 2020-09-10]       0.70135  ...          0.000007  0.175400   \n",
       "(2020-09-10, 2020-09-17]       0.70105  ...          0.000007  0.170055   \n",
       "(2020-09-17, 2020-09-24]       0.69845  ...          0.000007  0.173395   \n",
       "(2020-09-24, 2020-10-01]       0.70765  ...          0.000437  0.164705   \n",
       "(2020-10-01, 2020-10-08]       0.73900  ...          0.042617  0.142490   \n",
       "(2020-10-08, 2020-10-15]       0.68845  ...          0.005316  0.151275   \n",
       "(2020-10-15, 2020-10-22]       0.67960  ...          0.000265  0.145990   \n",
       "(2020-10-22, 2020-10-29]       0.67960  ...          0.000265  0.145990   \n",
       "(2020-10-29, 2020-11-05]       0.69805  ...          0.000005  0.157600   \n",
       "(2020-11-05, 2020-11-12]       0.70710  ...          0.000049  0.139530   \n",
       "(2020-11-12, 2020-11-19]       0.72990  ...          0.006549  0.132360   \n",
       "(2020-11-19, 2020-11-26]       0.72265  ...          0.006504  0.150950   \n",
       "(2020-11-26, 2020-12-03]       0.67800  ...          0.006509  0.175050   \n",
       "(2020-12-03, 2020-12-10]           NaN  ...               NaN       NaN   \n",
       "\n",
       "                          loudness  speechiness      tempo  time_signature  \\\n",
       "week                                                                         \n",
       "(2020-01-02, 2020-01-09]  -6.22025     0.116085  126.61265            3.90   \n",
       "(2020-01-09, 2020-01-16]  -7.12430     0.140355  128.23130            4.05   \n",
       "(2020-01-16, 2020-01-23]  -7.31150     0.158935  130.57085            4.05   \n",
       "(2020-01-23, 2020-01-30]  -7.03405     0.171040  133.48885            4.05   \n",
       "(2020-01-30, 2020-02-06]  -6.23020     0.170440  130.47640            4.05   \n",
       "(2020-02-06, 2020-02-13]  -6.34590     0.152005  130.98010            4.00   \n",
       "(2020-02-13, 2020-02-20]  -7.03420     0.134315  127.57905            4.05   \n",
       "(2020-02-20, 2020-02-27]  -6.79070     0.130585  122.56125            4.05   \n",
       "(2020-02-27, 2020-03-05]  -5.92425     0.123835  127.71860            4.05   \n",
       "(2020-03-05, 2020-03-12]  -5.91000     0.224720  135.05370            4.00   \n",
       "(2020-03-12, 2020-03-19]  -6.06820     0.176575  131.67975            4.05   \n",
       "(2020-03-19, 2020-03-26]  -6.62290     0.089630  122.50615            4.05   \n",
       "(2020-03-26, 2020-04-02]  -5.98440     0.116880  124.91535            4.05   \n",
       "(2020-04-02, 2020-04-09]  -6.39320     0.140835  122.67775            4.05   \n",
       "(2020-04-09, 2020-04-16]  -6.47940     0.135595  122.94160            4.00   \n",
       "(2020-04-16, 2020-04-23]  -6.49910     0.158335  124.53580            4.00   \n",
       "(2020-04-23, 2020-04-30]  -6.32235     0.114490  123.60325            4.00   \n",
       "(2020-04-30, 2020-05-07]  -6.70940     0.138380  116.34670            3.95   \n",
       "(2020-05-07, 2020-05-14]  -6.63355     0.124390  125.76330            3.95   \n",
       "(2020-05-14, 2020-05-21]  -6.95490     0.141430  129.81485            3.95   \n",
       "(2020-05-21, 2020-05-28]  -6.90470     0.133535  129.17410            3.95   \n",
       "(2020-05-28, 2020-06-04]  -6.42250     0.123325  120.08290            4.00   \n",
       "(2020-06-04, 2020-06-11]  -6.65885     0.134485  121.22815            4.00   \n",
       "(2020-06-11, 2020-06-18]  -6.71325     0.130680  116.35290            3.90   \n",
       "(2020-06-18, 2020-06-25]  -6.65845     0.119205  116.61560            3.90   \n",
       "(2020-06-25, 2020-07-02]  -6.60200     0.129540  123.21155            3.95   \n",
       "(2020-07-02, 2020-07-09]  -6.48980     0.146320  116.93905            3.95   \n",
       "(2020-07-09, 2020-07-16]  -6.62355     0.112670  127.18045            3.95   \n",
       "(2020-07-16, 2020-07-23]  -7.32910     0.126905  127.85355            4.00   \n",
       "(2020-07-23, 2020-07-30]  -9.42220     0.063230  119.41620            4.00   \n",
       "(2020-07-30, 2020-08-06]  -7.73810     0.094715  126.50530            4.00   \n",
       "(2020-08-06, 2020-08-13]  -6.95610     0.130680  132.30925            4.00   \n",
       "(2020-08-13, 2020-08-20]  -6.23705     0.131550  130.24180            3.95   \n",
       "(2020-08-20, 2020-08-27]  -6.40635     0.128745  126.00335            3.95   \n",
       "(2020-08-27, 2020-09-03]  -6.23930     0.134700  133.37265            3.95   \n",
       "(2020-09-03, 2020-09-10]  -6.23930     0.134700  133.37265            3.95   \n",
       "(2020-09-10, 2020-09-17]  -6.57330     0.138080  130.27890            3.95   \n",
       "(2020-09-17, 2020-09-24]  -6.46610     0.146515  129.97830            3.95   \n",
       "(2020-09-24, 2020-10-01]  -6.25840     0.155240  123.72500            3.95   \n",
       "(2020-10-01, 2020-10-08]  -6.29060     0.174535  123.62945            4.00   \n",
       "(2020-10-08, 2020-10-15]  -6.58760     0.162725  127.06605            3.95   \n",
       "(2020-10-15, 2020-10-22]  -7.07770     0.122700  119.35955            3.95   \n",
       "(2020-10-22, 2020-10-29]  -7.07770     0.122700  119.35955            3.95   \n",
       "(2020-10-29, 2020-11-05]  -6.51155     0.113055  122.08480            3.85   \n",
       "(2020-11-05, 2020-11-12]  -6.72960     0.138420  120.55740            4.00   \n",
       "(2020-11-12, 2020-11-19]  -6.92365     0.158830  119.87670            4.00   \n",
       "(2020-11-19, 2020-11-26]  -6.69820     0.115005  118.35465            4.00   \n",
       "(2020-11-26, 2020-12-03]  -7.50315     0.107505  127.00810            3.90   \n",
       "(2020-12-03, 2020-12-10]       NaN          NaN        NaN             NaN   \n",
       "\n",
       "                          norm_negative_i  norm_length  norm_tempo  \\\n",
       "week                                                                 \n",
       "(2020-01-02, 2020-01-09]         0.000000     0.143463    0.548776   \n",
       "(2020-01-09, 2020-01-16]         0.000000     0.550819    0.635302   \n",
       "(2020-01-16, 2020-01-23]         0.000000     0.493254    0.760365   \n",
       "(2020-01-23, 2020-01-30]         0.000000     0.456582    0.916349   \n",
       "(2020-01-30, 2020-02-06]         0.000000     0.342286    0.755316   \n",
       "(2020-02-06, 2020-02-13]         0.000000     0.312229    0.782242   \n",
       "(2020-02-13, 2020-02-20]         0.000000     0.372499    0.600436   \n",
       "(2020-02-20, 2020-02-27]         0.000000     0.563292    0.332205   \n",
       "(2020-02-27, 2020-03-05]         0.000215     0.375249    0.607895   \n",
       "(2020-03-05, 2020-03-12]         0.001761     0.528208    1.000000   \n",
       "(2020-03-12, 2020-03-19]         0.010541     0.449207    0.819642   \n",
       "(2020-03-19, 2020-03-26]         0.040779     0.882272    0.329259   \n",
       "(2020-03-26, 2020-04-02]         0.066388     0.103436    0.458045   \n",
       "(2020-04-02, 2020-04-09]         0.098818     0.085481    0.338432   \n",
       "(2020-04-09, 2020-04-16]         0.090252     0.142145    0.352536   \n",
       "(2020-04-16, 2020-04-23]         0.119499     0.006714    0.437756   \n",
       "(2020-04-23, 2020-04-30]         0.153526     0.327481    0.387906   \n",
       "(2020-04-30, 2020-05-07]         0.182445     0.375385    0.000000   \n",
       "(2020-05-07, 2020-05-14]         0.229144     0.167469    0.503373   \n",
       "(2020-05-14, 2020-05-21]         0.284069     0.157838    0.719952   \n",
       "(2020-05-21, 2020-05-28]         0.277963     0.125771    0.685701   \n",
       "(2020-05-28, 2020-06-04]         0.323943     0.050655    0.199722   \n",
       "(2020-06-04, 2020-06-11]         0.336186     0.146595    0.260942   \n",
       "(2020-06-11, 2020-06-18]         0.369386     0.123923    0.000331   \n",
       "(2020-06-18, 2020-06-25]         0.397354     0.143196    0.014374   \n",
       "(2020-06-25, 2020-07-02]         0.448521     0.101329    0.366967   \n",
       "(2020-07-02, 2020-07-09]         0.457276     0.212607    0.031665   \n",
       "(2020-07-09, 2020-07-16]         0.539397     0.000000    0.579128   \n",
       "(2020-07-16, 2020-07-23]         0.552450     0.136577    0.615109   \n",
       "(2020-07-23, 2020-07-30]         0.581483     1.000000    0.164083   \n",
       "(2020-07-30, 2020-08-06]         0.515359     0.522833    0.543037   \n",
       "(2020-08-06, 2020-08-13]         0.517262     0.350935    0.853293   \n",
       "(2020-08-13, 2020-08-20]         0.524717     0.292737    0.742775   \n",
       "(2020-08-20, 2020-08-27]         0.504779     0.258869    0.516205   \n",
       "(2020-08-27, 2020-09-03]         0.524186     0.272231    0.910138   \n",
       "(2020-09-03, 2020-09-10]         0.495571     0.272231    0.910138   \n",
       "(2020-09-10, 2020-09-17]         0.500716     0.216446    0.744759   \n",
       "(2020-09-17, 2020-09-24]         0.608548     0.255328    0.728690   \n",
       "(2020-09-24, 2020-10-01]         0.607603     0.181869    0.394414   \n",
       "(2020-10-01, 2020-10-08]         0.643328     0.318077    0.389306   \n",
       "(2020-10-08, 2020-10-15]         0.655133     0.356194    0.573013   \n",
       "(2020-10-15, 2020-10-22]         0.673206     0.189565    0.161055   \n",
       "(2020-10-22, 2020-10-29]         0.719395     0.189565    0.161055   \n",
       "(2020-10-29, 2020-11-05]         0.751439     0.114755    0.306735   \n",
       "(2020-11-05, 2020-11-12]         0.795391     0.101712    0.225087   \n",
       "(2020-11-12, 2020-11-19]         0.898904     0.117576    0.188699   \n",
       "(2020-11-19, 2020-11-26]         0.971201     0.042753    0.107337   \n",
       "(2020-11-26, 2020-12-03]         1.000000     0.091504    0.569915   \n",
       "(2020-12-03, 2020-12-10]         0.591682          NaN         NaN   \n",
       "\n",
       "                          norm_positive_i  \n",
       "week                                       \n",
       "(2020-01-02, 2020-01-09]         0.000000  \n",
       "(2020-01-09, 2020-01-16]         0.000000  \n",
       "(2020-01-16, 2020-01-23]         0.000000  \n",
       "(2020-01-23, 2020-01-30]         0.000000  \n",
       "(2020-01-30, 2020-02-06]         0.000000  \n",
       "(2020-02-06, 2020-02-13]         0.000000  \n",
       "(2020-02-13, 2020-02-20]         0.000000  \n",
       "(2020-02-20, 2020-02-27]         0.000000  \n",
       "(2020-02-27, 2020-03-05]         0.000302  \n",
       "(2020-03-05, 2020-03-12]         0.002001  \n",
       "(2020-03-12, 2020-03-19]         0.012596  \n",
       "(2020-03-19, 2020-03-26]         0.061698  \n",
       "(2020-03-26, 2020-04-02]         0.131080  \n",
       "(2020-04-02, 2020-04-09]         0.177533  \n",
       "(2020-04-09, 2020-04-16]         0.168481  \n",
       "(2020-04-16, 2020-04-23]         0.165189  \n",
       "(2020-04-23, 2020-04-30]         0.165713  \n",
       "(2020-04-30, 2020-05-07]         0.152212  \n",
       "(2020-05-07, 2020-05-14]         0.133813  \n",
       "(2020-05-14, 2020-05-21]         0.130897  \n",
       "(2020-05-21, 2020-05-28]         0.117790  \n",
       "(2020-05-28, 2020-06-04]         0.123141  \n",
       "(2020-06-04, 2020-06-11]         0.116673  \n",
       "(2020-06-11, 2020-06-18]         0.133949  \n",
       "(2020-06-18, 2020-06-25]         0.190729  \n",
       "(2020-06-25, 2020-07-02]         0.264047  \n",
       "(2020-07-02, 2020-07-09]         0.303115  \n",
       "(2020-07-09, 2020-07-16]         0.367864  \n",
       "(2020-07-16, 2020-07-23]         0.383487  \n",
       "(2020-07-23, 2020-07-30]         0.367513  \n",
       "(2020-07-30, 2020-08-06]         0.314472  \n",
       "(2020-08-06, 2020-08-13]         0.303800  \n",
       "(2020-08-13, 2020-08-20]         0.265056  \n",
       "(2020-08-20, 2020-08-27]         0.236954  \n",
       "(2020-08-27, 2020-09-03]         0.228947  \n",
       "(2020-09-03, 2020-09-10]         0.204257  \n",
       "(2020-09-10, 2020-09-17]         0.224733  \n",
       "(2020-09-17, 2020-09-24]         0.245702  \n",
       "(2020-09-24, 2020-10-01]         0.247033  \n",
       "(2020-10-01, 2020-10-08]         0.264166  \n",
       "(2020-10-08, 2020-10-15]         0.305836  \n",
       "(2020-10-15, 2020-10-22]         0.350394  \n",
       "(2020-10-22, 2020-10-29]         0.438774  \n",
       "(2020-10-29, 2020-11-05]         0.535605  \n",
       "(2020-11-05, 2020-11-12]         0.751935  \n",
       "(2020-11-12, 2020-11-19]         0.932996  \n",
       "(2020-11-19, 2020-11-26]         0.948480  \n",
       "(2020-11-26, 2020-12-03]         1.000000  \n",
       "(2020-12-03, 2020-12-10]         0.655533  \n",
       "\n",
       "[49 rows x 23 columns]"
      ],
      "text/html": "<div>\n<style scoped>\n    .dataframe tbody tr th:only-of-type {\n        vertical-align: middle;\n    }\n\n    .dataframe tbody tr th {\n        vertical-align: top;\n    }\n\n    .dataframe thead th {\n        text-align: right;\n    }\n</style>\n<table border=\"1\" class=\"dataframe\">\n  <thead>\n    <tr style=\"text-align: right;\">\n      <th></th>\n      <th>week#</th>\n      <th>positiveIncrease</th>\n      <th>negativeIncrease</th>\n      <th>positive</th>\n      <th>negative</th>\n      <th>totalTestResultsIncrease</th>\n      <th>totalTestResults</th>\n      <th>length</th>\n      <th>popularity</th>\n      <th>danceability</th>\n      <th>...</th>\n      <th>instrumentalness</th>\n      <th>liveness</th>\n      <th>loudness</th>\n      <th>speechiness</th>\n      <th>tempo</th>\n      <th>time_signature</th>\n      <th>norm_negative_i</th>\n      <th>norm_length</th>\n      <th>norm_tempo</th>\n      <th>norm_positive_i</th>\n    </tr>\n    <tr>\n      <th>week</th>\n      <th></th>\n      <th></th>\n      <th></th>\n      <th></th>\n      <th></th>\n      <th></th>\n      <th></th>\n      <th></th>\n      <th></th>\n      <th></th>\n      <th></th>\n      <th></th>\n      <th></th>\n      <th></th>\n      <th></th>\n      <th></th>\n      <th></th>\n      <th></th>\n      <th></th>\n      <th></th>\n      <th></th>\n    </tr>\n  </thead>\n  <tbody>\n    <tr>\n      <th>(2020-01-02, 2020-01-09]</th>\n      <td>1</td>\n      <td>0</td>\n      <td>0</td>\n      <td>0</td>\n      <td>0</td>\n      <td>0</td>\n      <td>0</td>\n      <td>188656.35</td>\n      <td>75.55</td>\n      <td>0.71665</td>\n      <td>...</td>\n      <td>0.033020</td>\n      <td>0.198585</td>\n      <td>-6.22025</td>\n      <td>0.116085</td>\n      <td>126.61265</td>\n      <td>3.90</td>\n      <td>0.000000</td>\n      <td>0.143463</td>\n      <td>0.548776</td>\n      <td>0.000000</td>\n    </tr>\n    <tr>\n      <th>(2020-01-09, 2020-01-16]</th>\n      <td>2</td>\n      <td>0</td>\n      <td>0</td>\n      <td>0</td>\n      <td>0</td>\n      <td>0</td>\n      <td>0</td>\n      <td>208934.70</td>\n      <td>75.35</td>\n      <td>0.71400</td>\n      <td>...</td>\n      <td>0.039695</td>\n      <td>0.179490</td>\n      <td>-7.12430</td>\n      <td>0.140355</td>\n      <td>128.23130</td>\n      <td>4.05</td>\n      <td>0.000000</td>\n      <td>0.550819</td>\n      <td>0.635302</td>\n      <td>0.000000</td>\n    </tr>\n    <tr>\n      <th>(2020-01-16, 2020-01-23]</th>\n      <td>3</td>\n      <td>0</td>\n      <td>0</td>\n      <td>0</td>\n      <td>0</td>\n      <td>1</td>\n      <td>3</td>\n      <td>206069.10</td>\n      <td>77.70</td>\n      <td>0.72310</td>\n      <td>...</td>\n      <td>0.007701</td>\n      <td>0.195490</td>\n      <td>-7.31150</td>\n      <td>0.158935</td>\n      <td>130.57085</td>\n      <td>4.05</td>\n      <td>0.000000</td>\n      <td>0.493254</td>\n      <td>0.760365</td>\n      <td>0.000000</td>\n    </tr>\n    <tr>\n      <th>(2020-01-23, 2020-01-30]</th>\n      <td>4</td>\n      <td>0</td>\n      <td>0</td>\n      <td>0</td>\n      <td>0</td>\n      <td>3</td>\n      <td>22</td>\n      <td>204243.55</td>\n      <td>81.20</td>\n      <td>0.72620</td>\n      <td>...</td>\n      <td>0.046191</td>\n      <td>0.185030</td>\n      <td>-7.03405</td>\n      <td>0.171040</td>\n      <td>133.48885</td>\n      <td>4.05</td>\n      <td>0.000000</td>\n      <td>0.456582</td>\n      <td>0.916349</td>\n      <td>0.000000</td>\n    </tr>\n    <tr>\n      <th>(2020-01-30, 2020-02-06]</th>\n      <td>5</td>\n      <td>0</td>\n      <td>0</td>\n      <td>0</td>\n      <td>0</td>\n      <td>11</td>\n      <td>81</td>\n      <td>198553.85</td>\n      <td>80.50</td>\n      <td>0.73100</td>\n      <td>...</td>\n      <td>0.032991</td>\n      <td>0.199450</td>\n      <td>-6.23020</td>\n      <td>0.170440</td>\n      <td>130.47640</td>\n      <td>4.05</td>\n      <td>0.000000</td>\n      <td>0.342286</td>\n      <td>0.755316</td>\n      <td>0.000000</td>\n    </tr>\n    <tr>\n      <th>(2020-02-06, 2020-02-13]</th>\n      <td>6</td>\n      <td>0</td>\n      <td>0</td>\n      <td>0</td>\n      <td>0</td>\n      <td>6</td>\n      <td>134</td>\n      <td>197057.60</td>\n      <td>81.15</td>\n      <td>0.72850</td>\n      <td>...</td>\n      <td>0.033006</td>\n      <td>0.210250</td>\n      <td>-6.34590</td>\n      <td>0.152005</td>\n      <td>130.98010</td>\n      <td>4.00</td>\n      <td>0.000000</td>\n      <td>0.312229</td>\n      <td>0.782242</td>\n      <td>0.000000</td>\n    </tr>\n    <tr>\n      <th>(2020-02-13, 2020-02-20]</th>\n      <td>7</td>\n      <td>0</td>\n      <td>0</td>\n      <td>0</td>\n      <td>0</td>\n      <td>14</td>\n      <td>205</td>\n      <td>200057.85</td>\n      <td>77.25</td>\n      <td>0.74275</td>\n      <td>...</td>\n      <td>0.033511</td>\n      <td>0.194965</td>\n      <td>-7.03420</td>\n      <td>0.134315</td>\n      <td>127.57905</td>\n      <td>4.05</td>\n      <td>0.000000</td>\n      <td>0.372499</td>\n      <td>0.600436</td>\n      <td>0.000000</td>\n    </tr>\n    <tr>\n      <th>(2020-02-20, 2020-02-27]</th>\n      <td>8</td>\n      <td>0</td>\n      <td>0</td>\n      <td>0</td>\n      <td>0</td>\n      <td>6451</td>\n      <td>6722</td>\n      <td>209555.65</td>\n      <td>75.20</td>\n      <td>0.73305</td>\n      <td>...</td>\n      <td>0.034000</td>\n      <td>0.189705</td>\n      <td>-6.79070</td>\n      <td>0.130585</td>\n      <td>122.56125</td>\n      <td>4.05</td>\n      <td>0.000000</td>\n      <td>0.563292</td>\n      <td>0.332205</td>\n      <td>0.000000</td>\n    </tr>\n    <tr>\n      <th>(2020-02-27, 2020-03-05]</th>\n      <td>9</td>\n      <td>367</td>\n      <td>1943</td>\n      <td>953</td>\n      <td>4138</td>\n      <td>2376</td>\n      <td>50810</td>\n      <td>200194.75</td>\n      <td>71.35</td>\n      <td>0.76325</td>\n      <td>...</td>\n      <td>0.000645</td>\n      <td>0.190260</td>\n      <td>-5.92425</td>\n      <td>0.123835</td>\n      <td>127.71860</td>\n      <td>4.05</td>\n      <td>0.000215</td>\n      <td>0.375249</td>\n      <td>0.607895</td>\n      <td>0.000302</td>\n    </tr>\n    <tr>\n      <th>(2020-03-05, 2020-03-12]</th>\n      <td>10</td>\n      <td>2429</td>\n      <td>15934</td>\n      <td>9467</td>\n      <td>55851</td>\n      <td>19561</td>\n      <td>114350</td>\n      <td>207809.15</td>\n      <td>70.70</td>\n      <td>0.79015</td>\n      <td>...</td>\n      <td>0.000011</td>\n      <td>0.258465</td>\n      <td>-5.91000</td>\n      <td>0.224720</td>\n      <td>135.05370</td>\n      <td>4.00</td>\n      <td>0.001761</td>\n      <td>0.528208</td>\n      <td>1.000000</td>\n      <td>0.002001</td>\n    </tr>\n    <tr>\n      <th>(2020-03-12, 2020-03-19]</th>\n      <td>11</td>\n      <td>15289</td>\n      <td>95363</td>\n      <td>63650</td>\n      <td>418435</td>\n      <td>134482</td>\n      <td>613151</td>\n      <td>203876.45</td>\n      <td>79.30</td>\n      <td>0.77110</td>\n      <td>...</td>\n      <td>0.000133</td>\n      <td>0.224820</td>\n      <td>-6.06820</td>\n      <td>0.176575</td>\n      <td>131.67975</td>\n      <td>4.05</td>\n      <td>0.010541</td>\n      <td>0.449207</td>\n      <td>0.819642</td>\n      <td>0.012596</td>\n    </tr>\n    <tr>\n      <th>(2020-03-19, 2020-03-26]</th>\n      <td>12</td>\n      <td>74891</td>\n      <td>368908</td>\n      <td>377548</td>\n      <td>2012538</td>\n      <td>470093</td>\n      <td>2724132</td>\n      <td>225434.60</td>\n      <td>81.15</td>\n      <td>0.63250</td>\n      <td>...</td>\n      <td>0.008270</td>\n      <td>0.238340</td>\n      <td>-6.62290</td>\n      <td>0.089630</td>\n      <td>122.50615</td>\n      <td>4.05</td>\n      <td>0.040779</td>\n      <td>0.882272</td>\n      <td>0.329259</td>\n      <td>0.061698</td>\n    </tr>\n    <tr>\n      <th>(2020-03-26, 2020-04-02]</th>\n      <td>13</td>\n      <td>159109</td>\n      <td>600577</td>\n      <td>1242105</td>\n      <td>5735931</td>\n      <td>752746</td>\n      <td>7324427</td>\n      <td>186663.80</td>\n      <td>85.30</td>\n      <td>0.76140</td>\n      <td>...</td>\n      <td>0.000666</td>\n      <td>0.248725</td>\n      <td>-5.98440</td>\n      <td>0.116880</td>\n      <td>124.91535</td>\n      <td>4.05</td>\n      <td>0.066388</td>\n      <td>0.103436</td>\n      <td>0.458045</td>\n      <td>0.131080</td>\n    </tr>\n    <tr>\n      <th>(2020-04-02, 2020-04-09]</th>\n      <td>14</td>\n      <td>215495</td>\n      <td>893962</td>\n      <td>2615709</td>\n      <td>11161354</td>\n      <td>1124604</td>\n      <td>14188812</td>\n      <td>185770.00</td>\n      <td>81.55</td>\n      <td>0.78735</td>\n      <td>...</td>\n      <td>0.000662</td>\n      <td>0.236995</td>\n      <td>-6.39320</td>\n      <td>0.140835</td>\n      <td>122.67775</td>\n      <td>4.05</td>\n      <td>0.098818</td>\n      <td>0.085481</td>\n      <td>0.338432</td>\n      <td>0.177533</td>\n    </tr>\n    <tr>\n      <th>(2020-04-09, 2020-04-16]</th>\n      <td>15</td>\n      <td>204507</td>\n      <td>816465</td>\n      <td>4101239</td>\n      <td>17041171</td>\n      <td>1050062</td>\n      <td>21675845</td>\n      <td>188590.75</td>\n      <td>81.05</td>\n      <td>0.79400</td>\n      <td>...</td>\n      <td>0.000670</td>\n      <td>0.221195</td>\n      <td>-6.47940</td>\n      <td>0.135595</td>\n      <td>122.94160</td>\n      <td>4.00</td>\n      <td>0.090252</td>\n      <td>0.142145</td>\n      <td>0.352536</td>\n      <td>0.168481</td>\n    </tr>\n    <tr>\n      <th>(2020-04-16, 2020-04-23]</th>\n      <td>16</td>\n      <td>200511</td>\n      <td>1081048</td>\n      <td>5505135</td>\n      <td>23395370</td>\n      <td>1333280</td>\n      <td>29745590</td>\n      <td>181848.95</td>\n      <td>84.35</td>\n      <td>0.79695</td>\n      <td>...</td>\n      <td>0.000676</td>\n      <td>0.186085</td>\n      <td>-6.49910</td>\n      <td>0.158335</td>\n      <td>124.53580</td>\n      <td>4.00</td>\n      <td>0.119499</td>\n      <td>0.006714</td>\n      <td>0.437756</td>\n      <td>0.165189</td>\n    </tr>\n    <tr>\n      <th>(2020-04-23, 2020-04-30]</th>\n      <td>17</td>\n      <td>201147</td>\n      <td>1388880</td>\n      <td>6946219</td>\n      <td>32717575</td>\n      <td>1649436</td>\n      <td>40820379</td>\n      <td>197816.85</td>\n      <td>84.55</td>\n      <td>0.77740</td>\n      <td>...</td>\n      <td>0.000663</td>\n      <td>0.197460</td>\n      <td>-6.32235</td>\n      <td>0.114490</td>\n      <td>123.60325</td>\n      <td>4.00</td>\n      <td>0.153526</td>\n      <td>0.327481</td>\n      <td>0.387906</td>\n      <td>0.165713</td>\n    </tr>\n    <tr>\n      <th>(2020-04-30, 2020-05-07]</th>\n      <td>18</td>\n      <td>184759</td>\n      <td>1650494</td>\n      <td>8282786</td>\n      <td>43363349</td>\n      <td>1888312</td>\n      <td>53197237</td>\n      <td>200201.55</td>\n      <td>79.45</td>\n      <td>0.73980</td>\n      <td>...</td>\n      <td>0.000541</td>\n      <td>0.234475</td>\n      <td>-6.70940</td>\n      <td>0.138380</td>\n      <td>116.34670</td>\n      <td>3.95</td>\n      <td>0.182445</td>\n      <td>0.375385</td>\n      <td>0.000000</td>\n      <td>0.152212</td>\n    </tr>\n    <tr>\n      <th>(2020-05-07, 2020-05-14]</th>\n      <td>19</td>\n      <td>162426</td>\n      <td>2072956</td>\n      <td>9466006</td>\n      <td>56381534</td>\n      <td>2306906</td>\n      <td>67895600</td>\n      <td>189851.40</td>\n      <td>83.30</td>\n      <td>0.75360</td>\n      <td>...</td>\n      <td>0.017212</td>\n      <td>0.253085</td>\n      <td>-6.63355</td>\n      <td>0.124390</td>\n      <td>125.76330</td>\n      <td>3.95</td>\n      <td>0.229144</td>\n      <td>0.167469</td>\n      <td>0.503373</td>\n      <td>0.133813</td>\n    </tr>\n    <tr>\n      <th>(2020-05-14, 2020-05-21]</th>\n      <td>20</td>\n      <td>158887</td>\n      <td>2569838</td>\n      <td>10582022</td>\n      <td>72731241</td>\n      <td>2814844</td>\n      <td>85967564</td>\n      <td>189371.95</td>\n      <td>82.05</td>\n      <td>0.75380</td>\n      <td>...</td>\n      <td>0.017090</td>\n      <td>0.254980</td>\n      <td>-6.95490</td>\n      <td>0.141430</td>\n      <td>129.81485</td>\n      <td>3.95</td>\n      <td>0.284069</td>\n      <td>0.157838</td>\n      <td>0.719952</td>\n      <td>0.130897</td>\n    </tr>\n    <tr>\n      <th>(2020-05-21, 2020-05-28]</th>\n      <td>21</td>\n      <td>142977</td>\n      <td>2514602</td>\n      <td>11642959</td>\n      <td>91078388</td>\n      <td>2803061</td>\n      <td>105969259</td>\n      <td>187775.65</td>\n      <td>82.95</td>\n      <td>0.75130</td>\n      <td>...</td>\n      <td>0.017090</td>\n      <td>0.251650</td>\n      <td>-6.90470</td>\n      <td>0.133535</td>\n      <td>129.17410</td>\n      <td>3.95</td>\n      <td>0.277963</td>\n      <td>0.125771</td>\n      <td>0.685701</td>\n      <td>0.117790</td>\n    </tr>\n    <tr>\n      <th>(2020-05-28, 2020-06-04]</th>\n      <td>22</td>\n      <td>149472</td>\n      <td>2930564</td>\n      <td>12674862</td>\n      <td>110166502</td>\n      <td>3197526</td>\n      <td>127264490</td>\n      <td>184036.35</td>\n      <td>82.95</td>\n      <td>0.74450</td>\n      <td>...</td>\n      <td>0.017212</td>\n      <td>0.284465</td>\n      <td>-6.42250</td>\n      <td>0.123325</td>\n      <td>120.08290</td>\n      <td>4.00</td>\n      <td>0.323943</td>\n      <td>0.050655</td>\n      <td>0.199722</td>\n      <td>0.123141</td>\n    </tr>\n    <tr>\n      <th>(2020-06-04, 2020-06-11]</th>\n      <td>23</td>\n      <td>141621</td>\n      <td>3041317</td>\n      <td>13680660</td>\n      <td>131536303</td>\n      <td>3353733</td>\n      <td>150822317</td>\n      <td>188812.25</td>\n      <td>86.05</td>\n      <td>0.75350</td>\n      <td>...</td>\n      <td>0.017212</td>\n      <td>0.239265</td>\n      <td>-6.65885</td>\n      <td>0.134485</td>\n      <td>121.22815</td>\n      <td>4.00</td>\n      <td>0.336186</td>\n      <td>0.146595</td>\n      <td>0.260942</td>\n      <td>0.116673</td>\n    </tr>\n    <tr>\n      <th>(2020-06-11, 2020-06-18]</th>\n      <td>24</td>\n      <td>162591</td>\n      <td>3341667</td>\n      <td>14736337</td>\n      <td>154040162</td>\n      <td>3590700</td>\n      <td>174896431</td>\n      <td>187683.65</td>\n      <td>84.40</td>\n      <td>0.71870</td>\n      <td>...</td>\n      <td>0.017095</td>\n      <td>0.255920</td>\n      <td>-6.71325</td>\n      <td>0.130680</td>\n      <td>116.35290</td>\n      <td>3.90</td>\n      <td>0.369386</td>\n      <td>0.123923</td>\n      <td>0.000331</td>\n      <td>0.133949</td>\n    </tr>\n    <tr>\n      <th>(2020-06-18, 2020-06-25]</th>\n      <td>25</td>\n      <td>231512</td>\n      <td>3594674</td>\n      <td>16116075</td>\n      <td>178040159</td>\n      <td>4022828</td>\n      <td>201495527</td>\n      <td>188643.05</td>\n      <td>84.30</td>\n      <td>0.73565</td>\n      <td>...</td>\n      <td>0.017090</td>\n      <td>0.247970</td>\n      <td>-6.65845</td>\n      <td>0.119205</td>\n      <td>116.61560</td>\n      <td>3.90</td>\n      <td>0.397354</td>\n      <td>0.143196</td>\n      <td>0.014374</td>\n      <td>0.190729</td>\n    </tr>\n    <tr>\n      <th>(2020-06-25, 2020-07-02]</th>\n      <td>26</td>\n      <td>320508</td>\n      <td>4057563</td>\n      <td>18088061</td>\n      <td>204818685</td>\n      <td>4695591</td>\n      <td>232403665</td>\n      <td>186558.90</td>\n      <td>85.25</td>\n      <td>0.75935</td>\n      <td>...</td>\n      <td>0.017092</td>\n      <td>0.255140</td>\n      <td>-6.60200</td>\n      <td>0.129540</td>\n      <td>123.21155</td>\n      <td>3.95</td>\n      <td>0.448521</td>\n      <td>0.101329</td>\n      <td>0.366967</td>\n      <td>0.264047</td>\n    </tr>\n    <tr>\n      <th>(2020-07-02, 2020-07-09]</th>\n      <td>27</td>\n      <td>367930</td>\n      <td>4136761</td>\n      <td>20531634</td>\n      <td>233829835</td>\n      <td>4884154</td>\n      <td>265845080</td>\n      <td>192098.35</td>\n      <td>86.70</td>\n      <td>0.73150</td>\n      <td>...</td>\n      <td>0.000560</td>\n      <td>0.221620</td>\n      <td>-6.48980</td>\n      <td>0.146320</td>\n      <td>116.93905</td>\n      <td>3.95</td>\n      <td>0.457276</td>\n      <td>0.212607</td>\n      <td>0.031665</td>\n      <td>0.303115</td>\n    </tr>\n    <tr>\n      <th>(2020-07-09, 2020-07-16]</th>\n      <td>28</td>\n      <td>446524</td>\n      <td>4879677</td>\n      <td>23441867</td>\n      <td>265551337</td>\n      <td>5790632</td>\n      <td>303663861</td>\n      <td>181514.70</td>\n      <td>47.20</td>\n      <td>0.67400</td>\n      <td>...</td>\n      <td>0.000004</td>\n      <td>0.158820</td>\n      <td>-6.62355</td>\n      <td>0.112670</td>\n      <td>127.18045</td>\n      <td>3.95</td>\n      <td>0.539397</td>\n      <td>0.000000</td>\n      <td>0.579128</td>\n      <td>0.367864</td>\n    </tr>\n    <tr>\n      <th>(2020-07-16, 2020-07-23]</th>\n      <td>29</td>\n      <td>465488</td>\n      <td>4997759</td>\n      <td>26667839</td>\n      <td>300279597</td>\n      <td>5960175</td>\n      <td>345039041</td>\n      <td>188313.55</td>\n      <td>71.55</td>\n      <td>0.72850</td>\n      <td>...</td>\n      <td>0.000005</td>\n      <td>0.163170</td>\n      <td>-7.32910</td>\n      <td>0.126905</td>\n      <td>127.85355</td>\n      <td>4.00</td>\n      <td>0.552450</td>\n      <td>0.136577</td>\n      <td>0.615109</td>\n      <td>0.383487</td>\n    </tr>\n    <tr>\n      <th>(2020-07-23, 2020-07-30]</th>\n      <td>30</td>\n      <td>446098</td>\n      <td>5260401</td>\n      <td>29863625</td>\n      <td>336719684</td>\n      <td>6251012</td>\n      <td>388291669</td>\n      <td>231295.15</td>\n      <td>75.80</td>\n      <td>0.60055</td>\n      <td>...</td>\n      <td>0.000169</td>\n      <td>0.125650</td>\n      <td>-9.42220</td>\n      <td>0.063230</td>\n      <td>119.41620</td>\n      <td>4.00</td>\n      <td>0.581483</td>\n      <td>1.000000</td>\n      <td>0.164083</td>\n      <td>0.367513</td>\n    </tr>\n    <tr>\n      <th>(2020-07-30, 2020-08-06]</th>\n      <td>31</td>\n      <td>381715</td>\n      <td>4662208</td>\n      <td>32760064</td>\n      <td>370779586</td>\n      <td>5768578</td>\n      <td>430330671</td>\n      <td>207541.55</td>\n      <td>80.20</td>\n      <td>0.65490</td>\n      <td>...</td>\n      <td>0.006744</td>\n      <td>0.173705</td>\n      <td>-7.73810</td>\n      <td>0.094715</td>\n      <td>126.50530</td>\n      <td>4.00</td>\n      <td>0.515359</td>\n      <td>0.522833</td>\n      <td>0.543037</td>\n      <td>0.314472</td>\n    </tr>\n    <tr>\n      <th>(2020-08-06, 2020-08-13]</th>\n      <td>32</td>\n      <td>368761</td>\n      <td>4679424</td>\n      <td>35345563</td>\n      <td>403474889</td>\n      <td>5568118</td>\n      <td>469372440</td>\n      <td>198984.40</td>\n      <td>87.85</td>\n      <td>0.66795</td>\n      <td>...</td>\n      <td>0.006625</td>\n      <td>0.174185</td>\n      <td>-6.95610</td>\n      <td>0.130680</td>\n      <td>132.30925</td>\n      <td>4.00</td>\n      <td>0.517262</td>\n      <td>0.350935</td>\n      <td>0.853293</td>\n      <td>0.303800</td>\n    </tr>\n    <tr>\n      <th>(2020-08-13, 2020-08-20]</th>\n      <td>33</td>\n      <td>321733</td>\n      <td>4746866</td>\n      <td>37785826</td>\n      <td>437283278</td>\n      <td>5743657</td>\n      <td>509815643</td>\n      <td>196087.30</td>\n      <td>88.40</td>\n      <td>0.68225</td>\n      <td>...</td>\n      <td>0.000165</td>\n      <td>0.179445</td>\n      <td>-6.23705</td>\n      <td>0.131550</td>\n      <td>130.24180</td>\n      <td>3.95</td>\n      <td>0.524717</td>\n      <td>0.292737</td>\n      <td>0.742775</td>\n      <td>0.265056</td>\n    </tr>\n    <tr>\n      <th>(2020-08-20, 2020-08-27]</th>\n      <td>34</td>\n      <td>287622</td>\n      <td>4566500</td>\n      <td>39849481</td>\n      <td>469244277</td>\n      <td>5492422</td>\n      <td>548575313</td>\n      <td>194401.30</td>\n      <td>87.35</td>\n      <td>0.68465</td>\n      <td>...</td>\n      <td>0.000009</td>\n      <td>0.177775</td>\n      <td>-6.40635</td>\n      <td>0.128745</td>\n      <td>126.00335</td>\n      <td>3.95</td>\n      <td>0.504779</td>\n      <td>0.258869</td>\n      <td>0.516205</td>\n      <td>0.236954</td>\n    </tr>\n    <tr>\n      <th>(2020-08-27, 2020-09-03]</th>\n      <td>35</td>\n      <td>277903</td>\n      <td>4742063</td>\n      <td>41841066</td>\n      <td>502121079</td>\n      <td>5813836</td>\n      <td>588338676</td>\n      <td>195066.50</td>\n      <td>89.85</td>\n      <td>0.70135</td>\n      <td>...</td>\n      <td>0.000007</td>\n      <td>0.175400</td>\n      <td>-6.23930</td>\n      <td>0.134700</td>\n      <td>133.37265</td>\n      <td>3.95</td>\n      <td>0.524186</td>\n      <td>0.272231</td>\n      <td>0.910138</td>\n      <td>0.228947</td>\n    </tr>\n    <tr>\n      <th>(2020-09-03, 2020-09-10]</th>\n      <td>36</td>\n      <td>247933</td>\n      <td>4483202</td>\n      <td>43718196</td>\n      <td>535343887</td>\n      <td>5566062</td>\n      <td>629248666</td>\n      <td>195066.50</td>\n      <td>89.85</td>\n      <td>0.70135</td>\n      <td>...</td>\n      <td>0.000007</td>\n      <td>0.175400</td>\n      <td>-6.23930</td>\n      <td>0.134700</td>\n      <td>133.37265</td>\n      <td>3.95</td>\n      <td>0.495571</td>\n      <td>0.272231</td>\n      <td>0.910138</td>\n      <td>0.204257</td>\n    </tr>\n    <tr>\n      <th>(2020-09-10, 2020-09-17]</th>\n      <td>37</td>\n      <td>272787</td>\n      <td>4529747</td>\n      <td>45479682</td>\n      <td>565741197</td>\n      <td>5805413</td>\n      <td>667763686</td>\n      <td>192289.50</td>\n      <td>90.65</td>\n      <td>0.70105</td>\n      <td>...</td>\n      <td>0.000007</td>\n      <td>0.170055</td>\n      <td>-6.57330</td>\n      <td>0.138080</td>\n      <td>130.27890</td>\n      <td>3.95</td>\n      <td>0.500716</td>\n      <td>0.216446</td>\n      <td>0.744759</td>\n      <td>0.224733</td>\n    </tr>\n    <tr>\n      <th>(2020-09-17, 2020-09-24]</th>\n      <td>38</td>\n      <td>298240</td>\n      <td>5505253</td>\n      <td>47494220</td>\n      <td>601617969</td>\n      <td>6932357</td>\n      <td>713355297</td>\n      <td>194225.05</td>\n      <td>91.60</td>\n      <td>0.69845</td>\n      <td>...</td>\n      <td>0.000007</td>\n      <td>0.173395</td>\n      <td>-6.46610</td>\n      <td>0.146515</td>\n      <td>129.97830</td>\n      <td>3.95</td>\n      <td>0.608548</td>\n      <td>0.255328</td>\n      <td>0.728690</td>\n      <td>0.245702</td>\n    </tr>\n    <tr>\n      <th>(2020-09-24, 2020-10-01]</th>\n      <td>39</td>\n      <td>299856</td>\n      <td>5496703</td>\n      <td>49611461</td>\n      <td>640289874</td>\n      <td>7141604</td>\n      <td>762856195</td>\n      <td>190568.20</td>\n      <td>91.55</td>\n      <td>0.70765</td>\n      <td>...</td>\n      <td>0.000437</td>\n      <td>0.164705</td>\n      <td>-6.25840</td>\n      <td>0.155240</td>\n      <td>123.72500</td>\n      <td>3.95</td>\n      <td>0.607603</td>\n      <td>0.181869</td>\n      <td>0.394414</td>\n      <td>0.247033</td>\n    </tr>\n    <tr>\n      <th>(2020-10-01, 2020-10-08]</th>\n      <td>40</td>\n      <td>320652</td>\n      <td>5819892</td>\n      <td>51742130</td>\n      <td>679947805</td>\n      <td>7408043</td>\n      <td>813785493</td>\n      <td>197348.70</td>\n      <td>88.45</td>\n      <td>0.73900</td>\n      <td>...</td>\n      <td>0.042617</td>\n      <td>0.142490</td>\n      <td>-6.29060</td>\n      <td>0.174535</td>\n      <td>123.62945</td>\n      <td>4.00</td>\n      <td>0.643328</td>\n      <td>0.318077</td>\n      <td>0.389306</td>\n      <td>0.264166</td>\n    </tr>\n    <tr>\n      <th>(2020-10-08, 2020-10-15]</th>\n      <td>41</td>\n      <td>371233</td>\n      <td>5926683</td>\n      <td>54187604</td>\n      <td>721421640</td>\n      <td>7798791</td>\n      <td>867315609</td>\n      <td>199246.20</td>\n      <td>91.65</td>\n      <td>0.68845</td>\n      <td>...</td>\n      <td>0.005316</td>\n      <td>0.151275</td>\n      <td>-6.58760</td>\n      <td>0.162725</td>\n      <td>127.06605</td>\n      <td>3.95</td>\n      <td>0.655133</td>\n      <td>0.356194</td>\n      <td>0.573013</td>\n      <td>0.305836</td>\n    </tr>\n    <tr>\n      <th>(2020-10-15, 2020-10-22]</th>\n      <td>42</td>\n      <td>425319</td>\n      <td>6090183</td>\n      <td>56988783</td>\n      <td>763365865</td>\n      <td>7840317</td>\n      <td>922168037</td>\n      <td>190951.35</td>\n      <td>91.30</td>\n      <td>0.67960</td>\n      <td>...</td>\n      <td>0.000265</td>\n      <td>0.145990</td>\n      <td>-7.07770</td>\n      <td>0.122700</td>\n      <td>119.35955</td>\n      <td>3.95</td>\n      <td>0.673206</td>\n      <td>0.189565</td>\n      <td>0.161055</td>\n      <td>0.350394</td>\n    </tr>\n    <tr>\n      <th>(2020-10-22, 2020-10-29]</th>\n      <td>43</td>\n      <td>532596</td>\n      <td>6508030</td>\n      <td>60411138</td>\n      <td>807462360</td>\n      <td>8605930</td>\n      <td>980018957</td>\n      <td>190951.35</td>\n      <td>91.30</td>\n      <td>0.67960</td>\n      <td>...</td>\n      <td>0.000265</td>\n      <td>0.145990</td>\n      <td>-7.07770</td>\n      <td>0.122700</td>\n      <td>119.35955</td>\n      <td>3.95</td>\n      <td>0.719395</td>\n      <td>0.189565</td>\n      <td>0.161055</td>\n      <td>0.438774</td>\n    </tr>\n    <tr>\n      <th>(2020-10-29, 2020-11-05]</th>\n      <td>44</td>\n      <td>650133</td>\n      <td>6797916</td>\n      <td>64530876</td>\n      <td>853366345</td>\n      <td>9126792</td>\n      <td>1041344994</td>\n      <td>187227.25</td>\n      <td>89.05</td>\n      <td>0.69805</td>\n      <td>...</td>\n      <td>0.000005</td>\n      <td>0.157600</td>\n      <td>-6.51155</td>\n      <td>0.113055</td>\n      <td>122.08480</td>\n      <td>3.85</td>\n      <td>0.751439</td>\n      <td>0.114755</td>\n      <td>0.306735</td>\n      <td>0.535605</td>\n    </tr>\n    <tr>\n      <th>(2020-11-05, 2020-11-12]</th>\n      <td>45</td>\n      <td>912720</td>\n      <td>7195535</td>\n      <td>70097178</td>\n      <td>903244770</td>\n      <td>9891103</td>\n      <td>1108821522</td>\n      <td>186577.95</td>\n      <td>92.20</td>\n      <td>0.70710</td>\n      <td>...</td>\n      <td>0.000049</td>\n      <td>0.139530</td>\n      <td>-6.72960</td>\n      <td>0.138420</td>\n      <td>120.55740</td>\n      <td>4.00</td>\n      <td>0.795391</td>\n      <td>0.101712</td>\n      <td>0.225087</td>\n      <td>0.751935</td>\n    </tr>\n    <tr>\n      <th>(2020-11-12, 2020-11-19]</th>\n      <td>46</td>\n      <td>1132498</td>\n      <td>8131962</td>\n      <td>77450854</td>\n      <td>957081324</td>\n      <td>11333722</td>\n      <td>1183554306</td>\n      <td>187367.70</td>\n      <td>93.05</td>\n      <td>0.72990</td>\n      <td>...</td>\n      <td>0.006549</td>\n      <td>0.132360</td>\n      <td>-6.92365</td>\n      <td>0.158830</td>\n      <td>119.87670</td>\n      <td>4.00</td>\n      <td>0.898904</td>\n      <td>0.117576</td>\n      <td>0.188699</td>\n      <td>0.932996</td>\n    </tr>\n    <tr>\n      <th>(2020-11-19, 2020-11-26]</th>\n      <td>47</td>\n      <td>1151292</td>\n      <td>8785999</td>\n      <td>85674235</td>\n      <td>1018557042</td>\n      <td>12107861</td>\n      <td>1268775773</td>\n      <td>183642.95</td>\n      <td>93.45</td>\n      <td>0.72265</td>\n      <td>...</td>\n      <td>0.006504</td>\n      <td>0.150950</td>\n      <td>-6.69820</td>\n      <td>0.115005</td>\n      <td>118.35465</td>\n      <td>4.00</td>\n      <td>0.971201</td>\n      <td>0.042753</td>\n      <td>0.107337</td>\n      <td>0.948480</td>\n    </tr>\n    <tr>\n      <th>(2020-11-26, 2020-12-03]</th>\n      <td>48</td>\n      <td>1213829</td>\n      <td>9046533</td>\n      <td>93634537</td>\n      <td>1079371903</td>\n      <td>12357505</td>\n      <td>1352104345</td>\n      <td>186069.80</td>\n      <td>91.20</td>\n      <td>0.67800</td>\n      <td>...</td>\n      <td>0.006509</td>\n      <td>0.175050</td>\n      <td>-7.50315</td>\n      <td>0.107505</td>\n      <td>127.00810</td>\n      <td>3.90</td>\n      <td>1.000000</td>\n      <td>0.091504</td>\n      <td>0.569915</td>\n      <td>1.000000</td>\n    </tr>\n    <tr>\n      <th>(2020-12-03, 2020-12-10]</th>\n      <td>49</td>\n      <td>795705</td>\n      <td>5352674</td>\n      <td>57759199</td>\n      <td>645474622</td>\n      <td>7529462</td>\n      <td>812743021</td>\n      <td>NaN</td>\n      <td>NaN</td>\n      <td>NaN</td>\n      <td>...</td>\n      <td>NaN</td>\n      <td>NaN</td>\n      <td>NaN</td>\n      <td>NaN</td>\n      <td>NaN</td>\n      <td>NaN</td>\n      <td>0.591682</td>\n      <td>NaN</td>\n      <td>NaN</td>\n      <td>0.655533</td>\n    </tr>\n  </tbody>\n</table>\n<p>49 rows × 23 columns</p>\n</div>"
     },
     "metadata": {},
     "execution_count": 31
    }
   ],
   "source": [
    "merged"
   ]
  },
  {
   "cell_type": "code",
   "execution_count": null,
   "metadata": {},
   "outputs": [],
   "source": []
  }
 ],
 "metadata": {
  "kernelspec": {
   "display_name": "Python 3",
   "language": "python",
   "name": "python3"
  },
  "language_info": {
   "codemirror_mode": {
    "name": "ipython",
    "version": 3
   },
   "file_extension": ".py",
   "mimetype": "text/x-python",
   "name": "python",
   "nbconvert_exporter": "python",
   "pygments_lexer": "ipython3",
   "version": "3.8.3-final"
  }
 },
 "nbformat": 4,
 "nbformat_minor": 4
}