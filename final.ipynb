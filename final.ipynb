{
 "cells": [
  {
   "cell_type": "markdown",
   "metadata": {},
   "source": [
    "# The Pandemic's Effect on Trends in Music: Exploration"
   ]
  },
  {
   "cell_type": "markdown",
   "metadata": {},
   "source": [
    "Authors: Natnael Mekonnen, Sonya Lew, and Daniel Park"
   ]
  },
  {
   "cell_type": "markdown",
   "metadata": {},
   "source": [
    "## Introduction"
   ]
  },
  {
   "cell_type": "markdown",
   "metadata": {},
   "source": [
    "Why did we choose this topic? What is the importance?\n",
    "Do we anticipate to be any changes?"
   ]
  },
  {
   "cell_type": "markdown",
   "metadata": {},
   "source": [
    "## 1. Data Scraping"
   ]
  },
  {
   "cell_type": "markdown",
   "metadata": {},
   "source": [
    "To explore the pandemic's effect on music, we chose to compare the COVID data in the US with the top 20 list on Spotify since January 2020. The COVID data will be extracted from the Atlantic's [The COVID Tracking Project](https://covidtracking.com/data/national) which has been constantly updating the data everyday with representatives from 50 states, 5 territories, and District of Colombia. On the other hand, the Spotify top 20 will be extracted from the [Spotify Charts](https://spotifycharts.com/) on a weekly starting from January 2020. The charts does not have a detail information on the song so we will get more detail by querying the Spotify API.  "
   ]
  },
  {
   "cell_type": "markdown",
   "metadata": {},
   "source": [
    "Import the necessary libraries: "
   ]
  },
  {
   "cell_type": "code",
   "execution_count": null,
   "metadata": {},
   "outputs": [],
   "source": [
    "import pandas as pd\n",
    "import matplotlib.pyplot as plt\n",
    "import numpy as np\n",
    "import seaborn as sns"
   ]
  },
  {
   "cell_type": "markdown",
   "metadata": {},
   "source": [
    "## 1.1 Load and View COVID data"
   ]
  },
  {
   "cell_type": "code",
   "execution_count": null,
   "metadata": {},
   "outputs": [],
   "source": [
    "covid_data = pd.read_csv('national-history.csv')\n",
    "covid_data.head()"
   ]
  },
  {
   "cell_type": "markdown",
   "metadata": {},
   "source": [
    "The COVID data is detailed but since this project is finding its relationship with music, most of the unnecessary columns will be dropped."
   ]
  },
  {
   "cell_type": "code",
   "execution_count": null,
   "metadata": {},
   "outputs": [],
   "source": [
    "if 'death' in covid_data.columns:\n",
    "    covid_data = covid_data.drop(['death','deathIncrease','inIcuCumulative','inIcuCurrently', 'hospitalizedIncrease','hospitalizedCurrently','hospitalizedCumulative','onVentilatorCumulative','onVentilatorCurrently','recovered','states'], axis=1)\n"
   ]
  },
  {
   "cell_type": "markdown",
   "metadata": {},
   "source": [
    "Knowing that the Spotify data is grouped on a weekly basis starting on a Friday, the next step is to prepare the COVID data so it is easy to merge."
   ]
  },
  {
   "cell_type": "code",
   "execution_count": null,
   "metadata": {},
   "outputs": [],
   "source": [
    "# Creating a custom interval index for grouping the data which starts from begining of the year on a Friday and continues weekly\n",
    "i = pd.to_datetime('01/10/2020')\n",
    "bins = []\n",
    "while i < pd.to_datetime('11/26/2020'):\n",
    "    temp = i + pd.Timedelta('7 days')\n",
    "    bins.append((i,temp))\n",
    "    i = temp\n",
    "bins = pd.IntervalIndex.from_tuples(bins)"
   ]
  },
  {
   "cell_type": "code",
   "execution_count": null,
   "metadata": {},
   "outputs": [],
   "source": [
    "# Convert the date from the dataframe to a pandas date and time format to be comuted in the cutting\n",
    "covid_data['date'] = pd.to_datetime(covid_data['date'])\n",
    "\n",
    "# Using the interval index created above, create a new column week which has the week interval of the data\n",
    "covid_data['week'] = pd.cut(covid_data['date'], bins)\n",
    "\n",
    "# Now that every row has a week interval, they will be grouped with the total for each column \n",
    "grouped_covid = covid_data.groupby(['week']).sum()\n",
    "\n",
    "# Number the weeks to easily identify\n",
    "grouped_covid['week_num'] = list(range(1,len(bins)+1))\n",
    "\n",
    "grouped_covid.head(10)"
   ]
  },
  {
   "cell_type": "code",
   "execution_count": null,
   "metadata": {},
   "outputs": [],
   "source": [
    "column_names = ['week_num','positiveIncrease','negativeIncrease','positive','negative','totalTestResultsIncrease','totalTestResults']\n",
    "grouped_covid = grouped_covid.reindex(columns=column_names)\n",
    "\n",
    "grouped_covid.head(10)"
   ]
  },
  {
   "source": [
    "## 1.2 Load and View Spotify Top 20 Weekly Data"
   ],
   "cell_type": "markdown",
   "metadata": {}
  },
  {
   "source": [
    "As mentioned above, the weekly Spotify top 10 list for 2020 has been downloaded as a csv file. However, since the data is not robust, the Spotify developer API was used to get more detail information on the songs and collectively stored under `data.csv`. The script to run this process is under `spotify_data_extraction.py`."
   ],
   "cell_type": "markdown",
   "metadata": {}
  },
  {
   "cell_type": "code",
   "execution_count": null,
   "metadata": {},
   "outputs": [],
   "source": [
    "spotify_data = pd.read_csv('data10.csv')\n",
    "spotify_data.head()"
   ]
  },
  {
   "cell_type": "code",
   "execution_count": null,
   "metadata": {},
   "outputs": [],
   "source": [
    "spotify_data['start_date']  = pd.to_datetime(spotify_data['start_date'])\n",
    "\n",
    "# Using the same interval index created for the covid_data, create a new column week which has the week interval\n",
    "spotify_data['week'] = pd.cut(spotify_data['start_date'], bins)\n",
    "\n",
    "# Now that week is included, we can reindex with only the columns we need\n",
    "spotify_data = spotify_data.reindex(columns=['week','length', 'popularity',\n",
    "       'danceability', 'acousticness', 'danceability.1', 'energy',\n",
    "       'instrumentalness', 'liveness', 'loudness', 'speechiness', 'tempo',\n",
    "       'time_signature'])\n",
    "\n",
    "spotify_data.head()"
   ]
  },
  {
   "cell_type": "code",
   "execution_count": null,
   "metadata": {},
   "outputs": [],
   "source": [
    "# Now that every row has a week interval, they will be grouped with the mean for each column. The following table will contain\n",
    "# Spotify data during the pandemic \n",
    "grouped_spotify = spotify_data.groupby(['week']).mean()\n",
    "grouped_spotify.head()"
   ]
  },
  {
   "source": [],
   "cell_type": "markdown",
   "metadata": {}
  },
  {
   "source": [
    "## 1.3 Merge the Spotify and Covid Data"
   ],
   "cell_type": "markdown",
   "metadata": {}
  },
  {
   "cell_type": "code",
   "execution_count": null,
   "metadata": {},
   "outputs": [],
   "source": [
    "merged = grouped_covid.merge(grouped_spotify, left_on='week', right_on='week')\n",
    "merged.head()"
   ]
  },
  {
   "source": [
    "## 2. Data Analysis and Visualization"
   ],
   "cell_type": "markdown",
   "metadata": {}
  },
  {
   "cell_type": "code",
   "execution_count": null,
   "metadata": {},
   "outputs": [],
   "source": [
    "# In order to graph some variables from covid with spotify, they have to get normalized. In this case min-max normalization is used on positive increase\n",
    "merged['norm_positive_i'] = (merged.positiveIncrease-merged.positiveIncrease.min())/(merged.positiveIncrease.max()-merged.positiveIncrease.min())\n",
    "merged['norm_positive'] = (merged.positive-merged.positive.min())/(merged.positive.max()-merged.positive.min())\n",
    "\n",
    "merged['norm_length'] = (merged.length-merged.length.min())/(merged.length.max()-merged.length.min())\n",
    "\n",
    "merged['norm_popularity'] = (merged.tempo-merged.popularity.min())/(merged.popularity.max()-merged.popularity.min())\n",
    "merged = merged[:48]"
   ]
  },
  {
   "cell_type": "code",
   "execution_count": null,
   "metadata": {},
   "outputs": [],
   "source": [
    "plt.figure(figsize=(12,6))\n",
    "plt.title(\"COVID\", fontsize=16)\n",
    "sns.lineplot(data=merged, x='week_num', y='norm_positive_i')\n",
    "sns.lineplot(data=merged, x='week_num', y='norm_positive')\n",
    "sns.lineplot(data=merged, x='week_num', y='danceability') \n",
    "sns.lineplot(data=merged, x='week_num', y='norm_popularity')\n",
    "# sns.lineplot(data=merged, x='week_num', y='instrumentalness')\n",
    "\n",
    "\n",
    "x = range(0, len(merged.week_num))\n",
    "cases_reg = np.polyfit(x, merged.norm_positive_i, 1)\n",
    "cases_line = np.poly1d(cases_reg)\n",
    "\n",
    "x = range(0, len(merged.week_num))\n",
    "popularity_reg = np.polyfit(x, merged.popularity, 1)\n",
    "pop_line = np.poly1d(popularity_reg)\n",
    "\n",
    "x = range(0, len(merged.week_num))\n",
    "dance_reg = np.polyfit(x, merged.danceability, 1)\n",
    "dance_line = np.poly1d(dance_reg)\n",
    "\n",
    "\n",
    "print(f'Slope of trend in positive COVID cases: {cases_line.c[0]}')\n",
    "print(f'Slope of trend in popularity of top songs: {pop_line.c[0]}')\n",
    "print(f'Slope of trend in danceability of top songs: {dance_line.c[0]}')\n",
    "\n",
    "###  note for analysis: Possibility that energy and # of positive cases increases bc more ppl are going out and partying which causes cases to increase in the first place ??\n",
    "\n",
    "plt.show()"
   ]
  },
  {
   "source": [
    "## Pre-COVID vs. During COVID"
   ],
   "cell_type": "markdown",
   "metadata": {}
  },
  {
   "source": [
    "Now we'll extract Spotify's Top 10 song data from before COVID to compare how trends changed throughout the year before COVID \n",
    "Starting on 2/15/19 until 2/25/20 the beginning of COVID in the U.S. (when we had our first positive cases)"
   ],
   "cell_type": "markdown",
   "metadata": {}
  },
  {
   "cell_type": "code",
   "execution_count": null,
   "metadata": {},
   "outputs": [],
   "source": [
    "pre_spotify = pd.read_csv('pre_data.csv')\n",
    "pre_spotify.sort_values(by=['start_date'], inplace=True)"
   ]
  },
  {
   "cell_type": "code",
   "execution_count": null,
   "metadata": {},
   "outputs": [],
   "source": [
    "\n",
    "# We want to analyze Spotify data from January 2019 to January 2020 to compare to Spotify data when the first tests were administered\n",
    "i = pd.to_datetime('02/15/2019')\n",
    "pre_bins = []\n",
    "while i < pd.to_datetime('12/31/2019'):\n",
    "    temp = i + pd.Timedelta('7 days')\n",
    "    pre_bins.append((i,temp))\n",
    "    i = temp\n",
    "pre_bins = pd.IntervalIndex.from_tuples(pre_bins)"
   ]
  },
  {
   "cell_type": "code",
   "execution_count": null,
   "metadata": {},
   "outputs": [],
   "source": [
    "\n",
    "pre_spotify['start_date'] = pd.to_datetime(pre_spotify['start_date'])\n",
    "\n",
    "# Using the interval index created above, create a new column week which has the week interval of the data\n",
    "pre_spotify['week'] = pd.cut(pre_spotify['start_date'], pre_bins)\n",
    "\n",
    "# Now that every row has a week interval, they will be grouped with the total for each column \n",
    "pre_spotify = pre_spotify.groupby(['week']).mean().reset_index()\n",
    "\n",
    "# Number the weeks to easily identify\n",
    "pre_spotify['week_num'] = list(range(1,len(pre_bins)+1))\n",
    "pre_spotify = pre_spotify.reset_index()\n",
    "grouped_pre = pre_spotify[:52]"
   ]
  },
  {
   "cell_type": "code",
   "execution_count": null,
   "metadata": {},
   "outputs": [],
   "source": [
    "pre_spotify = grouped_pre.groupby(['week_num']).mean()\n",
    "pre_spotify.head()"
   ]
  },
  {
   "cell_type": "code",
   "execution_count": null,
   "metadata": {},
   "outputs": [],
   "source": [
    "during_spotify = grouped_spotify[6:]\n",
    "during_spotify = during_spotify.reset_index()\n",
    "during_spotify['week_num'] = list(range(1,len(during_spotify)+1))\n"
   ]
  },
  {
   "cell_type": "code",
   "execution_count": null,
   "metadata": {},
   "outputs": [],
   "source": [
    "# How do the trends in top Spotify songs compare to trends pre-COVID?\n",
    "temp1 = grouped_pre\n",
    "temp2 = during_spotify\n",
    "temp1[\"before_after\"] = np.array(\"Before COVID\")\n",
    "temp2[\"before_after\"] = np.array(\"During COVID\")\n",
    "\n",
    "all_spotify = temp1.append(temp2)\n",
    "\n",
    "sns.relplot(y=\"danceability\", x=\"week_num\", hue=\"before_after\", data=all_spotify);\n",
    "sns.relplot(y=\"danceability\", x=\"p, data=merged);\n",
    "\n",
    "# Pre-COVID significantly higher danceability and energy\n",
    "# Speaks to what artists are writing/producing as well as what ppl are listening to\n",
    "\n",
    "# blue is pre-covid"
   ]
  },
  {
   "cell_type": "code",
   "execution_count": null,
   "metadata": {},
   "outputs": [],
   "source": [
    "\n",
    "fig = sns.lmplot(y=\"danceability\", x=\"week_num\", data=pre_spotify);\n",
    "fig = fig.fig\n",
    "fig.suptitle(\"Danceability of Spotify's Top 10 Songs Weekly Before COVID\")\n",
    "\n",
    "fig = sns.lmplot(y=\"danceability\", x=\"week_num\", data=during_spotify);\n",
    "fig = fig.fig\n",
    "fig.suptitle(\"Danceability of Spotify's Top 10 Songs Weekly During COVID\")\n",
    "\n",
    "\n",
    "x = range(0, len(pre_spotify.week_num))\n",
    "pre_reg = np.polyfit(x, pre_spotify.danceability, 1)\n",
    "pre_line = np.poly1d(pre_reg)\n",
    "\n",
    "x = range(0, len(during_spotify.week_num))\n",
    "during_reg = np.polyfit(x, during_spotify.danceability, 1)\n",
    "during_line = np.poly1d(during_reg)\n",
    "\n",
    "\n",
    "print('Top 10 songs on Spotify pre-COVID:')\n",
    "print(f'\\tSlope of trend of danceability: {pre_line.c[0]}\\t\\t Standard deviation of danceability: {pre_spotify.danceability.std()}\\n')\n",
    "\n",
    "print('Top 10 songs on Spotify during COVID:')\n",
    "print(f'\\tSlope of trend in danceability: {during_line.c[0]}\\t\\t Standard deviation of danceability: {during_spotify.danceability.std()}')\n"
   ]
  },
  {
   "source": [
    "## Predicting Trends Future Trends"
   ],
   "cell_type": "markdown",
   "metadata": {}
  },
  {
   "source": [
    "We already examined the relationship between the number of positive COVID cases and characteristics of top 10 Spotify songs and found that there is a predictive relationship between the number of positive COVID cases and the danceability and popularity of Spotify's top 10 songs based on their correlation coefficients. There also is a predictive relationship between the increase in number of positive cases and the danceability and popularity of these songs.\n",
    "\n",
    "Let's predict how these trends will continue as the pandemic progresses.\n",
    "\n",
    "\n",
    "\n"
   ],
   "cell_type": "markdown",
   "metadata": {}
  },
  {
   "cell_type": "code",
   "execution_count": 271,
   "metadata": {},
   "outputs": [
    {
     "output_type": "error",
     "ename": "ModuleNotFoundError",
     "evalue": "No module named 'sklearn'",
     "traceback": [
      "\u001b[1;31m---------------------------------------------------------------------------\u001b[0m",
      "\u001b[1;31mModuleNotFoundError\u001b[0m                       Traceback (most recent call last)",
      "\u001b[1;32m<ipython-input-271-9b426278b564>\u001b[0m in \u001b[0;36m<module>\u001b[1;34m\u001b[0m\n\u001b[1;32m----> 1\u001b[1;33m \u001b[1;32mfrom\u001b[0m \u001b[0msklearn\u001b[0m\u001b[1;33m.\u001b[0m\u001b[0mdatasets\u001b[0m \u001b[1;32mimport\u001b[0m \u001b[0mload_iris\u001b[0m\u001b[1;33m\u001b[0m\u001b[1;33m\u001b[0m\u001b[0m\n\u001b[0m\u001b[0;32m      2\u001b[0m \u001b[1;33m\u001b[0m\u001b[0m\n\u001b[0;32m      3\u001b[0m \u001b[0miris\u001b[0m \u001b[1;33m=\u001b[0m \u001b[0mload_iris\u001b[0m\u001b[1;33m(\u001b[0m\u001b[1;33m)\u001b[0m\u001b[1;33m\u001b[0m\u001b[1;33m\u001b[0m\u001b[0m\n\u001b[0;32m      4\u001b[0m \u001b[0mprint\u001b[0m\u001b[1;33m(\u001b[0m\u001b[0miris\u001b[0m\u001b[1;33m.\u001b[0m\u001b[0msize\u001b[0m\u001b[1;33m)\u001b[0m\u001b[1;33m\u001b[0m\u001b[1;33m\u001b[0m\u001b[0m\n",
      "\u001b[1;31mModuleNotFoundError\u001b[0m: No module named 'sklearn'"
     ]
    }
   ],
   "source": [
    "from sklearn.datasets import load_iris\n",
    "\n",
    "iris = load_iris()\n",
    "print(iris.size)"
   ]
  },
  {
   "cell_type": "code",
   "execution_count": null,
   "metadata": {},
   "outputs": [],
   "source": []
  },
  {
   "cell_type": "code",
   "execution_count": null,
   "metadata": {},
   "outputs": [],
   "source": []
  }
 ],
 "metadata": {
  "kernelspec": {
   "name": "python3",
   "display_name": "Python 3.9.0 64-bit",
   "metadata": {
    "interpreter": {
     "hash": "d23ef034e8ade8fc2f3c7e2f9e5372530fd3e5069b8add3d59bbda26e04acbd0"
    }
   }
  },
  "language_info": {
   "codemirror_mode": {
    "name": "ipython",
    "version": 3
   },
   "file_extension": ".py",
   "mimetype": "text/x-python",
   "name": "python",
   "nbconvert_exporter": "python",
   "pygments_lexer": "ipython3",
   "version": "3.9.0-final"
  }
 },
 "nbformat": 4,
 "nbformat_minor": 4
}