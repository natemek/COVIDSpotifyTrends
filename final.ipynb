{
 "cells": [
  {
   "cell_type": "markdown",
   "metadata": {},
   "source": [
    "# The Pandemic's Effect on Music: Exploration"
   ]
  },
  {
   "cell_type": "markdown",
   "metadata": {},
   "source": [
    "Authors: Natnael Mekonnen, Sonya Lew, and Daniel Park"
   ]
  },
  {
   "cell_type": "markdown",
   "metadata": {},
   "source": [
    "## Introduction"
   ]
  },
  {
   "cell_type": "markdown",
   "metadata": {},
   "source": [
    "Why did we choose this topic? What is the importance?\n",
    "Do we anticipate to be any changes?"
   ]
  },
  {
   "cell_type": "markdown",
   "metadata": {},
   "source": [
    "## 1. Data Scraping"
   ]
  },
  {
   "cell_type": "markdown",
   "metadata": {},
   "source": [
    "To explore the pandemic's effect on music, we chose to compare the COVID data in the US with the top 10 list on Spotify since January 2020. The COVID data will be extracted from the Atlantic's [The COVID Tracking Project](https://covidtracking.com/data/national) which has been constantly updating the data everyday with representatives from 50 states, 5 territories, and District of Colombia. On the other hand, the Spotify top 10 will be extracted from the [Spotify Charts](https://spotifycharts.com/) on a weekly starting from January 2020. The charts does not have a detail information on the song so we will get more detail by querying the Spotify API and using a Kaggle dataset.  "
   ]
  },
  {
   "cell_type": "markdown",
   "metadata": {},
   "source": [
    "Import the necessary libraries: "
   ]
  },
  {
   "cell_type": "code",
   "execution_count": 1,
   "metadata": {},
   "outputs": [],
   "source": [
    "import pandas as pd\n",
    "import matplotlib.pyplot as pyplt\n",
    "import numpy as np\n",
    "import seaborn"
   ]
  },
  {
   "cell_type": "markdown",
   "metadata": {},
   "source": [
    "## 1.1 Load and View COVID data"
   ]
  },
  {
   "cell_type": "code",
   "execution_count": 2,
   "metadata": {},
   "outputs": [
    {
     "data": {
      "text/html": "<div>\n<style scoped>\n    .dataframe tbody tr th:only-of-type {\n        vertical-align: middle;\n    }\n\n    .dataframe tbody tr th {\n        vertical-align: top;\n    }\n\n    .dataframe thead th {\n        text-align: right;\n    }\n</style>\n<table border=\"1\" class=\"dataframe\">\n  <thead>\n    <tr style=\"text-align: right;\">\n      <th></th>\n      <th>date</th>\n      <th>death</th>\n      <th>deathIncrease</th>\n      <th>inIcuCumulative</th>\n      <th>inIcuCurrently</th>\n      <th>hospitalizedIncrease</th>\n      <th>hospitalizedCurrently</th>\n      <th>hospitalizedCumulative</th>\n      <th>negative</th>\n      <th>negativeIncrease</th>\n      <th>onVentilatorCumulative</th>\n      <th>onVentilatorCurrently</th>\n      <th>positive</th>\n      <th>positiveIncrease</th>\n      <th>recovered</th>\n      <th>states</th>\n      <th>totalTestResults</th>\n      <th>totalTestResultsIncrease</th>\n    </tr>\n  </thead>\n  <tbody>\n    <tr>\n      <th>0</th>\n      <td>2020-12-07</td>\n      <td>274745.0</td>\n      <td>1347</td>\n      <td>32120.0</td>\n      <td>20098.0</td>\n      <td>3614</td>\n      <td>102148.0</td>\n      <td>589486.0</td>\n      <td>163378726</td>\n      <td>1386381</td>\n      <td>3328.0</td>\n      <td>7073.0</td>\n      <td>14717065</td>\n      <td>180193</td>\n      <td>5714557.0</td>\n      <td>56</td>\n      <td>205934174</td>\n      <td>1835388</td>\n    </tr>\n    <tr>\n      <th>1</th>\n      <td>2020-12-06</td>\n      <td>273398.0</td>\n      <td>1146</td>\n      <td>31946.0</td>\n      <td>20145.0</td>\n      <td>2311</td>\n      <td>101501.0</td>\n      <td>585872.0</td>\n      <td>161992345</td>\n      <td>1175503</td>\n      <td>3322.0</td>\n      <td>7095.0</td>\n      <td>14536872</td>\n      <td>177801</td>\n      <td>5624609.0</td>\n      <td>56</td>\n      <td>204098786</td>\n      <td>1648306</td>\n    </tr>\n    <tr>\n      <th>2</th>\n      <td>2020-12-05</td>\n      <td>272252.0</td>\n      <td>2461</td>\n      <td>31831.0</td>\n      <td>19947.0</td>\n      <td>3457</td>\n      <td>101192.0</td>\n      <td>583561.0</td>\n      <td>160816842</td>\n      <td>1530133</td>\n      <td>3321.0</td>\n      <td>7006.0</td>\n      <td>14359071</td>\n      <td>212880</td>\n      <td>5576152.0</td>\n      <td>56</td>\n      <td>202450480</td>\n      <td>2190899</td>\n    </tr>\n    <tr>\n      <th>3</th>\n      <td>2020-12-04</td>\n      <td>269791.0</td>\n      <td>2563</td>\n      <td>31608.0</td>\n      <td>19858.0</td>\n      <td>4652</td>\n      <td>101276.0</td>\n      <td>580104.0</td>\n      <td>159286709</td>\n      <td>1260657</td>\n      <td>3305.0</td>\n      <td>6999.0</td>\n      <td>14146191</td>\n      <td>224831</td>\n      <td>5470389.0</td>\n      <td>56</td>\n      <td>200259581</td>\n      <td>1854869</td>\n    </tr>\n    <tr>\n      <th>4</th>\n      <td>2020-12-03</td>\n      <td>267228.0</td>\n      <td>2706</td>\n      <td>31276.0</td>\n      <td>19723.0</td>\n      <td>5331</td>\n      <td>100755.0</td>\n      <td>575452.0</td>\n      <td>158026052</td>\n      <td>1238465</td>\n      <td>3280.0</td>\n      <td>6867.0</td>\n      <td>13921360</td>\n      <td>210204</td>\n      <td>5404018.0</td>\n      <td>56</td>\n      <td>198404712</td>\n      <td>1828230</td>\n    </tr>\n  </tbody>\n</table>\n</div>",
      "text/plain": "         date     death  deathIncrease  inIcuCumulative  inIcuCurrently  \\\n0  2020-12-07  274745.0           1347          32120.0         20098.0   \n1  2020-12-06  273398.0           1146          31946.0         20145.0   \n2  2020-12-05  272252.0           2461          31831.0         19947.0   \n3  2020-12-04  269791.0           2563          31608.0         19858.0   \n4  2020-12-03  267228.0           2706          31276.0         19723.0   \n\n   hospitalizedIncrease  hospitalizedCurrently  hospitalizedCumulative  \\\n0                  3614               102148.0                589486.0   \n1                  2311               101501.0                585872.0   \n2                  3457               101192.0                583561.0   \n3                  4652               101276.0                580104.0   \n4                  5331               100755.0                575452.0   \n\n    negative  negativeIncrease  onVentilatorCumulative  onVentilatorCurrently  \\\n0  163378726           1386381                  3328.0                 7073.0   \n1  161992345           1175503                  3322.0                 7095.0   \n2  160816842           1530133                  3321.0                 7006.0   \n3  159286709           1260657                  3305.0                 6999.0   \n4  158026052           1238465                  3280.0                 6867.0   \n\n   positive  positiveIncrease  recovered  states  totalTestResults  \\\n0  14717065            180193  5714557.0      56         205934174   \n1  14536872            177801  5624609.0      56         204098786   \n2  14359071            212880  5576152.0      56         202450480   \n3  14146191            224831  5470389.0      56         200259581   \n4  13921360            210204  5404018.0      56         198404712   \n\n   totalTestResultsIncrease  \n0                   1835388  \n1                   1648306  \n2                   2190899  \n3                   1854869  \n4                   1828230  "
     },
     "execution_count": 2,
     "metadata": {},
     "output_type": "execute_result"
    }
   ],
   "source": [
    "covid_data = pd.read_csv('national-history.csv')\n",
    "covid_data.head()"
   ]
  },
  {
   "cell_type": "markdown",
   "metadata": {},
   "source": [
    "The COVID data is detailed but since this project is finding its relationship with music, most of the unnecessary columns will be dropped."
   ]
  },
  {
   "cell_type": "code",
   "execution_count": 3,
   "metadata": {},
   "outputs": [],
   "source": [
    "covid_data = covid_data.drop(['death','deathIncrease','inIcuCumulative','inIcuCurrently','hospitalizedIncrease',\\\n",
    "                    'hospitalizedCurrently','hospitalizedCumulative','onVentilatorCumulative','onVentilatorCurrently',\\\n",
    "                    'recovered','states'], axis=1)"
   ]
  },
  {
   "cell_type": "markdown",
   "metadata": {},
   "source": [
    "Knowing that the Spotify data is grouped on a weekly basis starting on a Thursday, the next step is to prepare the COVID data so it is easy to merge."
   ]
  },
  {
   "cell_type": "code",
   "execution_count": 4,
   "metadata": {},
   "outputs": [],
   "source": [
    "# Creating a custom interval index for grouping the data which starts from begining of the year on a thursday and \n",
    "# continues weekly\n",
    "i = pd.to_datetime('01/08/2020')\n",
    "bins = []\n",
    "while i < pd.to_datetime('12/12/2020'):\n",
    "    temp = i + pd.Timedelta('7 days')\n",
    "    bins.append((i,temp))\n",
    "    i = temp\n",
    "bins = pd.IntervalIndex.from_tuples(bins)"
   ]
  },
  {
   "cell_type": "code",
   "execution_count": 5,
   "metadata": {},
   "outputs": [
    {
     "data": {
      "text/html": "<div>\n<style scoped>\n    .dataframe tbody tr th:only-of-type {\n        vertical-align: middle;\n    }\n\n    .dataframe tbody tr th {\n        vertical-align: top;\n    }\n\n    .dataframe thead th {\n        text-align: right;\n    }\n</style>\n<table border=\"1\" class=\"dataframe\">\n  <thead>\n    <tr style=\"text-align: right;\">\n      <th></th>\n      <th>negative</th>\n      <th>negativeIncrease</th>\n      <th>positive</th>\n      <th>positiveIncrease</th>\n      <th>totalTestResults</th>\n      <th>totalTestResultsIncrease</th>\n      <th>week#</th>\n    </tr>\n    <tr>\n      <th>week</th>\n      <th></th>\n      <th></th>\n      <th></th>\n      <th></th>\n      <th></th>\n      <th></th>\n      <th></th>\n    </tr>\n  </thead>\n  <tbody>\n    <tr>\n      <th>(2020-01-08, 2020-01-15]</th>\n      <td>0</td>\n      <td>0</td>\n      <td>0</td>\n      <td>0</td>\n      <td>0</td>\n      <td>0</td>\n      <td>1</td>\n    </tr>\n    <tr>\n      <th>(2020-01-15, 2020-01-22]</th>\n      <td>0</td>\n      <td>0</td>\n      <td>0</td>\n      <td>0</td>\n      <td>1</td>\n      <td>0</td>\n      <td>2</td>\n    </tr>\n    <tr>\n      <th>(2020-01-22, 2020-01-29]</th>\n      <td>0</td>\n      <td>0</td>\n      <td>0</td>\n      <td>0</td>\n      <td>19</td>\n      <td>4</td>\n      <td>3</td>\n    </tr>\n    <tr>\n      <th>(2020-01-29, 2020-02-05]</th>\n      <td>0</td>\n      <td>0</td>\n      <td>0</td>\n      <td>0</td>\n      <td>70</td>\n      <td>10</td>\n      <td>4</td>\n    </tr>\n    <tr>\n      <th>(2020-02-05, 2020-02-12]</th>\n      <td>0</td>\n      <td>0</td>\n      <td>0</td>\n      <td>0</td>\n      <td>128</td>\n      <td>6</td>\n      <td>5</td>\n    </tr>\n    <tr>\n      <th>(2020-02-12, 2020-02-19]</th>\n      <td>0</td>\n      <td>0</td>\n      <td>0</td>\n      <td>0</td>\n      <td>191</td>\n      <td>14</td>\n      <td>6</td>\n    </tr>\n    <tr>\n      <th>(2020-02-19, 2020-02-26]</th>\n      <td>0</td>\n      <td>0</td>\n      <td>0</td>\n      <td>0</td>\n      <td>271</td>\n      <td>6</td>\n      <td>7</td>\n    </tr>\n    <tr>\n      <th>(2020-02-26, 2020-03-04]</th>\n      <td>2195</td>\n      <td>1397</td>\n      <td>586</td>\n      <td>279</td>\n      <td>48434</td>\n      <td>8165</td>\n      <td>8</td>\n    </tr>\n    <tr>\n      <th>(2020-03-04, 2020-03-11]</th>\n      <td>39917</td>\n      <td>11176</td>\n      <td>7038</td>\n      <td>1774</td>\n      <td>94789</td>\n      <td>13707</td>\n      <td>9</td>\n    </tr>\n    <tr>\n      <th>(2020-03-11, 2020-03-18]</th>\n      <td>323072</td>\n      <td>77520</td>\n      <td>48361</td>\n      <td>11332</td>\n      <td>478669</td>\n      <td>108043</td>\n      <td>10</td>\n    </tr>\n    <tr>\n      <th>(2020-03-18, 2020-03-25]</th>\n      <td>1643630</td>\n      <td>305539</td>\n      <td>302657</td>\n      <td>61857</td>\n      <td>2254039</td>\n      <td>394621</td>\n      <td>11</td>\n    </tr>\n    <tr>\n      <th>(2020-03-25, 2020-04-01]</th>\n      <td>5135354</td>\n      <td>593977</td>\n      <td>1082996</td>\n      <td>148798</td>\n      <td>6571681</td>\n      <td>738257</td>\n      <td>12</td>\n    </tr>\n    <tr>\n      <th>(2020-04-01, 2020-04-08]</th>\n      <td>10267392</td>\n      <td>847081</td>\n      <td>2400214</td>\n      <td>208450</td>\n      <td>13064208</td>\n      <td>1073110</td>\n      <td>13</td>\n    </tr>\n    <tr>\n      <th>(2020-04-08, 2020-04-15]</th>\n      <td>16224706</td>\n      <td>821668</td>\n      <td>3896732</td>\n      <td>208020</td>\n      <td>20625783</td>\n      <td>1048237</td>\n      <td>14</td>\n    </tr>\n    <tr>\n      <th>(2020-04-15, 2020-04-22]</th>\n      <td>22314322</td>\n      <td>1048354</td>\n      <td>5304624</td>\n      <td>200118</td>\n      <td>28412310</td>\n      <td>1301235</td>\n      <td>15</td>\n    </tr>\n    <tr>\n      <th>(2020-04-22, 2020-04-29]</th>\n      <td>31328695</td>\n      <td>1352781</td>\n      <td>6745072</td>\n      <td>203146</td>\n      <td>39170943</td>\n      <td>1591144</td>\n      <td>16</td>\n    </tr>\n    <tr>\n      <th>(2020-04-29, 2020-05-06]</th>\n      <td>41712855</td>\n      <td>1579821</td>\n      <td>8098027</td>\n      <td>187503</td>\n      <td>51308925</td>\n      <td>1838817</td>\n      <td>17</td>\n    </tr>\n    <tr>\n      <th>(2020-05-06, 2020-05-13]</th>\n      <td>54308578</td>\n      <td>2008787</td>\n      <td>9303580</td>\n      <td>162940</td>\n      <td>65588694</td>\n      <td>2239516</td>\n      <td>18</td>\n    </tr>\n    <tr>\n      <th>(2020-05-13, 2020-05-20]</th>\n      <td>70161403</td>\n      <td>2468459</td>\n      <td>10423135</td>\n      <td>158858</td>\n      <td>83152720</td>\n      <td>2702949</td>\n      <td>19</td>\n    </tr>\n    <tr>\n      <th>(2020-05-20, 2020-05-27]</th>\n      <td>88563786</td>\n      <td>2532841</td>\n      <td>11499982</td>\n      <td>147060</td>\n      <td>103166198</td>\n      <td>2832982</td>\n      <td>20</td>\n    </tr>\n  </tbody>\n</table>\n</div>",
      "text/plain": "                          negative  negativeIncrease  positive  \\\nweek                                                             \n(2020-01-08, 2020-01-15]         0                 0         0   \n(2020-01-15, 2020-01-22]         0                 0         0   \n(2020-01-22, 2020-01-29]         0                 0         0   \n(2020-01-29, 2020-02-05]         0                 0         0   \n(2020-02-05, 2020-02-12]         0                 0         0   \n(2020-02-12, 2020-02-19]         0                 0         0   \n(2020-02-19, 2020-02-26]         0                 0         0   \n(2020-02-26, 2020-03-04]      2195              1397       586   \n(2020-03-04, 2020-03-11]     39917             11176      7038   \n(2020-03-11, 2020-03-18]    323072             77520     48361   \n(2020-03-18, 2020-03-25]   1643630            305539    302657   \n(2020-03-25, 2020-04-01]   5135354            593977   1082996   \n(2020-04-01, 2020-04-08]  10267392            847081   2400214   \n(2020-04-08, 2020-04-15]  16224706            821668   3896732   \n(2020-04-15, 2020-04-22]  22314322           1048354   5304624   \n(2020-04-22, 2020-04-29]  31328695           1352781   6745072   \n(2020-04-29, 2020-05-06]  41712855           1579821   8098027   \n(2020-05-06, 2020-05-13]  54308578           2008787   9303580   \n(2020-05-13, 2020-05-20]  70161403           2468459  10423135   \n(2020-05-20, 2020-05-27]  88563786           2532841  11499982   \n\n                          positiveIncrease  totalTestResults  \\\nweek                                                           \n(2020-01-08, 2020-01-15]                 0                 0   \n(2020-01-15, 2020-01-22]                 0                 1   \n(2020-01-22, 2020-01-29]                 0                19   \n(2020-01-29, 2020-02-05]                 0                70   \n(2020-02-05, 2020-02-12]                 0               128   \n(2020-02-12, 2020-02-19]                 0               191   \n(2020-02-19, 2020-02-26]                 0               271   \n(2020-02-26, 2020-03-04]               279             48434   \n(2020-03-04, 2020-03-11]              1774             94789   \n(2020-03-11, 2020-03-18]             11332            478669   \n(2020-03-18, 2020-03-25]             61857           2254039   \n(2020-03-25, 2020-04-01]            148798           6571681   \n(2020-04-01, 2020-04-08]            208450          13064208   \n(2020-04-08, 2020-04-15]            208020          20625783   \n(2020-04-15, 2020-04-22]            200118          28412310   \n(2020-04-22, 2020-04-29]            203146          39170943   \n(2020-04-29, 2020-05-06]            187503          51308925   \n(2020-05-06, 2020-05-13]            162940          65588694   \n(2020-05-13, 2020-05-20]            158858          83152720   \n(2020-05-20, 2020-05-27]            147060         103166198   \n\n                          totalTestResultsIncrease  week#  \nweek                                                       \n(2020-01-08, 2020-01-15]                         0      1  \n(2020-01-15, 2020-01-22]                         0      2  \n(2020-01-22, 2020-01-29]                         4      3  \n(2020-01-29, 2020-02-05]                        10      4  \n(2020-02-05, 2020-02-12]                         6      5  \n(2020-02-12, 2020-02-19]                        14      6  \n(2020-02-19, 2020-02-26]                         6      7  \n(2020-02-26, 2020-03-04]                      8165      8  \n(2020-03-04, 2020-03-11]                     13707      9  \n(2020-03-11, 2020-03-18]                    108043     10  \n(2020-03-18, 2020-03-25]                    394621     11  \n(2020-03-25, 2020-04-01]                    738257     12  \n(2020-04-01, 2020-04-08]                   1073110     13  \n(2020-04-08, 2020-04-15]                   1048237     14  \n(2020-04-15, 2020-04-22]                   1301235     15  \n(2020-04-22, 2020-04-29]                   1591144     16  \n(2020-04-29, 2020-05-06]                   1838817     17  \n(2020-05-06, 2020-05-13]                   2239516     18  \n(2020-05-13, 2020-05-20]                   2702949     19  \n(2020-05-20, 2020-05-27]                   2832982     20  "
     },
     "execution_count": 5,
     "metadata": {},
     "output_type": "execute_result"
    }
   ],
   "source": [
    "# Convert the date from the dataframe to a pandas date and time format to be comuted in the cutting\n",
    "covid_data['date'] = pd.to_datetime(covid_data['date'])\n",
    "\n",
    "# Using the interval index created above, create a new column week which has the week interval of the data\n",
    "covid_data['week'] = pd.cut(covid_data['date'], bins)\n",
    "\n",
    "# Now that every row has a week interval, they will be grouped with the total for each column \n",
    "grouped = covid_data.groupby(['week']).sum()\n",
    "\n",
    "# Number the weeks to easily identify\n",
    "grouped['week#'] = list(range(1,len(bins)+1))\n",
    "\n",
    "grouped.head(10)"
   ]
  },
  {
   "cell_type": "code",
   "execution_count": 6,
   "metadata": {},
   "outputs": [
    {
     "data": {
      "text/html": "<div>\n<style scoped>\n    .dataframe tbody tr th:only-of-type {\n        vertical-align: middle;\n    }\n\n    .dataframe tbody tr th {\n        vertical-align: top;\n    }\n\n    .dataframe thead th {\n        text-align: right;\n    }\n</style>\n<table border=\"1\" class=\"dataframe\">\n  <thead>\n    <tr style=\"text-align: right;\">\n      <th></th>\n      <th>negative</th>\n      <th>negativeIncrease</th>\n      <th>positive</th>\n      <th>positiveIncrease</th>\n      <th>totalTestResults</th>\n      <th>totalTestResultsIncrease</th>\n      <th>week#</th>\n    </tr>\n    <tr>\n      <th>week</th>\n      <th></th>\n      <th></th>\n      <th></th>\n      <th></th>\n      <th></th>\n      <th></th>\n      <th></th>\n    </tr>\n  </thead>\n  <tbody>\n    <tr>\n      <th>(2020-01-08, 2020-01-15]</th>\n      <td>0</td>\n      <td>0</td>\n      <td>0</td>\n      <td>0</td>\n      <td>0</td>\n      <td>0</td>\n      <td>1</td>\n    </tr>\n    <tr>\n      <th>(2020-01-15, 2020-01-22]</th>\n      <td>0</td>\n      <td>0</td>\n      <td>0</td>\n      <td>0</td>\n      <td>1</td>\n      <td>0</td>\n      <td>2</td>\n    </tr>\n    <tr>\n      <th>(2020-01-22, 2020-01-29]</th>\n      <td>0</td>\n      <td>0</td>\n      <td>0</td>\n      <td>0</td>\n      <td>19</td>\n      <td>4</td>\n      <td>3</td>\n    </tr>\n    <tr>\n      <th>(2020-01-29, 2020-02-05]</th>\n      <td>0</td>\n      <td>0</td>\n      <td>0</td>\n      <td>0</td>\n      <td>70</td>\n      <td>10</td>\n      <td>4</td>\n    </tr>\n    <tr>\n      <th>(2020-02-05, 2020-02-12]</th>\n      <td>0</td>\n      <td>0</td>\n      <td>0</td>\n      <td>0</td>\n      <td>128</td>\n      <td>6</td>\n      <td>5</td>\n    </tr>\n    <tr>\n      <th>(2020-02-12, 2020-02-19]</th>\n      <td>0</td>\n      <td>0</td>\n      <td>0</td>\n      <td>0</td>\n      <td>191</td>\n      <td>14</td>\n      <td>6</td>\n    </tr>\n    <tr>\n      <th>(2020-02-19, 2020-02-26]</th>\n      <td>0</td>\n      <td>0</td>\n      <td>0</td>\n      <td>0</td>\n      <td>271</td>\n      <td>6</td>\n      <td>7</td>\n    </tr>\n    <tr>\n      <th>(2020-02-26, 2020-03-04]</th>\n      <td>2195</td>\n      <td>1397</td>\n      <td>586</td>\n      <td>279</td>\n      <td>48434</td>\n      <td>8165</td>\n      <td>8</td>\n    </tr>\n    <tr>\n      <th>(2020-03-04, 2020-03-11]</th>\n      <td>39917</td>\n      <td>11176</td>\n      <td>7038</td>\n      <td>1774</td>\n      <td>94789</td>\n      <td>13707</td>\n      <td>9</td>\n    </tr>\n    <tr>\n      <th>(2020-03-11, 2020-03-18]</th>\n      <td>323072</td>\n      <td>77520</td>\n      <td>48361</td>\n      <td>11332</td>\n      <td>478669</td>\n      <td>108043</td>\n      <td>10</td>\n    </tr>\n  </tbody>\n</table>\n</div>",
      "text/plain": "                          negative  negativeIncrease  positive  \\\nweek                                                             \n(2020-01-08, 2020-01-15]         0                 0         0   \n(2020-01-15, 2020-01-22]         0                 0         0   \n(2020-01-22, 2020-01-29]         0                 0         0   \n(2020-01-29, 2020-02-05]         0                 0         0   \n(2020-02-05, 2020-02-12]         0                 0         0   \n(2020-02-12, 2020-02-19]         0                 0         0   \n(2020-02-19, 2020-02-26]         0                 0         0   \n(2020-02-26, 2020-03-04]      2195              1397       586   \n(2020-03-04, 2020-03-11]     39917             11176      7038   \n(2020-03-11, 2020-03-18]    323072             77520     48361   \n\n                          positiveIncrease  totalTestResults  \\\nweek                                                           \n(2020-01-08, 2020-01-15]                 0                 0   \n(2020-01-15, 2020-01-22]                 0                 1   \n(2020-01-22, 2020-01-29]                 0                19   \n(2020-01-29, 2020-02-05]                 0                70   \n(2020-02-05, 2020-02-12]                 0               128   \n(2020-02-12, 2020-02-19]                 0               191   \n(2020-02-19, 2020-02-26]                 0               271   \n(2020-02-26, 2020-03-04]               279             48434   \n(2020-03-04, 2020-03-11]              1774             94789   \n(2020-03-11, 2020-03-18]             11332            478669   \n\n                          totalTestResultsIncrease  week#  \nweek                                                       \n(2020-01-08, 2020-01-15]                         0      1  \n(2020-01-15, 2020-01-22]                         0      2  \n(2020-01-22, 2020-01-29]                         4      3  \n(2020-01-29, 2020-02-05]                        10      4  \n(2020-02-05, 2020-02-12]                         6      5  \n(2020-02-12, 2020-02-19]                        14      6  \n(2020-02-19, 2020-02-26]                         6      7  \n(2020-02-26, 2020-03-04]                      8165      8  \n(2020-03-04, 2020-03-11]                     13707      9  \n(2020-03-11, 2020-03-18]                    108043     10  "
     },
     "execution_count": 6,
     "metadata": {},
     "output_type": "execute_result"
    }
   ],
   "source": [
    "column_names = ['week#','positiveIncrease','negativeIncrease','positive','negative','totalTestResultsIncrease',\\\n",
    "            'totalTestResults']\n",
    "grouped.reindex(columns=column_names)\n",
    "\n",
    "grouped.head(10)"
   ]
  },
  {
   "cell_type": "code",
   "execution_count": null,
   "metadata": {},
   "outputs": [],
   "source": []
  }
 ],
 "metadata": {
  "kernelspec": {
   "display_name": "Python 3",
   "language": "python",
   "name": "python3"
  },
  "language_info": {
   "codemirror_mode": {
    "name": "ipython",
    "version": 3
   },
   "file_extension": ".py",
   "mimetype": "text/x-python",
   "name": "python",
   "nbconvert_exporter": "python",
   "pygments_lexer": "ipython3",
   "version": "3.8.3"
  }
 },
 "nbformat": 4,
 "nbformat_minor": 4
}
